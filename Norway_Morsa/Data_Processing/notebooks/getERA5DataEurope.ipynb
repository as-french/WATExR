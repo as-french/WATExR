{
 "cells": [
  {
   "cell_type": "code",
   "execution_count": 1,
   "metadata": {},
   "outputs": [],
   "source": [
    "import cdsapi\n",
    "from fabric2 import Connection\n",
    "import datetime\n",
    "from pathlib import Path\n",
    "import os\n",
    "import time\n",
    "import re\n",
    "\n",
    "\n",
    "with Connection('localhost') as c:\n",
    "    c.local('rm -f /home/jovyan/.cdsapirc')\n",
    "    c.local('touch /home/jovyan/.cdsapirc') \n",
    "    c.local('''echo \"url: https://cds.climate.copernicus.eu/api/v2\\n\" >>/home/jovyan/.cdsapirc''')\n",
    "    c.local('''echo \"key: 3628:a657e8de-56f1-41fc-bda6-efaf882add43\" >>/home/jovyan/.cdsapirc''')\n",
    "    \n",
    "    \n",
    "cfgTemplate='''[extract]\n",
    "reduceToBoundingBox.south= 34\n",
    "reduceToBoundingBox.north= 72\n",
    "reduceToBoundingBox.west= -14\n",
    "reduceToBoundingBox.east= 35\n",
    "'''\n",
    "\n",
    "with open('extractEurope.cfg', 'w') as f:\n",
    "    f.write(cfgTemplate)\n",
    "    \n",
    "def getFile(inFile,outFile):\n",
    "    if not os.path.isfile(outFile):\n",
    "        while True:\n",
    "            if not os.path.isfile(inFile):\n",
    "                try: \n",
    "                    d = cdsapi.Client()\n",
    "                    d.retrieve(\n",
    "                        'reanalysis-era5-single-levels',\n",
    "                        {\n",
    "                             'product_type': 'reanalysis',\n",
    "                             'variable':[\n",
    "                                '10m_u_component_of_wind','10m_v_component_of_wind','2m_dewpoint_temperature',\n",
    "                                '2m_temperature','mean_sea_level_pressure','surface_net_solar_radiation',\n",
    "                                'total_cloud_cover','total_precipitation'\n",
    "                            ],\n",
    "                            'year': i.strftime(\"%Y\"),\n",
    "                            'month': i.strftime(\"%m\"),\n",
    "                            'day': i.strftime(\"%d\"),\n",
    "                            'time':[\n",
    "                                '00:00','01:00','02:00',\n",
    "                                '03:00','04:00','05:00',\n",
    "                                '06:00','07:00','08:00',\n",
    "                                '09:00','10:00','11:00',\n",
    "                                '12:00','13:00','14:00',\n",
    "                                '15:00','16:00','17:00',\n",
    "                                '18:00','19:00','20:00',\n",
    "                                '21:00','22:00','23:00'\n",
    "                            ],\n",
    "                            'format':'netcdf'\n",
    "                        },\n",
    "                         inFile\n",
    "                        )\n",
    "                except:\n",
    "                    with Connection('localhost') as c:\n",
    "                        c.local('rm -f {}'.format(inFile))\n",
    "                    continue\n",
    "            with Connection('localhost') as c:\n",
    "                if not os.path.isfile(outFile):\n",
    "                    try :\n",
    "                        bla = c.local(\"fimex-1.3 -c extractEurope.cfg --input.file {} --output.file {}\".format(inFile,outFile),replace_env=False)\n",
    "                        display(bla)\n",
    "                    except :\n",
    "                        continue\n",
    "                try:\n",
    "                    bla = c.local(\"rm -f {}\".format(inFile))\n",
    "                    display(bla) \n",
    "                    break\n",
    "                except:\n",
    "                    continue\n",
    "            break            \n",
    "\n",
    "            \n",
    "import cdsapi\n",
    "\n"
   ]
  },
  {
   "cell_type": "markdown",
   "metadata": {},
   "source": [
    "## Defining dates to download"
   ]
  },
  {
   "cell_type": "code",
   "execution_count": 2,
   "metadata": {},
   "outputs": [],
   "source": [
    "start = datetime.datetime.strptime(\"01-01-1979\", \"%d-%m-%Y\")\n",
    "end = datetime.datetime.strptime(\"01-08-2019\", \"%d-%m-%Y\")\n",
    "date_generated = [start + datetime.timedelta(days=x) for x in range(0, (end-start).days)]"
   ]
  },
  {
   "cell_type": "markdown",
   "metadata": {},
   "source": [
    "## Downloading data and extracting for Norway"
   ]
  },
  {
   "cell_type": "code",
   "execution_count": null,
   "metadata": {},
   "outputs": [
    {
     "name": "stderr",
     "output_type": "stream",
     "text": [
      "2019-10-17 10:37:22,699 INFO Sending request to https://cds.climate.copernicus.eu/api/v2/resources/reanalysis-era5-single-levels\n",
      "2019-10-17 10:37:23,379 INFO Request is completed\n",
      "2019-10-17 10:37:23,380 INFO Downloading http://136.156.133.41/cache-compute-0013/cache/data0/adaptor.mars.internal-1571091601.9527962-494-13-27c6c8ab-3eaf-4f2b-8699-361d3531c787.nc to /home/jovyan/europe/14-01-1980.nc (380.2M)\n",
      "2019-10-17 10:37:44,473 INFO Download rate 18M/s   \n"
     ]
    },
    {
     "data": {
      "text/plain": [
       "<Result cmd='fimex-1.3 -c extractEurope.cfg --input.file /home/jovyan/europe/14-01-1980.nc --output.file /home/jovyan/europe/europe_14-01-1980.nc' exited=0>"
      ]
     },
     "metadata": {},
     "output_type": "display_data"
    },
    {
     "data": {
      "text/plain": [
       "<Result cmd='rm -f /home/jovyan/europe/14-01-1980.nc' exited=0>"
      ]
     },
     "metadata": {},
     "output_type": "display_data"
    },
    {
     "name": "stderr",
     "output_type": "stream",
     "text": [
      "2019-10-17 10:37:44,901 INFO Sending request to https://cds.climate.copernicus.eu/api/v2/resources/reanalysis-era5-single-levels\n",
      "2019-10-17 10:37:45,203 INFO Request is completed\n",
      "2019-10-17 10:37:45,208 INFO Downloading http://136.156.132.235/cache-compute-0006/cache/data9/adaptor.mars.internal-1571267139.7045166-17772-9-baab97b6-6361-4c60-92cb-b199eaa8bb54.nc to /home/jovyan/europe/15-01-1980.nc (380.2M)\n",
      "2019-10-17 10:37:55,629 INFO Download rate 36.5M/s \n"
     ]
    },
    {
     "data": {
      "text/plain": [
       "<Result cmd='fimex-1.3 -c extractEurope.cfg --input.file /home/jovyan/europe/15-01-1980.nc --output.file /home/jovyan/europe/europe_15-01-1980.nc' exited=0>"
      ]
     },
     "metadata": {},
     "output_type": "display_data"
    },
    {
     "data": {
      "text/plain": [
       "<Result cmd='rm -f /home/jovyan/europe/15-01-1980.nc' exited=0>"
      ]
     },
     "metadata": {},
     "output_type": "display_data"
    },
    {
     "name": "stderr",
     "output_type": "stream",
     "text": [
      "2019-10-17 10:37:56,121 INFO Sending request to https://cds.climate.copernicus.eu/api/v2/resources/reanalysis-era5-single-levels\n",
      "2019-10-17 10:37:56,250 INFO Request is completed\n",
      "2019-10-17 10:37:56,251 INFO Downloading http://136.156.133.46/cache-compute-0015/cache/data6/adaptor.mars.internal-1571267175.7850156-19862-3-f6b86e7c-00fe-453c-9722-0d6916f9436e.nc to /home/jovyan/europe/16-01-1980.nc (380.2M)\n",
      "2019-10-17 10:38:16,519 INFO Download rate 18.8M/s \n"
     ]
    },
    {
     "data": {
      "text/plain": [
       "<Result cmd='fimex-1.3 -c extractEurope.cfg --input.file /home/jovyan/europe/16-01-1980.nc --output.file /home/jovyan/europe/europe_16-01-1980.nc' exited=0>"
      ]
     },
     "metadata": {},
     "output_type": "display_data"
    },
    {
     "data": {
      "text/plain": [
       "<Result cmd='rm -f /home/jovyan/europe/16-01-1980.nc' exited=0>"
      ]
     },
     "metadata": {},
     "output_type": "display_data"
    },
    {
     "name": "stderr",
     "output_type": "stream",
     "text": [
      "2019-10-17 10:38:17,224 INFO Sending request to https://cds.climate.copernicus.eu/api/v2/resources/reanalysis-era5-single-levels\n",
      "2019-10-17 10:38:18,758 INFO Request is completed\n",
      "2019-10-17 10:38:18,759 INFO Downloading http://136.156.132.198/cache-compute-0003/cache/data1/adaptor.mars.internal-1571267211.8368022-29000-19-00c7df70-edaf-41c6-aa83-c9ec2ef7cfa1.nc to /home/jovyan/europe/17-01-1980.nc (380.2M)\n",
      "2019-10-17 10:38:35,307 INFO Download rate 23M/s   \n"
     ]
    },
    {
     "data": {
      "text/plain": [
       "<Result cmd='fimex-1.3 -c extractEurope.cfg --input.file /home/jovyan/europe/17-01-1980.nc --output.file /home/jovyan/europe/europe_17-01-1980.nc' exited=0>"
      ]
     },
     "metadata": {},
     "output_type": "display_data"
    },
    {
     "data": {
      "text/plain": [
       "<Result cmd='rm -f /home/jovyan/europe/17-01-1980.nc' exited=0>"
      ]
     },
     "metadata": {},
     "output_type": "display_data"
    },
    {
     "name": "stderr",
     "output_type": "stream",
     "text": [
      "2019-10-17 10:38:35,697 INFO Sending request to https://cds.climate.copernicus.eu/api/v2/resources/reanalysis-era5-single-levels\n",
      "2019-10-17 10:38:35,853 INFO Request is completed\n",
      "2019-10-17 10:38:35,860 INFO Downloading http://136.156.132.198/cache-compute-0003/cache/data3/adaptor.mars.internal-1571267250.1889882-31018-5-eff45d1e-4645-4cec-988b-845be74441c1.nc to /home/jovyan/europe/18-01-1980.nc (380.2M)\n",
      "2019-10-17 10:38:49,671 INFO Download rate 27.5M/s \n"
     ]
    },
    {
     "data": {
      "text/plain": [
       "<Result cmd='fimex-1.3 -c extractEurope.cfg --input.file /home/jovyan/europe/18-01-1980.nc --output.file /home/jovyan/europe/europe_18-01-1980.nc' exited=0>"
      ]
     },
     "metadata": {},
     "output_type": "display_data"
    },
    {
     "data": {
      "text/plain": [
       "<Result cmd='rm -f /home/jovyan/europe/18-01-1980.nc' exited=0>"
      ]
     },
     "metadata": {},
     "output_type": "display_data"
    },
    {
     "name": "stderr",
     "output_type": "stream",
     "text": [
      "2019-10-17 10:38:50,106 INFO Sending request to https://cds.climate.copernicus.eu/api/v2/resources/reanalysis-era5-single-levels\n",
      "2019-10-17 10:38:50,462 INFO Request is queued\n",
      "2019-10-17 10:38:51,494 INFO Request is running\n",
      "2019-10-17 10:39:11,416 INFO Request is completed\n",
      "2019-10-17 10:39:11,419 INFO Downloading http://136.156.133.42/cache-compute-0014/cache/data0/adaptor.mars.internal-1571308730.6808221-28696-11-5408304b-6a42-4d6e-9669-d5428eca47a8.nc to /home/jovyan/europe/19-01-1980.nc (380.2M)\n",
      "2019-10-17 10:39:24,680 INFO Download rate 28.7M/s \n"
     ]
    },
    {
     "data": {
      "text/plain": [
       "<Result cmd='fimex-1.3 -c extractEurope.cfg --input.file /home/jovyan/europe/19-01-1980.nc --output.file /home/jovyan/europe/europe_19-01-1980.nc' exited=0>"
      ]
     },
     "metadata": {},
     "output_type": "display_data"
    },
    {
     "data": {
      "text/plain": [
       "<Result cmd='rm -f /home/jovyan/europe/19-01-1980.nc' exited=0>"
      ]
     },
     "metadata": {},
     "output_type": "display_data"
    },
    {
     "name": "stderr",
     "output_type": "stream",
     "text": [
      "2019-10-17 10:39:25,095 INFO Sending request to https://cds.climate.copernicus.eu/api/v2/resources/reanalysis-era5-single-levels\n",
      "2019-10-17 10:39:25,250 INFO Request is completed\n",
      "2019-10-17 10:39:25,255 INFO Downloading http://136.156.133.41/cache-compute-0013/cache/data3/adaptor.mars.internal-1571091844.5286674-5976-9-cbfd164b-f6ce-4b90-b149-9e0749db4d97.nc to /home/jovyan/europe/20-01-1980.nc (380.2M)\n",
      "2019-10-17 10:39:44,913 INFO Download rate 19.3M/s \n"
     ]
    },
    {
     "data": {
      "text/plain": [
       "<Result cmd='fimex-1.3 -c extractEurope.cfg --input.file /home/jovyan/europe/20-01-1980.nc --output.file /home/jovyan/europe/europe_20-01-1980.nc' exited=0>"
      ]
     },
     "metadata": {},
     "output_type": "display_data"
    },
    {
     "data": {
      "text/plain": [
       "<Result cmd='rm -f /home/jovyan/europe/20-01-1980.nc' exited=0>"
      ]
     },
     "metadata": {},
     "output_type": "display_data"
    },
    {
     "name": "stderr",
     "output_type": "stream",
     "text": [
      "2019-10-17 10:39:45,626 INFO Sending request to https://cds.climate.copernicus.eu/api/v2/resources/reanalysis-era5-single-levels\n",
      "2019-10-17 10:39:45,864 INFO Request is completed\n",
      "2019-10-17 10:39:45,870 INFO Downloading http://136.156.133.41/cache-compute-0013/cache/data5/adaptor.mars.internal-1571267323.1096299-18678-1-e1fcf100-6f77-4217-baf9-1a30083484d3.nc to /home/jovyan/europe/21-01-1980.nc (380.2M)\n",
      "2019-10-17 10:40:06,742 INFO Download rate 18.2M/s \n"
     ]
    },
    {
     "data": {
      "text/plain": [
       "<Result cmd='fimex-1.3 -c extractEurope.cfg --input.file /home/jovyan/europe/21-01-1980.nc --output.file /home/jovyan/europe/europe_21-01-1980.nc' exited=0>"
      ]
     },
     "metadata": {},
     "output_type": "display_data"
    },
    {
     "data": {
      "text/plain": [
       "<Result cmd='rm -f /home/jovyan/europe/21-01-1980.nc' exited=0>"
      ]
     },
     "metadata": {},
     "output_type": "display_data"
    },
    {
     "name": "stderr",
     "output_type": "stream",
     "text": [
      "2019-10-17 10:40:13,506 INFO Sending request to https://cds.climate.copernicus.eu/api/v2/resources/reanalysis-era5-single-levels\n",
      "2019-10-17 10:40:14,491 INFO Request is completed\n",
      "2019-10-17 10:40:14,493 INFO Downloading http://136.156.133.32/cache-compute-0009/cache/data2/adaptor.mars.internal-1571267357.273464-4418-9-a569cd4b-3e46-4561-9738-27fcf2563356.nc to /home/jovyan/europe/22-01-1980.nc (380.2M)\n",
      "2019-10-17 10:40:28,054 INFO Download rate 28M/s   \n"
     ]
    },
    {
     "data": {
      "text/plain": [
       "<Result cmd='fimex-1.3 -c extractEurope.cfg --input.file /home/jovyan/europe/22-01-1980.nc --output.file /home/jovyan/europe/europe_22-01-1980.nc' exited=0>"
      ]
     },
     "metadata": {},
     "output_type": "display_data"
    },
    {
     "data": {
      "text/plain": [
       "<Result cmd='rm -f /home/jovyan/europe/22-01-1980.nc' exited=0>"
      ]
     },
     "metadata": {},
     "output_type": "display_data"
    },
    {
     "name": "stderr",
     "output_type": "stream",
     "text": [
      "2019-10-17 10:40:28,506 INFO Sending request to https://cds.climate.copernicus.eu/api/v2/resources/reanalysis-era5-single-levels\n",
      "2019-10-17 10:40:29,435 INFO Request is completed\n",
      "2019-10-17 10:40:29,436 INFO Downloading http://136.156.133.41/cache-compute-0013/cache/data1/adaptor.mars.internal-1571091977.8395028-11727-1-6815ee3b-255e-4e59-8d9f-7c8efff6f04a.nc to /home/jovyan/europe/23-01-1980.nc (380.2M)\n",
      "2019-10-17 10:40:45,467 INFO Download rate 23.7M/s \n"
     ]
    },
    {
     "data": {
      "text/plain": [
       "<Result cmd='fimex-1.3 -c extractEurope.cfg --input.file /home/jovyan/europe/23-01-1980.nc --output.file /home/jovyan/europe/europe_23-01-1980.nc' exited=0>"
      ]
     },
     "metadata": {},
     "output_type": "display_data"
    },
    {
     "name": "stderr",
     "output_type": "stream",
     "text": [
      "2019-10-17 10:40:45,897 INFO Sending request to https://cds.climate.copernicus.eu/api/v2/resources/reanalysis-era5-single-levels\n",
      "2019-10-17 10:40:46,059 INFO Request is completed\n",
      "2019-10-17 10:40:46,065 INFO Downloading http://136.156.133.41/cache-compute-0013/cache/data1/adaptor.mars.internal-1571091977.8395028-11727-1-6815ee3b-255e-4e59-8d9f-7c8efff6f04a.nc to /home/jovyan/europe/23-01-1980.nc (380.2M)\n",
      "2019-10-17 10:41:10,193 INFO Download rate 15.8M/s \n"
     ]
    },
    {
     "data": {
      "text/plain": [
       "<Result cmd='rm -f /home/jovyan/europe/23-01-1980.nc' exited=0>"
      ]
     },
     "metadata": {},
     "output_type": "display_data"
    },
    {
     "name": "stderr",
     "output_type": "stream",
     "text": [
      "2019-10-17 10:41:10,340 INFO Sending request to https://cds.climate.copernicus.eu/api/v2/resources/reanalysis-era5-single-levels\n",
      "2019-10-17 10:41:10,767 INFO Request is completed\n",
      "2019-10-17 10:41:10,768 INFO Downloading http://136.156.133.39/cache-compute-0012/cache/data1/adaptor.mars.internal-1571267414.971995-22587-1-8008c888-f84d-43b2-a412-2f308db70bc7.nc to /home/jovyan/europe/24-01-1980.nc (380.2M)\n",
      "2019-10-17 10:41:24,279 INFO Download rate 28.1M/s \n"
     ]
    },
    {
     "data": {
      "text/plain": [
       "<Result cmd='fimex-1.3 -c extractEurope.cfg --input.file /home/jovyan/europe/24-01-1980.nc --output.file /home/jovyan/europe/europe_24-01-1980.nc' exited=0>"
      ]
     },
     "metadata": {},
     "output_type": "display_data"
    },
    {
     "data": {
      "text/plain": [
       "<Result cmd='rm -f /home/jovyan/europe/24-01-1980.nc' exited=0>"
      ]
     },
     "metadata": {},
     "output_type": "display_data"
    },
    {
     "name": "stderr",
     "output_type": "stream",
     "text": [
      "2019-10-17 10:41:24,542 INFO Sending request to https://cds.climate.copernicus.eu/api/v2/resources/reanalysis-era5-single-levels\n",
      "2019-10-17 10:41:25,223 INFO Request is completed\n",
      "2019-10-17 10:41:25,224 INFO Downloading http://136.156.132.236/cache-compute-0007/cache/data3/adaptor.mars.internal-1571092047.2255979-6873-7-d9f374c9-05cb-437c-b8d6-f6f4344b8010.nc to /home/jovyan/europe/25-01-1980.nc (380.2M)\n",
      "2019-10-17 10:41:33,131 INFO Download rate 48.1M/s \n"
     ]
    },
    {
     "data": {
      "text/plain": [
       "<Result cmd='fimex-1.3 -c extractEurope.cfg --input.file /home/jovyan/europe/25-01-1980.nc --output.file /home/jovyan/europe/europe_25-01-1980.nc' exited=0>"
      ]
     },
     "metadata": {},
     "output_type": "display_data"
    },
    {
     "data": {
      "text/plain": [
       "<Result cmd='rm -f /home/jovyan/europe/25-01-1980.nc' exited=0>"
      ]
     },
     "metadata": {},
     "output_type": "display_data"
    },
    {
     "name": "stderr",
     "output_type": "stream",
     "text": [
      "2019-10-17 10:41:33,500 INFO Sending request to https://cds.climate.copernicus.eu/api/v2/resources/reanalysis-era5-single-levels\n",
      "2019-10-17 10:41:33,948 INFO Request is completed\n",
      "2019-10-17 10:41:33,949 INFO Downloading http://136.156.132.105/cache-compute-0000/cache/data9/adaptor.mars.internal-1571267467.26828-12325-9-398adad8-f387-46a4-8cb6-ba1f0e8e9e07.nc to /home/jovyan/europe/26-01-1980.nc (380.2M)\n",
      "2019-10-17 10:41:47,154 INFO Download rate 28.8M/s \n"
     ]
    },
    {
     "data": {
      "text/plain": [
       "<Result cmd='fimex-1.3 -c extractEurope.cfg --input.file /home/jovyan/europe/26-01-1980.nc --output.file /home/jovyan/europe/europe_26-01-1980.nc' exited=0>"
      ]
     },
     "metadata": {},
     "output_type": "display_data"
    },
    {
     "data": {
      "text/plain": [
       "<Result cmd='rm -f /home/jovyan/europe/26-01-1980.nc' exited=0>"
      ]
     },
     "metadata": {},
     "output_type": "display_data"
    },
    {
     "name": "stderr",
     "output_type": "stream",
     "text": [
      "2019-10-17 10:41:47,490 INFO Sending request to https://cds.climate.copernicus.eu/api/v2/resources/reanalysis-era5-single-levels\n",
      "2019-10-17 10:41:48,521 INFO Request is completed\n",
      "2019-10-17 10:41:48,522 INFO Downloading http://136.156.133.41/cache-compute-0013/cache/data8/adaptor.mars.internal-1571267503.274901-21398-7-92ddc8df-14fd-4654-8f24-b9f7dcbebe09.nc to /home/jovyan/europe/27-01-1980.nc (380.2M)\n",
      "2019-10-17 10:41:57,939 INFO Download rate 40.4M/s \n"
     ]
    },
    {
     "data": {
      "text/plain": [
       "<Result cmd='fimex-1.3 -c extractEurope.cfg --input.file /home/jovyan/europe/27-01-1980.nc --output.file /home/jovyan/europe/europe_27-01-1980.nc' exited=0>"
      ]
     },
     "metadata": {},
     "output_type": "display_data"
    },
    {
     "data": {
      "text/plain": [
       "<Result cmd='rm -f /home/jovyan/europe/27-01-1980.nc' exited=0>"
      ]
     },
     "metadata": {},
     "output_type": "display_data"
    },
    {
     "name": "stderr",
     "output_type": "stream",
     "text": [
      "2019-10-17 10:41:58,238 INFO Sending request to https://cds.climate.copernicus.eu/api/v2/resources/reanalysis-era5-single-levels\n",
      "2019-10-17 10:41:59,093 INFO Request is completed\n",
      "2019-10-17 10:41:59,094 INFO Downloading http://136.156.133.37/cache-compute-0011/cache/data1/adaptor.mars.internal-1571267533.9544816-490-7-cc17e230-fb4f-49d4-b311-ac97ed02619d.nc to /home/jovyan/europe/28-01-1980.nc (380.2M)\n",
      "2019-10-17 10:42:14,924 INFO Download rate 24M/s   \n"
     ]
    },
    {
     "data": {
      "text/plain": [
       "<Result cmd='fimex-1.3 -c extractEurope.cfg --input.file /home/jovyan/europe/28-01-1980.nc --output.file /home/jovyan/europe/europe_28-01-1980.nc' exited=0>"
      ]
     },
     "metadata": {},
     "output_type": "display_data"
    },
    {
     "data": {
      "text/plain": [
       "<Result cmd='rm -f /home/jovyan/europe/28-01-1980.nc' exited=0>"
      ]
     },
     "metadata": {},
     "output_type": "display_data"
    },
    {
     "name": "stderr",
     "output_type": "stream",
     "text": [
      "2019-10-17 10:42:15,230 INFO Sending request to https://cds.climate.copernicus.eu/api/v2/resources/reanalysis-era5-single-levels\n",
      "2019-10-17 10:42:16,674 INFO Request is completed\n",
      "2019-10-17 10:42:16,675 INFO Downloading http://136.156.132.198/cache-compute-0003/cache/data4/adaptor.mars.internal-1571092181.1979537-29894-3-a24f9557-2df4-4abc-b296-bc586cbad0b7.nc to /home/jovyan/europe/29-01-1980.nc (380.2M)\n",
      "2019-10-17 10:42:35,046 INFO Download rate 20.7M/s \n"
     ]
    },
    {
     "data": {
      "text/plain": [
       "<Result cmd='fimex-1.3 -c extractEurope.cfg --input.file /home/jovyan/europe/29-01-1980.nc --output.file /home/jovyan/europe/europe_29-01-1980.nc' exited=0>"
      ]
     },
     "metadata": {},
     "output_type": "display_data"
    },
    {
     "data": {
      "text/plain": [
       "<Result cmd='rm -f /home/jovyan/europe/29-01-1980.nc' exited=0>"
      ]
     },
     "metadata": {},
     "output_type": "display_data"
    },
    {
     "name": "stderr",
     "output_type": "stream",
     "text": [
      "2019-10-17 10:42:35,721 INFO Sending request to https://cds.climate.copernicus.eu/api/v2/resources/reanalysis-era5-single-levels\n",
      "2019-10-17 10:42:36,628 INFO Request is completed\n",
      "2019-10-17 10:42:36,630 INFO Downloading http://136.156.132.235/cache-compute-0006/cache/data4/adaptor.mars.internal-1571267581.9500835-18190-13-724b4711-77db-44c8-bb39-249433cfd598.nc to /home/jovyan/europe/30-01-1980.nc (380.2M)\n",
      "2019-10-17 10:42:50,104 INFO Download rate 28.2M/s \n"
     ]
    },
    {
     "data": {
      "text/plain": [
       "<Result cmd='fimex-1.3 -c extractEurope.cfg --input.file /home/jovyan/europe/30-01-1980.nc --output.file /home/jovyan/europe/europe_30-01-1980.nc' exited=0>"
      ]
     },
     "metadata": {},
     "output_type": "display_data"
    },
    {
     "data": {
      "text/plain": [
       "<Result cmd='rm -f /home/jovyan/europe/30-01-1980.nc' exited=0>"
      ]
     },
     "metadata": {},
     "output_type": "display_data"
    },
    {
     "name": "stderr",
     "output_type": "stream",
     "text": [
      "2019-10-17 10:42:50,931 INFO Sending request to https://cds.climate.copernicus.eu/api/v2/resources/reanalysis-era5-single-levels\n",
      "2019-10-17 10:42:51,257 INFO Request is completed\n",
      "2019-10-17 10:42:51,258 INFO Downloading http://136.156.132.236/cache-compute-0007/cache/data5/adaptor.mars.internal-1571092252.0414996-10615-3-aa07ee67-1b53-4c09-96f0-a0666c22c1e0.nc to /home/jovyan/europe/31-01-1980.nc (380.2M)\n",
      "2019-10-17 10:43:11,548 INFO Download rate 18.7M/s \n"
     ]
    },
    {
     "data": {
      "text/plain": [
       "<Result cmd='fimex-1.3 -c extractEurope.cfg --input.file /home/jovyan/europe/31-01-1980.nc --output.file /home/jovyan/europe/europe_31-01-1980.nc' exited=0>"
      ]
     },
     "metadata": {},
     "output_type": "display_data"
    },
    {
     "data": {
      "text/plain": [
       "<Result cmd='rm -f /home/jovyan/europe/31-01-1980.nc' exited=0>"
      ]
     },
     "metadata": {},
     "output_type": "display_data"
    },
    {
     "name": "stderr",
     "output_type": "stream",
     "text": [
      "2019-10-17 10:43:12,008 INFO Sending request to https://cds.climate.copernicus.eu/api/v2/resources/reanalysis-era5-single-levels\n",
      "2019-10-17 10:43:13,070 INFO Request is completed\n",
      "2019-10-17 10:43:13,071 INFO Downloading http://136.156.132.110/cache-compute-0001/cache/data2/adaptor.mars.internal-1571092285.5764022-25225-3-fbdccc8c-125e-4c15-bb1c-726a85afffa3.nc to /home/jovyan/europe/01-02-1980.nc (380.2M)\n",
      "2019-10-17 10:43:27,740 INFO Download rate 25.9M/s \n"
     ]
    },
    {
     "data": {
      "text/plain": [
       "<Result cmd='fimex-1.3 -c extractEurope.cfg --input.file /home/jovyan/europe/01-02-1980.nc --output.file /home/jovyan/europe/europe_01-02-1980.nc' exited=0>"
      ]
     },
     "metadata": {},
     "output_type": "display_data"
    },
    {
     "data": {
      "text/plain": [
       "<Result cmd='rm -f /home/jovyan/europe/01-02-1980.nc' exited=0>"
      ]
     },
     "metadata": {},
     "output_type": "display_data"
    },
    {
     "name": "stderr",
     "output_type": "stream",
     "text": [
      "2019-10-17 10:43:30,141 INFO Sending request to https://cds.climate.copernicus.eu/api/v2/resources/reanalysis-era5-single-levels\n",
      "2019-10-17 10:43:31,301 INFO Request is completed\n",
      "2019-10-17 10:43:31,303 INFO Downloading http://136.156.133.39/cache-compute-0012/cache/data9/adaptor.mars.internal-1571267663.00891-22808-5-ebe66597-9f3f-4e5b-84e7-700eae58a033.nc to /home/jovyan/europe/02-02-1980.nc (380.2M)\n",
      "2019-10-17 10:43:57,205 INFO Download rate 14.7M/s \n"
     ]
    },
    {
     "data": {
      "text/plain": [
       "<Result cmd='fimex-1.3 -c extractEurope.cfg --input.file /home/jovyan/europe/02-02-1980.nc --output.file /home/jovyan/europe/europe_02-02-1980.nc' exited=0>"
      ]
     },
     "metadata": {},
     "output_type": "display_data"
    },
    {
     "data": {
      "text/plain": [
       "<Result cmd='rm -f /home/jovyan/europe/02-02-1980.nc' exited=0>"
      ]
     },
     "metadata": {},
     "output_type": "display_data"
    },
    {
     "name": "stderr",
     "output_type": "stream",
     "text": [
      "2019-10-17 10:43:59,357 INFO Sending request to https://cds.climate.copernicus.eu/api/v2/resources/reanalysis-era5-single-levels\n",
      "2019-10-17 10:44:00,306 INFO Request is completed\n",
      "2019-10-17 10:44:00,310 INFO Downloading http://136.156.132.235/cache-compute-0006/cache/data9/adaptor.mars.internal-1571267699.4701362-17803-9-f959bade-48a1-406c-bdfc-9fafc93ee199.nc to /home/jovyan/europe/03-02-1980.nc (380.2M)\n",
      "2019-10-17 10:44:15,015 INFO Download rate 25.9M/s \n"
     ]
    },
    {
     "data": {
      "text/plain": [
       "<Result cmd='fimex-1.3 -c extractEurope.cfg --input.file /home/jovyan/europe/03-02-1980.nc --output.file /home/jovyan/europe/europe_03-02-1980.nc' exited=0>"
      ]
     },
     "metadata": {},
     "output_type": "display_data"
    },
    {
     "data": {
      "text/plain": [
       "<Result cmd='rm -f /home/jovyan/europe/03-02-1980.nc' exited=0>"
      ]
     },
     "metadata": {},
     "output_type": "display_data"
    },
    {
     "name": "stderr",
     "output_type": "stream",
     "text": [
      "2019-10-17 10:44:15,523 INFO Sending request to https://cds.climate.copernicus.eu/api/v2/resources/reanalysis-era5-single-levels\n",
      "2019-10-17 10:44:16,973 INFO Request is completed\n",
      "2019-10-17 10:44:16,974 INFO Downloading http://136.156.133.36/cache-compute-0010/cache/data7/adaptor.mars.internal-1571267751.1221921-21594-3-7ea28280-a331-4ead-8c53-1a110fa7df17.nc to /home/jovyan/europe/04-02-1980.nc (380.2M)\n",
      "2019-10-17 10:44:36,181 INFO Download rate 19.8M/s \n"
     ]
    },
    {
     "data": {
      "text/plain": [
       "<Result cmd='fimex-1.3 -c extractEurope.cfg --input.file /home/jovyan/europe/04-02-1980.nc --output.file /home/jovyan/europe/europe_04-02-1980.nc' exited=0>"
      ]
     },
     "metadata": {},
     "output_type": "display_data"
    },
    {
     "data": {
      "text/plain": [
       "<Result cmd='rm -f /home/jovyan/europe/04-02-1980.nc' exited=0>"
      ]
     },
     "metadata": {},
     "output_type": "display_data"
    },
    {
     "name": "stderr",
     "output_type": "stream",
     "text": [
      "2019-10-17 10:44:36,885 INFO Sending request to https://cds.climate.copernicus.eu/api/v2/resources/reanalysis-era5-single-levels\n",
      "2019-10-17 10:44:37,148 INFO Request is completed\n",
      "2019-10-17 10:44:37,149 INFO Downloading http://136.156.133.41/cache-compute-0013/cache/data3/adaptor.mars.internal-1571092474.704864-9430-19-529ba108-8739-4f04-af23-851d60ee630d.nc to /home/jovyan/europe/05-02-1980.nc (380.2M)\n",
      "2019-10-17 10:44:50,299 INFO Download rate 28.9M/s \n"
     ]
    },
    {
     "data": {
      "text/plain": [
       "<Result cmd='rm -f /home/jovyan/europe/05-02-1980.nc' exited=0>"
      ]
     },
     "metadata": {},
     "output_type": "display_data"
    },
    {
     "name": "stderr",
     "output_type": "stream",
     "text": [
      "2019-10-17 10:44:50,779 INFO Sending request to https://cds.climate.copernicus.eu/api/v2/resources/reanalysis-era5-single-levels\n",
      "2019-10-17 10:44:51,482 INFO Request is completed\n",
      "2019-10-17 10:44:51,483 INFO Downloading http://136.156.132.110/cache-compute-0001/cache/data1/adaptor.mars.internal-1571267821.9647539-16461-5-8c630701-e453-496a-b91e-e606c88f21ea.nc to /home/jovyan/europe/06-02-1980.nc (380.2M)\n",
      "2019-10-17 10:45:13,969 INFO Download rate 16.9M/s \n"
     ]
    },
    {
     "data": {
      "text/plain": [
       "<Result cmd='fimex-1.3 -c extractEurope.cfg --input.file /home/jovyan/europe/06-02-1980.nc --output.file /home/jovyan/europe/europe_06-02-1980.nc' exited=0>"
      ]
     },
     "metadata": {},
     "output_type": "display_data"
    },
    {
     "data": {
      "text/plain": [
       "<Result cmd='rm -f /home/jovyan/europe/06-02-1980.nc' exited=0>"
      ]
     },
     "metadata": {},
     "output_type": "display_data"
    },
    {
     "name": "stderr",
     "output_type": "stream",
     "text": [
      "2019-10-17 10:45:14,454 INFO Sending request to https://cds.climate.copernicus.eu/api/v2/resources/reanalysis-era5-single-levels\n",
      "2019-10-17 10:45:15,164 INFO Request is completed\n",
      "2019-10-17 10:45:15,165 INFO Downloading http://136.156.132.235/cache-compute-0006/cache/data6/adaptor.mars.internal-1571092563.8188727-16999-1-76c5d3ba-7c11-4b45-aa5e-4d26ac324b8e.nc to /home/jovyan/europe/07-02-1980.nc (380.2M)\n",
      "2019-10-17 10:45:36,313 INFO Download rate 18M/s   \n"
     ]
    },
    {
     "data": {
      "text/plain": [
       "<Result cmd='fimex-1.3 -c extractEurope.cfg --input.file /home/jovyan/europe/07-02-1980.nc --output.file /home/jovyan/europe/europe_07-02-1980.nc' exited=0>"
      ]
     },
     "metadata": {},
     "output_type": "display_data"
    },
    {
     "data": {
      "text/plain": [
       "<Result cmd='rm -f /home/jovyan/europe/07-02-1980.nc' exited=0>"
      ]
     },
     "metadata": {},
     "output_type": "display_data"
    },
    {
     "name": "stderr",
     "output_type": "stream",
     "text": [
      "2019-10-17 10:45:36,766 INFO Sending request to https://cds.climate.copernicus.eu/api/v2/resources/reanalysis-era5-single-levels\n",
      "2019-10-17 10:45:37,584 INFO Request is completed\n",
      "2019-10-17 10:45:37,585 INFO Downloading http://136.156.133.32/cache-compute-0009/cache/data0/adaptor.mars.internal-1571267872.4038613-9235-7-ec44390e-a70a-405b-bbc9-602ca2e60aea.nc to /home/jovyan/europe/08-02-1980.nc (380.2M)\n",
      "2019-10-17 10:45:53,787 INFO Download rate 23.5M/s \n"
     ]
    },
    {
     "data": {
      "text/plain": [
       "<Result cmd='fimex-1.3 -c extractEurope.cfg --input.file /home/jovyan/europe/08-02-1980.nc --output.file /home/jovyan/europe/europe_08-02-1980.nc' exited=0>"
      ]
     },
     "metadata": {},
     "output_type": "display_data"
    },
    {
     "data": {
      "text/plain": [
       "<Result cmd='rm -f /home/jovyan/europe/08-02-1980.nc' exited=0>"
      ]
     },
     "metadata": {},
     "output_type": "display_data"
    },
    {
     "name": "stderr",
     "output_type": "stream",
     "text": [
      "2019-10-17 10:45:54,064 INFO Sending request to https://cds.climate.copernicus.eu/api/v2/resources/reanalysis-era5-single-levels\n",
      "2019-10-17 10:45:54,691 INFO Request is completed\n",
      "2019-10-17 10:45:54,692 INFO Downloading http://136.156.133.39/cache-compute-0012/cache/data1/adaptor.mars.internal-1571267906.418895-24202-1-7383e945-7a5b-4cc8-b2ba-c4dd60fc493d.nc to /home/jovyan/europe/09-02-1980.nc (380.2M)\n",
      "2019-10-17 10:46:06,714 INFO Download rate 31.6M/s \n"
     ]
    },
    {
     "data": {
      "text/plain": [
       "<Result cmd='fimex-1.3 -c extractEurope.cfg --input.file /home/jovyan/europe/09-02-1980.nc --output.file /home/jovyan/europe/europe_09-02-1980.nc' exited=0>"
      ]
     },
     "metadata": {},
     "output_type": "display_data"
    },
    {
     "data": {
      "text/plain": [
       "<Result cmd='rm -f /home/jovyan/europe/09-02-1980.nc' exited=0>"
      ]
     },
     "metadata": {},
     "output_type": "display_data"
    },
    {
     "name": "stderr",
     "output_type": "stream",
     "text": [
      "2019-10-17 10:46:07,139 INFO Sending request to https://cds.climate.copernicus.eu/api/v2/resources/reanalysis-era5-single-levels\n",
      "2019-10-17 10:46:08,890 INFO Request is completed\n",
      "2019-10-17 10:46:08,891 INFO Downloading http://136.156.133.25/cache-compute-0008/cache/data2/adaptor.mars.internal-1571092714.0485208-22829-17-1a4a228b-c7d8-46a2-b2a6-9428c132ad8a.nc to /home/jovyan/europe/10-02-1980.nc (380.2M)\n",
      "2019-10-17 10:46:26,481 INFO Download rate 21.6M/s \n"
     ]
    },
    {
     "data": {
      "text/plain": [
       "<Result cmd='fimex-1.3 -c extractEurope.cfg --input.file /home/jovyan/europe/10-02-1980.nc --output.file /home/jovyan/europe/europe_10-02-1980.nc' exited=0>"
      ]
     },
     "metadata": {},
     "output_type": "display_data"
    },
    {
     "data": {
      "text/plain": [
       "<Result cmd='rm -f /home/jovyan/europe/10-02-1980.nc' exited=0>"
      ]
     },
     "metadata": {},
     "output_type": "display_data"
    },
    {
     "name": "stderr",
     "output_type": "stream",
     "text": [
      "2019-10-17 10:46:26,901 INFO Sending request to https://cds.climate.copernicus.eu/api/v2/resources/reanalysis-era5-single-levels\n",
      "2019-10-17 10:46:27,263 INFO Request is completed\n",
      "2019-10-17 10:46:27,264 INFO Downloading http://136.156.133.32/cache-compute-0009/cache/data4/adaptor.mars.internal-1571267954.7158875-31853-19-50387688-fb05-47c1-bb29-aa03910d2d16.nc to /home/jovyan/europe/11-02-1980.nc (380.2M)\n",
      "2019-10-17 10:46:48,333 INFO Download rate 18M/s   \n"
     ]
    },
    {
     "data": {
      "text/plain": [
       "<Result cmd='fimex-1.3 -c extractEurope.cfg --input.file /home/jovyan/europe/11-02-1980.nc --output.file /home/jovyan/europe/europe_11-02-1980.nc' exited=0>"
      ]
     },
     "metadata": {},
     "output_type": "display_data"
    },
    {
     "data": {
      "text/plain": [
       "<Result cmd='rm -f /home/jovyan/europe/11-02-1980.nc' exited=0>"
      ]
     },
     "metadata": {},
     "output_type": "display_data"
    },
    {
     "name": "stderr",
     "output_type": "stream",
     "text": [
      "2019-10-17 10:46:48,661 INFO Sending request to https://cds.climate.copernicus.eu/api/v2/resources/reanalysis-era5-single-levels\n",
      "2019-10-17 10:46:49,979 INFO Request is completed\n",
      "2019-10-17 10:46:49,980 INFO Downloading http://136.156.132.110/cache-compute-0001/cache/data8/adaptor.mars.internal-1571268000.9267995-15822-9-69dc2c81-bb38-4d2a-9437-0cb1b3e8eb38.nc to /home/jovyan/europe/12-02-1980.nc (380.2M)\n",
      "2019-10-17 10:47:11,490 INFO Download rate 17.7M/s \n"
     ]
    },
    {
     "data": {
      "text/plain": [
       "<Result cmd='fimex-1.3 -c extractEurope.cfg --input.file /home/jovyan/europe/12-02-1980.nc --output.file /home/jovyan/europe/europe_12-02-1980.nc' exited=0>"
      ]
     },
     "metadata": {},
     "output_type": "display_data"
    },
    {
     "data": {
      "text/plain": [
       "<Result cmd='rm -f /home/jovyan/europe/12-02-1980.nc' exited=0>"
      ]
     },
     "metadata": {},
     "output_type": "display_data"
    },
    {
     "name": "stderr",
     "output_type": "stream",
     "text": [
      "2019-10-17 10:47:11,900 INFO Sending request to https://cds.climate.copernicus.eu/api/v2/resources/reanalysis-era5-single-levels\n",
      "2019-10-17 10:47:12,897 INFO Request is completed\n",
      "2019-10-17 10:47:12,898 INFO Downloading http://136.156.132.235/cache-compute-0006/cache/data3/adaptor.mars.internal-1571268050.4017274-25905-1-b635ca60-5bcb-4c36-bb1c-a0e3cffff855.nc to /home/jovyan/europe/13-02-1980.nc (380.2M)\n",
      "2019-10-17 10:47:47,680 INFO Download rate 10.9M/s \n"
     ]
    },
    {
     "data": {
      "text/plain": [
       "<Result cmd='fimex-1.3 -c extractEurope.cfg --input.file /home/jovyan/europe/13-02-1980.nc --output.file /home/jovyan/europe/europe_13-02-1980.nc' exited=0>"
      ]
     },
     "metadata": {},
     "output_type": "display_data"
    },
    {
     "data": {
      "text/plain": [
       "<Result cmd='rm -f /home/jovyan/europe/13-02-1980.nc' exited=0>"
      ]
     },
     "metadata": {},
     "output_type": "display_data"
    },
    {
     "name": "stderr",
     "output_type": "stream",
     "text": [
      "2019-10-17 10:47:48,372 INFO Sending request to https://cds.climate.copernicus.eu/api/v2/resources/reanalysis-era5-single-levels\n",
      "2019-10-17 10:47:48,565 INFO Request is completed\n",
      "2019-10-17 10:47:48,566 INFO Downloading http://136.156.132.236/cache-compute-0007/cache/data7/adaptor.mars.internal-1571092910.1051652-8917-13-d153e265-cf44-4d0d-9310-7358f11a8104.nc to /home/jovyan/europe/14-02-1980.nc (380.2M)\n",
      "2019-10-17 10:48:04,645 INFO Download rate 23.6M/s \n"
     ]
    },
    {
     "data": {
      "text/plain": [
       "<Result cmd='fimex-1.3 -c extractEurope.cfg --input.file /home/jovyan/europe/14-02-1980.nc --output.file /home/jovyan/europe/europe_14-02-1980.nc' exited=0>"
      ]
     },
     "metadata": {},
     "output_type": "display_data"
    },
    {
     "data": {
      "text/plain": [
       "<Result cmd='rm -f /home/jovyan/europe/14-02-1980.nc' exited=0>"
      ]
     },
     "metadata": {},
     "output_type": "display_data"
    },
    {
     "name": "stderr",
     "output_type": "stream",
     "text": [
      "2019-10-17 10:48:05,599 INFO Sending request to https://cds.climate.copernicus.eu/api/v2/resources/reanalysis-era5-single-levels\n",
      "2019-10-17 10:48:06,578 INFO Request is completed\n",
      "2019-10-17 10:48:06,579 INFO Downloading http://136.156.133.32/cache-compute-0009/cache/data7/adaptor.mars.internal-1571092954.2627413-5156-9-503df607-159d-4375-9a0a-bd65c8969c43.nc to /home/jovyan/europe/15-02-1980.nc (380.2M)\n",
      "2019-10-17 10:48:24,871 INFO Download rate 20.8M/s \n"
     ]
    },
    {
     "data": {
      "text/plain": [
       "<Result cmd='fimex-1.3 -c extractEurope.cfg --input.file /home/jovyan/europe/15-02-1980.nc --output.file /home/jovyan/europe/europe_15-02-1980.nc' exited=0>"
      ]
     },
     "metadata": {},
     "output_type": "display_data"
    },
    {
     "data": {
      "text/plain": [
       "<Result cmd='rm -f /home/jovyan/europe/15-02-1980.nc' exited=0>"
      ]
     },
     "metadata": {},
     "output_type": "display_data"
    },
    {
     "name": "stderr",
     "output_type": "stream",
     "text": [
      "2019-10-17 10:48:25,396 INFO Sending request to https://cds.climate.copernicus.eu/api/v2/resources/reanalysis-era5-single-levels\n",
      "2019-10-17 10:48:26,556 INFO Request is completed\n",
      "2019-10-17 10:48:26,557 INFO Downloading http://136.156.133.25/cache-compute-0008/cache/data6/adaptor.mars.internal-1571093003.1632311-23621-13-6551b396-eea8-4a51-bf31-39e068474d42.nc to /home/jovyan/europe/16-02-1980.nc (380.2M)\n",
      "2019-10-17 10:48:37,952 INFO Download rate 33.4M/s \n"
     ]
    },
    {
     "data": {
      "text/plain": [
       "<Result cmd='fimex-1.3 -c extractEurope.cfg --input.file /home/jovyan/europe/16-02-1980.nc --output.file /home/jovyan/europe/europe_16-02-1980.nc' exited=0>"
      ]
     },
     "metadata": {},
     "output_type": "display_data"
    },
    {
     "data": {
      "text/plain": [
       "<Result cmd='rm -f /home/jovyan/europe/16-02-1980.nc' exited=0>"
      ]
     },
     "metadata": {},
     "output_type": "display_data"
    },
    {
     "name": "stderr",
     "output_type": "stream",
     "text": [
      "2019-10-17 10:48:38,422 INFO Sending request to https://cds.climate.copernicus.eu/api/v2/resources/reanalysis-era5-single-levels\n",
      "2019-10-17 10:48:38,893 INFO Request is completed\n",
      "2019-10-17 10:48:38,894 INFO Downloading http://136.156.133.37/cache-compute-0011/cache/data8/adaptor.mars.internal-1571268158.3449717-7360-5-3d9054d2-e568-45df-a7c2-6d1692247d2c.nc to /home/jovyan/europe/17-02-1980.nc (380.2M)\n",
      "2019-10-17 10:48:55,525 INFO Download rate 22.9M/s \n"
     ]
    },
    {
     "data": {
      "text/plain": [
       "<Result cmd='fimex-1.3 -c extractEurope.cfg --input.file /home/jovyan/europe/17-02-1980.nc --output.file /home/jovyan/europe/europe_17-02-1980.nc' exited=0>"
      ]
     },
     "metadata": {},
     "output_type": "display_data"
    },
    {
     "data": {
      "text/plain": [
       "<Result cmd='rm -f /home/jovyan/europe/17-02-1980.nc' exited=0>"
      ]
     },
     "metadata": {},
     "output_type": "display_data"
    },
    {
     "name": "stderr",
     "output_type": "stream",
     "text": [
      "2019-10-17 10:48:56,097 INFO Sending request to https://cds.climate.copernicus.eu/api/v2/resources/reanalysis-era5-single-levels\n",
      "2019-10-17 10:48:56,358 INFO Request is completed\n",
      "2019-10-17 10:48:56,362 INFO Downloading http://136.156.132.153/cache-compute-0002/cache/data4/adaptor.mars.internal-1571093094.8796177-25142-13-927c3663-f1ee-4118-b56c-b2c62fd62b3d.nc to /home/jovyan/europe/18-02-1980.nc (380.2M)\n",
      "2019-10-17 10:49:12,430 INFO Download rate 23.7M/s \n"
     ]
    },
    {
     "data": {
      "text/plain": [
       "<Result cmd='fimex-1.3 -c extractEurope.cfg --input.file /home/jovyan/europe/18-02-1980.nc --output.file /home/jovyan/europe/europe_18-02-1980.nc' exited=0>"
      ]
     },
     "metadata": {},
     "output_type": "display_data"
    },
    {
     "data": {
      "text/plain": [
       "<Result cmd='rm -f /home/jovyan/europe/18-02-1980.nc' exited=0>"
      ]
     },
     "metadata": {},
     "output_type": "display_data"
    },
    {
     "name": "stderr",
     "output_type": "stream",
     "text": [
      "2019-10-17 10:49:12,762 INFO Sending request to https://cds.climate.copernicus.eu/api/v2/resources/reanalysis-era5-single-levels\n",
      "2019-10-17 10:49:13,378 INFO Request is completed\n",
      "2019-10-17 10:49:13,381 INFO Downloading http://136.156.132.235/cache-compute-0006/cache/data9/adaptor.mars.internal-1571268220.7532775-26215-3-d504efee-f492-42fd-905e-a951938e16f3.nc to /home/jovyan/europe/19-02-1980.nc (380.2M)\n",
      "2019-10-17 10:49:35,591 INFO Download rate 17.1M/s \n"
     ]
    },
    {
     "data": {
      "text/plain": [
       "<Result cmd='fimex-1.3 -c extractEurope.cfg --input.file /home/jovyan/europe/19-02-1980.nc --output.file /home/jovyan/europe/europe_19-02-1980.nc' exited=0>"
      ]
     },
     "metadata": {},
     "output_type": "display_data"
    },
    {
     "data": {
      "text/plain": [
       "<Result cmd='rm -f /home/jovyan/europe/19-02-1980.nc' exited=0>"
      ]
     },
     "metadata": {},
     "output_type": "display_data"
    },
    {
     "name": "stderr",
     "output_type": "stream",
     "text": [
      "2019-10-17 10:49:36,522 INFO Sending request to https://cds.climate.copernicus.eu/api/v2/resources/reanalysis-era5-single-levels\n",
      "2019-10-17 10:49:36,700 INFO Request is completed\n",
      "2019-10-17 10:49:36,704 INFO Downloading http://136.156.133.37/cache-compute-0011/cache/data0/adaptor.mars.internal-1571268288.9193838-14981-17-56938f65-1086-4f41-8d3e-a519b57a5793.nc to /home/jovyan/europe/20-02-1980.nc (380.2M)\n",
      "2019-10-17 10:50:02,872 INFO Download rate 14.5M/s \n"
     ]
    },
    {
     "data": {
      "text/plain": [
       "<Result cmd='fimex-1.3 -c extractEurope.cfg --input.file /home/jovyan/europe/20-02-1980.nc --output.file /home/jovyan/europe/europe_20-02-1980.nc' exited=0>"
      ]
     },
     "metadata": {},
     "output_type": "display_data"
    },
    {
     "data": {
      "text/plain": [
       "<Result cmd='rm -f /home/jovyan/europe/20-02-1980.nc' exited=0>"
      ]
     },
     "metadata": {},
     "output_type": "display_data"
    },
    {
     "name": "stderr",
     "output_type": "stream",
     "text": [
      "2019-10-17 10:50:03,640 INFO Sending request to https://cds.climate.copernicus.eu/api/v2/resources/reanalysis-era5-single-levels\n",
      "2019-10-17 10:50:03,769 INFO Request is completed\n",
      "2019-10-17 10:50:03,770 INFO Downloading http://136.156.133.42/cache-compute-0014/cache/data0/adaptor.mars.internal-1571268329.5734212-6921-11-e6c0c2be-7598-4880-b14f-3e0ca6e5dd91.nc to /home/jovyan/europe/21-02-1980.nc (380.2M)\n",
      "2019-10-17 10:50:27,328 INFO Download rate 16.1M/s \n"
     ]
    },
    {
     "data": {
      "text/plain": [
       "<Result cmd='fimex-1.3 -c extractEurope.cfg --input.file /home/jovyan/europe/21-02-1980.nc --output.file /home/jovyan/europe/europe_21-02-1980.nc' exited=0>"
      ]
     },
     "metadata": {},
     "output_type": "display_data"
    },
    {
     "data": {
      "text/plain": [
       "<Result cmd='rm -f /home/jovyan/europe/21-02-1980.nc' exited=0>"
      ]
     },
     "metadata": {},
     "output_type": "display_data"
    },
    {
     "name": "stderr",
     "output_type": "stream",
     "text": [
      "2019-10-17 10:50:27,977 INFO Sending request to https://cds.climate.copernicus.eu/api/v2/resources/reanalysis-era5-single-levels\n",
      "2019-10-17 10:50:28,175 INFO Request is completed\n",
      "2019-10-17 10:50:28,176 INFO Downloading http://136.156.133.25/cache-compute-0008/cache/data9/adaptor.mars.internal-1571093279.6831684-24899-19-84fb1595-6ef3-46d6-a1fa-fb3cc4297606.nc to /home/jovyan/europe/22-02-1980.nc (380.2M)\n",
      "2019-10-17 10:50:43,789 INFO Download rate 24.4M/s \n"
     ]
    },
    {
     "data": {
      "text/plain": [
       "<Result cmd='fimex-1.3 -c extractEurope.cfg --input.file /home/jovyan/europe/22-02-1980.nc --output.file /home/jovyan/europe/europe_22-02-1980.nc' exited=0>"
      ]
     },
     "metadata": {},
     "output_type": "display_data"
    },
    {
     "data": {
      "text/plain": [
       "<Result cmd='rm -f /home/jovyan/europe/22-02-1980.nc' exited=0>"
      ]
     },
     "metadata": {},
     "output_type": "display_data"
    },
    {
     "name": "stderr",
     "output_type": "stream",
     "text": [
      "2019-10-17 10:50:44,283 INFO Sending request to https://cds.climate.copernicus.eu/api/v2/resources/reanalysis-era5-single-levels\n",
      "2019-10-17 10:50:44,829 INFO Request is completed\n",
      "2019-10-17 10:50:44,830 INFO Downloading http://136.156.133.42/cache-compute-0014/cache/data5/adaptor.mars.internal-1571093320.3337443-30719-13-da584d73-7b31-475a-97f6-5b920070aca1.nc to /home/jovyan/europe/23-02-1980.nc (380.2M)\n",
      "2019-10-17 10:51:03,156 INFO Download rate 20.7M/s \n"
     ]
    },
    {
     "data": {
      "text/plain": [
       "<Result cmd='fimex-1.3 -c extractEurope.cfg --input.file /home/jovyan/europe/23-02-1980.nc --output.file /home/jovyan/europe/europe_23-02-1980.nc' exited=0>"
      ]
     },
     "metadata": {},
     "output_type": "display_data"
    },
    {
     "data": {
      "text/plain": [
       "<Result cmd='rm -f /home/jovyan/europe/23-02-1980.nc' exited=0>"
      ]
     },
     "metadata": {},
     "output_type": "display_data"
    },
    {
     "name": "stderr",
     "output_type": "stream",
     "text": [
      "2019-10-17 10:51:04,522 INFO Sending request to https://cds.climate.copernicus.eu/api/v2/resources/reanalysis-era5-single-levels\n",
      "2019-10-17 10:51:04,788 INFO Request is completed\n",
      "2019-10-17 10:51:04,789 INFO Downloading http://136.156.132.235/cache-compute-0006/cache/data9/adaptor.mars.internal-1571093368.2560964-17376-9-82cce550-5304-4cf9-829d-397cd1988866.nc to /home/jovyan/europe/24-02-1980.nc (380.2M)\n",
      "2019-10-17 10:51:23,894 INFO Download rate 19.9M/s \n"
     ]
    },
    {
     "data": {
      "text/plain": [
       "<Result cmd='fimex-1.3 -c extractEurope.cfg --input.file /home/jovyan/europe/24-02-1980.nc --output.file /home/jovyan/europe/europe_24-02-1980.nc' exited=0>"
      ]
     },
     "metadata": {},
     "output_type": "display_data"
    },
    {
     "data": {
      "text/plain": [
       "<Result cmd='rm -f /home/jovyan/europe/24-02-1980.nc' exited=0>"
      ]
     },
     "metadata": {},
     "output_type": "display_data"
    },
    {
     "name": "stderr",
     "output_type": "stream",
     "text": [
      "2019-10-17 10:51:24,265 INFO Sending request to https://cds.climate.copernicus.eu/api/v2/resources/reanalysis-era5-single-levels\n",
      "2019-10-17 10:51:24,569 INFO Request is completed\n",
      "2019-10-17 10:51:24,570 INFO Downloading http://136.156.132.236/cache-compute-0007/cache/data2/adaptor.mars.internal-1571268437.1970851-14853-3-f5c7eea9-3553-48fb-9486-dde7c890a0f0.nc to /home/jovyan/europe/25-02-1980.nc (380.2M)\n",
      "2019-10-17 10:51:39,228 INFO Download rate 25.9M/s \n"
     ]
    },
    {
     "data": {
      "text/plain": [
       "<Result cmd='fimex-1.3 -c extractEurope.cfg --input.file /home/jovyan/europe/25-02-1980.nc --output.file /home/jovyan/europe/europe_25-02-1980.nc' exited=0>"
      ]
     },
     "metadata": {},
     "output_type": "display_data"
    },
    {
     "data": {
      "text/plain": [
       "<Result cmd='rm -f /home/jovyan/europe/25-02-1980.nc' exited=0>"
      ]
     },
     "metadata": {},
     "output_type": "display_data"
    },
    {
     "name": "stderr",
     "output_type": "stream",
     "text": [
      "2019-10-17 10:51:39,583 INFO Sending request to https://cds.climate.copernicus.eu/api/v2/resources/reanalysis-era5-single-levels\n",
      "2019-10-17 10:51:39,783 INFO Request is completed\n",
      "2019-10-17 10:51:39,784 INFO Downloading http://136.156.132.236/cache-compute-0007/cache/data2/adaptor.mars.internal-1571268831.3704543-15788-3-038e9dee-b7ea-4169-bc3d-0201cfb35dd0.nc to /home/jovyan/europe/26-02-1980.nc (380.2M)\n",
      "2019-10-17 10:51:49,766 INFO Download rate 38.1M/s \n"
     ]
    },
    {
     "data": {
      "text/plain": [
       "<Result cmd='fimex-1.3 -c extractEurope.cfg --input.file /home/jovyan/europe/26-02-1980.nc --output.file /home/jovyan/europe/europe_26-02-1980.nc' exited=0>"
      ]
     },
     "metadata": {},
     "output_type": "display_data"
    },
    {
     "data": {
      "text/plain": [
       "<Result cmd='rm -f /home/jovyan/europe/26-02-1980.nc' exited=0>"
      ]
     },
     "metadata": {},
     "output_type": "display_data"
    },
    {
     "name": "stderr",
     "output_type": "stream",
     "text": [
      "2019-10-17 10:51:50,087 INFO Sending request to https://cds.climate.copernicus.eu/api/v2/resources/reanalysis-era5-single-levels\n",
      "2019-10-17 10:51:50,205 INFO Request is completed\n",
      "2019-10-17 10:51:50,206 INFO Downloading http://136.156.132.236/cache-compute-0007/cache/data6/adaptor.mars.internal-1571093532.2122285-17729-1-073844f9-4cf0-4abf-9a48-dabe6482c272.nc to /home/jovyan/europe/27-02-1980.nc (380.2M)\n",
      "2019-10-17 10:52:03,995 INFO Download rate 27.6M/s \n"
     ]
    },
    {
     "data": {
      "text/plain": [
       "<Result cmd='fimex-1.3 -c extractEurope.cfg --input.file /home/jovyan/europe/27-02-1980.nc --output.file /home/jovyan/europe/europe_27-02-1980.nc' exited=0>"
      ]
     },
     "metadata": {},
     "output_type": "display_data"
    },
    {
     "data": {
      "text/plain": [
       "<Result cmd='rm -f /home/jovyan/europe/27-02-1980.nc' exited=0>"
      ]
     },
     "metadata": {},
     "output_type": "display_data"
    },
    {
     "name": "stderr",
     "output_type": "stream",
     "text": [
      "2019-10-17 10:52:04,329 INFO Sending request to https://cds.climate.copernicus.eu/api/v2/resources/reanalysis-era5-single-levels\n",
      "2019-10-17 10:52:05,062 INFO Request is completed\n",
      "2019-10-17 10:52:05,063 INFO Downloading http://136.156.132.110/cache-compute-0001/cache/data4/adaptor.mars.internal-1571268894.7118316-18178-17-225dfe41-1fc4-4ca3-96d2-8fc63d79a197.nc to /home/jovyan/europe/28-02-1980.nc (380.2M)\n",
      "2019-10-17 10:52:16,424 INFO Download rate 33.5M/s \n"
     ]
    },
    {
     "data": {
      "text/plain": [
       "<Result cmd='fimex-1.3 -c extractEurope.cfg --input.file /home/jovyan/europe/28-02-1980.nc --output.file /home/jovyan/europe/europe_28-02-1980.nc' exited=0>"
      ]
     },
     "metadata": {},
     "output_type": "display_data"
    },
    {
     "data": {
      "text/plain": [
       "<Result cmd='rm -f /home/jovyan/europe/28-02-1980.nc' exited=0>"
      ]
     },
     "metadata": {},
     "output_type": "display_data"
    },
    {
     "name": "stderr",
     "output_type": "stream",
     "text": [
      "2019-10-17 10:52:16,709 INFO Sending request to https://cds.climate.copernicus.eu/api/v2/resources/reanalysis-era5-single-levels\n",
      "2019-10-17 10:52:16,881 INFO Request is completed\n",
      "2019-10-17 10:52:16,882 INFO Downloading http://136.156.132.198/cache-compute-0003/cache/data9/adaptor.mars.internal-1571268938.51152-31607-11-ad1246b1-b8c5-472d-978c-7f281169462b.nc to /home/jovyan/europe/29-02-1980.nc (380.2M)\n",
      "2019-10-17 10:52:42,675 INFO Download rate 14.7M/s \n"
     ]
    },
    {
     "data": {
      "text/plain": [
       "<Result cmd='fimex-1.3 -c extractEurope.cfg --input.file /home/jovyan/europe/29-02-1980.nc --output.file /home/jovyan/europe/europe_29-02-1980.nc' exited=0>"
      ]
     },
     "metadata": {},
     "output_type": "display_data"
    },
    {
     "data": {
      "text/plain": [
       "<Result cmd='rm -f /home/jovyan/europe/29-02-1980.nc' exited=0>"
      ]
     },
     "metadata": {},
     "output_type": "display_data"
    },
    {
     "name": "stderr",
     "output_type": "stream",
     "text": [
      "2019-10-17 10:52:43,466 INFO Sending request to https://cds.climate.copernicus.eu/api/v2/resources/reanalysis-era5-single-levels\n",
      "2019-10-17 10:52:44,575 INFO Request is completed\n",
      "2019-10-17 10:52:44,579 INFO Downloading http://136.156.133.41/cache-compute-0013/cache/data1/adaptor.mars.internal-1571093650.7992756-21040-1-9abf2a68-1b4b-43cf-bc69-9862fad6b1c2.nc to /home/jovyan/europe/01-03-1980.nc (380.2M)\n",
      "2019-10-17 10:53:10,142 INFO Download rate 14.9M/s \n"
     ]
    },
    {
     "data": {
      "text/plain": [
       "<Result cmd='fimex-1.3 -c extractEurope.cfg --input.file /home/jovyan/europe/01-03-1980.nc --output.file /home/jovyan/europe/europe_01-03-1980.nc' exited=0>"
      ]
     },
     "metadata": {},
     "output_type": "display_data"
    },
    {
     "data": {
      "text/plain": [
       "<Result cmd='rm -f /home/jovyan/europe/01-03-1980.nc' exited=0>"
      ]
     },
     "metadata": {},
     "output_type": "display_data"
    },
    {
     "name": "stderr",
     "output_type": "stream",
     "text": [
      "2019-10-17 10:53:10,895 INFO Sending request to https://cds.climate.copernicus.eu/api/v2/resources/reanalysis-era5-single-levels\n",
      "2019-10-17 10:53:11,363 INFO Request is completed\n",
      "2019-10-17 10:53:11,366 INFO Downloading http://136.156.133.32/cache-compute-0009/cache/data2/adaptor.mars.internal-1571268993.2156217-10985-9-e9928b47-1123-468c-9e36-64007cdcaf08.nc to /home/jovyan/europe/02-03-1980.nc (380.2M)\n",
      "2019-10-17 10:53:33,337 INFO Download rate 17.3M/s \n"
     ]
    },
    {
     "data": {
      "text/plain": [
       "<Result cmd='fimex-1.3 -c extractEurope.cfg --input.file /home/jovyan/europe/02-03-1980.nc --output.file /home/jovyan/europe/europe_02-03-1980.nc' exited=0>"
      ]
     },
     "metadata": {},
     "output_type": "display_data"
    },
    {
     "data": {
      "text/plain": [
       "<Result cmd='rm -f /home/jovyan/europe/02-03-1980.nc' exited=0>"
      ]
     },
     "metadata": {},
     "output_type": "display_data"
    },
    {
     "name": "stderr",
     "output_type": "stream",
     "text": [
      "2019-10-17 10:53:33,771 INFO Sending request to https://cds.climate.copernicus.eu/api/v2/resources/reanalysis-era5-single-levels\n",
      "2019-10-17 10:53:34,727 INFO Request is completed\n",
      "2019-10-17 10:53:34,728 INFO Downloading http://136.156.133.36/cache-compute-0010/cache/data4/adaptor.mars.internal-1571093727.2791169-9471-25-173545e5-2c33-4060-b063-31a6b01c43cb.nc to /home/jovyan/europe/03-03-1980.nc (380.2M)\n",
      "2019-10-17 10:53:54,625 INFO Download rate 19.1M/s \n"
     ]
    },
    {
     "data": {
      "text/plain": [
       "<Result cmd='fimex-1.3 -c extractEurope.cfg --input.file /home/jovyan/europe/03-03-1980.nc --output.file /home/jovyan/europe/europe_03-03-1980.nc' exited=0>"
      ]
     },
     "metadata": {},
     "output_type": "display_data"
    },
    {
     "data": {
      "text/plain": [
       "<Result cmd='rm -f /home/jovyan/europe/03-03-1980.nc' exited=0>"
      ]
     },
     "metadata": {},
     "output_type": "display_data"
    },
    {
     "name": "stderr",
     "output_type": "stream",
     "text": [
      "2019-10-17 10:53:55,019 INFO Sending request to https://cds.climate.copernicus.eu/api/v2/resources/reanalysis-era5-single-levels\n",
      "2019-10-17 10:53:55,535 INFO Request is completed\n",
      "2019-10-17 10:53:55,536 INFO Downloading http://136.156.132.198/cache-compute-0003/cache/data7/adaptor.mars.internal-1571093773.2555387-12064-5-fa18c0f3-a9d5-4cda-8601-00cc10ac343b.nc to /home/jovyan/europe/04-03-1980.nc (380.2M)\n",
      "2019-10-17 10:54:15,085 INFO Download rate 19.5M/s \n"
     ]
    },
    {
     "data": {
      "text/plain": [
       "<Result cmd='fimex-1.3 -c extractEurope.cfg --input.file /home/jovyan/europe/04-03-1980.nc --output.file /home/jovyan/europe/europe_04-03-1980.nc' exited=0>"
      ]
     },
     "metadata": {},
     "output_type": "display_data"
    },
    {
     "data": {
      "text/plain": [
       "<Result cmd='rm -f /home/jovyan/europe/04-03-1980.nc' exited=0>"
      ]
     },
     "metadata": {},
     "output_type": "display_data"
    },
    {
     "name": "stderr",
     "output_type": "stream",
     "text": [
      "2019-10-17 10:54:15,430 INFO Sending request to https://cds.climate.copernicus.eu/api/v2/resources/reanalysis-era5-single-levels\n",
      "2019-10-17 10:54:15,608 INFO Request is completed\n",
      "2019-10-17 10:54:15,611 INFO Downloading http://136.156.133.39/cache-compute-0012/cache/data9/adaptor.mars.internal-1571269084.800969-25405-13-40a40dc2-a317-40ff-b06b-c8a85cacc647.nc to /home/jovyan/europe/05-03-1980.nc (380.2M)\n",
      "2019-10-17 10:54:32,838 INFO Download rate 22.1M/s \n"
     ]
    },
    {
     "data": {
      "text/plain": [
       "<Result cmd='fimex-1.3 -c extractEurope.cfg --input.file /home/jovyan/europe/05-03-1980.nc --output.file /home/jovyan/europe/europe_05-03-1980.nc' exited=0>"
      ]
     },
     "metadata": {},
     "output_type": "display_data"
    },
    {
     "data": {
      "text/plain": [
       "<Result cmd='rm -f /home/jovyan/europe/05-03-1980.nc' exited=0>"
      ]
     },
     "metadata": {},
     "output_type": "display_data"
    },
    {
     "name": "stderr",
     "output_type": "stream",
     "text": [
      "2019-10-17 10:54:33,383 INFO Sending request to https://cds.climate.copernicus.eu/api/v2/resources/reanalysis-era5-single-levels\n",
      "2019-10-17 10:54:33,580 INFO Request is completed\n",
      "2019-10-17 10:54:33,582 INFO Downloading http://136.156.132.236/cache-compute-0007/cache/data6/adaptor.mars.internal-1571269112.8825462-14853-9-3ff3f6e3-e716-4ab0-9ca4-5be88901cea9.nc to /home/jovyan/europe/06-03-1980.nc (380.2M)\n",
      "2019-10-17 10:54:51,450 INFO Download rate 21.3M/s \n"
     ]
    },
    {
     "data": {
      "text/plain": [
       "<Result cmd='fimex-1.3 -c extractEurope.cfg --input.file /home/jovyan/europe/06-03-1980.nc --output.file /home/jovyan/europe/europe_06-03-1980.nc' exited=0>"
      ]
     },
     "metadata": {},
     "output_type": "display_data"
    },
    {
     "data": {
      "text/plain": [
       "<Result cmd='rm -f /home/jovyan/europe/06-03-1980.nc' exited=0>"
      ]
     },
     "metadata": {},
     "output_type": "display_data"
    },
    {
     "name": "stderr",
     "output_type": "stream",
     "text": [
      "2019-10-17 10:54:52,026 INFO Sending request to https://cds.climate.copernicus.eu/api/v2/resources/reanalysis-era5-single-levels\n",
      "2019-10-17 10:54:52,759 INFO Request is completed\n",
      "2019-10-17 10:54:52,760 INFO Downloading http://136.156.132.110/cache-compute-0001/cache/data2/adaptor.mars.internal-1571093909.3954182-4571-3-1e227e31-56cf-417c-ae51-22672abd090e.nc to /home/jovyan/europe/07-03-1980.nc (380.2M)\n",
      "2019-10-17 10:55:06,754 INFO Download rate 27.2M/s \n"
     ]
    },
    {
     "data": {
      "text/plain": [
       "<Result cmd='fimex-1.3 -c extractEurope.cfg --input.file /home/jovyan/europe/07-03-1980.nc --output.file /home/jovyan/europe/europe_07-03-1980.nc' exited=0>"
      ]
     },
     "metadata": {},
     "output_type": "display_data"
    },
    {
     "data": {
      "text/plain": [
       "<Result cmd='rm -f /home/jovyan/europe/07-03-1980.nc' exited=0>"
      ]
     },
     "metadata": {},
     "output_type": "display_data"
    },
    {
     "name": "stderr",
     "output_type": "stream",
     "text": [
      "2019-10-17 10:55:08,233 INFO Sending request to https://cds.climate.copernicus.eu/api/v2/resources/reanalysis-era5-single-levels\n",
      "2019-10-17 10:55:09,247 INFO Request is completed\n",
      "2019-10-17 10:55:09,251 INFO Downloading http://136.156.132.201/cache-compute-0004/cache/data3/adaptor.mars.internal-1571269156.0503473-14211-17-2eee3389-c088-452e-ba3e-031dffe67928.nc to /home/jovyan/europe/08-03-1980.nc (380.2M)\n",
      "2019-10-17 10:55:19,946 INFO Download rate 35.6M/s \n"
     ]
    },
    {
     "data": {
      "text/plain": [
       "<Result cmd='fimex-1.3 -c extractEurope.cfg --input.file /home/jovyan/europe/08-03-1980.nc --output.file /home/jovyan/europe/europe_08-03-1980.nc' exited=0>"
      ]
     },
     "metadata": {},
     "output_type": "display_data"
    },
    {
     "data": {
      "text/plain": [
       "<Result cmd='rm -f /home/jovyan/europe/08-03-1980.nc' exited=0>"
      ]
     },
     "metadata": {},
     "output_type": "display_data"
    },
    {
     "name": "stderr",
     "output_type": "stream",
     "text": [
      "2019-10-17 10:55:20,317 INFO Sending request to https://cds.climate.copernicus.eu/api/v2/resources/reanalysis-era5-single-levels\n",
      "2019-10-17 10:55:20,728 INFO Request is completed\n",
      "2019-10-17 10:55:20,729 INFO Downloading http://136.156.133.37/cache-compute-0011/cache/data2/adaptor.mars.internal-1571269193.7646525-2275-17-9a4a0af1-871e-4fca-9907-c7f7c47ce88e.nc to /home/jovyan/europe/09-03-1980.nc (380.2M)\n",
      "2019-10-17 10:55:37,579 INFO Download rate 22.6M/s \n"
     ]
    },
    {
     "data": {
      "text/plain": [
       "<Result cmd='fimex-1.3 -c extractEurope.cfg --input.file /home/jovyan/europe/09-03-1980.nc --output.file /home/jovyan/europe/europe_09-03-1980.nc' exited=0>"
      ]
     },
     "metadata": {},
     "output_type": "display_data"
    },
    {
     "data": {
      "text/plain": [
       "<Result cmd='rm -f /home/jovyan/europe/09-03-1980.nc' exited=0>"
      ]
     },
     "metadata": {},
     "output_type": "display_data"
    },
    {
     "name": "stderr",
     "output_type": "stream",
     "text": [
      "2019-10-17 10:55:38,392 INFO Sending request to https://cds.climate.copernicus.eu/api/v2/resources/reanalysis-era5-single-levels\n",
      "2019-10-17 10:55:38,556 INFO Request is completed\n",
      "2019-10-17 10:55:38,557 INFO Downloading http://136.156.133.46/cache-compute-0015/cache/data0/adaptor.mars.internal-1571094043.591586-23148-1-8f5ce127-a1cb-4a55-938d-06170ef6ad33.nc to /home/jovyan/europe/10-03-1980.nc (380.2M)\n",
      "2019-10-17 10:55:46,837 INFO Download rate 45.9M/s \n"
     ]
    },
    {
     "data": {
      "text/plain": [
       "<Result cmd='fimex-1.3 -c extractEurope.cfg --input.file /home/jovyan/europe/10-03-1980.nc --output.file /home/jovyan/europe/europe_10-03-1980.nc' exited=0>"
      ]
     },
     "metadata": {},
     "output_type": "display_data"
    },
    {
     "data": {
      "text/plain": [
       "<Result cmd='rm -f /home/jovyan/europe/10-03-1980.nc' exited=0>"
      ]
     },
     "metadata": {},
     "output_type": "display_data"
    },
    {
     "name": "stderr",
     "output_type": "stream",
     "text": [
      "2019-10-17 10:55:47,180 INFO Sending request to https://cds.climate.copernicus.eu/api/v2/resources/reanalysis-era5-single-levels\n",
      "2019-10-17 10:55:47,951 INFO Request is completed\n",
      "2019-10-17 10:55:47,952 INFO Downloading http://136.156.132.110/cache-compute-0001/cache/data5/adaptor.mars.internal-1571269249.7280061-17348-19-6ddb191f-5104-448e-a8dd-79c3864160b1.nc to /home/jovyan/europe/11-03-1980.nc (380.2M)\n",
      "2019-10-17 10:56:08,477 INFO Download rate 18.5M/s \n"
     ]
    },
    {
     "data": {
      "text/plain": [
       "<Result cmd='fimex-1.3 -c extractEurope.cfg --input.file /home/jovyan/europe/11-03-1980.nc --output.file /home/jovyan/europe/europe_11-03-1980.nc' exited=0>"
      ]
     },
     "metadata": {},
     "output_type": "display_data"
    },
    {
     "data": {
      "text/plain": [
       "<Result cmd='rm -f /home/jovyan/europe/11-03-1980.nc' exited=0>"
      ]
     },
     "metadata": {},
     "output_type": "display_data"
    },
    {
     "name": "stderr",
     "output_type": "stream",
     "text": [
      "2019-10-17 10:56:08,778 INFO Sending request to https://cds.climate.copernicus.eu/api/v2/resources/reanalysis-era5-single-levels\n",
      "2019-10-17 10:56:08,912 INFO Request is completed\n",
      "2019-10-17 10:56:08,913 INFO Downloading http://136.156.132.110/cache-compute-0001/cache/data0/adaptor.mars.internal-1571269276.71867-22211-7-16c41d0f-5231-46c7-80ab-0a8bd6b22630.nc to /home/jovyan/europe/12-03-1980.nc (380.2M)\n",
      "2019-10-17 10:56:28,090 INFO Download rate 19.8M/s \n"
     ]
    },
    {
     "data": {
      "text/plain": [
       "<Result cmd='fimex-1.3 -c extractEurope.cfg --input.file /home/jovyan/europe/12-03-1980.nc --output.file /home/jovyan/europe/europe_12-03-1980.nc' exited=0>"
      ]
     },
     "metadata": {},
     "output_type": "display_data"
    },
    {
     "data": {
      "text/plain": [
       "<Result cmd='rm -f /home/jovyan/europe/12-03-1980.nc' exited=0>"
      ]
     },
     "metadata": {},
     "output_type": "display_data"
    },
    {
     "name": "stderr",
     "output_type": "stream",
     "text": [
      "2019-10-17 10:56:28,397 INFO Sending request to https://cds.climate.copernicus.eu/api/v2/resources/reanalysis-era5-single-levels\n",
      "2019-10-17 10:56:28,638 INFO Request is completed\n",
      "2019-10-17 10:56:28,643 INFO Downloading http://136.156.133.39/cache-compute-0012/cache/data9/adaptor.mars.internal-1571269310.9697926-26421-5-3d0224b6-2922-4dd5-b9d0-983848ca21c7.nc to /home/jovyan/europe/13-03-1980.nc (380.2M)\n",
      "2019-10-17 10:56:49,175 INFO Download rate 18.5M/s \n"
     ]
    },
    {
     "data": {
      "text/plain": [
       "<Result cmd='fimex-1.3 -c extractEurope.cfg --input.file /home/jovyan/europe/13-03-1980.nc --output.file /home/jovyan/europe/europe_13-03-1980.nc' exited=0>"
      ]
     },
     "metadata": {},
     "output_type": "display_data"
    },
    {
     "data": {
      "text/plain": [
       "<Result cmd='rm -f /home/jovyan/europe/13-03-1980.nc' exited=0>"
      ]
     },
     "metadata": {},
     "output_type": "display_data"
    },
    {
     "name": "stderr",
     "output_type": "stream",
     "text": [
      "2019-10-17 10:56:49,502 INFO Sending request to https://cds.climate.copernicus.eu/api/v2/resources/reanalysis-era5-single-levels\n",
      "2019-10-17 10:56:50,600 INFO Request is completed\n",
      "2019-10-17 10:56:50,602 INFO Downloading http://136.156.133.41/cache-compute-0013/cache/data9/adaptor.mars.internal-1571094227.94703-19745-9-0f5a8641-dd0e-4292-8d86-a4e4c9dd0f19.nc to /home/jovyan/europe/14-03-1980.nc (380.2M)\n",
      "2019-10-17 10:57:09,451 INFO Download rate 20.2M/s \n"
     ]
    },
    {
     "data": {
      "text/plain": [
       "<Result cmd='fimex-1.3 -c extractEurope.cfg --input.file /home/jovyan/europe/14-03-1980.nc --output.file /home/jovyan/europe/europe_14-03-1980.nc' exited=0>"
      ]
     },
     "metadata": {},
     "output_type": "display_data"
    },
    {
     "data": {
      "text/plain": [
       "<Result cmd='rm -f /home/jovyan/europe/14-03-1980.nc' exited=0>"
      ]
     },
     "metadata": {},
     "output_type": "display_data"
    },
    {
     "name": "stderr",
     "output_type": "stream",
     "text": [
      "2019-10-17 10:57:09,682 INFO Sending request to https://cds.climate.copernicus.eu/api/v2/resources/reanalysis-era5-single-levels\n",
      "2019-10-17 10:57:09,820 INFO Request is completed\n",
      "2019-10-17 10:57:09,822 INFO Downloading http://136.156.133.46/cache-compute-0015/cache/data5/adaptor.mars.internal-1571269354.820626-30251-7-3b523b1f-90a6-41a3-8d7a-bebb3330fc3b.nc to /home/jovyan/europe/15-03-1980.nc (380.2M)\n",
      "2019-10-17 10:57:23,554 INFO Download rate 27.7M/s \n"
     ]
    },
    {
     "data": {
      "text/plain": [
       "<Result cmd='fimex-1.3 -c extractEurope.cfg --input.file /home/jovyan/europe/15-03-1980.nc --output.file /home/jovyan/europe/europe_15-03-1980.nc' exited=0>"
      ]
     },
     "metadata": {},
     "output_type": "display_data"
    },
    {
     "data": {
      "text/plain": [
       "<Result cmd='rm -f /home/jovyan/europe/15-03-1980.nc' exited=0>"
      ]
     },
     "metadata": {},
     "output_type": "display_data"
    },
    {
     "name": "stderr",
     "output_type": "stream",
     "text": [
      "2019-10-17 10:57:23,937 INFO Sending request to https://cds.climate.copernicus.eu/api/v2/resources/reanalysis-era5-single-levels\n",
      "2019-10-17 10:57:24,873 INFO Request is completed\n",
      "2019-10-17 10:57:24,874 INFO Downloading http://136.156.133.25/cache-compute-0008/cache/data3/adaptor.mars.internal-1571269387.2471788-21485-1-6e9abe96-6e9b-4ac6-8d8f-0ac83c4e083a.nc to /home/jovyan/europe/16-03-1980.nc (380.2M)\n",
      "2019-10-17 10:57:42,612 INFO Download rate 21.4M/s \n"
     ]
    },
    {
     "data": {
      "text/plain": [
       "<Result cmd='fimex-1.3 -c extractEurope.cfg --input.file /home/jovyan/europe/16-03-1980.nc --output.file /home/jovyan/europe/europe_16-03-1980.nc' exited=0>"
      ]
     },
     "metadata": {},
     "output_type": "display_data"
    },
    {
     "data": {
      "text/plain": [
       "<Result cmd='rm -f /home/jovyan/europe/16-03-1980.nc' exited=0>"
      ]
     },
     "metadata": {},
     "output_type": "display_data"
    },
    {
     "name": "stderr",
     "output_type": "stream",
     "text": [
      "2019-10-17 10:57:42,899 INFO Sending request to https://cds.climate.copernicus.eu/api/v2/resources/reanalysis-era5-single-levels\n",
      "2019-10-17 10:57:43,032 INFO Request is completed\n",
      "2019-10-17 10:57:43,033 INFO Downloading http://136.156.132.235/cache-compute-0006/cache/data0/adaptor.mars.internal-1571269424.0335352-489-5-025d931e-fb84-441e-8a91-4dc47487858c.nc to /home/jovyan/europe/17-03-1980.nc (380.2M)\n",
      "2019-10-17 10:58:03,902 INFO Download rate 18.2M/s \n"
     ]
    },
    {
     "data": {
      "text/plain": [
       "<Result cmd='fimex-1.3 -c extractEurope.cfg --input.file /home/jovyan/europe/17-03-1980.nc --output.file /home/jovyan/europe/europe_17-03-1980.nc' exited=0>"
      ]
     },
     "metadata": {},
     "output_type": "display_data"
    },
    {
     "data": {
      "text/plain": [
       "<Result cmd='rm -f /home/jovyan/europe/17-03-1980.nc' exited=0>"
      ]
     },
     "metadata": {},
     "output_type": "display_data"
    },
    {
     "name": "stderr",
     "output_type": "stream",
     "text": [
      "2019-10-17 10:58:04,224 INFO Sending request to https://cds.climate.copernicus.eu/api/v2/resources/reanalysis-era5-single-levels\n",
      "2019-10-17 10:58:04,625 INFO Request is completed\n",
      "2019-10-17 10:58:04,626 INFO Downloading http://136.156.133.41/cache-compute-0013/cache/data9/adaptor.mars.internal-1571094388.7317755-17439-9-99b22bb7-affc-4cfe-93cc-ee2c54304c2b.nc to /home/jovyan/europe/18-03-1980.nc (380.2M)\n",
      "2019-10-17 10:58:17,450 INFO Download rate 29.7M/s \n"
     ]
    },
    {
     "data": {
      "text/plain": [
       "<Result cmd='fimex-1.3 -c extractEurope.cfg --input.file /home/jovyan/europe/18-03-1980.nc --output.file /home/jovyan/europe/europe_18-03-1980.nc' exited=0>"
      ]
     },
     "metadata": {},
     "output_type": "display_data"
    },
    {
     "data": {
      "text/plain": [
       "<Result cmd='rm -f /home/jovyan/europe/18-03-1980.nc' exited=0>"
      ]
     },
     "metadata": {},
     "output_type": "display_data"
    },
    {
     "name": "stderr",
     "output_type": "stream",
     "text": [
      "2019-10-17 10:58:17,739 INFO Sending request to https://cds.climate.copernicus.eu/api/v2/resources/reanalysis-era5-single-levels\n",
      "2019-10-17 10:58:18,044 INFO Request is completed\n",
      "2019-10-17 10:58:18,045 INFO Downloading http://136.156.133.46/cache-compute-0015/cache/data5/adaptor.mars.internal-1571269483.6305025-26968-7-6741f93c-2ab6-4f76-b4f5-84a9ee633e76.nc to /home/jovyan/europe/19-03-1980.nc (380.2M)\n",
      "2019-10-17 10:58:32,524 INFO Download rate 26.3M/s \n"
     ]
    },
    {
     "data": {
      "text/plain": [
       "<Result cmd='fimex-1.3 -c extractEurope.cfg --input.file /home/jovyan/europe/19-03-1980.nc --output.file /home/jovyan/europe/europe_19-03-1980.nc' exited=0>"
      ]
     },
     "metadata": {},
     "output_type": "display_data"
    },
    {
     "data": {
      "text/plain": [
       "<Result cmd='rm -f /home/jovyan/europe/19-03-1980.nc' exited=0>"
      ]
     },
     "metadata": {},
     "output_type": "display_data"
    },
    {
     "name": "stderr",
     "output_type": "stream",
     "text": [
      "2019-10-17 10:58:32,956 INFO Sending request to https://cds.climate.copernicus.eu/api/v2/resources/reanalysis-era5-single-levels\n",
      "2019-10-17 10:58:33,492 INFO Request is completed\n",
      "2019-10-17 10:58:33,496 INFO Downloading http://136.156.133.36/cache-compute-0010/cache/data1/adaptor.mars.internal-1571094469.6465497-21164-3-313e34ee-9af9-4b46-92a7-447e7fc16418.nc to /home/jovyan/europe/20-03-1980.nc (380.2M)\n",
      "2019-10-17 10:58:49,328 INFO Download rate 24M/s   \n"
     ]
    },
    {
     "data": {
      "text/plain": [
       "<Result cmd='fimex-1.3 -c extractEurope.cfg --input.file /home/jovyan/europe/20-03-1980.nc --output.file /home/jovyan/europe/europe_20-03-1980.nc' exited=0>"
      ]
     },
     "metadata": {},
     "output_type": "display_data"
    },
    {
     "data": {
      "text/plain": [
       "<Result cmd='rm -f /home/jovyan/europe/20-03-1980.nc' exited=0>"
      ]
     },
     "metadata": {},
     "output_type": "display_data"
    },
    {
     "name": "stderr",
     "output_type": "stream",
     "text": [
      "2019-10-17 10:58:49,586 INFO Sending request to https://cds.climate.copernicus.eu/api/v2/resources/reanalysis-era5-single-levels\n",
      "2019-10-17 10:58:49,977 INFO Request is completed\n",
      "2019-10-17 10:58:49,978 INFO Downloading http://136.156.133.25/cache-compute-0008/cache/data0/adaptor.mars.internal-1571269540.6149287-14546-13-9e614c62-1fb9-4d14-9a1e-283948ce858f.nc to /home/jovyan/europe/21-03-1980.nc (380.2M)\n",
      "2019-10-17 10:59:04,475 INFO Download rate 26.2M/s \n"
     ]
    },
    {
     "data": {
      "text/plain": [
       "<Result cmd='fimex-1.3 -c extractEurope.cfg --input.file /home/jovyan/europe/21-03-1980.nc --output.file /home/jovyan/europe/europe_21-03-1980.nc' exited=0>"
      ]
     },
     "metadata": {},
     "output_type": "display_data"
    },
    {
     "data": {
      "text/plain": [
       "<Result cmd='rm -f /home/jovyan/europe/21-03-1980.nc' exited=0>"
      ]
     },
     "metadata": {},
     "output_type": "display_data"
    },
    {
     "name": "stderr",
     "output_type": "stream",
     "text": [
      "2019-10-17 10:59:04,788 INFO Sending request to https://cds.climate.copernicus.eu/api/v2/resources/reanalysis-era5-single-levels\n",
      "2019-10-17 10:59:05,708 INFO Request is completed\n",
      "2019-10-17 10:59:05,709 INFO Downloading http://136.156.133.46/cache-compute-0015/cache/data8/adaptor.mars.internal-1571094561.9675212-25745-5-e8ffa2f9-d7ec-4a54-9cb3-d3e975d6302b.nc to /home/jovyan/europe/22-03-1980.nc (380.2M)\n",
      "2019-10-17 10:59:25,854 INFO Download rate 18.9M/s \n"
     ]
    },
    {
     "data": {
      "text/plain": [
       "<Result cmd='fimex-1.3 -c extractEurope.cfg --input.file /home/jovyan/europe/22-03-1980.nc --output.file /home/jovyan/europe/europe_22-03-1980.nc' exited=0>"
      ]
     },
     "metadata": {},
     "output_type": "display_data"
    },
    {
     "data": {
      "text/plain": [
       "<Result cmd='rm -f /home/jovyan/europe/22-03-1980.nc' exited=0>"
      ]
     },
     "metadata": {},
     "output_type": "display_data"
    },
    {
     "name": "stderr",
     "output_type": "stream",
     "text": [
      "2019-10-17 10:59:31,185 INFO Sending request to https://cds.climate.copernicus.eu/api/v2/resources/reanalysis-era5-single-levels\n",
      "2019-10-17 10:59:31,418 INFO Request is completed\n",
      "2019-10-17 10:59:31,420 INFO Downloading http://136.156.133.36/cache-compute-0010/cache/data9/adaptor.mars.internal-1571094606.836493-22193-9-cb8b2cf2-7d21-490d-b4b7-3164f453bbe1.nc to /home/jovyan/europe/23-03-1980.nc (380.2M)\n",
      "2019-10-17 10:59:48,138 INFO Download rate 22.7M/s \n"
     ]
    },
    {
     "data": {
      "text/plain": [
       "<Result cmd='fimex-1.3 -c extractEurope.cfg --input.file /home/jovyan/europe/23-03-1980.nc --output.file /home/jovyan/europe/europe_23-03-1980.nc' exited=0>"
      ]
     },
     "metadata": {},
     "output_type": "display_data"
    },
    {
     "data": {
      "text/plain": [
       "<Result cmd='rm -f /home/jovyan/europe/23-03-1980.nc' exited=0>"
      ]
     },
     "metadata": {},
     "output_type": "display_data"
    },
    {
     "name": "stderr",
     "output_type": "stream",
     "text": [
      "2019-10-17 10:59:48,482 INFO Sending request to https://cds.climate.copernicus.eu/api/v2/resources/reanalysis-era5-single-levels\n",
      "2019-10-17 10:59:48,945 INFO Request is completed\n",
      "2019-10-17 10:59:48,946 INFO Downloading http://136.156.133.37/cache-compute-0011/cache/data6/adaptor.mars.internal-1571269628.036075-11659-13-8ee0a1c1-5561-4602-94c8-b54fc5591b77.nc to /home/jovyan/europe/24-03-1980.nc (380.2M)\n",
      "2019-10-17 10:59:57,394 INFO Download rate 45M/s   \n"
     ]
    },
    {
     "data": {
      "text/plain": [
       "<Result cmd='fimex-1.3 -c extractEurope.cfg --input.file /home/jovyan/europe/24-03-1980.nc --output.file /home/jovyan/europe/europe_24-03-1980.nc' exited=0>"
      ]
     },
     "metadata": {},
     "output_type": "display_data"
    },
    {
     "data": {
      "text/plain": [
       "<Result cmd='rm -f /home/jovyan/europe/24-03-1980.nc' exited=0>"
      ]
     },
     "metadata": {},
     "output_type": "display_data"
    },
    {
     "name": "stderr",
     "output_type": "stream",
     "text": [
      "2019-10-17 10:59:57,952 INFO Sending request to https://cds.climate.copernicus.eu/api/v2/resources/reanalysis-era5-single-levels\n",
      "2019-10-17 10:59:58,755 INFO Request is completed\n",
      "2019-10-17 10:59:58,756 INFO Downloading http://136.156.133.25/cache-compute-0008/cache/data0/adaptor.mars.internal-1571269676.1159048-20195-13-943063e1-48a6-472c-b136-4ddb33939b4d.nc to /home/jovyan/europe/25-03-1980.nc (380.2M)\n",
      "2019-10-17 11:00:16,207 INFO Download rate 21.8M/s \n"
     ]
    },
    {
     "data": {
      "text/plain": [
       "<Result cmd='fimex-1.3 -c extractEurope.cfg --input.file /home/jovyan/europe/25-03-1980.nc --output.file /home/jovyan/europe/europe_25-03-1980.nc' exited=0>"
      ]
     },
     "metadata": {},
     "output_type": "display_data"
    },
    {
     "data": {
      "text/plain": [
       "<Result cmd='rm -f /home/jovyan/europe/25-03-1980.nc' exited=0>"
      ]
     },
     "metadata": {},
     "output_type": "display_data"
    },
    {
     "name": "stderr",
     "output_type": "stream",
     "text": [
      "2019-10-17 11:00:16,521 INFO Sending request to https://cds.climate.copernicus.eu/api/v2/resources/reanalysis-era5-single-levels\n",
      "2019-10-17 11:00:17,246 INFO Request is completed\n",
      "2019-10-17 11:00:17,247 INFO Downloading http://136.156.132.110/cache-compute-0001/cache/data9/adaptor.mars.internal-1571269723.3932238-19808-15-00910101-945b-44f4-8699-fda43c48b5f0.nc to /home/jovyan/europe/26-03-1980.nc (380.2M)\n",
      "2019-10-17 11:00:31,144 INFO Download rate 27.4M/s \n"
     ]
    },
    {
     "data": {
      "text/plain": [
       "<Result cmd='fimex-1.3 -c extractEurope.cfg --input.file /home/jovyan/europe/26-03-1980.nc --output.file /home/jovyan/europe/europe_26-03-1980.nc' exited=0>"
      ]
     },
     "metadata": {},
     "output_type": "display_data"
    },
    {
     "data": {
      "text/plain": [
       "<Result cmd='rm -f /home/jovyan/europe/26-03-1980.nc' exited=0>"
      ]
     },
     "metadata": {},
     "output_type": "display_data"
    },
    {
     "name": "stderr",
     "output_type": "stream",
     "text": [
      "2019-10-17 11:00:31,412 INFO Sending request to https://cds.climate.copernicus.eu/api/v2/resources/reanalysis-era5-single-levels\n",
      "2019-10-17 11:00:31,970 INFO Request is completed\n",
      "2019-10-17 11:00:31,971 INFO Downloading http://136.156.133.42/cache-compute-0014/cache/data5/adaptor.mars.internal-1571094775.938997-8578-9-17c4a99b-3c95-4726-a950-357ca57f39d9.nc to /home/jovyan/europe/27-03-1980.nc (380.2M)\n",
      "2019-10-17 11:00:49,453 INFO Download rate 21.8M/s \n"
     ]
    },
    {
     "data": {
      "text/plain": [
       "<Result cmd='fimex-1.3 -c extractEurope.cfg --input.file /home/jovyan/europe/27-03-1980.nc --output.file /home/jovyan/europe/europe_27-03-1980.nc' exited=0>"
      ]
     },
     "metadata": {},
     "output_type": "display_data"
    },
    {
     "data": {
      "text/plain": [
       "<Result cmd='rm -f /home/jovyan/europe/27-03-1980.nc' exited=0>"
      ]
     },
     "metadata": {},
     "output_type": "display_data"
    },
    {
     "name": "stderr",
     "output_type": "stream",
     "text": [
      "2019-10-17 11:00:49,974 INFO Sending request to https://cds.climate.copernicus.eu/api/v2/resources/reanalysis-era5-single-levels\n",
      "2019-10-17 11:00:50,103 INFO Request is completed\n",
      "2019-10-17 11:00:50,107 INFO Downloading http://136.156.133.46/cache-compute-0015/cache/data7/adaptor.mars.internal-1571269794.6256313-25402-15-b86a3359-9c82-41e9-bbca-ab144ff606a8.nc to /home/jovyan/europe/28-03-1980.nc (380.2M)\n",
      "2019-10-17 11:01:12,290 INFO Download rate 17.1M/s \n"
     ]
    },
    {
     "data": {
      "text/plain": [
       "<Result cmd='fimex-1.3 -c extractEurope.cfg --input.file /home/jovyan/europe/28-03-1980.nc --output.file /home/jovyan/europe/europe_28-03-1980.nc' exited=0>"
      ]
     },
     "metadata": {},
     "output_type": "display_data"
    },
    {
     "data": {
      "text/plain": [
       "<Result cmd='rm -f /home/jovyan/europe/28-03-1980.nc' exited=0>"
      ]
     },
     "metadata": {},
     "output_type": "display_data"
    },
    {
     "name": "stderr",
     "output_type": "stream",
     "text": [
      "2019-10-17 11:01:12,901 INFO Sending request to https://cds.climate.copernicus.eu/api/v2/resources/reanalysis-era5-single-levels\n",
      "2019-10-17 11:01:13,054 INFO Request is completed\n",
      "2019-10-17 11:01:13,060 INFO Downloading http://136.156.132.153/cache-compute-0002/cache/data8/adaptor.mars.internal-1571094863.1214201-23760-5-3ef32569-a3e6-4b6b-95c0-f4365773f433.nc to /home/jovyan/europe/29-03-1980.nc (380.2M)\n",
      "2019-10-17 11:01:37,147 INFO Download rate 15.8M/s \n"
     ]
    },
    {
     "data": {
      "text/plain": [
       "<Result cmd='fimex-1.3 -c extractEurope.cfg --input.file /home/jovyan/europe/29-03-1980.nc --output.file /home/jovyan/europe/europe_29-03-1980.nc' exited=0>"
      ]
     },
     "metadata": {},
     "output_type": "display_data"
    },
    {
     "data": {
      "text/plain": [
       "<Result cmd='rm -f /home/jovyan/europe/29-03-1980.nc' exited=0>"
      ]
     },
     "metadata": {},
     "output_type": "display_data"
    },
    {
     "name": "stderr",
     "output_type": "stream",
     "text": [
      "2019-10-17 11:01:37,842 INFO Sending request to https://cds.climate.copernicus.eu/api/v2/resources/reanalysis-era5-single-levels\n",
      "2019-10-17 11:01:38,051 INFO Request is completed\n",
      "2019-10-17 11:01:38,052 INFO Downloading http://136.156.132.198/cache-compute-0003/cache/data4/adaptor.mars.internal-1571094896.4922814-19948-3-5be3a80e-3123-488c-a10f-9647be89cb84.nc to /home/jovyan/europe/30-03-1980.nc (380.2M)\n",
      "2019-10-17 11:02:10,448 INFO Download rate 11.7M/s \n"
     ]
    },
    {
     "data": {
      "text/plain": [
       "<Result cmd='fimex-1.3 -c extractEurope.cfg --input.file /home/jovyan/europe/30-03-1980.nc --output.file /home/jovyan/europe/europe_30-03-1980.nc' exited=0>"
      ]
     },
     "metadata": {},
     "output_type": "display_data"
    },
    {
     "data": {
      "text/plain": [
       "<Result cmd='rm -f /home/jovyan/europe/30-03-1980.nc' exited=0>"
      ]
     },
     "metadata": {},
     "output_type": "display_data"
    },
    {
     "name": "stderr",
     "output_type": "stream",
     "text": [
      "2019-10-17 11:02:11,095 INFO Sending request to https://cds.climate.copernicus.eu/api/v2/resources/reanalysis-era5-single-levels\n",
      "2019-10-17 11:02:11,274 INFO Request is completed\n",
      "2019-10-17 11:02:11,275 INFO Downloading http://136.156.133.46/cache-compute-0015/cache/data1/adaptor.mars.internal-1571269865.9264374-29400-19-9199f908-6899-43ea-bcc8-7d3c2f650e75.nc to /home/jovyan/europe/31-03-1980.nc (380.2M)\n",
      "2019-10-17 11:02:22,079 INFO Download rate 35.2M/s \n"
     ]
    },
    {
     "data": {
      "text/plain": [
       "<Result cmd='fimex-1.3 -c extractEurope.cfg --input.file /home/jovyan/europe/31-03-1980.nc --output.file /home/jovyan/europe/europe_31-03-1980.nc' exited=0>"
      ]
     },
     "metadata": {},
     "output_type": "display_data"
    },
    {
     "data": {
      "text/plain": [
       "<Result cmd='rm -f /home/jovyan/europe/31-03-1980.nc' exited=0>"
      ]
     },
     "metadata": {},
     "output_type": "display_data"
    },
    {
     "name": "stderr",
     "output_type": "stream",
     "text": [
      "2019-10-17 11:02:22,499 INFO Sending request to https://cds.climate.copernicus.eu/api/v2/resources/reanalysis-era5-single-levels\n",
      "2019-10-17 11:02:23,595 INFO Request is completed\n",
      "2019-10-17 11:02:23,597 INFO Downloading http://136.156.132.110/cache-compute-0001/cache/data1/adaptor.mars.internal-1571094973.3068807-30797-17-7f015f41-c8c5-4cc3-94f4-66b97abaa993.nc to /home/jovyan/europe/01-04-1980.nc (380.2M)\n",
      "2019-10-17 11:02:40,866 INFO Download rate 22M/s   \n"
     ]
    },
    {
     "data": {
      "text/plain": [
       "<Result cmd='fimex-1.3 -c extractEurope.cfg --input.file /home/jovyan/europe/01-04-1980.nc --output.file /home/jovyan/europe/europe_01-04-1980.nc' exited=0>"
      ]
     },
     "metadata": {},
     "output_type": "display_data"
    },
    {
     "data": {
      "text/plain": [
       "<Result cmd='rm -f /home/jovyan/europe/01-04-1980.nc' exited=0>"
      ]
     },
     "metadata": {},
     "output_type": "display_data"
    },
    {
     "name": "stderr",
     "output_type": "stream",
     "text": [
      "2019-10-17 11:02:41,367 INFO Sending request to https://cds.climate.copernicus.eu/api/v2/resources/reanalysis-era5-single-levels\n",
      "2019-10-17 11:02:41,493 INFO Request is completed\n",
      "2019-10-17 11:02:41,499 INFO Downloading http://136.156.133.42/cache-compute-0014/cache/data5/adaptor.mars.internal-1571095043.5289037-6602-13-e497d8cc-b1d7-44ea-80b2-640d8d10effe.nc to /home/jovyan/europe/02-04-1980.nc (380.2M)\n",
      "2019-10-17 11:03:07,594 INFO Download rate 14.6M/s \n"
     ]
    },
    {
     "data": {
      "text/plain": [
       "<Result cmd='fimex-1.3 -c extractEurope.cfg --input.file /home/jovyan/europe/02-04-1980.nc --output.file /home/jovyan/europe/europe_02-04-1980.nc' exited=0>"
      ]
     },
     "metadata": {},
     "output_type": "display_data"
    },
    {
     "data": {
      "text/plain": [
       "<Result cmd='rm -f /home/jovyan/europe/02-04-1980.nc' exited=0>"
      ]
     },
     "metadata": {},
     "output_type": "display_data"
    },
    {
     "name": "stderr",
     "output_type": "stream",
     "text": [
      "2019-10-17 11:03:08,106 INFO Sending request to https://cds.climate.copernicus.eu/api/v2/resources/reanalysis-era5-single-levels\n",
      "2019-10-17 11:03:09,145 INFO Request is completed\n",
      "2019-10-17 11:03:09,148 INFO Downloading http://136.156.133.39/cache-compute-0012/cache/data1/adaptor.mars.internal-1571269952.1732388-2820-1-f6dced50-2011-433b-8a37-05b7801b389b.nc to /home/jovyan/europe/03-04-1980.nc (380.2M)\n",
      "2019-10-17 11:03:20,987 INFO Download rate 32.1M/s \n"
     ]
    },
    {
     "data": {
      "text/plain": [
       "<Result cmd='fimex-1.3 -c extractEurope.cfg --input.file /home/jovyan/europe/03-04-1980.nc --output.file /home/jovyan/europe/europe_03-04-1980.nc' exited=0>"
      ]
     },
     "metadata": {},
     "output_type": "display_data"
    },
    {
     "data": {
      "text/plain": [
       "<Result cmd='rm -f /home/jovyan/europe/03-04-1980.nc' exited=0>"
      ]
     },
     "metadata": {},
     "output_type": "display_data"
    },
    {
     "name": "stderr",
     "output_type": "stream",
     "text": [
      "2019-10-17 11:03:21,589 INFO Sending request to https://cds.climate.copernicus.eu/api/v2/resources/reanalysis-era5-single-levels\n",
      "2019-10-17 11:03:21,811 INFO Request is completed\n",
      "2019-10-17 11:03:21,816 INFO Downloading http://136.156.132.236/cache-compute-0007/cache/data0/adaptor.mars.internal-1571095133.3072245-18544-19-d67b9448-4ba9-4a26-9b63-9a97791f1c8e.nc to /home/jovyan/europe/04-04-1980.nc (380.2M)\n",
      "2019-10-17 11:03:46,343 INFO Download rate 15.5M/s \n"
     ]
    },
    {
     "data": {
      "text/plain": [
       "<Result cmd='fimex-1.3 -c extractEurope.cfg --input.file /home/jovyan/europe/04-04-1980.nc --output.file /home/jovyan/europe/europe_04-04-1980.nc' exited=0>"
      ]
     },
     "metadata": {},
     "output_type": "display_data"
    },
    {
     "data": {
      "text/plain": [
       "<Result cmd='rm -f /home/jovyan/europe/04-04-1980.nc' exited=0>"
      ]
     },
     "metadata": {},
     "output_type": "display_data"
    },
    {
     "name": "stderr",
     "output_type": "stream",
     "text": [
      "2019-10-17 11:03:46,784 INFO Sending request to https://cds.climate.copernicus.eu/api/v2/resources/reanalysis-era5-single-levels\n",
      "2019-10-17 11:03:47,087 INFO Request is completed\n",
      "2019-10-17 11:03:47,089 INFO Downloading http://136.156.133.39/cache-compute-0012/cache/data8/adaptor.mars.internal-1571270016.712954-32639-9-377b269e-1274-4cc2-ba2d-f6fb1ce50462.nc to /home/jovyan/europe/05-04-1980.nc (380.2M)\n",
      "2019-10-17 11:03:55,585 INFO Download rate 44.8M/s \n"
     ]
    },
    {
     "data": {
      "text/plain": [
       "<Result cmd='fimex-1.3 -c extractEurope.cfg --input.file /home/jovyan/europe/05-04-1980.nc --output.file /home/jovyan/europe/europe_05-04-1980.nc' exited=0>"
      ]
     },
     "metadata": {},
     "output_type": "display_data"
    },
    {
     "data": {
      "text/plain": [
       "<Result cmd='rm -f /home/jovyan/europe/05-04-1980.nc' exited=0>"
      ]
     },
     "metadata": {},
     "output_type": "display_data"
    },
    {
     "name": "stderr",
     "output_type": "stream",
     "text": [
      "2019-10-17 11:03:56,280 INFO Sending request to https://cds.climate.copernicus.eu/api/v2/resources/reanalysis-era5-single-levels\n",
      "2019-10-17 11:03:57,424 INFO Request is completed\n",
      "2019-10-17 11:03:57,425 INFO Downloading http://136.156.133.37/cache-compute-0011/cache/data8/adaptor.mars.internal-1571270076.09236-18521-5-6d683588-31e0-44d7-b342-e4ac6c0a5ae7.nc to /home/jovyan/europe/06-04-1980.nc (380.2M)\n",
      "2019-10-17 11:04:08,150 INFO Download rate 35.5M/s \n"
     ]
    },
    {
     "data": {
      "text/plain": [
       "<Result cmd='fimex-1.3 -c extractEurope.cfg --input.file /home/jovyan/europe/06-04-1980.nc --output.file /home/jovyan/europe/europe_06-04-1980.nc' exited=0>"
      ]
     },
     "metadata": {},
     "output_type": "display_data"
    },
    {
     "data": {
      "text/plain": [
       "<Result cmd='rm -f /home/jovyan/europe/06-04-1980.nc' exited=0>"
      ]
     },
     "metadata": {},
     "output_type": "display_data"
    },
    {
     "name": "stderr",
     "output_type": "stream",
     "text": [
      "2019-10-17 11:04:08,531 INFO Sending request to https://cds.climate.copernicus.eu/api/v2/resources/reanalysis-era5-single-levels\n",
      "2019-10-17 11:04:09,080 INFO Request is completed\n",
      "2019-10-17 11:04:09,081 INFO Downloading http://136.156.132.105/cache-compute-0000/cache/data0/adaptor.mars.internal-1571270121.2302482-27923-11-03e4d459-5620-49fa-8f53-27a6ceaad7a4.nc to /home/jovyan/europe/07-04-1980.nc (380.2M)\n",
      "2019-10-17 11:04:22,197 INFO Download rate 29M/s   \n"
     ]
    },
    {
     "data": {
      "text/plain": [
       "<Result cmd='fimex-1.3 -c extractEurope.cfg --input.file /home/jovyan/europe/07-04-1980.nc --output.file /home/jovyan/europe/europe_07-04-1980.nc' exited=0>"
      ]
     },
     "metadata": {},
     "output_type": "display_data"
    },
    {
     "data": {
      "text/plain": [
       "<Result cmd='rm -f /home/jovyan/europe/07-04-1980.nc' exited=0>"
      ]
     },
     "metadata": {},
     "output_type": "display_data"
    },
    {
     "name": "stderr",
     "output_type": "stream",
     "text": [
      "2019-10-17 11:04:22,995 INFO Sending request to https://cds.climate.copernicus.eu/api/v2/resources/reanalysis-era5-single-levels\n",
      "2019-10-17 11:04:23,972 INFO Request is completed\n",
      "2019-10-17 11:04:23,974 INFO Downloading http://136.156.133.41/cache-compute-0013/cache/data6/adaptor.mars.internal-1571096036.2575502-30018-7-21200d6f-168e-4d6c-aa0b-613e19de5866.nc to /home/jovyan/europe/08-04-1980.nc (380.2M)\n",
      "2019-10-17 11:04:41,861 INFO Download rate 21.3M/s \n"
     ]
    },
    {
     "data": {
      "text/plain": [
       "<Result cmd='fimex-1.3 -c extractEurope.cfg --input.file /home/jovyan/europe/08-04-1980.nc --output.file /home/jovyan/europe/europe_08-04-1980.nc' exited=0>"
      ]
     },
     "metadata": {},
     "output_type": "display_data"
    },
    {
     "data": {
      "text/plain": [
       "<Result cmd='rm -f /home/jovyan/europe/08-04-1980.nc' exited=0>"
      ]
     },
     "metadata": {},
     "output_type": "display_data"
    },
    {
     "name": "stderr",
     "output_type": "stream",
     "text": [
      "2019-10-17 11:04:42,452 INFO Sending request to https://cds.climate.copernicus.eu/api/v2/resources/reanalysis-era5-single-levels\n",
      "2019-10-17 11:04:42,860 INFO Request is completed\n",
      "2019-10-17 11:04:42,861 INFO Downloading http://136.156.132.105/cache-compute-0000/cache/data0/adaptor.mars.internal-1571270198.1308775-28810-11-95fb74c6-4aca-44e6-9aff-3067c5e325b5.nc to /home/jovyan/europe/09-04-1980.nc (380.2M)\n",
      "2019-10-17 11:05:00,935 INFO Download rate 21M/s   \n"
     ]
    },
    {
     "data": {
      "text/plain": [
       "<Result cmd='fimex-1.3 -c extractEurope.cfg --input.file /home/jovyan/europe/09-04-1980.nc --output.file /home/jovyan/europe/europe_09-04-1980.nc' exited=0>"
      ]
     },
     "metadata": {},
     "output_type": "display_data"
    },
    {
     "data": {
      "text/plain": [
       "<Result cmd='rm -f /home/jovyan/europe/09-04-1980.nc' exited=0>"
      ]
     },
     "metadata": {},
     "output_type": "display_data"
    },
    {
     "name": "stderr",
     "output_type": "stream",
     "text": [
      "2019-10-17 11:05:01,395 INFO Sending request to https://cds.climate.copernicus.eu/api/v2/resources/reanalysis-era5-single-levels\n",
      "2019-10-17 11:05:02,405 INFO Request is completed\n",
      "2019-10-17 11:05:02,406 INFO Downloading http://136.156.133.32/cache-compute-0009/cache/data3/adaptor.mars.internal-1571270248.853853-18141-17-848b4e26-1023-49a5-8dbb-a9f68d834751.nc to /home/jovyan/europe/10-04-1980.nc (380.2M)\n",
      "2019-10-17 11:05:18,215 INFO Download rate 24.1M/s \n"
     ]
    },
    {
     "data": {
      "text/plain": [
       "<Result cmd='fimex-1.3 -c extractEurope.cfg --input.file /home/jovyan/europe/10-04-1980.nc --output.file /home/jovyan/europe/europe_10-04-1980.nc' exited=0>"
      ]
     },
     "metadata": {},
     "output_type": "display_data"
    },
    {
     "data": {
      "text/plain": [
       "<Result cmd='rm -f /home/jovyan/europe/10-04-1980.nc' exited=0>"
      ]
     },
     "metadata": {},
     "output_type": "display_data"
    },
    {
     "name": "stderr",
     "output_type": "stream",
     "text": [
      "2019-10-17 11:05:18,837 INFO Sending request to https://cds.climate.copernicus.eu/api/v2/resources/reanalysis-era5-single-levels\n",
      "2019-10-17 11:05:19,165 INFO Request is completed\n",
      "2019-10-17 11:05:19,166 INFO Downloading http://136.156.133.25/cache-compute-0008/cache/data9/adaptor.mars.internal-1571270293.471056-22669-5-16aa42e7-31eb-4879-bee8-a220641a475e.nc to /home/jovyan/europe/11-04-1980.nc (380.2M)\n",
      "2019-10-17 11:05:33,216 INFO Download rate 27.1M/s \n"
     ]
    },
    {
     "data": {
      "text/plain": [
       "<Result cmd='fimex-1.3 -c extractEurope.cfg --input.file /home/jovyan/europe/11-04-1980.nc --output.file /home/jovyan/europe/europe_11-04-1980.nc' exited=0>"
      ]
     },
     "metadata": {},
     "output_type": "display_data"
    },
    {
     "data": {
      "text/plain": [
       "<Result cmd='rm -f /home/jovyan/europe/11-04-1980.nc' exited=0>"
      ]
     },
     "metadata": {},
     "output_type": "display_data"
    },
    {
     "name": "stderr",
     "output_type": "stream",
     "text": [
      "2019-10-17 11:05:33,516 INFO Sending request to https://cds.climate.copernicus.eu/api/v2/resources/reanalysis-era5-single-levels\n",
      "2019-10-17 11:05:33,793 INFO Request is completed\n",
      "2019-10-17 11:05:33,795 INFO Downloading http://136.156.132.198/cache-compute-0003/cache/data7/adaptor.mars.internal-1571096544.0668802-22966-5-53d11d4b-19d6-4ab1-9e91-4fa849c18a57.nc to /home/jovyan/europe/12-04-1980.nc (380.2M)\n",
      "2019-10-17 11:05:49,453 INFO Download rate 24.3M/s \n"
     ]
    },
    {
     "data": {
      "text/plain": [
       "<Result cmd='fimex-1.3 -c extractEurope.cfg --input.file /home/jovyan/europe/12-04-1980.nc --output.file /home/jovyan/europe/europe_12-04-1980.nc' exited=0>"
      ]
     },
     "metadata": {},
     "output_type": "display_data"
    },
    {
     "data": {
      "text/plain": [
       "<Result cmd='rm -f /home/jovyan/europe/12-04-1980.nc' exited=0>"
      ]
     },
     "metadata": {},
     "output_type": "display_data"
    },
    {
     "name": "stderr",
     "output_type": "stream",
     "text": [
      "2019-10-17 11:05:49,851 INFO Sending request to https://cds.climate.copernicus.eu/api/v2/resources/reanalysis-era5-single-levels\n",
      "2019-10-17 11:05:50,194 INFO Request is completed\n",
      "2019-10-17 11:05:50,196 INFO Downloading http://136.156.132.110/cache-compute-0001/cache/data6/adaptor.mars.internal-1571096588.2436507-12552-13-d2ac8157-99c0-42c7-9a4f-dc2ed6e0ed08.nc to /home/jovyan/europe/13-04-1980.nc (380.2M)\n",
      "2019-10-17 11:06:13,502 INFO Download rate 16.3M/s \n"
     ]
    },
    {
     "data": {
      "text/plain": [
       "<Result cmd='fimex-1.3 -c extractEurope.cfg --input.file /home/jovyan/europe/13-04-1980.nc --output.file /home/jovyan/europe/europe_13-04-1980.nc' exited=0>"
      ]
     },
     "metadata": {},
     "output_type": "display_data"
    },
    {
     "data": {
      "text/plain": [
       "<Result cmd='rm -f /home/jovyan/europe/13-04-1980.nc' exited=0>"
      ]
     },
     "metadata": {},
     "output_type": "display_data"
    },
    {
     "name": "stderr",
     "output_type": "stream",
     "text": [
      "2019-10-17 11:06:13,825 INFO Sending request to https://cds.climate.copernicus.eu/api/v2/resources/reanalysis-era5-single-levels\n",
      "2019-10-17 11:06:14,785 INFO Request is completed\n",
      "2019-10-17 11:06:14,786 INFO Downloading http://136.156.133.36/cache-compute-0010/cache/data5/adaptor.mars.internal-1571270376.4506717-32059-15-c167cad0-7e7c-440a-96fd-2f2bf85c463f.nc to /home/jovyan/europe/14-04-1980.nc (380.2M)\n",
      "2019-10-17 11:06:30,762 INFO Download rate 23.8M/s \n"
     ]
    },
    {
     "data": {
      "text/plain": [
       "<Result cmd='fimex-1.3 -c extractEurope.cfg --input.file /home/jovyan/europe/14-04-1980.nc --output.file /home/jovyan/europe/europe_14-04-1980.nc' exited=0>"
      ]
     },
     "metadata": {},
     "output_type": "display_data"
    },
    {
     "data": {
      "text/plain": [
       "<Result cmd='rm -f /home/jovyan/europe/14-04-1980.nc' exited=0>"
      ]
     },
     "metadata": {},
     "output_type": "display_data"
    },
    {
     "name": "stderr",
     "output_type": "stream",
     "text": [
      "2019-10-17 11:06:31,154 INFO Sending request to https://cds.climate.copernicus.eu/api/v2/resources/reanalysis-era5-single-levels\n",
      "2019-10-17 11:06:31,337 INFO Request is completed\n",
      "2019-10-17 11:06:31,339 INFO Downloading http://136.156.133.39/cache-compute-0012/cache/data9/adaptor.mars.internal-1571270427.994654-32344-13-8e049a59-6816-4e3c-9100-092a62ad1620.nc to /home/jovyan/europe/15-04-1980.nc (380.2M)\n",
      "2019-10-17 11:06:40,091 INFO Download rate 43.4M/s \n"
     ]
    },
    {
     "data": {
      "text/plain": [
       "<Result cmd='fimex-1.3 -c extractEurope.cfg --input.file /home/jovyan/europe/15-04-1980.nc --output.file /home/jovyan/europe/europe_15-04-1980.nc' exited=0>"
      ]
     },
     "metadata": {},
     "output_type": "display_data"
    },
    {
     "data": {
      "text/plain": [
       "<Result cmd='rm -f /home/jovyan/europe/15-04-1980.nc' exited=0>"
      ]
     },
     "metadata": {},
     "output_type": "display_data"
    },
    {
     "name": "stderr",
     "output_type": "stream",
     "text": [
      "2019-10-17 11:06:40,792 INFO Sending request to https://cds.climate.copernicus.eu/api/v2/resources/reanalysis-era5-single-levels\n",
      "2019-10-17 11:06:41,852 INFO Request is completed\n",
      "2019-10-17 11:06:41,854 INFO Downloading http://136.156.133.39/cache-compute-0012/cache/data4/adaptor.mars.internal-1571096721.3800678-1921-7-efa1a1fd-8fd8-4f5b-a911-331b79ca1272.nc to /home/jovyan/europe/16-04-1980.nc (380.2M)\n",
      "2019-10-17 11:06:49,717 INFO Download rate 48.4M/s \n"
     ]
    },
    {
     "data": {
      "text/plain": [
       "<Result cmd='fimex-1.3 -c extractEurope.cfg --input.file /home/jovyan/europe/16-04-1980.nc --output.file /home/jovyan/europe/europe_16-04-1980.nc' exited=0>"
      ]
     },
     "metadata": {},
     "output_type": "display_data"
    },
    {
     "data": {
      "text/plain": [
       "<Result cmd='rm -f /home/jovyan/europe/16-04-1980.nc' exited=0>"
      ]
     },
     "metadata": {},
     "output_type": "display_data"
    },
    {
     "name": "stderr",
     "output_type": "stream",
     "text": [
      "2019-10-17 11:06:49,991 INFO Sending request to https://cds.climate.copernicus.eu/api/v2/resources/reanalysis-era5-single-levels\n",
      "2019-10-17 11:06:50,340 INFO Request is queued\n",
      "2019-10-17 11:06:51,371 INFO Request is running\n",
      "2019-10-17 11:07:11,305 INFO Request is completed\n",
      "2019-10-17 11:07:11,306 INFO Downloading http://136.156.133.32/cache-compute-0009/cache/data5/adaptor.mars.internal-1571310410.9526324-12061-11-b9de81cd-bfbc-4eb3-841f-e04da938b80e.nc to /home/jovyan/europe/17-04-1980.nc (380.2M)\n",
      "2019-10-17 11:07:24,201 INFO Download rate 29.5M/s \n"
     ]
    },
    {
     "data": {
      "text/plain": [
       "<Result cmd='fimex-1.3 -c extractEurope.cfg --input.file /home/jovyan/europe/17-04-1980.nc --output.file /home/jovyan/europe/europe_17-04-1980.nc' exited=0>"
      ]
     },
     "metadata": {},
     "output_type": "display_data"
    },
    {
     "data": {
      "text/plain": [
       "<Result cmd='rm -f /home/jovyan/europe/17-04-1980.nc' exited=0>"
      ]
     },
     "metadata": {},
     "output_type": "display_data"
    },
    {
     "name": "stderr",
     "output_type": "stream",
     "text": [
      "2019-10-17 11:07:24,645 INFO Sending request to https://cds.climate.copernicus.eu/api/v2/resources/reanalysis-era5-single-levels\n",
      "2019-10-17 11:07:24,789 INFO Request is completed\n",
      "2019-10-17 11:07:24,793 INFO Downloading http://136.156.133.41/cache-compute-0013/cache/data6/adaptor.mars.internal-1571096813.9023094-1062-7-21316c74-cd4c-4b04-ae04-2879ca49c9eb.nc to /home/jovyan/europe/18-04-1980.nc (380.2M)\n",
      "2019-10-17 11:07:34,292 INFO Download rate 40M/s   \n"
     ]
    },
    {
     "data": {
      "text/plain": [
       "<Result cmd='fimex-1.3 -c extractEurope.cfg --input.file /home/jovyan/europe/18-04-1980.nc --output.file /home/jovyan/europe/europe_18-04-1980.nc' exited=0>"
      ]
     },
     "metadata": {},
     "output_type": "display_data"
    },
    {
     "data": {
      "text/plain": [
       "<Result cmd='rm -f /home/jovyan/europe/18-04-1980.nc' exited=0>"
      ]
     },
     "metadata": {},
     "output_type": "display_data"
    },
    {
     "name": "stderr",
     "output_type": "stream",
     "text": [
      "2019-10-17 11:07:34,586 INFO Sending request to https://cds.climate.copernicus.eu/api/v2/resources/reanalysis-era5-single-levels\n",
      "2019-10-17 11:07:34,712 INFO Request is completed\n",
      "2019-10-17 11:07:34,713 INFO Downloading http://136.156.133.46/cache-compute-0015/cache/data8/adaptor.mars.internal-1571096854.5387712-5982-5-2be19831-a65d-4e1c-af01-8199368a1e4e.nc to /home/jovyan/europe/19-04-1980.nc (380.2M)\n",
      "2019-10-17 11:07:45,745 INFO Download rate 34.5M/s \n"
     ]
    },
    {
     "data": {
      "text/plain": [
       "<Result cmd='fimex-1.3 -c extractEurope.cfg --input.file /home/jovyan/europe/19-04-1980.nc --output.file /home/jovyan/europe/europe_19-04-1980.nc' exited=0>"
      ]
     },
     "metadata": {},
     "output_type": "display_data"
    },
    {
     "data": {
      "text/plain": [
       "<Result cmd='rm -f /home/jovyan/europe/19-04-1980.nc' exited=0>"
      ]
     },
     "metadata": {},
     "output_type": "display_data"
    },
    {
     "name": "stderr",
     "output_type": "stream",
     "text": [
      "2019-10-17 11:07:46,009 INFO Sending request to https://cds.climate.copernicus.eu/api/v2/resources/reanalysis-era5-single-levels\n",
      "2019-10-17 11:07:46,237 INFO Request is completed\n",
      "2019-10-17 11:07:46,238 INFO Downloading http://136.156.132.235/cache-compute-0006/cache/data7/adaptor.mars.internal-1571096909.9473953-32346-13-3010588f-22ae-4a3d-bf5a-fefc60a44e1d.nc to /home/jovyan/europe/20-04-1980.nc (380.2M)\n",
      "2019-10-17 11:08:04,184 INFO Download rate 21.2M/s \n"
     ]
    },
    {
     "data": {
      "text/plain": [
       "<Result cmd='fimex-1.3 -c extractEurope.cfg --input.file /home/jovyan/europe/20-04-1980.nc --output.file /home/jovyan/europe/europe_20-04-1980.nc' exited=0>"
      ]
     },
     "metadata": {},
     "output_type": "display_data"
    },
    {
     "data": {
      "text/plain": [
       "<Result cmd='rm -f /home/jovyan/europe/20-04-1980.nc' exited=0>"
      ]
     },
     "metadata": {},
     "output_type": "display_data"
    },
    {
     "name": "stderr",
     "output_type": "stream",
     "text": [
      "2019-10-17 11:08:04,554 INFO Sending request to https://cds.climate.copernicus.eu/api/v2/resources/reanalysis-era5-single-levels\n",
      "2019-10-17 11:08:04,874 INFO Request is completed\n",
      "2019-10-17 11:08:04,875 INFO Downloading http://136.156.133.25/cache-compute-0008/cache/data8/adaptor.mars.internal-1571096960.4739769-18254-3-5d995ec1-290e-49bf-ad58-7ce132b44abe.nc to /home/jovyan/europe/21-04-1980.nc (380.2M)\n",
      "2019-10-17 11:08:19,704 INFO Download rate 25.7M/s \n"
     ]
    },
    {
     "data": {
      "text/plain": [
       "<Result cmd='fimex-1.3 -c extractEurope.cfg --input.file /home/jovyan/europe/21-04-1980.nc --output.file /home/jovyan/europe/europe_21-04-1980.nc' exited=0>"
      ]
     },
     "metadata": {},
     "output_type": "display_data"
    },
    {
     "data": {
      "text/plain": [
       "<Result cmd='rm -f /home/jovyan/europe/21-04-1980.nc' exited=0>"
      ]
     },
     "metadata": {},
     "output_type": "display_data"
    },
    {
     "name": "stderr",
     "output_type": "stream",
     "text": [
      "2019-10-17 11:08:19,992 INFO Sending request to https://cds.climate.copernicus.eu/api/v2/resources/reanalysis-era5-single-levels\n",
      "2019-10-17 11:08:20,119 INFO Request is completed\n",
      "2019-10-17 11:08:20,120 INFO Downloading http://136.156.133.41/cache-compute-0013/cache/data5/adaptor.mars.internal-1571270578.1161377-4157-1-cffdfa05-5d25-4fed-a599-c920b77a4680.nc to /home/jovyan/europe/22-04-1980.nc (380.2M)\n",
      "2019-10-17 11:08:28,267 INFO Download rate 46.7M/s \n"
     ]
    },
    {
     "data": {
      "text/plain": [
       "<Result cmd='fimex-1.3 -c extractEurope.cfg --input.file /home/jovyan/europe/22-04-1980.nc --output.file /home/jovyan/europe/europe_22-04-1980.nc' exited=0>"
      ]
     },
     "metadata": {},
     "output_type": "display_data"
    },
    {
     "data": {
      "text/plain": [
       "<Result cmd='rm -f /home/jovyan/europe/22-04-1980.nc' exited=0>"
      ]
     },
     "metadata": {},
     "output_type": "display_data"
    },
    {
     "name": "stderr",
     "output_type": "stream",
     "text": [
      "2019-10-17 11:08:28,545 INFO Sending request to https://cds.climate.copernicus.eu/api/v2/resources/reanalysis-era5-single-levels\n",
      "2019-10-17 11:08:29,309 INFO Request is completed\n",
      "2019-10-17 11:08:29,310 INFO Downloading http://136.156.132.110/cache-compute-0001/cache/data0/adaptor.mars.internal-1571270638.6298568-29425-7-28ed7d5e-e373-4b32-8fb1-e6e8a668594d.nc to /home/jovyan/europe/23-04-1980.nc (380.2M)\n",
      "2019-10-17 11:08:43,641 INFO Download rate 26.5M/s \n"
     ]
    },
    {
     "data": {
      "text/plain": [
       "<Result cmd='fimex-1.3 -c extractEurope.cfg --input.file /home/jovyan/europe/23-04-1980.nc --output.file /home/jovyan/europe/europe_23-04-1980.nc' exited=0>"
      ]
     },
     "metadata": {},
     "output_type": "display_data"
    },
    {
     "data": {
      "text/plain": [
       "<Result cmd='rm -f /home/jovyan/europe/23-04-1980.nc' exited=0>"
      ]
     },
     "metadata": {},
     "output_type": "display_data"
    },
    {
     "name": "stderr",
     "output_type": "stream",
     "text": [
      "2019-10-17 11:08:43,998 INFO Sending request to https://cds.climate.copernicus.eu/api/v2/resources/reanalysis-era5-single-levels\n",
      "2019-10-17 11:08:44,251 INFO Request is completed\n",
      "2019-10-17 11:08:44,255 INFO Downloading http://136.156.132.110/cache-compute-0001/cache/data2/adaptor.mars.internal-1571097086.1006453-14543-15-ed2ec28f-45c6-4d0b-92cb-f4378813ec61.nc to /home/jovyan/europe/24-04-1980.nc (380.2M)\n",
      "2019-10-17 11:08:58,350 INFO Download rate 27M/s   \n"
     ]
    },
    {
     "data": {
      "text/plain": [
       "<Result cmd='fimex-1.3 -c extractEurope.cfg --input.file /home/jovyan/europe/24-04-1980.nc --output.file /home/jovyan/europe/europe_24-04-1980.nc' exited=0>"
      ]
     },
     "metadata": {},
     "output_type": "display_data"
    },
    {
     "data": {
      "text/plain": [
       "<Result cmd='rm -f /home/jovyan/europe/24-04-1980.nc' exited=0>"
      ]
     },
     "metadata": {},
     "output_type": "display_data"
    },
    {
     "name": "stderr",
     "output_type": "stream",
     "text": [
      "2019-10-17 11:08:58,732 INFO Sending request to https://cds.climate.copernicus.eu/api/v2/resources/reanalysis-era5-single-levels\n",
      "2019-10-17 11:08:58,983 INFO Request is completed\n",
      "2019-10-17 11:08:58,984 INFO Downloading http://136.156.133.36/cache-compute-0010/cache/data6/adaptor.mars.internal-1571270702.6900866-32059-25-7311d37d-f60b-4335-bf2e-95de87a6c354.nc to /home/jovyan/europe/25-04-1980.nc (380.2M)\n",
      "2019-10-17 11:09:15,857 INFO Download rate 22.5M/s \n"
     ]
    },
    {
     "data": {
      "text/plain": [
       "<Result cmd='fimex-1.3 -c extractEurope.cfg --input.file /home/jovyan/europe/25-04-1980.nc --output.file /home/jovyan/europe/europe_25-04-1980.nc' exited=0>"
      ]
     },
     "metadata": {},
     "output_type": "display_data"
    },
    {
     "data": {
      "text/plain": [
       "<Result cmd='rm -f /home/jovyan/europe/25-04-1980.nc' exited=0>"
      ]
     },
     "metadata": {},
     "output_type": "display_data"
    },
    {
     "name": "stderr",
     "output_type": "stream",
     "text": [
      "2019-10-17 11:09:16,272 INFO Sending request to https://cds.climate.copernicus.eu/api/v2/resources/reanalysis-era5-single-levels\n",
      "2019-10-17 11:09:16,413 INFO Request is completed\n",
      "2019-10-17 11:09:16,416 INFO Downloading http://136.156.132.110/cache-compute-0001/cache/data8/adaptor.mars.internal-1571270744.8954043-28661-9-c0f4fcc7-8c21-44f5-b05b-77f09f961a57.nc to /home/jovyan/europe/26-04-1980.nc (380.2M)\n",
      "2019-10-17 11:09:23,571 INFO Download rate 53.1M/s \n"
     ]
    },
    {
     "data": {
      "text/plain": [
       "<Result cmd='fimex-1.3 -c extractEurope.cfg --input.file /home/jovyan/europe/26-04-1980.nc --output.file /home/jovyan/europe/europe_26-04-1980.nc' exited=0>"
      ]
     },
     "metadata": {},
     "output_type": "display_data"
    },
    {
     "data": {
      "text/plain": [
       "<Result cmd='rm -f /home/jovyan/europe/26-04-1980.nc' exited=0>"
      ]
     },
     "metadata": {},
     "output_type": "display_data"
    },
    {
     "name": "stderr",
     "output_type": "stream",
     "text": [
      "2019-10-17 11:09:24,006 INFO Sending request to https://cds.climate.copernicus.eu/api/v2/resources/reanalysis-era5-single-levels\n",
      "2019-10-17 11:09:24,902 INFO Request is completed\n",
      "2019-10-17 11:09:24,903 INFO Downloading http://136.156.133.41/cache-compute-0013/cache/data3/adaptor.mars.internal-1571270791.9751778-1079-17-4c88526d-ce31-4099-8b8e-7d1f1b36e123.nc to /home/jovyan/europe/27-04-1980.nc (380.2M)\n",
      "2019-10-17 11:09:37,123 INFO Download rate 31.1M/s \n"
     ]
    },
    {
     "data": {
      "text/plain": [
       "<Result cmd='fimex-1.3 -c extractEurope.cfg --input.file /home/jovyan/europe/27-04-1980.nc --output.file /home/jovyan/europe/europe_27-04-1980.nc' exited=0>"
      ]
     },
     "metadata": {},
     "output_type": "display_data"
    },
    {
     "data": {
      "text/plain": [
       "<Result cmd='rm -f /home/jovyan/europe/27-04-1980.nc' exited=0>"
      ]
     },
     "metadata": {},
     "output_type": "display_data"
    },
    {
     "name": "stderr",
     "output_type": "stream",
     "text": [
      "2019-10-17 11:09:37,406 INFO Sending request to https://cds.climate.copernicus.eu/api/v2/resources/reanalysis-era5-single-levels\n",
      "2019-10-17 11:09:39,079 INFO Request is completed\n",
      "2019-10-17 11:09:39,081 INFO Downloading http://136.156.133.37/cache-compute-0011/cache/data7/adaptor.mars.internal-1571270828.961948-24976-3-16d757d5-554c-4810-b76d-9dbf1bfe324f.nc to /home/jovyan/europe/28-04-1980.nc (380.2M)\n",
      "2019-10-17 11:09:56,177 INFO Download rate 22.2M/s \n"
     ]
    },
    {
     "data": {
      "text/plain": [
       "<Result cmd='fimex-1.3 -c extractEurope.cfg --input.file /home/jovyan/europe/28-04-1980.nc --output.file /home/jovyan/europe/europe_28-04-1980.nc' exited=0>"
      ]
     },
     "metadata": {},
     "output_type": "display_data"
    },
    {
     "data": {
      "text/plain": [
       "<Result cmd='rm -f /home/jovyan/europe/28-04-1980.nc' exited=0>"
      ]
     },
     "metadata": {},
     "output_type": "display_data"
    },
    {
     "name": "stderr",
     "output_type": "stream",
     "text": [
      "2019-10-17 11:09:56,517 INFO Sending request to https://cds.climate.copernicus.eu/api/v2/resources/reanalysis-era5-single-levels\n",
      "2019-10-17 11:09:56,751 INFO Request is completed\n",
      "2019-10-17 11:09:56,752 INFO Downloading http://136.156.132.198/cache-compute-0003/cache/data7/adaptor.mars.internal-1571097297.1595237-28814-5-2ce24b6f-bb98-42ac-9986-12a63fea20d3.nc to /home/jovyan/europe/29-04-1980.nc (380.2M)\n",
      "2019-10-17 11:10:13,111 INFO Download rate 23.2M/s \n"
     ]
    },
    {
     "data": {
      "text/plain": [
       "<Result cmd='fimex-1.3 -c extractEurope.cfg --input.file /home/jovyan/europe/29-04-1980.nc --output.file /home/jovyan/europe/europe_29-04-1980.nc' exited=0>"
      ]
     },
     "metadata": {},
     "output_type": "display_data"
    },
    {
     "data": {
      "text/plain": [
       "<Result cmd='rm -f /home/jovyan/europe/29-04-1980.nc' exited=0>"
      ]
     },
     "metadata": {},
     "output_type": "display_data"
    },
    {
     "name": "stderr",
     "output_type": "stream",
     "text": [
      "2019-10-17 11:10:13,463 INFO Sending request to https://cds.climate.copernicus.eu/api/v2/resources/reanalysis-era5-single-levels\n",
      "2019-10-17 11:10:13,617 INFO Request is completed\n",
      "2019-10-17 11:10:13,620 INFO Downloading http://136.156.132.201/cache-compute-0004/cache/data5/adaptor.mars.internal-1571097330.9381597-28795-19-04273c86-1d4a-4003-b6d2-67bfb591ed47.nc to /home/jovyan/europe/30-04-1980.nc (380.2M)\n",
      "2019-10-17 11:10:29,435 INFO Download rate 24M/s   \n"
     ]
    },
    {
     "data": {
      "text/plain": [
       "<Result cmd='fimex-1.3 -c extractEurope.cfg --input.file /home/jovyan/europe/30-04-1980.nc --output.file /home/jovyan/europe/europe_30-04-1980.nc' exited=0>"
      ]
     },
     "metadata": {},
     "output_type": "display_data"
    },
    {
     "data": {
      "text/plain": [
       "<Result cmd='rm -f /home/jovyan/europe/30-04-1980.nc' exited=0>"
      ]
     },
     "metadata": {},
     "output_type": "display_data"
    },
    {
     "name": "stderr",
     "output_type": "stream",
     "text": [
      "2019-10-17 11:10:29,747 INFO Sending request to https://cds.climate.copernicus.eu/api/v2/resources/reanalysis-era5-single-levels\n",
      "2019-10-17 11:10:29,931 INFO Request is completed\n",
      "2019-10-17 11:10:29,932 INFO Downloading http://136.156.132.110/cache-compute-0001/cache/data8/adaptor.mars.internal-1571270948.5831707-28503-9-2ad012c2-12f3-4b9d-8b89-a609fcd80def.nc to /home/jovyan/europe/01-05-1980.nc (380.2M)\n",
      "2019-10-17 11:10:52,884 INFO Download rate 16.6M/s \n"
     ]
    },
    {
     "data": {
      "text/plain": [
       "<Result cmd='fimex-1.3 -c extractEurope.cfg --input.file /home/jovyan/europe/01-05-1980.nc --output.file /home/jovyan/europe/europe_01-05-1980.nc' exited=0>"
      ]
     },
     "metadata": {},
     "output_type": "display_data"
    },
    {
     "data": {
      "text/plain": [
       "<Result cmd='rm -f /home/jovyan/europe/01-05-1980.nc' exited=0>"
      ]
     },
     "metadata": {},
     "output_type": "display_data"
    },
    {
     "name": "stderr",
     "output_type": "stream",
     "text": [
      "2019-10-17 11:10:53,184 INFO Sending request to https://cds.climate.copernicus.eu/api/v2/resources/reanalysis-era5-single-levels\n",
      "2019-10-17 11:10:53,359 INFO Request is completed\n",
      "2019-10-17 11:10:53,360 INFO Downloading http://136.156.132.235/cache-compute-0006/cache/data9/adaptor.mars.internal-1571271002.590993-8586-3-7372f8bb-9dac-4f14-a611-a949c41dc480.nc to /home/jovyan/europe/02-05-1980.nc (380.2M)\n",
      "2019-10-17 11:11:09,407 INFO Download rate 23.7M/s \n"
     ]
    },
    {
     "data": {
      "text/plain": [
       "<Result cmd='fimex-1.3 -c extractEurope.cfg --input.file /home/jovyan/europe/02-05-1980.nc --output.file /home/jovyan/europe/europe_02-05-1980.nc' exited=0>"
      ]
     },
     "metadata": {},
     "output_type": "display_data"
    },
    {
     "data": {
      "text/plain": [
       "<Result cmd='rm -f /home/jovyan/europe/02-05-1980.nc' exited=0>"
      ]
     },
     "metadata": {},
     "output_type": "display_data"
    },
    {
     "name": "stderr",
     "output_type": "stream",
     "text": [
      "2019-10-17 11:11:09,688 INFO Sending request to https://cds.climate.copernicus.eu/api/v2/resources/reanalysis-era5-single-levels\n",
      "2019-10-17 11:11:10,144 INFO Request is completed\n",
      "2019-10-17 11:11:10,145 INFO Downloading http://136.156.133.32/cache-compute-0009/cache/data7/adaptor.mars.internal-1571097454.8927288-29940-9-771e7e44-b3a1-4cb8-8e0a-8d827af00139.nc to /home/jovyan/europe/03-05-1980.nc (380.2M)\n",
      "2019-10-17 11:11:21,240 INFO Download rate 34.3M/s \n"
     ]
    },
    {
     "data": {
      "text/plain": [
       "<Result cmd='fimex-1.3 -c extractEurope.cfg --input.file /home/jovyan/europe/03-05-1980.nc --output.file /home/jovyan/europe/europe_03-05-1980.nc' exited=0>"
      ]
     },
     "metadata": {},
     "output_type": "display_data"
    },
    {
     "data": {
      "text/plain": [
       "<Result cmd='rm -f /home/jovyan/europe/03-05-1980.nc' exited=0>"
      ]
     },
     "metadata": {},
     "output_type": "display_data"
    },
    {
     "name": "stderr",
     "output_type": "stream",
     "text": [
      "2019-10-17 11:11:21,533 INFO Sending request to https://cds.climate.copernicus.eu/api/v2/resources/reanalysis-era5-single-levels\n",
      "2019-10-17 11:11:21,856 INFO Request is completed\n",
      "2019-10-17 11:11:21,860 INFO Downloading http://136.156.133.46/cache-compute-0015/cache/data1/adaptor.mars.internal-1571271057.388324-1803-19-e29522a0-b012-4099-a2df-926c27f191e5.nc to /home/jovyan/europe/04-05-1980.nc (380.2M)\n",
      "2019-10-17 11:11:38,015 INFO Download rate 23.5M/s \n"
     ]
    },
    {
     "data": {
      "text/plain": [
       "<Result cmd='fimex-1.3 -c extractEurope.cfg --input.file /home/jovyan/europe/04-05-1980.nc --output.file /home/jovyan/europe/europe_04-05-1980.nc' exited=0>"
      ]
     },
     "metadata": {},
     "output_type": "display_data"
    },
    {
     "data": {
      "text/plain": [
       "<Result cmd='rm -f /home/jovyan/europe/04-05-1980.nc' exited=0>"
      ]
     },
     "metadata": {},
     "output_type": "display_data"
    },
    {
     "name": "stderr",
     "output_type": "stream",
     "text": [
      "2019-10-17 11:11:38,287 INFO Sending request to https://cds.climate.copernicus.eu/api/v2/resources/reanalysis-era5-single-levels\n",
      "2019-10-17 11:11:38,418 INFO Request is completed\n",
      "2019-10-17 11:11:38,419 INFO Downloading http://136.156.133.25/cache-compute-0008/cache/data6/adaptor.mars.internal-1571271097.069507-22236-19-613a8f48-56d3-47a2-a20e-672b5940893a.nc to /home/jovyan/europe/05-05-1980.nc (380.2M)\n",
      "2019-10-17 11:11:55,343 INFO Download rate 22.5M/s \n"
     ]
    },
    {
     "data": {
      "text/plain": [
       "<Result cmd='fimex-1.3 -c extractEurope.cfg --input.file /home/jovyan/europe/05-05-1980.nc --output.file /home/jovyan/europe/europe_05-05-1980.nc' exited=0>"
      ]
     },
     "metadata": {},
     "output_type": "display_data"
    },
    {
     "data": {
      "text/plain": [
       "<Result cmd='rm -f /home/jovyan/europe/05-05-1980.nc' exited=0>"
      ]
     },
     "metadata": {},
     "output_type": "display_data"
    },
    {
     "name": "stderr",
     "output_type": "stream",
     "text": [
      "2019-10-17 11:11:55,666 INFO Sending request to https://cds.climate.copernicus.eu/api/v2/resources/reanalysis-era5-single-levels\n",
      "2019-10-17 11:11:55,880 INFO Request is completed\n",
      "2019-10-17 11:11:55,881 INFO Downloading http://136.156.132.236/cache-compute-0007/cache/data1/adaptor.mars.internal-1571271128.0718126-25297-15-5f95ccc2-dfee-476a-9cc4-29872805110a.nc to /home/jovyan/europe/06-05-1980.nc (380.2M)\n",
      "2019-10-17 11:12:03,944 INFO Download rate 47.2M/s \n"
     ]
    },
    {
     "data": {
      "text/plain": [
       "<Result cmd='fimex-1.3 -c extractEurope.cfg --input.file /home/jovyan/europe/06-05-1980.nc --output.file /home/jovyan/europe/europe_06-05-1980.nc' exited=0>"
      ]
     },
     "metadata": {},
     "output_type": "display_data"
    },
    {
     "data": {
      "text/plain": [
       "<Result cmd='rm -f /home/jovyan/europe/06-05-1980.nc' exited=0>"
      ]
     },
     "metadata": {},
     "output_type": "display_data"
    },
    {
     "name": "stderr",
     "output_type": "stream",
     "text": [
      "2019-10-17 11:12:05,390 INFO Sending request to https://cds.climate.copernicus.eu/api/v2/resources/reanalysis-era5-single-levels\n",
      "2019-10-17 11:12:06,069 INFO Request is completed\n",
      "2019-10-17 11:12:06,070 INFO Downloading http://136.156.132.236/cache-compute-0007/cache/data5/adaptor.mars.internal-1571097615.9362166-21068-17-7492edbd-3c61-4200-bc15-aba3d275d1b1.nc to /home/jovyan/europe/07-05-1980.nc (380.2M)\n",
      "2019-10-17 11:12:19,200 INFO Download rate 29M/s   \n"
     ]
    },
    {
     "data": {
      "text/plain": [
       "<Result cmd='fimex-1.3 -c extractEurope.cfg --input.file /home/jovyan/europe/07-05-1980.nc --output.file /home/jovyan/europe/europe_07-05-1980.nc' exited=0>"
      ]
     },
     "metadata": {},
     "output_type": "display_data"
    },
    {
     "data": {
      "text/plain": [
       "<Result cmd='rm -f /home/jovyan/europe/07-05-1980.nc' exited=0>"
      ]
     },
     "metadata": {},
     "output_type": "display_data"
    },
    {
     "name": "stderr",
     "output_type": "stream",
     "text": [
      "2019-10-17 11:12:19,619 INFO Sending request to https://cds.climate.copernicus.eu/api/v2/resources/reanalysis-era5-single-levels\n",
      "2019-10-17 11:12:20,349 INFO Request is completed\n",
      "2019-10-17 11:12:20,350 INFO Downloading http://136.156.132.198/cache-compute-0003/cache/data8/adaptor.mars.internal-1571271182.056242-17695-17-c3ae446f-7266-48cc-bcea-765dfdf01c58.nc to /home/jovyan/europe/08-05-1980.nc (380.2M)\n",
      "2019-10-17 11:12:40,208 INFO Download rate 19.1M/s \n"
     ]
    },
    {
     "data": {
      "text/plain": [
       "<Result cmd='fimex-1.3 -c extractEurope.cfg --input.file /home/jovyan/europe/08-05-1980.nc --output.file /home/jovyan/europe/europe_08-05-1980.nc' exited=0>"
      ]
     },
     "metadata": {},
     "output_type": "display_data"
    },
    {
     "data": {
      "text/plain": [
       "<Result cmd='rm -f /home/jovyan/europe/08-05-1980.nc' exited=0>"
      ]
     },
     "metadata": {},
     "output_type": "display_data"
    },
    {
     "name": "stderr",
     "output_type": "stream",
     "text": [
      "2019-10-17 11:12:40,530 INFO Sending request to https://cds.climate.copernicus.eu/api/v2/resources/reanalysis-era5-single-levels\n",
      "2019-10-17 11:12:40,702 INFO Request is completed\n",
      "2019-10-17 11:12:40,703 INFO Downloading http://136.156.132.110/cache-compute-0001/cache/data2/adaptor.mars.internal-1571097684.6082559-20177-3-f6b62616-eae6-4f54-8853-ce0d6fef93ea.nc to /home/jovyan/europe/09-05-1980.nc (380.2M)\n",
      "2019-10-17 11:12:53,910 INFO Download rate 28.8M/s \n"
     ]
    },
    {
     "data": {
      "text/plain": [
       "<Result cmd='fimex-1.3 -c extractEurope.cfg --input.file /home/jovyan/europe/09-05-1980.nc --output.file /home/jovyan/europe/europe_09-05-1980.nc' exited=0>"
      ]
     },
     "metadata": {},
     "output_type": "display_data"
    },
    {
     "name": "stderr",
     "output_type": "stream",
     "text": [
      "2019-10-17 11:12:54,267 INFO Sending request to https://cds.climate.copernicus.eu/api/v2/resources/reanalysis-era5-single-levels\n",
      "2019-10-17 11:12:55,115 INFO Request is completed\n",
      "2019-10-17 11:12:55,119 INFO Downloading http://136.156.132.110/cache-compute-0001/cache/data2/adaptor.mars.internal-1571097684.6082559-20177-3-f6b62616-eae6-4f54-8853-ce0d6fef93ea.nc to /home/jovyan/europe/09-05-1980.nc (380.2M)\n",
      "2019-10-17 11:13:15,135 INFO Download rate 19M/s   \n"
     ]
    },
    {
     "data": {
      "text/plain": [
       "<Result cmd='rm -f /home/jovyan/europe/09-05-1980.nc' exited=0>"
      ]
     },
     "metadata": {},
     "output_type": "display_data"
    },
    {
     "name": "stderr",
     "output_type": "stream",
     "text": [
      "2019-10-17 11:13:15,422 INFO Sending request to https://cds.climate.copernicus.eu/api/v2/resources/reanalysis-era5-single-levels\n",
      "2019-10-17 11:13:16,587 INFO Request is completed\n",
      "2019-10-17 11:13:16,589 INFO Downloading http://136.156.132.210/cache-compute-0005/cache/data0/adaptor.mars.internal-1571271237.023478-32217-13-d4953a2e-15fb-4387-8bc1-71bbf1b83584.nc to /home/jovyan/europe/10-05-1980.nc (380.2M)\n",
      "2019-10-17 11:13:33,175 INFO Download rate 22.9M/s \n"
     ]
    },
    {
     "data": {
      "text/plain": [
       "<Result cmd='fimex-1.3 -c extractEurope.cfg --input.file /home/jovyan/europe/10-05-1980.nc --output.file /home/jovyan/europe/europe_10-05-1980.nc' exited=0>"
      ]
     },
     "metadata": {},
     "output_type": "display_data"
    },
    {
     "data": {
      "text/plain": [
       "<Result cmd='rm -f /home/jovyan/europe/10-05-1980.nc' exited=0>"
      ]
     },
     "metadata": {},
     "output_type": "display_data"
    },
    {
     "name": "stderr",
     "output_type": "stream",
     "text": [
      "2019-10-17 11:13:33,597 INFO Sending request to https://cds.climate.copernicus.eu/api/v2/resources/reanalysis-era5-single-levels\n",
      "2019-10-17 11:13:34,069 INFO Request is completed\n",
      "2019-10-17 11:13:34,073 INFO Downloading http://136.156.133.36/cache-compute-0010/cache/data7/adaptor.mars.internal-1571271288.2383711-8989-3-717be95f-d241-4d65-bc7a-44662a50934c.nc to /home/jovyan/europe/11-05-1980.nc (380.2M)\n",
      "2019-10-17 11:13:55,905 INFO Download rate 17.4M/s \n"
     ]
    },
    {
     "data": {
      "text/plain": [
       "<Result cmd='fimex-1.3 -c extractEurope.cfg --input.file /home/jovyan/europe/11-05-1980.nc --output.file /home/jovyan/europe/europe_11-05-1980.nc' exited=0>"
      ]
     },
     "metadata": {},
     "output_type": "display_data"
    },
    {
     "data": {
      "text/plain": [
       "<Result cmd='rm -f /home/jovyan/europe/11-05-1980.nc' exited=0>"
      ]
     },
     "metadata": {},
     "output_type": "display_data"
    },
    {
     "name": "stderr",
     "output_type": "stream",
     "text": [
      "2019-10-17 11:13:56,688 INFO Sending request to https://cds.climate.copernicus.eu/api/v2/resources/reanalysis-era5-single-levels\n",
      "2019-10-17 11:13:56,840 INFO Request is completed\n",
      "2019-10-17 11:13:56,841 INFO Downloading http://136.156.132.198/cache-compute-0003/cache/data1/adaptor.mars.internal-1571097816.0058823-31775-13-e0ac4905-708e-4256-91f3-a92c8bd5be6d.nc to /home/jovyan/europe/12-05-1980.nc (380.2M)\n",
      "2019-10-17 11:14:18,136 INFO Download rate 17.9M/s \n"
     ]
    },
    {
     "data": {
      "text/plain": [
       "<Result cmd='fimex-1.3 -c extractEurope.cfg --input.file /home/jovyan/europe/12-05-1980.nc --output.file /home/jovyan/europe/europe_12-05-1980.nc' exited=0>"
      ]
     },
     "metadata": {},
     "output_type": "display_data"
    },
    {
     "data": {
      "text/plain": [
       "<Result cmd='rm -f /home/jovyan/europe/12-05-1980.nc' exited=0>"
      ]
     },
     "metadata": {},
     "output_type": "display_data"
    },
    {
     "name": "stderr",
     "output_type": "stream",
     "text": [
      "2019-10-17 11:14:18,410 INFO Sending request to https://cds.climate.copernicus.eu/api/v2/resources/reanalysis-era5-single-levels\n",
      "2019-10-17 11:14:19,480 INFO Request is queued\n",
      "2019-10-17 11:14:20,508 INFO Request is running\n",
      "2019-10-17 11:14:40,434 INFO Request is completed\n",
      "2019-10-17 11:14:40,435 INFO Downloading http://136.156.132.201/cache-compute-0004/cache/data5/adaptor.mars.internal-1571310859.7051418-16570-7-208db1d5-abf1-406a-9e3d-e62f49f57f12.nc to /home/jovyan/europe/13-05-1980.nc (380.2M)\n",
      "2019-10-17 11:14:51,754 INFO Download rate 33.6M/s \n"
     ]
    },
    {
     "data": {
      "text/plain": [
       "<Result cmd='fimex-1.3 -c extractEurope.cfg --input.file /home/jovyan/europe/13-05-1980.nc --output.file /home/jovyan/europe/europe_13-05-1980.nc' exited=0>"
      ]
     },
     "metadata": {},
     "output_type": "display_data"
    },
    {
     "data": {
      "text/plain": [
       "<Result cmd='rm -f /home/jovyan/europe/13-05-1980.nc' exited=0>"
      ]
     },
     "metadata": {},
     "output_type": "display_data"
    },
    {
     "name": "stderr",
     "output_type": "stream",
     "text": [
      "2019-10-17 11:14:52,074 INFO Sending request to https://cds.climate.copernicus.eu/api/v2/resources/reanalysis-era5-single-levels\n",
      "2019-10-17 11:14:52,229 INFO Request is completed\n",
      "2019-10-17 11:14:52,230 INFO Downloading http://136.156.132.210/cache-compute-0005/cache/data9/adaptor.mars.internal-1571271355.9089103-32224-7-db1bb79b-4d75-4230-b074-445e630cd5a7.nc to /home/jovyan/europe/14-05-1980.nc (380.2M)\n",
      "2019-10-17 11:14:59,703 INFO Download rate 50.9M/s \n"
     ]
    },
    {
     "data": {
      "text/plain": [
       "<Result cmd='fimex-1.3 -c extractEurope.cfg --input.file /home/jovyan/europe/14-05-1980.nc --output.file /home/jovyan/europe/europe_14-05-1980.nc' exited=0>"
      ]
     },
     "metadata": {},
     "output_type": "display_data"
    },
    {
     "data": {
      "text/plain": [
       "<Result cmd='rm -f /home/jovyan/europe/14-05-1980.nc' exited=0>"
      ]
     },
     "metadata": {},
     "output_type": "display_data"
    },
    {
     "name": "stderr",
     "output_type": "stream",
     "text": [
      "2019-10-17 11:15:00,040 INFO Sending request to https://cds.climate.copernicus.eu/api/v2/resources/reanalysis-era5-single-levels\n",
      "2019-10-17 11:15:00,968 INFO Request is completed\n",
      "2019-10-17 11:15:00,969 INFO Downloading http://136.156.133.46/cache-compute-0015/cache/data8/adaptor.mars.internal-1571097935.1145372-9889-5-e9042459-457b-47a3-8255-93bc2d2c2d67.nc to /home/jovyan/europe/15-05-1980.nc (380.2M)\n",
      "2019-10-17 11:15:09,896 INFO Download rate 42.6M/s \n"
     ]
    },
    {
     "data": {
      "text/plain": [
       "<Result cmd='fimex-1.3 -c extractEurope.cfg --input.file /home/jovyan/europe/15-05-1980.nc --output.file /home/jovyan/europe/europe_15-05-1980.nc' exited=0>"
      ]
     },
     "metadata": {},
     "output_type": "display_data"
    },
    {
     "data": {
      "text/plain": [
       "<Result cmd='rm -f /home/jovyan/europe/15-05-1980.nc' exited=0>"
      ]
     },
     "metadata": {},
     "output_type": "display_data"
    },
    {
     "name": "stderr",
     "output_type": "stream",
     "text": [
      "2019-10-17 11:15:10,254 INFO Sending request to https://cds.climate.copernicus.eu/api/v2/resources/reanalysis-era5-single-levels\n",
      "2019-10-17 11:15:10,754 INFO Request is completed\n",
      "2019-10-17 11:15:10,758 INFO Downloading http://136.156.133.37/cache-compute-0011/cache/data2/adaptor.mars.internal-1571271396.732921-21671-15-cb344473-8432-4598-a74b-5cc2713e0221.nc to /home/jovyan/europe/16-05-1980.nc (380.2M)\n",
      "2019-10-17 11:15:27,468 INFO Download rate 22.8M/s \n"
     ]
    },
    {
     "data": {
      "text/plain": [
       "<Result cmd='fimex-1.3 -c extractEurope.cfg --input.file /home/jovyan/europe/16-05-1980.nc --output.file /home/jovyan/europe/europe_16-05-1980.nc' exited=0>"
      ]
     },
     "metadata": {},
     "output_type": "display_data"
    },
    {
     "data": {
      "text/plain": [
       "<Result cmd='rm -f /home/jovyan/europe/16-05-1980.nc' exited=0>"
      ]
     },
     "metadata": {},
     "output_type": "display_data"
    },
    {
     "name": "stderr",
     "output_type": "stream",
     "text": [
      "2019-10-17 11:15:27,784 INFO Sending request to https://cds.climate.copernicus.eu/api/v2/resources/reanalysis-era5-single-levels\n",
      "2019-10-17 11:15:28,683 INFO Request is completed\n",
      "2019-10-17 11:15:28,687 INFO Downloading http://136.156.132.198/cache-compute-0003/cache/data3/adaptor.mars.internal-1571271441.9065647-24634-5-e0936fa7-7e79-427e-9650-18cbfd45ec90.nc to /home/jovyan/europe/17-05-1980.nc (380.2M)\n",
      "2019-10-17 11:15:43,842 INFO Download rate 25.1M/s \n"
     ]
    },
    {
     "data": {
      "text/plain": [
       "<Result cmd='fimex-1.3 -c extractEurope.cfg --input.file /home/jovyan/europe/17-05-1980.nc --output.file /home/jovyan/europe/europe_17-05-1980.nc' exited=0>"
      ]
     },
     "metadata": {},
     "output_type": "display_data"
    },
    {
     "data": {
      "text/plain": [
       "<Result cmd='rm -f /home/jovyan/europe/17-05-1980.nc' exited=0>"
      ]
     },
     "metadata": {},
     "output_type": "display_data"
    },
    {
     "name": "stderr",
     "output_type": "stream",
     "text": [
      "2019-10-17 11:15:44,173 INFO Sending request to https://cds.climate.copernicus.eu/api/v2/resources/reanalysis-era5-single-levels\n",
      "2019-10-17 11:15:45,070 INFO Request is completed\n",
      "2019-10-17 11:15:45,071 INFO Downloading http://136.156.133.41/cache-compute-0013/cache/data6/adaptor.mars.internal-1571098065.0496507-10320-7-2bbebea8-4a40-4d3e-a557-0e0de7fc3901.nc to /home/jovyan/europe/18-05-1980.nc (380.2M)\n",
      "2019-10-17 11:15:52,625 INFO Download rate 50.4M/s \n"
     ]
    },
    {
     "data": {
      "text/plain": [
       "<Result cmd='fimex-1.3 -c extractEurope.cfg --input.file /home/jovyan/europe/18-05-1980.nc --output.file /home/jovyan/europe/europe_18-05-1980.nc' exited=0>"
      ]
     },
     "metadata": {},
     "output_type": "display_data"
    },
    {
     "data": {
      "text/plain": [
       "<Result cmd='rm -f /home/jovyan/europe/18-05-1980.nc' exited=0>"
      ]
     },
     "metadata": {},
     "output_type": "display_data"
    },
    {
     "name": "stderr",
     "output_type": "stream",
     "text": [
      "2019-10-17 11:15:52,932 INFO Sending request to https://cds.climate.copernicus.eu/api/v2/resources/reanalysis-era5-single-levels\n",
      "2019-10-17 11:15:56,768 INFO Request is completed\n",
      "2019-10-17 11:15:56,769 INFO Downloading http://136.156.132.210/cache-compute-0005/cache/data0/adaptor.mars.internal-1571271488.7359245-5418-13-ef3cc77c-5f75-42a7-a513-60fd5155aee9.nc to /home/jovyan/europe/19-05-1980.nc (380.2M)\n",
      "2019-10-17 11:16:02,979 INFO Download rate 61.3M/s \n"
     ]
    },
    {
     "data": {
      "text/plain": [
       "<Result cmd='fimex-1.3 -c extractEurope.cfg --input.file /home/jovyan/europe/19-05-1980.nc --output.file /home/jovyan/europe/europe_19-05-1980.nc' exited=0>"
      ]
     },
     "metadata": {},
     "output_type": "display_data"
    },
    {
     "data": {
      "text/plain": [
       "<Result cmd='rm -f /home/jovyan/europe/19-05-1980.nc' exited=0>"
      ]
     },
     "metadata": {},
     "output_type": "display_data"
    },
    {
     "name": "stderr",
     "output_type": "stream",
     "text": [
      "2019-10-17 11:16:03,294 INFO Sending request to https://cds.climate.copernicus.eu/api/v2/resources/reanalysis-era5-single-levels\n",
      "2019-10-17 11:16:04,320 INFO Request is completed\n",
      "2019-10-17 11:16:04,321 INFO Downloading http://136.156.133.25/cache-compute-0008/cache/data9/adaptor.mars.internal-1571271524.17669-30964-5-476901d2-53f1-4cca-982f-2e6f79912dd9.nc to /home/jovyan/europe/20-05-1980.nc (380.2M)\n",
      "2019-10-17 11:16:17,481 INFO Download rate 28.9M/s \n"
     ]
    },
    {
     "data": {
      "text/plain": [
       "<Result cmd='fimex-1.3 -c extractEurope.cfg --input.file /home/jovyan/europe/20-05-1980.nc --output.file /home/jovyan/europe/europe_20-05-1980.nc' exited=0>"
      ]
     },
     "metadata": {},
     "output_type": "display_data"
    },
    {
     "data": {
      "text/plain": [
       "<Result cmd='rm -f /home/jovyan/europe/20-05-1980.nc' exited=0>"
      ]
     },
     "metadata": {},
     "output_type": "display_data"
    },
    {
     "name": "stderr",
     "output_type": "stream",
     "text": [
      "2019-10-17 11:16:17,823 INFO Sending request to https://cds.climate.copernicus.eu/api/v2/resources/reanalysis-era5-single-levels\n",
      "2019-10-17 11:16:18,116 INFO Request is completed\n",
      "2019-10-17 11:16:18,117 INFO Downloading http://136.156.133.32/cache-compute-0009/cache/data4/adaptor.mars.internal-1571098177.1136754-3144-11-c26a4ba8-3934-4e21-b0ff-f8c332ffeef0.nc to /home/jovyan/europe/21-05-1980.nc (380.2M)\n",
      "2019-10-17 11:16:31,180 INFO Download rate 29.1M/s \n"
     ]
    },
    {
     "data": {
      "text/plain": [
       "<Result cmd='fimex-1.3 -c extractEurope.cfg --input.file /home/jovyan/europe/21-05-1980.nc --output.file /home/jovyan/europe/europe_21-05-1980.nc' exited=0>"
      ]
     },
     "metadata": {},
     "output_type": "display_data"
    },
    {
     "data": {
      "text/plain": [
       "<Result cmd='rm -f /home/jovyan/europe/21-05-1980.nc' exited=0>"
      ]
     },
     "metadata": {},
     "output_type": "display_data"
    },
    {
     "name": "stderr",
     "output_type": "stream",
     "text": [
      "2019-10-17 11:16:31,528 INFO Sending request to https://cds.climate.copernicus.eu/api/v2/resources/reanalysis-era5-single-levels\n",
      "2019-10-17 11:16:31,694 INFO Request is completed\n",
      "2019-10-17 11:16:31,696 INFO Downloading http://136.156.132.105/cache-compute-0000/cache/data7/adaptor.mars.internal-1571271576.8346283-5616-7-737eb3f1-f733-4c78-bc3a-f0de3a24ebc4.nc to /home/jovyan/europe/22-05-1980.nc (380.2M)\n",
      "2019-10-17 11:16:50,553 INFO Download rate 20.2M/s \n"
     ]
    },
    {
     "data": {
      "text/plain": [
       "<Result cmd='fimex-1.3 -c extractEurope.cfg --input.file /home/jovyan/europe/22-05-1980.nc --output.file /home/jovyan/europe/europe_22-05-1980.nc' exited=0>"
      ]
     },
     "metadata": {},
     "output_type": "display_data"
    },
    {
     "data": {
      "text/plain": [
       "<Result cmd='rm -f /home/jovyan/europe/22-05-1980.nc' exited=0>"
      ]
     },
     "metadata": {},
     "output_type": "display_data"
    },
    {
     "name": "stderr",
     "output_type": "stream",
     "text": [
      "2019-10-17 11:16:51,019 INFO Sending request to https://cds.climate.copernicus.eu/api/v2/resources/reanalysis-era5-single-levels\n",
      "2019-10-17 11:16:51,175 INFO Request is completed\n",
      "2019-10-17 11:16:51,176 INFO Downloading http://136.156.132.235/cache-compute-0006/cache/data9/adaptor.mars.internal-1571098258.11952-10118-9-72960b6a-23fa-458a-865a-be4974183060.nc to /home/jovyan/europe/23-05-1980.nc (380.2M)\n",
      "2019-10-17 11:17:05,427 INFO Download rate 26.7M/s \n"
     ]
    },
    {
     "data": {
      "text/plain": [
       "<Result cmd='fimex-1.3 -c extractEurope.cfg --input.file /home/jovyan/europe/23-05-1980.nc --output.file /home/jovyan/europe/europe_23-05-1980.nc' exited=0>"
      ]
     },
     "metadata": {},
     "output_type": "display_data"
    },
    {
     "data": {
      "text/plain": [
       "<Result cmd='rm -f /home/jovyan/europe/23-05-1980.nc' exited=0>"
      ]
     },
     "metadata": {},
     "output_type": "display_data"
    },
    {
     "name": "stderr",
     "output_type": "stream",
     "text": [
      "2019-10-17 11:17:05,792 INFO Sending request to https://cds.climate.copernicus.eu/api/v2/resources/reanalysis-era5-single-levels\n",
      "2019-10-17 11:17:06,582 INFO Request is completed\n",
      "2019-10-17 11:17:06,584 INFO Downloading http://136.156.132.105/cache-compute-0000/cache/data4/adaptor.mars.internal-1571098294.6810796-14442-13-98253f54-accf-4f1d-8086-0574328a77c8.nc to /home/jovyan/europe/24-05-1980.nc (380.2M)\n",
      "2019-10-17 11:17:26,115 INFO Download rate 19.5M/s \n"
     ]
    },
    {
     "data": {
      "text/plain": [
       "<Result cmd='fimex-1.3 -c extractEurope.cfg --input.file /home/jovyan/europe/24-05-1980.nc --output.file /home/jovyan/europe/europe_24-05-1980.nc' exited=0>"
      ]
     },
     "metadata": {},
     "output_type": "display_data"
    },
    {
     "data": {
      "text/plain": [
       "<Result cmd='rm -f /home/jovyan/europe/24-05-1980.nc' exited=0>"
      ]
     },
     "metadata": {},
     "output_type": "display_data"
    },
    {
     "name": "stderr",
     "output_type": "stream",
     "text": [
      "2019-10-17 11:17:26,507 INFO Sending request to https://cds.climate.copernicus.eu/api/v2/resources/reanalysis-era5-single-levels\n",
      "2019-10-17 11:17:27,334 INFO Request is completed\n",
      "2019-10-17 11:17:27,337 INFO Downloading http://136.156.133.37/cache-compute-0011/cache/data1/adaptor.mars.internal-1571271637.3281193-27004-7-e0318a07-35be-493c-8180-ba2c06bb4022.nc to /home/jovyan/europe/25-05-1980.nc (380.2M)\n",
      "2019-10-17 11:17:40,096 INFO Download rate 29.8M/s \n"
     ]
    },
    {
     "data": {
      "text/plain": [
       "<Result cmd='fimex-1.3 -c extractEurope.cfg --input.file /home/jovyan/europe/25-05-1980.nc --output.file /home/jovyan/europe/europe_25-05-1980.nc' exited=0>"
      ]
     },
     "metadata": {},
     "output_type": "display_data"
    },
    {
     "data": {
      "text/plain": [
       "<Result cmd='rm -f /home/jovyan/europe/25-05-1980.nc' exited=0>"
      ]
     },
     "metadata": {},
     "output_type": "display_data"
    },
    {
     "name": "stderr",
     "output_type": "stream",
     "text": [
      "2019-10-17 11:17:40,693 INFO Sending request to https://cds.climate.copernicus.eu/api/v2/resources/reanalysis-era5-single-levels\n",
      "2019-10-17 11:17:41,587 INFO Request is completed\n",
      "2019-10-17 11:17:41,588 INFO Downloading http://136.156.133.37/cache-compute-0011/cache/data8/adaptor.mars.internal-1571271681.7058802-25936-9-acca306d-d0e2-4cc5-8cd4-12d8d0715304.nc to /home/jovyan/europe/26-05-1980.nc (380.2M)\n",
      "2019-10-17 11:17:55,426 INFO Download rate 27.5M/s \n"
     ]
    },
    {
     "data": {
      "text/plain": [
       "<Result cmd='fimex-1.3 -c extractEurope.cfg --input.file /home/jovyan/europe/26-05-1980.nc --output.file /home/jovyan/europe/europe_26-05-1980.nc' exited=0>"
      ]
     },
     "metadata": {},
     "output_type": "display_data"
    },
    {
     "data": {
      "text/plain": [
       "<Result cmd='rm -f /home/jovyan/europe/26-05-1980.nc' exited=0>"
      ]
     },
     "metadata": {},
     "output_type": "display_data"
    },
    {
     "name": "stderr",
     "output_type": "stream",
     "text": [
      "2019-10-17 11:17:55,925 INFO Sending request to https://cds.climate.copernicus.eu/api/v2/resources/reanalysis-era5-single-levels\n",
      "2019-10-17 11:17:56,927 INFO Request is completed\n",
      "2019-10-17 11:17:56,931 INFO Downloading http://136.156.133.41/cache-compute-0013/cache/data5/adaptor.mars.internal-1571271722.7967463-11407-1-fb120550-d3b2-4ba4-a85b-20278af828d4.nc to /home/jovyan/europe/27-05-1980.nc (380.2M)\n",
      "2019-10-17 11:18:05,377 INFO Download rate 45M/s   \n"
     ]
    },
    {
     "data": {
      "text/plain": [
       "<Result cmd='fimex-1.3 -c extractEurope.cfg --input.file /home/jovyan/europe/27-05-1980.nc --output.file /home/jovyan/europe/europe_27-05-1980.nc' exited=0>"
      ]
     },
     "metadata": {},
     "output_type": "display_data"
    },
    {
     "data": {
      "text/plain": [
       "<Result cmd='rm -f /home/jovyan/europe/27-05-1980.nc' exited=0>"
      ]
     },
     "metadata": {},
     "output_type": "display_data"
    },
    {
     "name": "stderr",
     "output_type": "stream",
     "text": [
      "2019-10-17 11:18:05,696 INFO Sending request to https://cds.climate.copernicus.eu/api/v2/resources/reanalysis-era5-single-levels\n",
      "2019-10-17 11:18:06,686 INFO Request is completed\n",
      "2019-10-17 11:18:06,688 INFO Downloading http://136.156.132.201/cache-compute-0004/cache/data5/adaptor.mars.internal-1571098449.6824799-1948-13-e437fafe-6559-46ac-9ee8-68520e4718d5.nc to /home/jovyan/europe/28-05-1980.nc (380.2M)\n",
      "2019-10-17 11:18:22,637 INFO Download rate 23.8M/s \n"
     ]
    },
    {
     "data": {
      "text/plain": [
       "<Result cmd='fimex-1.3 -c extractEurope.cfg --input.file /home/jovyan/europe/28-05-1980.nc --output.file /home/jovyan/europe/europe_28-05-1980.nc' exited=0>"
      ]
     },
     "metadata": {},
     "output_type": "display_data"
    },
    {
     "data": {
      "text/plain": [
       "<Result cmd='rm -f /home/jovyan/europe/28-05-1980.nc' exited=0>"
      ]
     },
     "metadata": {},
     "output_type": "display_data"
    },
    {
     "name": "stderr",
     "output_type": "stream",
     "text": [
      "2019-10-17 11:18:22,963 INFO Sending request to https://cds.climate.copernicus.eu/api/v2/resources/reanalysis-era5-single-levels\n",
      "2019-10-17 11:18:23,219 INFO Request is completed\n",
      "2019-10-17 11:18:23,220 INFO Downloading http://136.156.132.198/cache-compute-0003/cache/data1/adaptor.mars.internal-1571098492.3826537-31791-13-2180d792-44d7-49d6-a5e8-cc752907c957.nc to /home/jovyan/europe/29-05-1980.nc (380.2M)\n",
      "2019-10-17 11:18:43,995 INFO Download rate 18.3M/s \n"
     ]
    },
    {
     "data": {
      "text/plain": [
       "<Result cmd='fimex-1.3 -c extractEurope.cfg --input.file /home/jovyan/europe/29-05-1980.nc --output.file /home/jovyan/europe/europe_29-05-1980.nc' exited=0>"
      ]
     },
     "metadata": {},
     "output_type": "display_data"
    },
    {
     "data": {
      "text/plain": [
       "<Result cmd='rm -f /home/jovyan/europe/29-05-1980.nc' exited=0>"
      ]
     },
     "metadata": {},
     "output_type": "display_data"
    },
    {
     "name": "stderr",
     "output_type": "stream",
     "text": [
      "2019-10-17 11:18:44,349 INFO Sending request to https://cds.climate.copernicus.eu/api/v2/resources/reanalysis-era5-single-levels\n",
      "2019-10-17 11:18:44,858 INFO Request is completed\n",
      "2019-10-17 11:18:44,859 INFO Downloading http://136.156.132.153/cache-compute-0002/cache/data9/adaptor.mars.internal-1571271800.3685122-31264-1-c7d7881d-7b08-4823-b8d7-d1d992bbcb19.nc to /home/jovyan/europe/30-05-1980.nc (380.2M)\n",
      "2019-10-17 11:18:54,218 INFO Download rate 40.6M/s \n"
     ]
    },
    {
     "data": {
      "text/plain": [
       "<Result cmd='fimex-1.3 -c extractEurope.cfg --input.file /home/jovyan/europe/30-05-1980.nc --output.file /home/jovyan/europe/europe_30-05-1980.nc' exited=0>"
      ]
     },
     "metadata": {},
     "output_type": "display_data"
    },
    {
     "data": {
      "text/plain": [
       "<Result cmd='rm -f /home/jovyan/europe/30-05-1980.nc' exited=0>"
      ]
     },
     "metadata": {},
     "output_type": "display_data"
    },
    {
     "name": "stderr",
     "output_type": "stream",
     "text": [
      "2019-10-17 11:18:54,546 INFO Sending request to https://cds.climate.copernicus.eu/api/v2/resources/reanalysis-era5-single-levels\n",
      "2019-10-17 11:18:54,705 INFO Request is completed\n",
      "2019-10-17 11:18:54,709 INFO Downloading http://136.156.133.42/cache-compute-0014/cache/data9/adaptor.mars.internal-1571271837.6272247-18766-15-60769050-f4da-49e6-b670-6add219a2f76.nc to /home/jovyan/europe/31-05-1980.nc (380.2M)\n",
      "2019-10-17 11:19:19,537 INFO Download rate 15.3M/s \n"
     ]
    },
    {
     "data": {
      "text/plain": [
       "<Result cmd='fimex-1.3 -c extractEurope.cfg --input.file /home/jovyan/europe/31-05-1980.nc --output.file /home/jovyan/europe/europe_31-05-1980.nc' exited=0>"
      ]
     },
     "metadata": {},
     "output_type": "display_data"
    },
    {
     "data": {
      "text/plain": [
       "<Result cmd='rm -f /home/jovyan/europe/31-05-1980.nc' exited=0>"
      ]
     },
     "metadata": {},
     "output_type": "display_data"
    },
    {
     "name": "stderr",
     "output_type": "stream",
     "text": [
      "2019-10-17 11:19:19,867 INFO Sending request to https://cds.climate.copernicus.eu/api/v2/resources/reanalysis-era5-single-levels\n",
      "2019-10-17 11:19:20,603 INFO Request is completed\n",
      "2019-10-17 11:19:20,604 INFO Downloading http://136.156.133.39/cache-compute-0012/cache/data9/adaptor.mars.internal-1571271891.0914528-10826-13-cd158682-0c17-484c-872d-cdb23813cb2a.nc to /home/jovyan/europe/01-06-1980.nc (380.2M)\n",
      "2019-10-17 11:19:31,273 INFO Download rate 35.6M/s \n"
     ]
    },
    {
     "data": {
      "text/plain": [
       "<Result cmd='fimex-1.3 -c extractEurope.cfg --input.file /home/jovyan/europe/01-06-1980.nc --output.file /home/jovyan/europe/europe_01-06-1980.nc' exited=0>"
      ]
     },
     "metadata": {},
     "output_type": "display_data"
    },
    {
     "data": {
      "text/plain": [
       "<Result cmd='rm -f /home/jovyan/europe/01-06-1980.nc' exited=0>"
      ]
     },
     "metadata": {},
     "output_type": "display_data"
    },
    {
     "name": "stderr",
     "output_type": "stream",
     "text": [
      "2019-10-17 11:19:31,640 INFO Sending request to https://cds.climate.copernicus.eu/api/v2/resources/reanalysis-era5-single-levels\n",
      "2019-10-17 11:19:32,770 INFO Request is completed\n",
      "2019-10-17 11:19:32,771 INFO Downloading http://136.156.133.32/cache-compute-0009/cache/data7/adaptor.mars.internal-1571098667.260607-3715-9-f9b095a0-e1d0-4251-a7fa-f51edb39c951.nc to /home/jovyan/europe/02-06-1980.nc (380.2M)\n",
      "2019-10-17 11:20:05,575 INFO Download rate 11.6M/s \n"
     ]
    },
    {
     "data": {
      "text/plain": [
       "<Result cmd='fimex-1.3 -c extractEurope.cfg --input.file /home/jovyan/europe/02-06-1980.nc --output.file /home/jovyan/europe/europe_02-06-1980.nc' exited=0>"
      ]
     },
     "metadata": {},
     "output_type": "display_data"
    },
    {
     "data": {
      "text/plain": [
       "<Result cmd='rm -f /home/jovyan/europe/02-06-1980.nc' exited=0>"
      ]
     },
     "metadata": {},
     "output_type": "display_data"
    },
    {
     "name": "stderr",
     "output_type": "stream",
     "text": [
      "2019-10-17 11:20:05,982 INFO Sending request to https://cds.climate.copernicus.eu/api/v2/resources/reanalysis-era5-single-levels\n",
      "2019-10-17 11:20:06,833 INFO Request is completed\n",
      "2019-10-17 11:20:06,834 INFO Downloading http://136.156.133.37/cache-compute-0011/cache/data8/adaptor.mars.internal-1571271961.1190293-28208-9-71c467d0-7415-455a-b4b5-420e00ec0076.nc to /home/jovyan/europe/03-06-1980.nc (380.2M)\n",
      "2019-10-17 11:20:18,231 INFO Download rate 33.4M/s \n"
     ]
    },
    {
     "data": {
      "text/plain": [
       "<Result cmd='fimex-1.3 -c extractEurope.cfg --input.file /home/jovyan/europe/03-06-1980.nc --output.file /home/jovyan/europe/europe_03-06-1980.nc' exited=0>"
      ]
     },
     "metadata": {},
     "output_type": "display_data"
    },
    {
     "data": {
      "text/plain": [
       "<Result cmd='rm -f /home/jovyan/europe/03-06-1980.nc' exited=0>"
      ]
     },
     "metadata": {},
     "output_type": "display_data"
    },
    {
     "name": "stderr",
     "output_type": "stream",
     "text": [
      "2019-10-17 11:20:18,639 INFO Sending request to https://cds.climate.copernicus.eu/api/v2/resources/reanalysis-era5-single-levels\n",
      "2019-10-17 11:20:18,928 INFO Request is completed\n",
      "2019-10-17 11:20:18,930 INFO Downloading http://136.156.132.210/cache-compute-0005/cache/data4/adaptor.mars.internal-1571271998.9259787-7678-5-47169810-9e9c-4121-9e4e-6aa4ca975f12.nc to /home/jovyan/europe/04-06-1980.nc (380.2M)\n",
      "2019-10-17 11:20:30,779 INFO Download rate 32.1M/s \n"
     ]
    },
    {
     "data": {
      "text/plain": [
       "<Result cmd='fimex-1.3 -c extractEurope.cfg --input.file /home/jovyan/europe/04-06-1980.nc --output.file /home/jovyan/europe/europe_04-06-1980.nc' exited=0>"
      ]
     },
     "metadata": {},
     "output_type": "display_data"
    },
    {
     "data": {
      "text/plain": [
       "<Result cmd='rm -f /home/jovyan/europe/04-06-1980.nc' exited=0>"
      ]
     },
     "metadata": {},
     "output_type": "display_data"
    },
    {
     "name": "stderr",
     "output_type": "stream",
     "text": [
      "2019-10-17 11:20:31,215 INFO Sending request to https://cds.climate.copernicus.eu/api/v2/resources/reanalysis-era5-single-levels\n",
      "2019-10-17 11:20:32,326 INFO Request is completed\n",
      "2019-10-17 11:20:32,328 INFO Downloading http://136.156.133.41/cache-compute-0013/cache/data9/adaptor.mars.internal-1571098785.803765-11197-11-13bafe93-b8a7-48c0-b197-f53bbda8cce1.nc to /home/jovyan/europe/05-06-1980.nc (380.2M)\n",
      "2019-10-17 11:20:43,394 INFO Download rate 34.4M/s \n"
     ]
    },
    {
     "data": {
      "text/plain": [
       "<Result cmd='fimex-1.3 -c extractEurope.cfg --input.file /home/jovyan/europe/05-06-1980.nc --output.file /home/jovyan/europe/europe_05-06-1980.nc' exited=0>"
      ]
     },
     "metadata": {},
     "output_type": "display_data"
    },
    {
     "data": {
      "text/plain": [
       "<Result cmd='rm -f /home/jovyan/europe/05-06-1980.nc' exited=0>"
      ]
     },
     "metadata": {},
     "output_type": "display_data"
    },
    {
     "name": "stderr",
     "output_type": "stream",
     "text": [
      "2019-10-17 11:20:43,790 INFO Sending request to https://cds.climate.copernicus.eu/api/v2/resources/reanalysis-era5-single-levels\n",
      "2019-10-17 11:20:43,975 INFO Request is completed\n",
      "2019-10-17 11:20:43,976 INFO Downloading http://136.156.133.41/cache-compute-0013/cache/data9/adaptor.mars.internal-1571098815.4105701-10766-11-999fd6c8-06c1-4358-8905-bac4b91d78ab.nc to /home/jovyan/europe/06-06-1980.nc (380.2M)\n",
      "2019-10-17 11:21:03,378 INFO Download rate 19.6M/s \n"
     ]
    },
    {
     "data": {
      "text/plain": [
       "<Result cmd='fimex-1.3 -c extractEurope.cfg --input.file /home/jovyan/europe/06-06-1980.nc --output.file /home/jovyan/europe/europe_06-06-1980.nc' exited=0>"
      ]
     },
     "metadata": {},
     "output_type": "display_data"
    },
    {
     "data": {
      "text/plain": [
       "<Result cmd='rm -f /home/jovyan/europe/06-06-1980.nc' exited=0>"
      ]
     },
     "metadata": {},
     "output_type": "display_data"
    },
    {
     "name": "stderr",
     "output_type": "stream",
     "text": [
      "2019-10-17 11:21:03,683 INFO Sending request to https://cds.climate.copernicus.eu/api/v2/resources/reanalysis-era5-single-levels\n",
      "2019-10-17 11:21:04,727 INFO Request is completed\n",
      "2019-10-17 11:21:04,728 INFO Downloading http://136.156.133.36/cache-compute-0010/cache/data0/adaptor.mars.internal-1571098844.431856-15187-11-88525bc3-d661-4bb6-ae05-5a87a812d96e.nc to /home/jovyan/europe/07-06-1980.nc (380.2M)\n",
      "2019-10-17 11:21:19,281 INFO Download rate 26.1M/s \n"
     ]
    },
    {
     "data": {
      "text/plain": [
       "<Result cmd='fimex-1.3 -c extractEurope.cfg --input.file /home/jovyan/europe/07-06-1980.nc --output.file /home/jovyan/europe/europe_07-06-1980.nc' exited=0>"
      ]
     },
     "metadata": {},
     "output_type": "display_data"
    },
    {
     "data": {
      "text/plain": [
       "<Result cmd='rm -f /home/jovyan/europe/07-06-1980.nc' exited=0>"
      ]
     },
     "metadata": {},
     "output_type": "display_data"
    },
    {
     "name": "stderr",
     "output_type": "stream",
     "text": [
      "2019-10-17 11:21:19,650 INFO Sending request to https://cds.climate.copernicus.eu/api/v2/resources/reanalysis-era5-single-levels\n",
      "2019-10-17 11:21:19,972 INFO Request is completed\n",
      "2019-10-17 11:21:19,974 INFO Downloading http://136.156.132.110/cache-compute-0001/cache/data5/adaptor.mars.internal-1571272072.966801-4131-13-a010b6cf-6337-40b7-8f1e-50e00c7de25b.nc to /home/jovyan/europe/08-06-1980.nc (380.2M)\n",
      "2019-10-17 11:21:32,304 INFO Download rate 30.8M/s \n"
     ]
    },
    {
     "data": {
      "text/plain": [
       "<Result cmd='fimex-1.3 -c extractEurope.cfg --input.file /home/jovyan/europe/08-06-1980.nc --output.file /home/jovyan/europe/europe_08-06-1980.nc' exited=0>"
      ]
     },
     "metadata": {},
     "output_type": "display_data"
    },
    {
     "data": {
      "text/plain": [
       "<Result cmd='rm -f /home/jovyan/europe/08-06-1980.nc' exited=0>"
      ]
     },
     "metadata": {},
     "output_type": "display_data"
    },
    {
     "name": "stderr",
     "output_type": "stream",
     "text": [
      "2019-10-17 11:21:32,637 INFO Sending request to https://cds.climate.copernicus.eu/api/v2/resources/reanalysis-era5-single-levels\n",
      "2019-10-17 11:21:33,330 INFO Request is completed\n",
      "2019-10-17 11:21:33,331 INFO Downloading http://136.156.133.39/cache-compute-0012/cache/data1/adaptor.mars.internal-1571272112.5438993-13262-1-5c8e90da-6ea5-4fad-af84-ee98b2dae0f4.nc to /home/jovyan/europe/09-06-1980.nc (380.2M)\n",
      "2019-10-17 11:21:41,257 INFO Download rate 48M/s   \n"
     ]
    },
    {
     "data": {
      "text/plain": [
       "<Result cmd='fimex-1.3 -c extractEurope.cfg --input.file /home/jovyan/europe/09-06-1980.nc --output.file /home/jovyan/europe/europe_09-06-1980.nc' exited=0>"
      ]
     },
     "metadata": {},
     "output_type": "display_data"
    },
    {
     "data": {
      "text/plain": [
       "<Result cmd='rm -f /home/jovyan/europe/09-06-1980.nc' exited=0>"
      ]
     },
     "metadata": {},
     "output_type": "display_data"
    },
    {
     "name": "stderr",
     "output_type": "stream",
     "text": [
      "2019-10-17 11:21:41,574 INFO Sending request to https://cds.climate.copernicus.eu/api/v2/resources/reanalysis-era5-single-levels\n",
      "2019-10-17 11:21:41,820 INFO Request is completed\n",
      "2019-10-17 11:21:41,824 INFO Downloading http://136.156.133.39/cache-compute-0012/cache/data8/adaptor.mars.internal-1571272151.8544374-11160-15-cae92f7d-7cbc-49e8-bffa-79b9968b9650.nc to /home/jovyan/europe/10-06-1980.nc (380.2M)\n",
      "2019-10-17 11:21:52,101 INFO Download rate 37M/s   \n"
     ]
    },
    {
     "data": {
      "text/plain": [
       "<Result cmd='fimex-1.3 -c extractEurope.cfg --input.file /home/jovyan/europe/10-06-1980.nc --output.file /home/jovyan/europe/europe_10-06-1980.nc' exited=0>"
      ]
     },
     "metadata": {},
     "output_type": "display_data"
    },
    {
     "data": {
      "text/plain": [
       "<Result cmd='rm -f /home/jovyan/europe/10-06-1980.nc' exited=0>"
      ]
     },
     "metadata": {},
     "output_type": "display_data"
    },
    {
     "name": "stderr",
     "output_type": "stream",
     "text": [
      "2019-10-17 11:21:52,529 INFO Sending request to https://cds.climate.copernicus.eu/api/v2/resources/reanalysis-era5-single-levels\n",
      "2019-10-17 11:21:53,342 INFO Request is completed\n",
      "2019-10-17 11:21:53,343 INFO Downloading http://136.156.133.42/cache-compute-0014/cache/data2/adaptor.mars.internal-1571272185.9275615-27073-9-c312c8f0-25d6-4236-a0fb-f802a2b3b8e1.nc to /home/jovyan/europe/11-06-1980.nc (380.2M)\n",
      "2019-10-17 11:22:11,399 INFO Download rate 21.1M/s \n"
     ]
    },
    {
     "data": {
      "text/plain": [
       "<Result cmd='fimex-1.3 -c extractEurope.cfg --input.file /home/jovyan/europe/11-06-1980.nc --output.file /home/jovyan/europe/europe_11-06-1980.nc' exited=0>"
      ]
     },
     "metadata": {},
     "output_type": "display_data"
    },
    {
     "data": {
      "text/plain": [
       "<Result cmd='rm -f /home/jovyan/europe/11-06-1980.nc' exited=0>"
      ]
     },
     "metadata": {},
     "output_type": "display_data"
    },
    {
     "name": "stderr",
     "output_type": "stream",
     "text": [
      "2019-10-17 11:22:11,983 INFO Sending request to https://cds.climate.copernicus.eu/api/v2/resources/reanalysis-era5-single-levels\n",
      "2019-10-17 11:22:12,159 INFO Request is completed\n",
      "2019-10-17 11:22:12,160 INFO Downloading http://136.156.133.39/cache-compute-0012/cache/data4/adaptor.mars.internal-1571099036.9474607-19724-7-ea8c26ae-334d-4cd6-8510-fb667024bba2.nc to /home/jovyan/europe/12-06-1980.nc (380.2M)\n",
      "2019-10-17 11:22:43,466 INFO Download rate 12.1M/s \n"
     ]
    },
    {
     "data": {
      "text/plain": [
       "<Result cmd='fimex-1.3 -c extractEurope.cfg --input.file /home/jovyan/europe/12-06-1980.nc --output.file /home/jovyan/europe/europe_12-06-1980.nc' exited=0>"
      ]
     },
     "metadata": {},
     "output_type": "display_data"
    },
    {
     "data": {
      "text/plain": [
       "<Result cmd='rm -f /home/jovyan/europe/12-06-1980.nc' exited=0>"
      ]
     },
     "metadata": {},
     "output_type": "display_data"
    },
    {
     "name": "stderr",
     "output_type": "stream",
     "text": [
      "2019-10-17 11:22:43,859 INFO Sending request to https://cds.climate.copernicus.eu/api/v2/resources/reanalysis-era5-single-levels\n",
      "2019-10-17 11:22:44,026 INFO Request is completed\n",
      "2019-10-17 11:22:44,027 INFO Downloading http://136.156.133.42/cache-compute-0014/cache/data6/adaptor.mars.internal-1571272246.0463028-26685-17-0d79d06f-8e39-4ce8-be80-4a51a9f34cf8.nc to /home/jovyan/europe/13-06-1980.nc (380.2M)\n",
      "2019-10-17 11:22:59,728 INFO Download rate 24.2M/s \n"
     ]
    },
    {
     "data": {
      "text/plain": [
       "<Result cmd='fimex-1.3 -c extractEurope.cfg --input.file /home/jovyan/europe/13-06-1980.nc --output.file /home/jovyan/europe/europe_13-06-1980.nc' exited=0>"
      ]
     },
     "metadata": {},
     "output_type": "display_data"
    },
    {
     "data": {
      "text/plain": [
       "<Result cmd='rm -f /home/jovyan/europe/13-06-1980.nc' exited=0>"
      ]
     },
     "metadata": {},
     "output_type": "display_data"
    },
    {
     "name": "stderr",
     "output_type": "stream",
     "text": [
      "2019-10-17 11:23:00,455 INFO Sending request to https://cds.climate.copernicus.eu/api/v2/resources/reanalysis-era5-single-levels\n",
      "2019-10-17 11:23:01,275 INFO Request is completed\n",
      "2019-10-17 11:23:01,276 INFO Downloading http://136.156.133.37/cache-compute-0011/cache/data7/adaptor.mars.internal-1571272284.876944-29456-3-40ac9c51-19c3-43fd-97bb-a9e02c9d8ff4.nc to /home/jovyan/europe/14-06-1980.nc (380.2M)\n",
      "2019-10-17 11:23:13,292 INFO Download rate 31.6M/s \n"
     ]
    },
    {
     "data": {
      "text/plain": [
       "<Result cmd='fimex-1.3 -c extractEurope.cfg --input.file /home/jovyan/europe/14-06-1980.nc --output.file /home/jovyan/europe/europe_14-06-1980.nc' exited=0>"
      ]
     },
     "metadata": {},
     "output_type": "display_data"
    },
    {
     "data": {
      "text/plain": [
       "<Result cmd='rm -f /home/jovyan/europe/14-06-1980.nc' exited=0>"
      ]
     },
     "metadata": {},
     "output_type": "display_data"
    },
    {
     "name": "stderr",
     "output_type": "stream",
     "text": [
      "2019-10-17 11:23:13,683 INFO Sending request to https://cds.climate.copernicus.eu/api/v2/resources/reanalysis-era5-single-levels\n",
      "2019-10-17 11:23:13,888 INFO Request is completed\n",
      "2019-10-17 11:23:13,889 INFO Downloading http://136.156.132.235/cache-compute-0006/cache/data9/adaptor.mars.internal-1571272319.8505704-14313-3-f4f399ed-c03e-44ea-b19b-753a039d0674.nc to /home/jovyan/europe/15-06-1980.nc (380.2M)\n",
      "2019-10-17 11:23:20,499 INFO Download rate 57.5M/s \n"
     ]
    },
    {
     "data": {
      "text/plain": [
       "<Result cmd='fimex-1.3 -c extractEurope.cfg --input.file /home/jovyan/europe/15-06-1980.nc --output.file /home/jovyan/europe/europe_15-06-1980.nc' exited=0>"
      ]
     },
     "metadata": {},
     "output_type": "display_data"
    },
    {
     "data": {
      "text/plain": [
       "<Result cmd='rm -f /home/jovyan/europe/15-06-1980.nc' exited=0>"
      ]
     },
     "metadata": {},
     "output_type": "display_data"
    },
    {
     "name": "stderr",
     "output_type": "stream",
     "text": [
      "2019-10-17 11:23:21,605 INFO Sending request to https://cds.climate.copernicus.eu/api/v2/resources/reanalysis-era5-single-levels\n",
      "2019-10-17 11:23:23,175 INFO Request is completed\n",
      "2019-10-17 11:23:23,176 INFO Downloading http://136.156.132.198/cache-compute-0003/cache/data7/adaptor.mars.internal-1571099168.0165167-8061-5-08fa74bd-8d04-4faf-beea-0e64ae5be024.nc to /home/jovyan/europe/16-06-1980.nc (380.2M)\n",
      "2019-10-17 11:23:36,178 INFO Download rate 29.2M/s \n"
     ]
    },
    {
     "data": {
      "text/plain": [
       "<Result cmd='fimex-1.3 -c extractEurope.cfg --input.file /home/jovyan/europe/16-06-1980.nc --output.file /home/jovyan/europe/europe_16-06-1980.nc' exited=0>"
      ]
     },
     "metadata": {},
     "output_type": "display_data"
    },
    {
     "data": {
      "text/plain": [
       "<Result cmd='rm -f /home/jovyan/europe/16-06-1980.nc' exited=0>"
      ]
     },
     "metadata": {},
     "output_type": "display_data"
    },
    {
     "name": "stderr",
     "output_type": "stream",
     "text": [
      "2019-10-17 11:23:36,597 INFO Sending request to https://cds.climate.copernicus.eu/api/v2/resources/reanalysis-era5-single-levels\n",
      "2019-10-17 11:23:37,186 INFO Request is completed\n",
      "2019-10-17 11:23:37,187 INFO Downloading http://136.156.133.39/cache-compute-0012/cache/data0/adaptor.mars.internal-1571099197.2334483-25206-1-f8448861-a61d-492c-a171-4194941e5358.nc to /home/jovyan/europe/17-06-1980.nc (380.2M)\n",
      "2019-10-17 11:23:52,883 INFO Download rate 24.2M/s \n"
     ]
    },
    {
     "data": {
      "text/plain": [
       "<Result cmd='fimex-1.3 -c extractEurope.cfg --input.file /home/jovyan/europe/17-06-1980.nc --output.file /home/jovyan/europe/europe_17-06-1980.nc' exited=0>"
      ]
     },
     "metadata": {},
     "output_type": "display_data"
    },
    {
     "data": {
      "text/plain": [
       "<Result cmd='rm -f /home/jovyan/europe/17-06-1980.nc' exited=0>"
      ]
     },
     "metadata": {},
     "output_type": "display_data"
    },
    {
     "name": "stderr",
     "output_type": "stream",
     "text": [
      "2019-10-17 11:23:53,546 INFO Sending request to https://cds.climate.copernicus.eu/api/v2/resources/reanalysis-era5-single-levels\n",
      "2019-10-17 11:23:54,451 INFO Request is completed\n",
      "2019-10-17 11:23:54,452 INFO Downloading http://136.156.133.32/cache-compute-0009/cache/data4/adaptor.mars.internal-1571099223.7450993-8248-11-47206795-b6bf-464a-afd2-f09f00b3234d.nc to /home/jovyan/europe/18-06-1980.nc (380.2M)\n",
      "2019-10-17 11:24:04,578 INFO Download rate 37.6M/s \n"
     ]
    },
    {
     "data": {
      "text/plain": [
       "<Result cmd='fimex-1.3 -c extractEurope.cfg --input.file /home/jovyan/europe/18-06-1980.nc --output.file /home/jovyan/europe/europe_18-06-1980.nc' exited=0>"
      ]
     },
     "metadata": {},
     "output_type": "display_data"
    },
    {
     "data": {
      "text/plain": [
       "<Result cmd='rm -f /home/jovyan/europe/18-06-1980.nc' exited=0>"
      ]
     },
     "metadata": {},
     "output_type": "display_data"
    },
    {
     "name": "stderr",
     "output_type": "stream",
     "text": [
      "2019-10-17 11:24:04,949 INFO Sending request to https://cds.climate.copernicus.eu/api/v2/resources/reanalysis-era5-single-levels\n",
      "2019-10-17 11:24:05,201 INFO Request is completed\n",
      "2019-10-17 11:24:05,202 INFO Downloading http://136.156.133.42/cache-compute-0014/cache/data3/adaptor.mars.internal-1571272424.2649553-29150-3-5471ec7e-8233-4d07-ba0a-3b6de1ec5f57.nc to /home/jovyan/europe/19-06-1980.nc (380.2M)\n",
      "2019-10-17 11:24:21,084 INFO Download rate 23.9M/s \n"
     ]
    },
    {
     "data": {
      "text/plain": [
       "<Result cmd='fimex-1.3 -c extractEurope.cfg --input.file /home/jovyan/europe/19-06-1980.nc --output.file /home/jovyan/europe/europe_19-06-1980.nc' exited=0>"
      ]
     },
     "metadata": {},
     "output_type": "display_data"
    },
    {
     "data": {
      "text/plain": [
       "<Result cmd='rm -f /home/jovyan/europe/19-06-1980.nc' exited=0>"
      ]
     },
     "metadata": {},
     "output_type": "display_data"
    },
    {
     "name": "stderr",
     "output_type": "stream",
     "text": [
      "2019-10-17 11:24:22,862 INFO Sending request to https://cds.climate.copernicus.eu/api/v2/resources/reanalysis-era5-single-levels\n",
      "2019-10-17 11:24:23,620 INFO Request is completed\n",
      "2019-10-17 11:24:23,624 INFO Downloading http://136.156.133.42/cache-compute-0014/cache/data5/adaptor.mars.internal-1571099297.693484-28199-9-7ab50f94-a130-4c78-955d-4954ebcc9213.nc to /home/jovyan/europe/20-06-1980.nc (380.2M)\n",
      "2019-10-17 11:24:36,856 INFO Download rate 28.7M/s \n"
     ]
    },
    {
     "data": {
      "text/plain": [
       "<Result cmd='fimex-1.3 -c extractEurope.cfg --input.file /home/jovyan/europe/20-06-1980.nc --output.file /home/jovyan/europe/europe_20-06-1980.nc' exited=0>"
      ]
     },
     "metadata": {},
     "output_type": "display_data"
    },
    {
     "name": "stderr",
     "output_type": "stream",
     "text": [
      "2019-10-17 11:24:37,257 INFO Sending request to https://cds.climate.copernicus.eu/api/v2/resources/reanalysis-era5-single-levels\n",
      "2019-10-17 11:24:38,183 INFO Request is completed\n",
      "2019-10-17 11:24:38,184 INFO Downloading http://136.156.133.42/cache-compute-0014/cache/data5/adaptor.mars.internal-1571099297.693484-28199-9-7ab50f94-a130-4c78-955d-4954ebcc9213.nc to /home/jovyan/europe/20-06-1980.nc (380.2M)\n",
      "2019-10-17 11:24:58,312 INFO Download rate 18.9M/s \n"
     ]
    },
    {
     "data": {
      "text/plain": [
       "<Result cmd='rm -f /home/jovyan/europe/20-06-1980.nc' exited=0>"
      ]
     },
     "metadata": {},
     "output_type": "display_data"
    },
    {
     "name": "stderr",
     "output_type": "stream",
     "text": [
      "2019-10-17 11:24:58,641 INFO Sending request to https://cds.climate.copernicus.eu/api/v2/resources/reanalysis-era5-single-levels\n",
      "2019-10-17 11:24:59,419 INFO Request is completed\n",
      "2019-10-17 11:24:59,420 INFO Downloading http://136.156.133.32/cache-compute-0009/cache/data0/adaptor.mars.internal-1571272481.0466545-28600-15-cd1671f4-c535-4b47-8be6-59056f37876c.nc to /home/jovyan/europe/21-06-1980.nc (380.2M)\n",
      "2019-10-17 11:25:11,159 INFO Download rate 32.4M/s \n"
     ]
    },
    {
     "data": {
      "text/plain": [
       "<Result cmd='fimex-1.3 -c extractEurope.cfg --input.file /home/jovyan/europe/21-06-1980.nc --output.file /home/jovyan/europe/europe_21-06-1980.nc' exited=0>"
      ]
     },
     "metadata": {},
     "output_type": "display_data"
    },
    {
     "data": {
      "text/plain": [
       "<Result cmd='rm -f /home/jovyan/europe/21-06-1980.nc' exited=0>"
      ]
     },
     "metadata": {},
     "output_type": "display_data"
    },
    {
     "name": "stderr",
     "output_type": "stream",
     "text": [
      "2019-10-17 11:25:11,477 INFO Sending request to https://cds.climate.copernicus.eu/api/v2/resources/reanalysis-era5-single-levels\n",
      "2019-10-17 11:25:11,756 INFO Request is completed\n",
      "2019-10-17 11:25:11,757 INFO Downloading http://136.156.133.41/cache-compute-0013/cache/data9/adaptor.mars.internal-1571272531.0237062-11845-5-2e3171b8-60ae-4a43-8891-c617c3fe026d.nc to /home/jovyan/europe/22-06-1980.nc (380.2M)\n",
      "2019-10-17 11:25:26,377 INFO Download rate 26M/s   \n"
     ]
    },
    {
     "data": {
      "text/plain": [
       "<Result cmd='fimex-1.3 -c extractEurope.cfg --input.file /home/jovyan/europe/22-06-1980.nc --output.file /home/jovyan/europe/europe_22-06-1980.nc' exited=0>"
      ]
     },
     "metadata": {},
     "output_type": "display_data"
    },
    {
     "data": {
      "text/plain": [
       "<Result cmd='rm -f /home/jovyan/europe/22-06-1980.nc' exited=0>"
      ]
     },
     "metadata": {},
     "output_type": "display_data"
    },
    {
     "name": "stderr",
     "output_type": "stream",
     "text": [
      "2019-10-17 11:25:26,676 INFO Sending request to https://cds.climate.copernicus.eu/api/v2/resources/reanalysis-era5-single-levels\n",
      "2019-10-17 11:25:26,939 INFO Request is completed\n",
      "2019-10-17 11:25:26,940 INFO Downloading http://136.156.132.236/cache-compute-0007/cache/data2/adaptor.mars.internal-1571272561.1209264-4320-3-439a9423-9294-49d1-84c1-36b636bc3700.nc to /home/jovyan/europe/23-06-1980.nc (380.2M)\n",
      "2019-10-17 11:25:42,658 INFO Download rate 24.2M/s \n"
     ]
    },
    {
     "data": {
      "text/plain": [
       "<Result cmd='fimex-1.3 -c extractEurope.cfg --input.file /home/jovyan/europe/23-06-1980.nc --output.file /home/jovyan/europe/europe_23-06-1980.nc' exited=0>"
      ]
     },
     "metadata": {},
     "output_type": "display_data"
    },
    {
     "data": {
      "text/plain": [
       "<Result cmd='rm -f /home/jovyan/europe/23-06-1980.nc' exited=0>"
      ]
     },
     "metadata": {},
     "output_type": "display_data"
    },
    {
     "name": "stderr",
     "output_type": "stream",
     "text": [
      "2019-10-17 11:25:43,002 INFO Sending request to https://cds.climate.copernicus.eu/api/v2/resources/reanalysis-era5-single-levels\n",
      "2019-10-17 11:25:43,856 INFO Request is completed\n",
      "2019-10-17 11:25:43,858 INFO Downloading http://136.156.133.42/cache-compute-0014/cache/data3/adaptor.mars.internal-1571272592.0215895-28988-3-fd03f695-4225-4ee7-a0cd-77b9d1a0304a.nc to /home/jovyan/europe/24-06-1980.nc (380.2M)\n",
      "2019-10-17 11:25:57,204 INFO Download rate 28.5M/s \n"
     ]
    },
    {
     "data": {
      "text/plain": [
       "<Result cmd='fimex-1.3 -c extractEurope.cfg --input.file /home/jovyan/europe/24-06-1980.nc --output.file /home/jovyan/europe/europe_24-06-1980.nc' exited=0>"
      ]
     },
     "metadata": {},
     "output_type": "display_data"
    },
    {
     "data": {
      "text/plain": [
       "<Result cmd='rm -f /home/jovyan/europe/24-06-1980.nc' exited=0>"
      ]
     },
     "metadata": {},
     "output_type": "display_data"
    },
    {
     "name": "stderr",
     "output_type": "stream",
     "text": [
      "2019-10-17 11:25:57,530 INFO Sending request to https://cds.climate.copernicus.eu/api/v2/resources/reanalysis-era5-single-levels\n",
      "2019-10-17 11:25:58,328 INFO Request is completed\n",
      "2019-10-17 11:25:58,329 INFO Downloading http://136.156.133.41/cache-compute-0013/cache/data6/adaptor.mars.internal-1571099475.2056742-15821-7-8d5c3a3e-4f72-4482-9cf3-a075332362d6.nc to /home/jovyan/europe/25-06-1980.nc (380.2M)\n",
      "2019-10-17 11:26:07,250 INFO Download rate 42.6M/s \n"
     ]
    },
    {
     "data": {
      "text/plain": [
       "<Result cmd='fimex-1.3 -c extractEurope.cfg --input.file /home/jovyan/europe/25-06-1980.nc --output.file /home/jovyan/europe/europe_25-06-1980.nc' exited=0>"
      ]
     },
     "metadata": {},
     "output_type": "display_data"
    },
    {
     "data": {
      "text/plain": [
       "<Result cmd='rm -f /home/jovyan/europe/25-06-1980.nc' exited=0>"
      ]
     },
     "metadata": {},
     "output_type": "display_data"
    },
    {
     "name": "stderr",
     "output_type": "stream",
     "text": [
      "2019-10-17 11:26:07,571 INFO Sending request to https://cds.climate.copernicus.eu/api/v2/resources/reanalysis-era5-single-levels\n",
      "2019-10-17 11:26:08,458 INFO Request is completed\n",
      "2019-10-17 11:26:08,462 INFO Downloading http://136.156.133.41/cache-compute-0013/cache/data5/adaptor.mars.internal-1571272654.6482282-11061-15-71acb541-ac73-4821-bb38-b6244de2c2db.nc to /home/jovyan/europe/26-06-1980.nc (380.2M)\n",
      "2019-10-17 11:26:20,477 INFO Download rate 31.6M/s \n"
     ]
    },
    {
     "data": {
      "text/plain": [
       "<Result cmd='fimex-1.3 -c extractEurope.cfg --input.file /home/jovyan/europe/26-06-1980.nc --output.file /home/jovyan/europe/europe_26-06-1980.nc' exited=0>"
      ]
     },
     "metadata": {},
     "output_type": "display_data"
    },
    {
     "data": {
      "text/plain": [
       "<Result cmd='rm -f /home/jovyan/europe/26-06-1980.nc' exited=0>"
      ]
     },
     "metadata": {},
     "output_type": "display_data"
    },
    {
     "name": "stderr",
     "output_type": "stream",
     "text": [
      "2019-10-17 11:26:20,788 INFO Sending request to https://cds.climate.copernicus.eu/api/v2/resources/reanalysis-era5-single-levels\n",
      "2019-10-17 11:26:21,589 INFO Request is completed\n",
      "2019-10-17 11:26:21,591 INFO Downloading http://136.156.132.236/cache-compute-0007/cache/data2/adaptor.mars.internal-1571272689.6332922-3159-3-3cee9c6c-f4f4-4888-8856-3c00f3acdb99.nc to /home/jovyan/europe/27-06-1980.nc (380.2M)\n",
      "2019-10-17 11:26:32,344 INFO Download rate 35.4M/s \n"
     ]
    },
    {
     "data": {
      "text/plain": [
       "<Result cmd='fimex-1.3 -c extractEurope.cfg --input.file /home/jovyan/europe/27-06-1980.nc --output.file /home/jovyan/europe/europe_27-06-1980.nc' exited=0>"
      ]
     },
     "metadata": {},
     "output_type": "display_data"
    },
    {
     "data": {
      "text/plain": [
       "<Result cmd='rm -f /home/jovyan/europe/27-06-1980.nc' exited=0>"
      ]
     },
     "metadata": {},
     "output_type": "display_data"
    },
    {
     "name": "stderr",
     "output_type": "stream",
     "text": [
      "2019-10-17 11:26:32,649 INFO Sending request to https://cds.climate.copernicus.eu/api/v2/resources/reanalysis-era5-single-levels\n",
      "2019-10-17 11:26:33,722 INFO Request is completed\n",
      "2019-10-17 11:26:33,723 INFO Downloading http://136.156.133.32/cache-compute-0009/cache/data0/adaptor.mars.internal-1571272724.6915758-4889-1-8725320b-408e-4260-b418-80108fe8d2a4.nc to /home/jovyan/europe/28-06-1980.nc (380.2M)\n",
      "2019-10-17 11:26:48,913 INFO Download rate 25M/s   \n"
     ]
    },
    {
     "data": {
      "text/plain": [
       "<Result cmd='fimex-1.3 -c extractEurope.cfg --input.file /home/jovyan/europe/28-06-1980.nc --output.file /home/jovyan/europe/europe_28-06-1980.nc' exited=0>"
      ]
     },
     "metadata": {},
     "output_type": "display_data"
    },
    {
     "data": {
      "text/plain": [
       "<Result cmd='rm -f /home/jovyan/europe/28-06-1980.nc' exited=0>"
      ]
     },
     "metadata": {},
     "output_type": "display_data"
    },
    {
     "name": "stderr",
     "output_type": "stream",
     "text": [
      "2019-10-17 11:26:49,387 INFO Sending request to https://cds.climate.copernicus.eu/api/v2/resources/reanalysis-era5-single-levels\n",
      "2019-10-17 11:26:49,626 INFO Request is completed\n",
      "2019-10-17 11:26:49,627 INFO Downloading http://136.156.132.110/cache-compute-0001/cache/data8/adaptor.mars.internal-1571272756.16077-11725-3-06761b35-6298-418b-ad2c-957fe751344c.nc to /home/jovyan/europe/29-06-1980.nc (380.2M)\n",
      "2019-10-17 11:26:55,573 INFO Download rate 64M/s   \n"
     ]
    },
    {
     "data": {
      "text/plain": [
       "<Result cmd='fimex-1.3 -c extractEurope.cfg --input.file /home/jovyan/europe/29-06-1980.nc --output.file /home/jovyan/europe/europe_29-06-1980.nc' exited=0>"
      ]
     },
     "metadata": {},
     "output_type": "display_data"
    },
    {
     "data": {
      "text/plain": [
       "<Result cmd='rm -f /home/jovyan/europe/29-06-1980.nc' exited=0>"
      ]
     },
     "metadata": {},
     "output_type": "display_data"
    },
    {
     "name": "stderr",
     "output_type": "stream",
     "text": [
      "2019-10-17 11:26:55,894 INFO Sending request to https://cds.climate.copernicus.eu/api/v2/resources/reanalysis-era5-single-levels\n",
      "2019-10-17 11:26:56,026 INFO Request is completed\n",
      "2019-10-17 11:26:56,027 INFO Downloading http://136.156.132.110/cache-compute-0001/cache/data6/adaptor.mars.internal-1571099669.2754285-32168-7-de782f8b-d9b3-4ba5-a99a-28456948f4e7.nc to /home/jovyan/europe/30-06-1980.nc (380.2M)\n",
      "2019-10-17 11:27:11,022 INFO Download rate 25.4M/s \n"
     ]
    },
    {
     "data": {
      "text/plain": [
       "<Result cmd='fimex-1.3 -c extractEurope.cfg --input.file /home/jovyan/europe/30-06-1980.nc --output.file /home/jovyan/europe/europe_30-06-1980.nc' exited=0>"
      ]
     },
     "metadata": {},
     "output_type": "display_data"
    },
    {
     "data": {
      "text/plain": [
       "<Result cmd='rm -f /home/jovyan/europe/30-06-1980.nc' exited=0>"
      ]
     },
     "metadata": {},
     "output_type": "display_data"
    },
    {
     "name": "stderr",
     "output_type": "stream",
     "text": [
      "2019-10-17 11:27:11,519 INFO Sending request to https://cds.climate.copernicus.eu/api/v2/resources/reanalysis-era5-single-levels\n",
      "2019-10-17 11:27:11,730 INFO Request is completed\n",
      "2019-10-17 11:27:11,731 INFO Downloading http://136.156.132.235/cache-compute-0006/cache/data7/adaptor.mars.internal-1571099706.0758076-17041-13-f1ea0771-2594-44b7-ab85-9edd13a0ce55.nc to /home/jovyan/europe/01-07-1980.nc (380.2M)\n",
      "2019-10-17 11:27:23,340 INFO Download rate 32.8M/s \n"
     ]
    },
    {
     "data": {
      "text/plain": [
       "<Result cmd='fimex-1.3 -c extractEurope.cfg --input.file /home/jovyan/europe/01-07-1980.nc --output.file /home/jovyan/europe/europe_01-07-1980.nc' exited=0>"
      ]
     },
     "metadata": {},
     "output_type": "display_data"
    },
    {
     "data": {
      "text/plain": [
       "<Result cmd='rm -f /home/jovyan/europe/01-07-1980.nc' exited=0>"
      ]
     },
     "metadata": {},
     "output_type": "display_data"
    },
    {
     "name": "stderr",
     "output_type": "stream",
     "text": [
      "2019-10-17 11:27:23,855 INFO Sending request to https://cds.climate.copernicus.eu/api/v2/resources/reanalysis-era5-single-levels\n",
      "2019-10-17 11:27:24,624 INFO Request is completed\n",
      "2019-10-17 11:27:24,628 INFO Downloading http://136.156.132.110/cache-compute-0001/cache/data2/adaptor.mars.internal-1571099751.6136706-4134-3-487593a6-2759-4d15-8b23-de8eb1ea3e18.nc to /home/jovyan/europe/02-07-1980.nc (380.2M)\n",
      "2019-10-17 11:27:40,622 INFO Download rate 23.8M/s \n"
     ]
    },
    {
     "data": {
      "text/plain": [
       "<Result cmd='fimex-1.3 -c extractEurope.cfg --input.file /home/jovyan/europe/02-07-1980.nc --output.file /home/jovyan/europe/europe_02-07-1980.nc' exited=0>"
      ]
     },
     "metadata": {},
     "output_type": "display_data"
    },
    {
     "data": {
      "text/plain": [
       "<Result cmd='rm -f /home/jovyan/europe/02-07-1980.nc' exited=0>"
      ]
     },
     "metadata": {},
     "output_type": "display_data"
    },
    {
     "name": "stderr",
     "output_type": "stream",
     "text": [
      "2019-10-17 11:27:40,927 INFO Sending request to https://cds.climate.copernicus.eu/api/v2/resources/reanalysis-era5-single-levels\n",
      "2019-10-17 11:27:41,066 INFO Request is completed\n",
      "2019-10-17 11:27:41,068 INFO Downloading http://136.156.133.32/cache-compute-0009/cache/data7/adaptor.mars.internal-1571099792.9938834-13011-9-091ac82b-b886-4ebb-a38c-4cf41d39a97c.nc to /home/jovyan/europe/03-07-1980.nc (380.2M)\n",
      "2019-10-17 11:28:00,063 INFO Download rate 20M/s   \n"
     ]
    },
    {
     "data": {
      "text/plain": [
       "<Result cmd='fimex-1.3 -c extractEurope.cfg --input.file /home/jovyan/europe/03-07-1980.nc --output.file /home/jovyan/europe/europe_03-07-1980.nc' exited=0>"
      ]
     },
     "metadata": {},
     "output_type": "display_data"
    },
    {
     "data": {
      "text/plain": [
       "<Result cmd='rm -f /home/jovyan/europe/03-07-1980.nc' exited=0>"
      ]
     },
     "metadata": {},
     "output_type": "display_data"
    },
    {
     "name": "stderr",
     "output_type": "stream",
     "text": [
      "2019-10-17 11:28:00,405 INFO Sending request to https://cds.climate.copernicus.eu/api/v2/resources/reanalysis-era5-single-levels\n",
      "2019-10-17 11:28:00,589 INFO Request is completed\n",
      "2019-10-17 11:28:00,590 INFO Downloading http://136.156.133.46/cache-compute-0015/cache/data1/adaptor.mars.internal-1571272870.8693953-10995-17-7ea68665-7d1a-4abb-9c68-0972d5deb29a.nc to /home/jovyan/europe/04-07-1980.nc (380.2M)\n",
      "2019-10-17 11:28:12,808 INFO Download rate 31.1M/s \n"
     ]
    },
    {
     "data": {
      "text/plain": [
       "<Result cmd='fimex-1.3 -c extractEurope.cfg --input.file /home/jovyan/europe/04-07-1980.nc --output.file /home/jovyan/europe/europe_04-07-1980.nc' exited=0>"
      ]
     },
     "metadata": {},
     "output_type": "display_data"
    },
    {
     "data": {
      "text/plain": [
       "<Result cmd='rm -f /home/jovyan/europe/04-07-1980.nc' exited=0>"
      ]
     },
     "metadata": {},
     "output_type": "display_data"
    },
    {
     "name": "stderr",
     "output_type": "stream",
     "text": [
      "2019-10-17 11:28:13,140 INFO Sending request to https://cds.climate.copernicus.eu/api/v2/resources/reanalysis-era5-single-levels\n",
      "2019-10-17 11:28:13,377 INFO Request is completed\n",
      "2019-10-17 11:28:13,378 INFO Downloading http://136.156.133.36/cache-compute-0010/cache/data1/adaptor.mars.internal-1571272918.2856998-12111-9-73a3f340-a317-481d-bbda-a4692d98e445.nc to /home/jovyan/europe/05-07-1980.nc (380.2M)\n",
      "2019-10-17 11:28:23,986 INFO Download rate 35.8M/s \n"
     ]
    },
    {
     "data": {
      "text/plain": [
       "<Result cmd='fimex-1.3 -c extractEurope.cfg --input.file /home/jovyan/europe/05-07-1980.nc --output.file /home/jovyan/europe/europe_05-07-1980.nc' exited=0>"
      ]
     },
     "metadata": {},
     "output_type": "display_data"
    },
    {
     "data": {
      "text/plain": [
       "<Result cmd='rm -f /home/jovyan/europe/05-07-1980.nc' exited=0>"
      ]
     },
     "metadata": {},
     "output_type": "display_data"
    },
    {
     "name": "stderr",
     "output_type": "stream",
     "text": [
      "2019-10-17 11:28:24,367 INFO Sending request to https://cds.climate.copernicus.eu/api/v2/resources/reanalysis-era5-single-levels\n",
      "2019-10-17 11:28:25,072 INFO Request is completed\n",
      "2019-10-17 11:28:25,073 INFO Downloading http://136.156.133.37/cache-compute-0011/cache/data8/adaptor.mars.internal-1571272964.1374278-30230-9-a9964f57-35bb-4483-be6d-23c6252f40e9.nc to /home/jovyan/europe/06-07-1980.nc (380.2M)\n",
      "2019-10-17 11:28:31,986 INFO Download rate 55M/s   \n"
     ]
    },
    {
     "data": {
      "text/plain": [
       "<Result cmd='fimex-1.3 -c extractEurope.cfg --input.file /home/jovyan/europe/06-07-1980.nc --output.file /home/jovyan/europe/europe_06-07-1980.nc' exited=0>"
      ]
     },
     "metadata": {},
     "output_type": "display_data"
    },
    {
     "data": {
      "text/plain": [
       "<Result cmd='rm -f /home/jovyan/europe/06-07-1980.nc' exited=0>"
      ]
     },
     "metadata": {},
     "output_type": "display_data"
    },
    {
     "name": "stderr",
     "output_type": "stream",
     "text": [
      "2019-10-17 11:28:32,341 INFO Sending request to https://cds.climate.copernicus.eu/api/v2/resources/reanalysis-era5-single-levels\n",
      "2019-10-17 11:28:33,772 INFO Request is completed\n",
      "2019-10-17 11:28:33,776 INFO Downloading http://136.156.133.41/cache-compute-0013/cache/data7/adaptor.mars.internal-1571273009.4482286-11407-9-67fdf5c8-89fa-4496-9b1d-54d599159196.nc to /home/jovyan/europe/07-07-1980.nc (380.2M)\n",
      "2019-10-17 11:28:47,496 INFO Download rate 27.7M/s \n"
     ]
    },
    {
     "data": {
      "text/plain": [
       "<Result cmd='fimex-1.3 -c extractEurope.cfg --input.file /home/jovyan/europe/07-07-1980.nc --output.file /home/jovyan/europe/europe_07-07-1980.nc' exited=0>"
      ]
     },
     "metadata": {},
     "output_type": "display_data"
    },
    {
     "data": {
      "text/plain": [
       "<Result cmd='rm -f /home/jovyan/europe/07-07-1980.nc' exited=0>"
      ]
     },
     "metadata": {},
     "output_type": "display_data"
    },
    {
     "name": "stderr",
     "output_type": "stream",
     "text": [
      "2019-10-17 11:28:47,830 INFO Sending request to https://cds.climate.copernicus.eu/api/v2/resources/reanalysis-era5-single-levels\n",
      "2019-10-17 11:28:48,516 INFO Request is completed\n",
      "2019-10-17 11:28:48,520 INFO Downloading http://136.156.133.39/cache-compute-0012/cache/data9/adaptor.mars.internal-1571273050.196542-13262-5-10024067-ad6a-4b56-b674-ba03d403103d.nc to /home/jovyan/europe/08-07-1980.nc (380.2M)\n",
      "2019-10-17 11:29:04,950 INFO Download rate 23.1M/s \n"
     ]
    },
    {
     "data": {
      "text/plain": [
       "<Result cmd='fimex-1.3 -c extractEurope.cfg --input.file /home/jovyan/europe/08-07-1980.nc --output.file /home/jovyan/europe/europe_08-07-1980.nc' exited=0>"
      ]
     },
     "metadata": {},
     "output_type": "display_data"
    },
    {
     "data": {
      "text/plain": [
       "<Result cmd='rm -f /home/jovyan/europe/08-07-1980.nc' exited=0>"
      ]
     },
     "metadata": {},
     "output_type": "display_data"
    },
    {
     "name": "stderr",
     "output_type": "stream",
     "text": [
      "2019-10-17 11:29:05,378 INFO Sending request to https://cds.climate.copernicus.eu/api/v2/resources/reanalysis-era5-single-levels\n",
      "2019-10-17 11:29:05,949 INFO Request is completed\n",
      "2019-10-17 11:29:05,953 INFO Downloading http://136.156.133.46/cache-compute-0015/cache/data8/adaptor.mars.internal-1571100002.0491536-24175-5-551b3e9f-33c3-4cbd-8f5c-9b6527526308.nc to /home/jovyan/europe/09-07-1980.nc (380.2M)\n",
      "2019-10-17 11:29:15,862 INFO Download rate 38.4M/s \n"
     ]
    },
    {
     "data": {
      "text/plain": [
       "<Result cmd='fimex-1.3 -c extractEurope.cfg --input.file /home/jovyan/europe/09-07-1980.nc --output.file /home/jovyan/europe/europe_09-07-1980.nc' exited=0>"
      ]
     },
     "metadata": {},
     "output_type": "display_data"
    },
    {
     "data": {
      "text/plain": [
       "<Result cmd='rm -f /home/jovyan/europe/09-07-1980.nc' exited=0>"
      ]
     },
     "metadata": {},
     "output_type": "display_data"
    },
    {
     "name": "stderr",
     "output_type": "stream",
     "text": [
      "2019-10-17 11:29:16,174 INFO Sending request to https://cds.climate.copernicus.eu/api/v2/resources/reanalysis-era5-single-levels\n",
      "2019-10-17 11:29:17,189 INFO Request is completed\n",
      "2019-10-17 11:29:17,190 INFO Downloading http://136.156.132.201/cache-compute-0004/cache/data1/adaptor.mars.internal-1571273104.1589074-9041-5-95c4162a-8f08-44ea-ab0b-a91a1a539e7f.nc to /home/jovyan/europe/10-07-1980.nc (380.2M)\n",
      "2019-10-17 11:29:29,224 INFO Download rate 31.6M/s \n"
     ]
    },
    {
     "data": {
      "text/plain": [
       "<Result cmd='fimex-1.3 -c extractEurope.cfg --input.file /home/jovyan/europe/10-07-1980.nc --output.file /home/jovyan/europe/europe_10-07-1980.nc' exited=0>"
      ]
     },
     "metadata": {},
     "output_type": "display_data"
    },
    {
     "data": {
      "text/plain": [
       "<Result cmd='rm -f /home/jovyan/europe/10-07-1980.nc' exited=0>"
      ]
     },
     "metadata": {},
     "output_type": "display_data"
    },
    {
     "name": "stderr",
     "output_type": "stream",
     "text": [
      "2019-10-17 11:29:30,553 INFO Sending request to https://cds.climate.copernicus.eu/api/v2/resources/reanalysis-era5-single-levels\n",
      "2019-10-17 11:29:31,481 INFO Request is completed\n",
      "2019-10-17 11:29:31,482 INFO Downloading http://136.156.133.39/cache-compute-0012/cache/data0/adaptor.mars.internal-1571100061.0630493-26656-1-a6a2b254-613a-468d-822e-837961a904b1.nc to /home/jovyan/europe/11-07-1980.nc (380.2M)\n",
      "2019-10-17 11:29:45,068 INFO Download rate 28M/s   \n"
     ]
    },
    {
     "data": {
      "text/plain": [
       "<Result cmd='rm -f /home/jovyan/europe/11-07-1980.nc' exited=0>"
      ]
     },
     "metadata": {},
     "output_type": "display_data"
    },
    {
     "name": "stderr",
     "output_type": "stream",
     "text": [
      "2019-10-17 11:29:45,564 INFO Sending request to https://cds.climate.copernicus.eu/api/v2/resources/reanalysis-era5-single-levels\n",
      "2019-10-17 11:29:46,511 INFO Request is completed\n",
      "2019-10-17 11:29:46,512 INFO Downloading http://136.156.132.235/cache-compute-0006/cache/data6/adaptor.mars.internal-1571100094.668804-26735-1-e16bf0bf-f524-46c5-8b5b-73e6e4d3cbd7.nc to /home/jovyan/europe/12-07-1980.nc (380.2M)\n",
      "2019-10-17 11:29:52,763 INFO Download rate 60.8M/s \n"
     ]
    },
    {
     "data": {
      "text/plain": [
       "<Result cmd='fimex-1.3 -c extractEurope.cfg --input.file /home/jovyan/europe/12-07-1980.nc --output.file /home/jovyan/europe/europe_12-07-1980.nc' exited=0>"
      ]
     },
     "metadata": {},
     "output_type": "display_data"
    },
    {
     "data": {
      "text/plain": [
       "<Result cmd='rm -f /home/jovyan/europe/12-07-1980.nc' exited=0>"
      ]
     },
     "metadata": {},
     "output_type": "display_data"
    },
    {
     "name": "stderr",
     "output_type": "stream",
     "text": [
      "2019-10-17 11:29:53,187 INFO Sending request to https://cds.climate.copernicus.eu/api/v2/resources/reanalysis-era5-single-levels\n",
      "2019-10-17 11:29:53,676 INFO Request is completed\n",
      "2019-10-17 11:29:53,679 INFO Downloading http://136.156.133.41/cache-compute-0013/cache/data3/adaptor.mars.internal-1571100132.1937351-25713-3-666b6b9f-f0da-4ff9-9d01-1ea5f402e204.nc to /home/jovyan/europe/13-07-1980.nc (380.2M)\n",
      "2019-10-17 11:30:06,020 INFO Download rate 30.8M/s \n"
     ]
    },
    {
     "data": {
      "text/plain": [
       "<Result cmd='fimex-1.3 -c extractEurope.cfg --input.file /home/jovyan/europe/13-07-1980.nc --output.file /home/jovyan/europe/europe_13-07-1980.nc' exited=0>"
      ]
     },
     "metadata": {},
     "output_type": "display_data"
    },
    {
     "data": {
      "text/plain": [
       "<Result cmd='rm -f /home/jovyan/europe/13-07-1980.nc' exited=0>"
      ]
     },
     "metadata": {},
     "output_type": "display_data"
    },
    {
     "name": "stderr",
     "output_type": "stream",
     "text": [
      "2019-10-17 11:30:06,368 INFO Sending request to https://cds.climate.copernicus.eu/api/v2/resources/reanalysis-era5-single-levels\n",
      "2019-10-17 11:30:07,583 INFO Request is completed\n",
      "2019-10-17 11:30:07,584 INFO Downloading http://136.156.133.39/cache-compute-0012/cache/data5/adaptor.mars.internal-1571273196.5892541-14550-17-1438022e-1cca-4d43-a958-5f11b574205a.nc to /home/jovyan/europe/14-07-1980.nc (380.2M)\n",
      "2019-10-17 11:30:24,472 INFO Download rate 22.5M/s \n"
     ]
    },
    {
     "data": {
      "text/plain": [
       "<Result cmd='fimex-1.3 -c extractEurope.cfg --input.file /home/jovyan/europe/14-07-1980.nc --output.file /home/jovyan/europe/europe_14-07-1980.nc' exited=0>"
      ]
     },
     "metadata": {},
     "output_type": "display_data"
    },
    {
     "data": {
      "text/plain": [
       "<Result cmd='rm -f /home/jovyan/europe/14-07-1980.nc' exited=0>"
      ]
     },
     "metadata": {},
     "output_type": "display_data"
    },
    {
     "name": "stderr",
     "output_type": "stream",
     "text": [
      "2019-10-17 11:30:24,945 INFO Sending request to https://cds.climate.copernicus.eu/api/v2/resources/reanalysis-era5-single-levels\n",
      "2019-10-17 11:30:25,446 INFO Request is completed\n",
      "2019-10-17 11:30:25,447 INFO Downloading http://136.156.132.201/cache-compute-0004/cache/data5/adaptor.mars.internal-1571273236.06401-4772-7-f8aa9a08-dbbe-4064-afa5-368ac0318c5b.nc to /home/jovyan/europe/15-07-1980.nc (380.2M)\n",
      "2019-10-17 11:30:44,814 INFO Download rate 19.6M/s \n"
     ]
    },
    {
     "data": {
      "text/plain": [
       "<Result cmd='fimex-1.3 -c extractEurope.cfg --input.file /home/jovyan/europe/15-07-1980.nc --output.file /home/jovyan/europe/europe_15-07-1980.nc' exited=0>"
      ]
     },
     "metadata": {},
     "output_type": "display_data"
    },
    {
     "data": {
      "text/plain": [
       "<Result cmd='rm -f /home/jovyan/europe/15-07-1980.nc' exited=0>"
      ]
     },
     "metadata": {},
     "output_type": "display_data"
    },
    {
     "name": "stderr",
     "output_type": "stream",
     "text": [
      "2019-10-17 11:30:45,122 INFO Sending request to https://cds.climate.copernicus.eu/api/v2/resources/reanalysis-era5-single-levels\n",
      "2019-10-17 11:30:45,787 INFO Request is completed\n",
      "2019-10-17 11:30:45,791 INFO Downloading http://136.156.132.235/cache-compute-0006/cache/data0/adaptor.mars.internal-1571273269.3455372-20980-11-8ad5251a-2b1c-426f-986d-a1bfc3e61288.nc to /home/jovyan/europe/16-07-1980.nc (380.2M)\n",
      "2019-10-17 11:30:51,063 INFO Download rate 72.2M/s \n"
     ]
    },
    {
     "data": {
      "text/plain": [
       "<Result cmd='fimex-1.3 -c extractEurope.cfg --input.file /home/jovyan/europe/16-07-1980.nc --output.file /home/jovyan/europe/europe_16-07-1980.nc' exited=0>"
      ]
     },
     "metadata": {},
     "output_type": "display_data"
    },
    {
     "data": {
      "text/plain": [
       "<Result cmd='rm -f /home/jovyan/europe/16-07-1980.nc' exited=0>"
      ]
     },
     "metadata": {},
     "output_type": "display_data"
    },
    {
     "name": "stderr",
     "output_type": "stream",
     "text": [
      "2019-10-17 11:30:51,537 INFO Sending request to https://cds.climate.copernicus.eu/api/v2/resources/reanalysis-era5-single-levels\n",
      "2019-10-17 11:30:51,747 INFO Request is completed\n",
      "2019-10-17 11:30:51,748 INFO Downloading http://136.156.133.41/cache-compute-0013/cache/data4/adaptor.mars.internal-1571100289.32408-26534-5-03ce028d-5152-426e-bb25-7529b26379c0.nc to /home/jovyan/europe/17-07-1980.nc (380.2M)\n",
      "2019-10-17 11:31:03,018 INFO Download rate 33.8M/s \n"
     ]
    },
    {
     "data": {
      "text/plain": [
       "<Result cmd='fimex-1.3 -c extractEurope.cfg --input.file /home/jovyan/europe/17-07-1980.nc --output.file /home/jovyan/europe/europe_17-07-1980.nc' exited=0>"
      ]
     },
     "metadata": {},
     "output_type": "display_data"
    },
    {
     "data": {
      "text/plain": [
       "<Result cmd='rm -f /home/jovyan/europe/17-07-1980.nc' exited=0>"
      ]
     },
     "metadata": {},
     "output_type": "display_data"
    },
    {
     "name": "stderr",
     "output_type": "stream",
     "text": [
      "2019-10-17 11:31:03,366 INFO Sending request to https://cds.climate.copernicus.eu/api/v2/resources/reanalysis-era5-single-levels\n",
      "2019-10-17 11:31:04,185 INFO Request is completed\n",
      "2019-10-17 11:31:04,186 INFO Downloading http://136.156.132.153/cache-compute-0002/cache/data3/adaptor.mars.internal-1571273339.980267-7145-5-b292951e-0133-47f8-b2fb-fefbec132208.nc to /home/jovyan/europe/18-07-1980.nc (380.2M)\n",
      "2019-10-17 11:31:14,638 INFO Download rate 36.4M/s \n"
     ]
    },
    {
     "data": {
      "text/plain": [
       "<Result cmd='fimex-1.3 -c extractEurope.cfg --input.file /home/jovyan/europe/18-07-1980.nc --output.file /home/jovyan/europe/europe_18-07-1980.nc' exited=0>"
      ]
     },
     "metadata": {},
     "output_type": "display_data"
    },
    {
     "data": {
      "text/plain": [
       "<Result cmd='rm -f /home/jovyan/europe/18-07-1980.nc' exited=0>"
      ]
     },
     "metadata": {},
     "output_type": "display_data"
    },
    {
     "name": "stderr",
     "output_type": "stream",
     "text": [
      "2019-10-17 11:31:14,960 INFO Sending request to https://cds.climate.copernicus.eu/api/v2/resources/reanalysis-era5-single-levels\n",
      "2019-10-17 11:31:15,158 INFO Request is completed\n",
      "2019-10-17 11:31:15,160 INFO Downloading http://136.156.132.236/cache-compute-0007/cache/data6/adaptor.mars.internal-1571100385.3764734-18137-15-e55ad681-0bd0-460c-8ce0-aa75e4a751bc.nc to /home/jovyan/europe/19-07-1980.nc (380.2M)\n",
      "2019-10-17 11:31:20,466 INFO Download rate 71.7M/s \n"
     ]
    },
    {
     "data": {
      "text/plain": [
       "<Result cmd='fimex-1.3 -c extractEurope.cfg --input.file /home/jovyan/europe/19-07-1980.nc --output.file /home/jovyan/europe/europe_19-07-1980.nc' exited=0>"
      ]
     },
     "metadata": {},
     "output_type": "display_data"
    },
    {
     "data": {
      "text/plain": [
       "<Result cmd='rm -f /home/jovyan/europe/19-07-1980.nc' exited=0>"
      ]
     },
     "metadata": {},
     "output_type": "display_data"
    },
    {
     "name": "stderr",
     "output_type": "stream",
     "text": [
      "2019-10-17 11:31:20,798 INFO Sending request to https://cds.climate.copernicus.eu/api/v2/resources/reanalysis-era5-single-levels\n",
      "2019-10-17 11:31:21,880 INFO Request is completed\n",
      "2019-10-17 11:31:21,884 INFO Downloading http://136.156.132.198/cache-compute-0003/cache/data4/adaptor.mars.internal-1571100427.1892862-18457-3-de990f64-eb86-4f10-9d54-7db023d8687a.nc to /home/jovyan/europe/20-07-1980.nc (380.2M)\n",
      "2019-10-17 11:31:27,600 INFO Download rate 66.5M/s \n"
     ]
    },
    {
     "data": {
      "text/plain": [
       "<Result cmd='fimex-1.3 -c extractEurope.cfg --input.file /home/jovyan/europe/20-07-1980.nc --output.file /home/jovyan/europe/europe_20-07-1980.nc' exited=0>"
      ]
     },
     "metadata": {},
     "output_type": "display_data"
    },
    {
     "data": {
      "text/plain": [
       "<Result cmd='rm -f /home/jovyan/europe/20-07-1980.nc' exited=0>"
      ]
     },
     "metadata": {},
     "output_type": "display_data"
    },
    {
     "name": "stderr",
     "output_type": "stream",
     "text": [
      "2019-10-17 11:31:27,919 INFO Sending request to https://cds.climate.copernicus.eu/api/v2/resources/reanalysis-era5-single-levels\n",
      "2019-10-17 11:31:28,081 INFO Request is completed\n",
      "2019-10-17 11:31:28,085 INFO Downloading http://136.156.133.37/cache-compute-0011/cache/data7/adaptor.mars.internal-1571273762.314814-3768-19-a67c6dff-f88e-4e9a-8742-4e1e4256d97f.nc to /home/jovyan/europe/21-07-1980.nc (380.2M)\n",
      "2019-10-17 11:31:40,207 INFO Download rate 31.4M/s \n"
     ]
    },
    {
     "data": {
      "text/plain": [
       "<Result cmd='fimex-1.3 -c extractEurope.cfg --input.file /home/jovyan/europe/21-07-1980.nc --output.file /home/jovyan/europe/europe_21-07-1980.nc' exited=0>"
      ]
     },
     "metadata": {},
     "output_type": "display_data"
    },
    {
     "data": {
      "text/plain": [
       "<Result cmd='rm -f /home/jovyan/europe/21-07-1980.nc' exited=0>"
      ]
     },
     "metadata": {},
     "output_type": "display_data"
    },
    {
     "name": "stderr",
     "output_type": "stream",
     "text": [
      "2019-10-17 11:31:40,544 INFO Sending request to https://cds.climate.copernicus.eu/api/v2/resources/reanalysis-era5-single-levels\n",
      "2019-10-17 11:31:41,031 INFO Request is completed\n",
      "2019-10-17 11:31:41,032 INFO Downloading http://136.156.133.32/cache-compute-0009/cache/data4/adaptor.mars.internal-1571100489.5349221-18870-11-54bda062-6f8d-4972-91f8-aeb38d191753.nc to /home/jovyan/europe/22-07-1980.nc (380.2M)\n",
      "2019-10-17 11:31:54,197 INFO Download rate 28.9M/s \n"
     ]
    },
    {
     "data": {
      "text/plain": [
       "<Result cmd='fimex-1.3 -c extractEurope.cfg --input.file /home/jovyan/europe/22-07-1980.nc --output.file /home/jovyan/europe/europe_22-07-1980.nc' exited=0>"
      ]
     },
     "metadata": {},
     "output_type": "display_data"
    },
    {
     "data": {
      "text/plain": [
       "<Result cmd='rm -f /home/jovyan/europe/22-07-1980.nc' exited=0>"
      ]
     },
     "metadata": {},
     "output_type": "display_data"
    },
    {
     "name": "stderr",
     "output_type": "stream",
     "text": [
      "2019-10-17 11:31:54,558 INFO Sending request to https://cds.climate.copernicus.eu/api/v2/resources/reanalysis-era5-single-levels\n",
      "2019-10-17 11:31:54,678 INFO Request is completed\n",
      "2019-10-17 11:31:54,679 INFO Downloading http://136.156.132.198/cache-compute-0003/cache/data7/adaptor.mars.internal-1571100520.479978-17079-5-47af6d12-2d02-4e0a-975c-361a1e65f2c8.nc to /home/jovyan/europe/23-07-1980.nc (380.2M)\n",
      "2019-10-17 11:32:11,662 INFO Download rate 22.4M/s \n"
     ]
    },
    {
     "data": {
      "text/plain": [
       "<Result cmd='rm -f /home/jovyan/europe/23-07-1980.nc' exited=0>"
      ]
     },
     "metadata": {},
     "output_type": "display_data"
    },
    {
     "name": "stderr",
     "output_type": "stream",
     "text": [
      "2019-10-17 11:32:11,991 INFO Sending request to https://cds.climate.copernicus.eu/api/v2/resources/reanalysis-era5-single-levels\n",
      "2019-10-17 11:32:12,247 INFO Request is completed\n",
      "2019-10-17 11:32:12,248 INFO Downloading http://136.156.132.236/cache-compute-0007/cache/data1/adaptor.mars.internal-1571273818.4650993-10741-7-e133d9bd-7dde-436f-a4c1-c7cd73125e54.nc to /home/jovyan/europe/24-07-1980.nc (380.2M)\n",
      "2019-10-17 11:32:19,992 INFO Download rate 49.1M/s \n"
     ]
    },
    {
     "data": {
      "text/plain": [
       "<Result cmd='fimex-1.3 -c extractEurope.cfg --input.file /home/jovyan/europe/24-07-1980.nc --output.file /home/jovyan/europe/europe_24-07-1980.nc' exited=0>"
      ]
     },
     "metadata": {},
     "output_type": "display_data"
    },
    {
     "data": {
      "text/plain": [
       "<Result cmd='rm -f /home/jovyan/europe/24-07-1980.nc' exited=0>"
      ]
     },
     "metadata": {},
     "output_type": "display_data"
    },
    {
     "name": "stderr",
     "output_type": "stream",
     "text": [
      "2019-10-17 11:32:20,380 INFO Sending request to https://cds.climate.copernicus.eu/api/v2/resources/reanalysis-era5-single-levels\n",
      "2019-10-17 11:32:21,544 INFO Request is completed\n",
      "2019-10-17 11:32:21,545 INFO Downloading http://136.156.133.42/cache-compute-0014/cache/data0/adaptor.mars.internal-1571100595.5484033-7493-11-ea6654f5-4dab-4cd7-b07b-94cd42a88695.nc to /home/jovyan/europe/25-07-1980.nc (380.2M)\n",
      "2019-10-17 11:32:38,252 INFO Download rate 22.8M/s \n"
     ]
    },
    {
     "data": {
      "text/plain": [
       "<Result cmd='fimex-1.3 -c extractEurope.cfg --input.file /home/jovyan/europe/25-07-1980.nc --output.file /home/jovyan/europe/europe_25-07-1980.nc' exited=0>"
      ]
     },
     "metadata": {},
     "output_type": "display_data"
    },
    {
     "data": {
      "text/plain": [
       "<Result cmd='rm -f /home/jovyan/europe/25-07-1980.nc' exited=0>"
      ]
     },
     "metadata": {},
     "output_type": "display_data"
    },
    {
     "name": "stderr",
     "output_type": "stream",
     "text": [
      "2019-10-17 11:32:38,659 INFO Sending request to https://cds.climate.copernicus.eu/api/v2/resources/reanalysis-era5-single-levels\n",
      "2019-10-17 11:32:38,834 INFO Request is completed\n",
      "2019-10-17 11:32:38,835 INFO Downloading http://136.156.133.46/cache-compute-0015/cache/data1/adaptor.mars.internal-1571273869.295913-18517-17-a2a6784c-eac9-4e87-9a31-318d948fdd9e.nc to /home/jovyan/europe/26-07-1980.nc (380.2M)\n",
      "2019-10-17 11:32:47,295 INFO Download rate 44.9M/s \n"
     ]
    },
    {
     "data": {
      "text/plain": [
       "<Result cmd='fimex-1.3 -c extractEurope.cfg --input.file /home/jovyan/europe/26-07-1980.nc --output.file /home/jovyan/europe/europe_26-07-1980.nc' exited=0>"
      ]
     },
     "metadata": {},
     "output_type": "display_data"
    },
    {
     "data": {
      "text/plain": [
       "<Result cmd='rm -f /home/jovyan/europe/26-07-1980.nc' exited=0>"
      ]
     },
     "metadata": {},
     "output_type": "display_data"
    },
    {
     "name": "stderr",
     "output_type": "stream",
     "text": [
      "2019-10-17 11:32:47,801 INFO Sending request to https://cds.climate.copernicus.eu/api/v2/resources/reanalysis-era5-single-levels\n",
      "2019-10-17 11:32:48,018 INFO Request is completed\n",
      "2019-10-17 11:32:48,019 INFO Downloading http://136.156.132.235/cache-compute-0006/cache/data9/adaptor.mars.internal-1571100674.5085862-25790-9-15a99e64-8a82-4b12-8ac3-b08c271597d6.nc to /home/jovyan/europe/27-07-1980.nc (380.2M)\n",
      "2019-10-17 11:33:09,682 INFO Download rate 17.6M/s \n"
     ]
    },
    {
     "data": {
      "text/plain": [
       "<Result cmd='fimex-1.3 -c extractEurope.cfg --input.file /home/jovyan/europe/27-07-1980.nc --output.file /home/jovyan/europe/europe_27-07-1980.nc' exited=0>"
      ]
     },
     "metadata": {},
     "output_type": "display_data"
    },
    {
     "data": {
      "text/plain": [
       "<Result cmd='rm -f /home/jovyan/europe/27-07-1980.nc' exited=0>"
      ]
     },
     "metadata": {},
     "output_type": "display_data"
    },
    {
     "name": "stderr",
     "output_type": "stream",
     "text": [
      "2019-10-17 11:33:10,069 INFO Sending request to https://cds.climate.copernicus.eu/api/v2/resources/reanalysis-era5-single-levels\n",
      "2019-10-17 11:33:10,919 INFO Request is completed\n",
      "2019-10-17 11:33:10,920 INFO Downloading http://136.156.133.36/cache-compute-0010/cache/data9/adaptor.mars.internal-1571100726.6322746-24912-9-f8437bbc-e9da-4d32-bc8c-8a8b3764b0ea.nc to /home/jovyan/europe/28-07-1980.nc (380.2M)\n",
      "2019-10-17 11:33:29,603 INFO Download rate 20.4M/s \n"
     ]
    },
    {
     "data": {
      "text/plain": [
       "<Result cmd='fimex-1.3 -c extractEurope.cfg --input.file /home/jovyan/europe/28-07-1980.nc --output.file /home/jovyan/europe/europe_28-07-1980.nc' exited=0>"
      ]
     },
     "metadata": {},
     "output_type": "display_data"
    },
    {
     "data": {
      "text/plain": [
       "<Result cmd='rm -f /home/jovyan/europe/28-07-1980.nc' exited=0>"
      ]
     },
     "metadata": {},
     "output_type": "display_data"
    },
    {
     "name": "stderr",
     "output_type": "stream",
     "text": [
      "2019-10-17 11:33:29,984 INFO Sending request to https://cds.climate.copernicus.eu/api/v2/resources/reanalysis-era5-single-levels\n",
      "2019-10-17 11:33:30,344 INFO Request is completed\n",
      "2019-10-17 11:33:30,347 INFO Downloading http://136.156.133.41/cache-compute-0013/cache/data6/adaptor.mars.internal-1571273927.515251-21952-3-ba16cd57-6d69-430e-9f69-35ebe598d5e6.nc to /home/jovyan/europe/29-07-1980.nc (380.2M)\n",
      "2019-10-17 11:33:43,175 INFO Download rate 29.6M/s \n"
     ]
    },
    {
     "data": {
      "text/plain": [
       "<Result cmd='fimex-1.3 -c extractEurope.cfg --input.file /home/jovyan/europe/29-07-1980.nc --output.file /home/jovyan/europe/europe_29-07-1980.nc' exited=0>"
      ]
     },
     "metadata": {},
     "output_type": "display_data"
    },
    {
     "data": {
      "text/plain": [
       "<Result cmd='rm -f /home/jovyan/europe/29-07-1980.nc' exited=0>"
      ]
     },
     "metadata": {},
     "output_type": "display_data"
    },
    {
     "name": "stderr",
     "output_type": "stream",
     "text": [
      "2019-10-17 11:33:43,711 INFO Sending request to https://cds.climate.copernicus.eu/api/v2/resources/reanalysis-era5-single-levels\n",
      "2019-10-17 11:33:43,884 INFO Request is completed\n",
      "2019-10-17 11:33:43,885 INFO Downloading http://136.156.133.36/cache-compute-0010/cache/data0/adaptor.mars.internal-1571100797.826906-24912-11-576c6a14-5c50-4d84-96a8-a9240c915974.nc to /home/jovyan/europe/30-07-1980.nc (380.2M)\n",
      "2019-10-17 11:34:16,924 INFO Download rate 11.5M/s \n"
     ]
    },
    {
     "data": {
      "text/plain": [
       "<Result cmd='fimex-1.3 -c extractEurope.cfg --input.file /home/jovyan/europe/30-07-1980.nc --output.file /home/jovyan/europe/europe_30-07-1980.nc' exited=0>"
      ]
     },
     "metadata": {},
     "output_type": "display_data"
    },
    {
     "data": {
      "text/plain": [
       "<Result cmd='rm -f /home/jovyan/europe/30-07-1980.nc' exited=0>"
      ]
     },
     "metadata": {},
     "output_type": "display_data"
    },
    {
     "name": "stderr",
     "output_type": "stream",
     "text": [
      "2019-10-17 11:34:17,594 INFO Sending request to https://cds.climate.copernicus.eu/api/v2/resources/reanalysis-era5-single-levels\n",
      "2019-10-17 11:34:17,736 INFO Request is completed\n",
      "2019-10-17 11:34:17,737 INFO Downloading http://136.156.133.42/cache-compute-0014/cache/data6/adaptor.mars.internal-1571100846.7543623-7075-19-c87be599-b436-49f9-974c-8c665e864c36.nc to /home/jovyan/europe/31-07-1980.nc (380.2M)\n",
      "2019-10-17 11:34:30,724 INFO Download rate 29.3M/s \n"
     ]
    },
    {
     "data": {
      "text/plain": [
       "<Result cmd='fimex-1.3 -c extractEurope.cfg --input.file /home/jovyan/europe/31-07-1980.nc --output.file /home/jovyan/europe/europe_31-07-1980.nc' exited=0>"
      ]
     },
     "metadata": {},
     "output_type": "display_data"
    },
    {
     "data": {
      "text/plain": [
       "<Result cmd='rm -f /home/jovyan/europe/31-07-1980.nc' exited=0>"
      ]
     },
     "metadata": {},
     "output_type": "display_data"
    },
    {
     "name": "stderr",
     "output_type": "stream",
     "text": [
      "2019-10-17 11:34:31,058 INFO Sending request to https://cds.climate.copernicus.eu/api/v2/resources/reanalysis-era5-single-levels\n",
      "2019-10-17 11:34:31,629 INFO Request is completed\n",
      "2019-10-17 11:34:31,630 INFO Downloading http://136.156.133.37/cache-compute-0011/cache/data5/adaptor.mars.internal-1571273991.730343-7382-1-60e55b31-7b06-42b2-84b8-41c0e35e002d.nc to /home/jovyan/europe/01-08-1980.nc (380.2M)\n",
      "2019-10-17 11:34:47,842 INFO Download rate 23.5M/s \n"
     ]
    },
    {
     "data": {
      "text/plain": [
       "<Result cmd='fimex-1.3 -c extractEurope.cfg --input.file /home/jovyan/europe/01-08-1980.nc --output.file /home/jovyan/europe/europe_01-08-1980.nc' exited=0>"
      ]
     },
     "metadata": {},
     "output_type": "display_data"
    },
    {
     "data": {
      "text/plain": [
       "<Result cmd='rm -f /home/jovyan/europe/01-08-1980.nc' exited=0>"
      ]
     },
     "metadata": {},
     "output_type": "display_data"
    },
    {
     "name": "stderr",
     "output_type": "stream",
     "text": [
      "2019-10-17 11:34:48,172 INFO Sending request to https://cds.climate.copernicus.eu/api/v2/resources/reanalysis-era5-single-levels\n",
      "2019-10-17 11:34:48,511 INFO Request is completed\n",
      "2019-10-17 11:34:48,515 INFO Downloading http://136.156.132.110/cache-compute-0001/cache/data4/adaptor.mars.internal-1571274036.900339-13709-13-758706f2-6f1d-4b6d-9672-c48a277cead3.nc to /home/jovyan/europe/02-08-1980.nc (380.2M)\n",
      "2019-10-17 11:34:56,760 INFO Download rate 46.1M/s \n"
     ]
    },
    {
     "data": {
      "text/plain": [
       "<Result cmd='fimex-1.3 -c extractEurope.cfg --input.file /home/jovyan/europe/02-08-1980.nc --output.file /home/jovyan/europe/europe_02-08-1980.nc' exited=0>"
      ]
     },
     "metadata": {},
     "output_type": "display_data"
    },
    {
     "data": {
      "text/plain": [
       "<Result cmd='rm -f /home/jovyan/europe/02-08-1980.nc' exited=0>"
      ]
     },
     "metadata": {},
     "output_type": "display_data"
    },
    {
     "name": "stderr",
     "output_type": "stream",
     "text": [
      "2019-10-17 11:34:57,196 INFO Sending request to https://cds.climate.copernicus.eu/api/v2/resources/reanalysis-era5-single-levels\n",
      "2019-10-17 11:34:58,318 INFO Request is completed\n",
      "2019-10-17 11:34:58,319 INFO Downloading http://136.156.132.198/cache-compute-0003/cache/data1/adaptor.mars.internal-1571100977.4168675-15654-13-09f502fa-dad3-4945-bf32-c32c8e3280a5.nc to /home/jovyan/europe/03-08-1980.nc (380.2M)\n",
      "2019-10-17 11:35:10,545 INFO Download rate 31.1M/s \n"
     ]
    },
    {
     "data": {
      "text/plain": [
       "<Result cmd='fimex-1.3 -c extractEurope.cfg --input.file /home/jovyan/europe/03-08-1980.nc --output.file /home/jovyan/europe/europe_03-08-1980.nc' exited=0>"
      ]
     },
     "metadata": {},
     "output_type": "display_data"
    },
    {
     "data": {
      "text/plain": [
       "<Result cmd='rm -f /home/jovyan/europe/03-08-1980.nc' exited=0>"
      ]
     },
     "metadata": {},
     "output_type": "display_data"
    },
    {
     "name": "stderr",
     "output_type": "stream",
     "text": [
      "2019-10-17 11:35:10,922 INFO Sending request to https://cds.climate.copernicus.eu/api/v2/resources/reanalysis-era5-single-levels\n",
      "2019-10-17 11:35:11,947 INFO Request is completed\n",
      "2019-10-17 11:35:11,948 INFO Downloading http://136.156.132.198/cache-compute-0003/cache/data8/adaptor.mars.internal-1571274087.8102794-3808-7-cbd28828-5a65-4d68-85c4-f94cf796869e.nc to /home/jovyan/europe/04-08-1980.nc (380.2M)\n",
      "2019-10-17 11:35:21,772 INFO Download rate 38.7M/s \n"
     ]
    },
    {
     "data": {
      "text/plain": [
       "<Result cmd='fimex-1.3 -c extractEurope.cfg --input.file /home/jovyan/europe/04-08-1980.nc --output.file /home/jovyan/europe/europe_04-08-1980.nc' exited=0>"
      ]
     },
     "metadata": {},
     "output_type": "display_data"
    },
    {
     "data": {
      "text/plain": [
       "<Result cmd='rm -f /home/jovyan/europe/04-08-1980.nc' exited=0>"
      ]
     },
     "metadata": {},
     "output_type": "display_data"
    },
    {
     "name": "stderr",
     "output_type": "stream",
     "text": [
      "2019-10-17 11:35:22,184 INFO Sending request to https://cds.climate.copernicus.eu/api/v2/resources/reanalysis-era5-single-levels\n",
      "2019-10-17 11:35:22,371 INFO Request is completed\n",
      "2019-10-17 11:35:22,372 INFO Downloading http://136.156.132.105/cache-compute-0000/cache/data4/adaptor.mars.internal-1571274119.906087-18797-1-a3dd958a-c152-4adb-8274-1a891aa3a275.nc to /home/jovyan/europe/05-08-1980.nc (380.2M)\n",
      "2019-10-17 11:35:37,469 INFO Download rate 25.2M/s \n"
     ]
    },
    {
     "data": {
      "text/plain": [
       "<Result cmd='fimex-1.3 -c extractEurope.cfg --input.file /home/jovyan/europe/05-08-1980.nc --output.file /home/jovyan/europe/europe_05-08-1980.nc' exited=0>"
      ]
     },
     "metadata": {},
     "output_type": "display_data"
    },
    {
     "data": {
      "text/plain": [
       "<Result cmd='rm -f /home/jovyan/europe/05-08-1980.nc' exited=0>"
      ]
     },
     "metadata": {},
     "output_type": "display_data"
    },
    {
     "name": "stderr",
     "output_type": "stream",
     "text": [
      "2019-10-17 11:35:37,776 INFO Sending request to https://cds.climate.copernicus.eu/api/v2/resources/reanalysis-era5-single-levels\n",
      "2019-10-17 11:35:37,948 INFO Request is completed\n",
      "2019-10-17 11:35:37,949 INFO Downloading http://136.156.133.36/cache-compute-0010/cache/data8/adaptor.mars.internal-1571101104.5261514-25274-15-c613d020-87db-4ad0-8598-a74a032c2b25.nc to /home/jovyan/europe/06-08-1980.nc (380.2M)\n",
      "2019-10-17 11:36:02,841 INFO Download rate 15.3M/s \n"
     ]
    },
    {
     "data": {
      "text/plain": [
       "<Result cmd='fimex-1.3 -c extractEurope.cfg --input.file /home/jovyan/europe/06-08-1980.nc --output.file /home/jovyan/europe/europe_06-08-1980.nc' exited=0>"
      ]
     },
     "metadata": {},
     "output_type": "display_data"
    },
    {
     "data": {
      "text/plain": [
       "<Result cmd='rm -f /home/jovyan/europe/06-08-1980.nc' exited=0>"
      ]
     },
     "metadata": {},
     "output_type": "display_data"
    },
    {
     "name": "stderr",
     "output_type": "stream",
     "text": [
      "2019-10-17 11:36:03,236 INFO Sending request to https://cds.climate.copernicus.eu/api/v2/resources/reanalysis-era5-single-levels\n",
      "2019-10-17 11:36:03,376 INFO Request is completed\n",
      "2019-10-17 11:36:03,377 INFO Downloading http://136.156.132.235/cache-compute-0006/cache/data8/adaptor.mars.internal-1571101133.4815056-28638-5-cc42afb8-5867-4b31-b91a-4d7090433c00.nc to /home/jovyan/europe/07-08-1980.nc (380.2M)\n",
      "2019-10-17 11:36:16,134 INFO Download rate 29.8M/s \n"
     ]
    },
    {
     "data": {
      "text/plain": [
       "<Result cmd='fimex-1.3 -c extractEurope.cfg --input.file /home/jovyan/europe/07-08-1980.nc --output.file /home/jovyan/europe/europe_07-08-1980.nc' exited=0>"
      ]
     },
     "metadata": {},
     "output_type": "display_data"
    },
    {
     "data": {
      "text/plain": [
       "<Result cmd='rm -f /home/jovyan/europe/07-08-1980.nc' exited=0>"
      ]
     },
     "metadata": {},
     "output_type": "display_data"
    },
    {
     "name": "stderr",
     "output_type": "stream",
     "text": [
      "2019-10-17 11:36:16,522 INFO Sending request to https://cds.climate.copernicus.eu/api/v2/resources/reanalysis-era5-single-levels\n",
      "2019-10-17 11:36:16,687 INFO Request is completed\n",
      "2019-10-17 11:36:16,688 INFO Downloading http://136.156.133.32/cache-compute-0009/cache/data7/adaptor.mars.internal-1571274209.428947-9241-3-14a36abf-d71e-4e1c-8dc2-57bd3de37ee1.nc to /home/jovyan/europe/08-08-1980.nc (380.2M)\n",
      "2019-10-17 11:36:37,643 INFO Download rate 18.1M/s \n"
     ]
    },
    {
     "data": {
      "text/plain": [
       "<Result cmd='fimex-1.3 -c extractEurope.cfg --input.file /home/jovyan/europe/08-08-1980.nc --output.file /home/jovyan/europe/europe_08-08-1980.nc' exited=0>"
      ]
     },
     "metadata": {},
     "output_type": "display_data"
    },
    {
     "data": {
      "text/plain": [
       "<Result cmd='rm -f /home/jovyan/europe/08-08-1980.nc' exited=0>"
      ]
     },
     "metadata": {},
     "output_type": "display_data"
    },
    {
     "name": "stderr",
     "output_type": "stream",
     "text": [
      "2019-10-17 11:36:38,042 INFO Sending request to https://cds.climate.copernicus.eu/api/v2/resources/reanalysis-era5-single-levels\n",
      "2019-10-17 11:36:38,770 INFO Request is completed\n",
      "2019-10-17 11:36:38,773 INFO Downloading http://136.156.132.235/cache-compute-0006/cache/data6/adaptor.mars.internal-1571101212.832753-31230-1-c02bf37d-41a0-477f-85a9-373b5125e67f.nc to /home/jovyan/europe/09-08-1980.nc (380.2M)\n",
      "2019-10-17 11:36:56,981 INFO Download rate 20.9M/s \n"
     ]
    },
    {
     "data": {
      "text/plain": [
       "<Result cmd='rm -f /home/jovyan/europe/09-08-1980.nc' exited=0>"
      ]
     },
     "metadata": {},
     "output_type": "display_data"
    },
    {
     "name": "stderr",
     "output_type": "stream",
     "text": [
      "2019-10-17 11:36:57,381 INFO Sending request to https://cds.climate.copernicus.eu/api/v2/resources/reanalysis-era5-single-levels\n",
      "2019-10-17 11:36:58,493 INFO Request is completed\n",
      "2019-10-17 11:36:58,494 INFO Downloading http://136.156.133.32/cache-compute-0009/cache/data2/adaptor.mars.internal-1571274274.2059479-8265-9-01089702-02b2-4509-9b10-0feecfb86a44.nc to /home/jovyan/europe/10-08-1980.nc (380.2M)\n",
      "2019-10-17 11:37:21,105 INFO Download rate 16.8M/s \n"
     ]
    },
    {
     "data": {
      "text/plain": [
       "<Result cmd='fimex-1.3 -c extractEurope.cfg --input.file /home/jovyan/europe/10-08-1980.nc --output.file /home/jovyan/europe/europe_10-08-1980.nc' exited=0>"
      ]
     },
     "metadata": {},
     "output_type": "display_data"
    },
    {
     "data": {
      "text/plain": [
       "<Result cmd='rm -f /home/jovyan/europe/10-08-1980.nc' exited=0>"
      ]
     },
     "metadata": {},
     "output_type": "display_data"
    },
    {
     "name": "stderr",
     "output_type": "stream",
     "text": [
      "2019-10-17 11:37:21,419 INFO Sending request to https://cds.climate.copernicus.eu/api/v2/resources/reanalysis-era5-single-levels\n",
      "2019-10-17 11:37:21,616 INFO Request is completed\n",
      "2019-10-17 11:37:21,617 INFO Downloading http://136.156.133.32/cache-compute-0009/cache/data1/adaptor.mars.internal-1571101297.6880863-20089-15-645b62a3-754d-438f-9038-928817461b8b.nc to /home/jovyan/europe/11-08-1980.nc (380.2M)\n",
      "2019-10-17 11:37:41,612 INFO Download rate 19M/s   \n"
     ]
    },
    {
     "data": {
      "text/plain": [
       "<Result cmd='fimex-1.3 -c extractEurope.cfg --input.file /home/jovyan/europe/11-08-1980.nc --output.file /home/jovyan/europe/europe_11-08-1980.nc' exited=0>"
      ]
     },
     "metadata": {},
     "output_type": "display_data"
    },
    {
     "data": {
      "text/plain": [
       "<Result cmd='rm -f /home/jovyan/europe/11-08-1980.nc' exited=0>"
      ]
     },
     "metadata": {},
     "output_type": "display_data"
    },
    {
     "name": "stderr",
     "output_type": "stream",
     "text": [
      "2019-10-17 11:37:41,933 INFO Sending request to https://cds.climate.copernicus.eu/api/v2/resources/reanalysis-era5-single-levels\n",
      "2019-10-17 11:37:42,272 INFO Request is completed\n",
      "2019-10-17 11:37:42,273 INFO Downloading http://136.156.133.32/cache-compute-0009/cache/data5/adaptor.mars.internal-1571274321.2547476-9241-5-5158b5b7-78a5-46b4-8a8d-bbf577684aba.nc to /home/jovyan/europe/12-08-1980.nc (380.2M)\n",
      "2019-10-17 11:37:55,385 INFO Download rate 29M/s   \n"
     ]
    },
    {
     "data": {
      "text/plain": [
       "<Result cmd='fimex-1.3 -c extractEurope.cfg --input.file /home/jovyan/europe/12-08-1980.nc --output.file /home/jovyan/europe/europe_12-08-1980.nc' exited=0>"
      ]
     },
     "metadata": {},
     "output_type": "display_data"
    },
    {
     "data": {
      "text/plain": [
       "<Result cmd='rm -f /home/jovyan/europe/12-08-1980.nc' exited=0>"
      ]
     },
     "metadata": {},
     "output_type": "display_data"
    },
    {
     "name": "stderr",
     "output_type": "stream",
     "text": [
      "2019-10-17 11:37:55,742 INFO Sending request to https://cds.climate.copernicus.eu/api/v2/resources/reanalysis-era5-single-levels\n",
      "2019-10-17 11:37:58,327 INFO Request is completed\n",
      "2019-10-17 11:37:58,329 INFO Downloading http://136.156.133.36/cache-compute-0010/cache/data6/adaptor.mars.internal-1571274357.956116-20332-11-81fd668b-21f7-4c01-8c2b-ae0af4e359af.nc to /home/jovyan/europe/13-08-1980.nc (380.2M)\n",
      "2019-10-17 11:38:10,104 INFO Download rate 32.3M/s \n"
     ]
    },
    {
     "data": {
      "text/plain": [
       "<Result cmd='fimex-1.3 -c extractEurope.cfg --input.file /home/jovyan/europe/13-08-1980.nc --output.file /home/jovyan/europe/europe_13-08-1980.nc' exited=0>"
      ]
     },
     "metadata": {},
     "output_type": "display_data"
    },
    {
     "data": {
      "text/plain": [
       "<Result cmd='rm -f /home/jovyan/europe/13-08-1980.nc' exited=0>"
      ]
     },
     "metadata": {},
     "output_type": "display_data"
    },
    {
     "name": "stderr",
     "output_type": "stream",
     "text": [
      "2019-10-17 11:38:10,688 INFO Sending request to https://cds.climate.copernicus.eu/api/v2/resources/reanalysis-era5-single-levels\n",
      "2019-10-17 11:38:11,033 INFO Request is completed\n",
      "2019-10-17 11:38:11,037 INFO Downloading http://136.156.133.32/cache-compute-0009/cache/data0/adaptor.mars.internal-1571274395.6884234-6750-15-82e0910c-79cb-404d-8af8-48e04da7b349.nc to /home/jovyan/europe/14-08-1980.nc (380.2M)\n",
      "2019-10-17 11:38:21,642 INFO Download rate 35.9M/s \n"
     ]
    },
    {
     "data": {
      "text/plain": [
       "<Result cmd='fimex-1.3 -c extractEurope.cfg --input.file /home/jovyan/europe/14-08-1980.nc --output.file /home/jovyan/europe/europe_14-08-1980.nc' exited=0>"
      ]
     },
     "metadata": {},
     "output_type": "display_data"
    },
    {
     "data": {
      "text/plain": [
       "<Result cmd='rm -f /home/jovyan/europe/14-08-1980.nc' exited=0>"
      ]
     },
     "metadata": {},
     "output_type": "display_data"
    },
    {
     "name": "stderr",
     "output_type": "stream",
     "text": [
      "2019-10-17 11:38:21,945 INFO Sending request to https://cds.climate.copernicus.eu/api/v2/resources/reanalysis-era5-single-levels\n",
      "2019-10-17 11:38:22,311 INFO Request is completed\n",
      "2019-10-17 11:38:22,312 INFO Downloading http://136.156.132.201/cache-compute-0004/cache/data2/adaptor.mars.internal-1571274433.7647746-9041-11-2396ea4a-8c31-4829-b1e9-9c29a443efe7.nc to /home/jovyan/europe/15-08-1980.nc (380.2M)\n",
      "2019-10-17 11:38:39,319 INFO Download rate 22.4M/s \n"
     ]
    },
    {
     "data": {
      "text/plain": [
       "<Result cmd='fimex-1.3 -c extractEurope.cfg --input.file /home/jovyan/europe/15-08-1980.nc --output.file /home/jovyan/europe/europe_15-08-1980.nc' exited=0>"
      ]
     },
     "metadata": {},
     "output_type": "display_data"
    },
    {
     "data": {
      "text/plain": [
       "<Result cmd='rm -f /home/jovyan/europe/15-08-1980.nc' exited=0>"
      ]
     },
     "metadata": {},
     "output_type": "display_data"
    },
    {
     "name": "stderr",
     "output_type": "stream",
     "text": [
      "2019-10-17 11:38:39,799 INFO Sending request to https://cds.climate.copernicus.eu/api/v2/resources/reanalysis-era5-single-levels\n",
      "2019-10-17 11:38:40,671 INFO Request is queued\n",
      "2019-10-17 11:38:41,697 INFO Request is running\n",
      "2019-10-17 11:39:01,621 INFO Request is completed\n",
      "2019-10-17 11:39:01,625 INFO Downloading http://136.156.132.236/cache-compute-0007/cache/data0/adaptor.mars.internal-1571312321.1103203-24107-11-61e20f3d-ec07-4015-90ac-8f91cce4e358.nc to /home/jovyan/europe/16-08-1980.nc (380.2M)\n",
      "2019-10-17 11:39:15,494 INFO Download rate 27.4M/s \n"
     ]
    },
    {
     "data": {
      "text/plain": [
       "<Result cmd='fimex-1.3 -c extractEurope.cfg --input.file /home/jovyan/europe/16-08-1980.nc --output.file /home/jovyan/europe/europe_16-08-1980.nc' exited=0>"
      ]
     },
     "metadata": {},
     "output_type": "display_data"
    },
    {
     "data": {
      "text/plain": [
       "<Result cmd='rm -f /home/jovyan/europe/16-08-1980.nc' exited=0>"
      ]
     },
     "metadata": {},
     "output_type": "display_data"
    },
    {
     "name": "stderr",
     "output_type": "stream",
     "text": [
      "2019-10-17 11:39:15,870 INFO Sending request to https://cds.climate.copernicus.eu/api/v2/resources/reanalysis-era5-single-levels\n",
      "2019-10-17 11:39:16,523 INFO Request is completed\n",
      "2019-10-17 11:39:16,526 INFO Downloading http://136.156.133.42/cache-compute-0014/cache/data4/adaptor.mars.internal-1571274480.3056993-7283-13-cf9aafc9-c767-4e00-aa89-b53372a6de1d.nc to /home/jovyan/europe/17-08-1980.nc (380.2M)\n",
      "2019-10-17 11:39:30,104 INFO Download rate 28M/s   \n"
     ]
    },
    {
     "data": {
      "text/plain": [
       "<Result cmd='fimex-1.3 -c extractEurope.cfg --input.file /home/jovyan/europe/17-08-1980.nc --output.file /home/jovyan/europe/europe_17-08-1980.nc' exited=0>"
      ]
     },
     "metadata": {},
     "output_type": "display_data"
    },
    {
     "data": {
      "text/plain": [
       "<Result cmd='rm -f /home/jovyan/europe/17-08-1980.nc' exited=0>"
      ]
     },
     "metadata": {},
     "output_type": "display_data"
    },
    {
     "name": "stderr",
     "output_type": "stream",
     "text": [
      "2019-10-17 11:39:31,631 INFO Sending request to https://cds.climate.copernicus.eu/api/v2/resources/reanalysis-era5-single-levels\n",
      "2019-10-17 11:39:32,772 INFO Request is completed\n",
      "2019-10-17 11:39:32,773 INFO Downloading http://136.156.132.198/cache-compute-0003/cache/data3/adaptor.mars.internal-1571274516.4535933-9985-5-86d792ae-74f3-4d34-880f-9691261053bc.nc to /home/jovyan/europe/18-08-1980.nc (380.2M)\n",
      "2019-10-17 11:39:42,848 INFO Download rate 37.7M/s \n"
     ]
    },
    {
     "data": {
      "text/plain": [
       "<Result cmd='fimex-1.3 -c extractEurope.cfg --input.file /home/jovyan/europe/18-08-1980.nc --output.file /home/jovyan/europe/europe_18-08-1980.nc' exited=0>"
      ]
     },
     "metadata": {},
     "output_type": "display_data"
    },
    {
     "data": {
      "text/plain": [
       "<Result cmd='rm -f /home/jovyan/europe/18-08-1980.nc' exited=0>"
      ]
     },
     "metadata": {},
     "output_type": "display_data"
    },
    {
     "name": "stderr",
     "output_type": "stream",
     "text": [
      "2019-10-17 11:39:43,207 INFO Sending request to https://cds.climate.copernicus.eu/api/v2/resources/reanalysis-era5-single-levels\n",
      "2019-10-17 11:39:43,375 INFO Request is completed\n",
      "2019-10-17 11:39:43,376 INFO Downloading http://136.156.132.198/cache-compute-0003/cache/data1/adaptor.mars.internal-1571274556.611777-4421-19-093ca918-be98-4ac5-b3a9-3be8511c4b7e.nc to /home/jovyan/europe/19-08-1980.nc (380.2M)\n",
      "2019-10-17 11:39:50,454 INFO Download rate 53.7M/s \n"
     ]
    },
    {
     "data": {
      "text/plain": [
       "<Result cmd='fimex-1.3 -c extractEurope.cfg --input.file /home/jovyan/europe/19-08-1980.nc --output.file /home/jovyan/europe/europe_19-08-1980.nc' exited=0>"
      ]
     },
     "metadata": {},
     "output_type": "display_data"
    },
    {
     "data": {
      "text/plain": [
       "<Result cmd='rm -f /home/jovyan/europe/19-08-1980.nc' exited=0>"
      ]
     },
     "metadata": {},
     "output_type": "display_data"
    },
    {
     "name": "stderr",
     "output_type": "stream",
     "text": [
      "2019-10-17 11:39:50,797 INFO Sending request to https://cds.climate.copernicus.eu/api/v2/resources/reanalysis-era5-single-levels\n",
      "2019-10-17 11:39:51,287 INFO Request is completed\n",
      "2019-10-17 11:39:51,289 INFO Downloading http://136.156.133.32/cache-compute-0009/cache/data7/adaptor.mars.internal-1571101634.659403-22441-9-02f15dfc-b549-4637-8d75-d0b922233f5b.nc to /home/jovyan/europe/20-08-1980.nc (380.2M)\n",
      "2019-10-17 11:39:57,666 INFO Download rate 59.6M/s \n"
     ]
    },
    {
     "data": {
      "text/plain": [
       "<Result cmd='fimex-1.3 -c extractEurope.cfg --input.file /home/jovyan/europe/20-08-1980.nc --output.file /home/jovyan/europe/europe_20-08-1980.nc' exited=0>"
      ]
     },
     "metadata": {},
     "output_type": "display_data"
    },
    {
     "data": {
      "text/plain": [
       "<Result cmd='rm -f /home/jovyan/europe/20-08-1980.nc' exited=0>"
      ]
     },
     "metadata": {},
     "output_type": "display_data"
    },
    {
     "name": "stderr",
     "output_type": "stream",
     "text": [
      "2019-10-17 11:39:58,099 INFO Sending request to https://cds.climate.copernicus.eu/api/v2/resources/reanalysis-era5-single-levels\n",
      "2019-10-17 11:39:58,261 INFO Request is completed\n",
      "2019-10-17 11:39:58,262 INFO Downloading http://136.156.133.46/cache-compute-0015/cache/data7/adaptor.mars.internal-1571274615.3451188-21627-11-11a685ef-3bd1-4ceb-91c2-6cb58a49191d.nc to /home/jovyan/europe/21-08-1980.nc (380.2M)\n",
      "2019-10-17 11:40:14,681 INFO Download rate 23.2M/s \n"
     ]
    },
    {
     "data": {
      "text/plain": [
       "<Result cmd='fimex-1.3 -c extractEurope.cfg --input.file /home/jovyan/europe/21-08-1980.nc --output.file /home/jovyan/europe/europe_21-08-1980.nc' exited=0>"
      ]
     },
     "metadata": {},
     "output_type": "display_data"
    },
    {
     "data": {
      "text/plain": [
       "<Result cmd='rm -f /home/jovyan/europe/21-08-1980.nc' exited=0>"
      ]
     },
     "metadata": {},
     "output_type": "display_data"
    },
    {
     "name": "stderr",
     "output_type": "stream",
     "text": [
      "2019-10-17 11:40:15,008 INFO Sending request to https://cds.climate.copernicus.eu/api/v2/resources/reanalysis-era5-single-levels\n",
      "2019-10-17 11:40:15,604 INFO Request is completed\n",
      "2019-10-17 11:40:15,605 INFO Downloading http://136.156.132.110/cache-compute-0001/cache/data8/adaptor.mars.internal-1571274649.2795248-21867-3-32944ed6-2b37-421d-9d62-0bdf7bd7e3f6.nc to /home/jovyan/europe/22-08-1980.nc (380.2M)\n",
      "2019-10-17 11:40:31,535 INFO Download rate 23.9M/s \n"
     ]
    },
    {
     "data": {
      "text/plain": [
       "<Result cmd='fimex-1.3 -c extractEurope.cfg --input.file /home/jovyan/europe/22-08-1980.nc --output.file /home/jovyan/europe/europe_22-08-1980.nc' exited=0>"
      ]
     },
     "metadata": {},
     "output_type": "display_data"
    },
    {
     "data": {
      "text/plain": [
       "<Result cmd='rm -f /home/jovyan/europe/22-08-1980.nc' exited=0>"
      ]
     },
     "metadata": {},
     "output_type": "display_data"
    },
    {
     "name": "stderr",
     "output_type": "stream",
     "text": [
      "2019-10-17 11:40:31,887 INFO Sending request to https://cds.climate.copernicus.eu/api/v2/resources/reanalysis-era5-single-levels\n",
      "2019-10-17 11:40:32,057 INFO Request is completed\n",
      "2019-10-17 11:40:32,059 INFO Downloading http://136.156.133.42/cache-compute-0014/cache/data0/adaptor.mars.internal-1571101754.0383193-15099-11-450768a9-e067-4c23-827c-4814a45a64d4.nc to /home/jovyan/europe/23-08-1980.nc (380.2M)\n",
      "2019-10-17 11:40:47,721 INFO Download rate 24.3M/s \n"
     ]
    },
    {
     "data": {
      "text/plain": [
       "<Result cmd='fimex-1.3 -c extractEurope.cfg --input.file /home/jovyan/europe/23-08-1980.nc --output.file /home/jovyan/europe/europe_23-08-1980.nc' exited=0>"
      ]
     },
     "metadata": {},
     "output_type": "display_data"
    },
    {
     "data": {
      "text/plain": [
       "<Result cmd='rm -f /home/jovyan/europe/23-08-1980.nc' exited=0>"
      ]
     },
     "metadata": {},
     "output_type": "display_data"
    },
    {
     "name": "stderr",
     "output_type": "stream",
     "text": [
      "2019-10-17 11:40:48,082 INFO Sending request to https://cds.climate.copernicus.eu/api/v2/resources/reanalysis-era5-single-levels\n",
      "2019-10-17 11:40:49,100 INFO Request is completed\n",
      "2019-10-17 11:40:49,101 INFO Downloading http://136.156.133.32/cache-compute-0009/cache/data7/adaptor.mars.internal-1571101798.7432613-21494-9-bb5795f4-c035-42c2-a2e3-1fe21398c665.nc to /home/jovyan/europe/24-08-1980.nc (380.2M)\n",
      "2019-10-17 11:41:04,541 INFO Download rate 24.6M/s \n"
     ]
    },
    {
     "data": {
      "text/plain": [
       "<Result cmd='fimex-1.3 -c extractEurope.cfg --input.file /home/jovyan/europe/24-08-1980.nc --output.file /home/jovyan/europe/europe_24-08-1980.nc' exited=0>"
      ]
     },
     "metadata": {},
     "output_type": "display_data"
    },
    {
     "data": {
      "text/plain": [
       "<Result cmd='rm -f /home/jovyan/europe/24-08-1980.nc' exited=0>"
      ]
     },
     "metadata": {},
     "output_type": "display_data"
    },
    {
     "name": "stderr",
     "output_type": "stream",
     "text": [
      "2019-10-17 11:41:04,990 INFO Sending request to https://cds.climate.copernicus.eu/api/v2/resources/reanalysis-era5-single-levels\n",
      "2019-10-17 11:41:05,743 INFO Request is completed\n",
      "2019-10-17 11:41:05,744 INFO Downloading http://136.156.132.110/cache-compute-0001/cache/data1/adaptor.mars.internal-1571274715.2978542-17715-5-2a2b1fab-67e5-4a51-90a8-7d945b6e003c.nc to /home/jovyan/europe/25-08-1980.nc (380.2M)\n",
      "2019-10-17 11:41:21,095 INFO Download rate 24.8M/s \n"
     ]
    },
    {
     "data": {
      "text/plain": [
       "<Result cmd='fimex-1.3 -c extractEurope.cfg --input.file /home/jovyan/europe/25-08-1980.nc --output.file /home/jovyan/europe/europe_25-08-1980.nc' exited=0>"
      ]
     },
     "metadata": {},
     "output_type": "display_data"
    },
    {
     "data": {
      "text/plain": [
       "<Result cmd='rm -f /home/jovyan/europe/25-08-1980.nc' exited=0>"
      ]
     },
     "metadata": {},
     "output_type": "display_data"
    },
    {
     "name": "stderr",
     "output_type": "stream",
     "text": [
      "2019-10-17 11:41:22,592 INFO Sending request to https://cds.climate.copernicus.eu/api/v2/resources/reanalysis-era5-single-levels\n",
      "2019-10-17 11:41:22,790 INFO Request is completed\n",
      "2019-10-17 11:41:22,794 INFO Downloading http://136.156.132.235/cache-compute-0006/cache/data9/adaptor.mars.internal-1571101880.1479738-26515-9-8474a06b-f04c-4677-a254-72b1982d4078.nc to /home/jovyan/europe/26-08-1980.nc (380.2M)\n",
      "2019-10-17 11:41:59,557 INFO Download rate 10.3M/s \n"
     ]
    },
    {
     "data": {
      "text/plain": [
       "<Result cmd='fimex-1.3 -c extractEurope.cfg --input.file /home/jovyan/europe/26-08-1980.nc --output.file /home/jovyan/europe/europe_26-08-1980.nc' exited=0>"
      ]
     },
     "metadata": {},
     "output_type": "display_data"
    },
    {
     "data": {
      "text/plain": [
       "<Result cmd='rm -f /home/jovyan/europe/26-08-1980.nc' exited=0>"
      ]
     },
     "metadata": {},
     "output_type": "display_data"
    },
    {
     "name": "stderr",
     "output_type": "stream",
     "text": [
      "2019-10-17 11:42:00,874 INFO Sending request to https://cds.climate.copernicus.eu/api/v2/resources/reanalysis-era5-single-levels\n",
      "2019-10-17 11:42:01,547 INFO Request is completed\n",
      "2019-10-17 11:42:01,551 INFO Downloading http://136.156.132.210/cache-compute-0005/cache/data0/adaptor.mars.internal-1571274772.9962966-18316-13-fb8773b5-a1e3-414a-97d0-028fc3ffdae6.nc to /home/jovyan/europe/27-08-1980.nc (380.2M)\n",
      "2019-10-17 11:42:43,335 INFO Download rate 9.1M/s  \n"
     ]
    },
    {
     "data": {
      "text/plain": [
       "<Result cmd='fimex-1.3 -c extractEurope.cfg --input.file /home/jovyan/europe/27-08-1980.nc --output.file /home/jovyan/europe/europe_27-08-1980.nc' exited=0>"
      ]
     },
     "metadata": {},
     "output_type": "display_data"
    },
    {
     "data": {
      "text/plain": [
       "<Result cmd='rm -f /home/jovyan/europe/27-08-1980.nc' exited=0>"
      ]
     },
     "metadata": {},
     "output_type": "display_data"
    },
    {
     "name": "stderr",
     "output_type": "stream",
     "text": [
      "2019-10-17 11:42:44,045 INFO Sending request to https://cds.climate.copernicus.eu/api/v2/resources/reanalysis-era5-single-levels\n",
      "2019-10-17 11:42:44,670 INFO Request is completed\n",
      "2019-10-17 11:42:44,672 INFO Downloading http://136.156.132.198/cache-compute-0003/cache/data1/adaptor.mars.internal-1571101952.6683214-18736-13-db7fe7ac-a599-415f-982d-3ecbffa94398.nc to /home/jovyan/europe/28-08-1980.nc (380.2M)\n",
      "2019-10-17 11:43:00,697 INFO Download rate 23.7M/s \n"
     ]
    },
    {
     "data": {
      "text/plain": [
       "<Result cmd='fimex-1.3 -c extractEurope.cfg --input.file /home/jovyan/europe/28-08-1980.nc --output.file /home/jovyan/europe/europe_28-08-1980.nc' exited=0>"
      ]
     },
     "metadata": {},
     "output_type": "display_data"
    },
    {
     "data": {
      "text/plain": [
       "<Result cmd='rm -f /home/jovyan/europe/28-08-1980.nc' exited=0>"
      ]
     },
     "metadata": {},
     "output_type": "display_data"
    },
    {
     "name": "stderr",
     "output_type": "stream",
     "text": [
      "2019-10-17 11:43:01,154 INFO Sending request to https://cds.climate.copernicus.eu/api/v2/resources/reanalysis-era5-single-levels\n",
      "2019-10-17 11:43:01,594 INFO Request is completed\n",
      "2019-10-17 11:43:01,598 INFO Downloading http://136.156.132.110/cache-compute-0001/cache/data1/adaptor.mars.internal-1571102004.2899756-13247-1-5d33c86a-9bc7-45a9-aa0d-06c3b90dd32c.nc to /home/jovyan/europe/29-08-1980.nc (380.2M)\n",
      "2019-10-17 11:43:14,774 INFO Download rate 28.9M/s \n"
     ]
    },
    {
     "data": {
      "text/plain": [
       "<Result cmd='fimex-1.3 -c extractEurope.cfg --input.file /home/jovyan/europe/29-08-1980.nc --output.file /home/jovyan/europe/europe_29-08-1980.nc' exited=0>"
      ]
     },
     "metadata": {},
     "output_type": "display_data"
    },
    {
     "data": {
      "text/plain": [
       "<Result cmd='rm -f /home/jovyan/europe/29-08-1980.nc' exited=0>"
      ]
     },
     "metadata": {},
     "output_type": "display_data"
    },
    {
     "name": "stderr",
     "output_type": "stream",
     "text": [
      "2019-10-17 11:43:15,450 INFO Sending request to https://cds.climate.copernicus.eu/api/v2/resources/reanalysis-era5-single-levels\n",
      "2019-10-17 11:43:15,868 INFO Request is completed\n",
      "2019-10-17 11:43:15,869 INFO Downloading http://136.156.133.41/cache-compute-0013/cache/data1/adaptor.mars.internal-1571102043.7675474-3463-1-dd281c4a-c414-4899-b6a9-46afcb904d05.nc to /home/jovyan/europe/30-08-1980.nc (380.2M)\n",
      "2019-10-17 11:43:30,909 INFO Download rate 25.3M/s \n"
     ]
    },
    {
     "data": {
      "text/plain": [
       "<Result cmd='fimex-1.3 -c extractEurope.cfg --input.file /home/jovyan/europe/30-08-1980.nc --output.file /home/jovyan/europe/europe_30-08-1980.nc' exited=0>"
      ]
     },
     "metadata": {},
     "output_type": "display_data"
    },
    {
     "data": {
      "text/plain": [
       "<Result cmd='rm -f /home/jovyan/europe/30-08-1980.nc' exited=0>"
      ]
     },
     "metadata": {},
     "output_type": "display_data"
    },
    {
     "name": "stderr",
     "output_type": "stream",
     "text": [
      "2019-10-17 11:43:31,571 INFO Sending request to https://cds.climate.copernicus.eu/api/v2/resources/reanalysis-era5-single-levels\n",
      "2019-10-17 11:43:32,054 INFO Request is completed\n",
      "2019-10-17 11:43:32,055 INFO Downloading http://136.156.133.25/cache-compute-0008/cache/data9/adaptor.mars.internal-1571274872.1464713-17280-5-b272901f-4a7a-45c3-9324-098c029c2bee.nc to /home/jovyan/europe/31-08-1980.nc (380.2M)\n",
      "2019-10-17 11:44:00,615 INFO Download rate 13.3M/s \n"
     ]
    },
    {
     "data": {
      "text/plain": [
       "<Result cmd='fimex-1.3 -c extractEurope.cfg --input.file /home/jovyan/europe/31-08-1980.nc --output.file /home/jovyan/europe/europe_31-08-1980.nc' exited=0>"
      ]
     },
     "metadata": {},
     "output_type": "display_data"
    },
    {
     "data": {
      "text/plain": [
       "<Result cmd='rm -f /home/jovyan/europe/31-08-1980.nc' exited=0>"
      ]
     },
     "metadata": {},
     "output_type": "display_data"
    },
    {
     "name": "stderr",
     "output_type": "stream",
     "text": [
      "2019-10-17 11:44:01,134 INFO Sending request to https://cds.climate.copernicus.eu/api/v2/resources/reanalysis-era5-single-levels\n",
      "2019-10-17 11:44:01,319 INFO Request is completed\n",
      "2019-10-17 11:44:01,322 INFO Downloading http://136.156.132.235/cache-compute-0006/cache/data0/adaptor.mars.internal-1571274904.1908822-30543-5-de5cb17c-83e6-410f-b80c-b6a6fb86515a.nc to /home/jovyan/europe/01-09-1980.nc (380.2M)\n",
      "2019-10-17 11:44:18,869 INFO Download rate 21.7M/s \n"
     ]
    },
    {
     "data": {
      "text/plain": [
       "<Result cmd='fimex-1.3 -c extractEurope.cfg --input.file /home/jovyan/europe/01-09-1980.nc --output.file /home/jovyan/europe/europe_01-09-1980.nc' exited=0>"
      ]
     },
     "metadata": {},
     "output_type": "display_data"
    },
    {
     "data": {
      "text/plain": [
       "<Result cmd='rm -f /home/jovyan/europe/01-09-1980.nc' exited=0>"
      ]
     },
     "metadata": {},
     "output_type": "display_data"
    },
    {
     "name": "stderr",
     "output_type": "stream",
     "text": [
      "2019-10-17 11:44:19,262 INFO Sending request to https://cds.climate.copernicus.eu/api/v2/resources/reanalysis-era5-single-levels\n",
      "2019-10-17 11:44:19,503 INFO Request is completed\n",
      "2019-10-17 11:44:19,504 INFO Downloading http://136.156.132.210/cache-compute-0005/cache/data4/adaptor.mars.internal-1571274936.855479-19517-9-2763ebb2-f7f5-4f5e-ae2c-668dd69dc4ad.nc to /home/jovyan/europe/02-09-1980.nc (380.2M)\n",
      "2019-10-17 11:44:42,728 INFO Download rate 16.4M/s \n"
     ]
    },
    {
     "data": {
      "text/plain": [
       "<Result cmd='fimex-1.3 -c extractEurope.cfg --input.file /home/jovyan/europe/02-09-1980.nc --output.file /home/jovyan/europe/europe_02-09-1980.nc' exited=0>"
      ]
     },
     "metadata": {},
     "output_type": "display_data"
    },
    {
     "data": {
      "text/plain": [
       "<Result cmd='rm -f /home/jovyan/europe/02-09-1980.nc' exited=0>"
      ]
     },
     "metadata": {},
     "output_type": "display_data"
    },
    {
     "name": "stderr",
     "output_type": "stream",
     "text": [
      "2019-10-17 11:44:43,298 INFO Sending request to https://cds.climate.copernicus.eu/api/v2/resources/reanalysis-era5-single-levels\n",
      "2019-10-17 11:44:43,979 INFO Request is completed\n",
      "2019-10-17 11:44:43,980 INFO Downloading http://136.156.133.32/cache-compute-0009/cache/data0/adaptor.mars.internal-1571274972.3481097-16194-1-718238f3-de87-4453-b9ee-a8b1fd42897e.nc to /home/jovyan/europe/03-09-1980.nc (380.2M)\n",
      "2019-10-17 11:45:05,102 INFO Download rate 18M/s   \n"
     ]
    },
    {
     "data": {
      "text/plain": [
       "<Result cmd='fimex-1.3 -c extractEurope.cfg --input.file /home/jovyan/europe/03-09-1980.nc --output.file /home/jovyan/europe/europe_03-09-1980.nc' exited=0>"
      ]
     },
     "metadata": {},
     "output_type": "display_data"
    },
    {
     "data": {
      "text/plain": [
       "<Result cmd='rm -f /home/jovyan/europe/03-09-1980.nc' exited=0>"
      ]
     },
     "metadata": {},
     "output_type": "display_data"
    },
    {
     "name": "stderr",
     "output_type": "stream",
     "text": [
      "2019-10-17 11:45:05,518 INFO Sending request to https://cds.climate.copernicus.eu/api/v2/resources/reanalysis-era5-single-levels\n",
      "2019-10-17 11:45:06,122 INFO Request is completed\n",
      "2019-10-17 11:45:06,123 INFO Downloading http://136.156.132.236/cache-compute-0007/cache/data6/adaptor.mars.internal-1571275011.1870315-12131-9-c6e52fac-82a6-4236-964a-5a9ab6f13ac4.nc to /home/jovyan/europe/04-09-1980.nc (380.2M)\n",
      "2019-10-17 11:45:26,600 INFO Download rate 18.6M/s \n"
     ]
    },
    {
     "data": {
      "text/plain": [
       "<Result cmd='fimex-1.3 -c extractEurope.cfg --input.file /home/jovyan/europe/04-09-1980.nc --output.file /home/jovyan/europe/europe_04-09-1980.nc' exited=0>"
      ]
     },
     "metadata": {},
     "output_type": "display_data"
    },
    {
     "data": {
      "text/plain": [
       "<Result cmd='rm -f /home/jovyan/europe/04-09-1980.nc' exited=0>"
      ]
     },
     "metadata": {},
     "output_type": "display_data"
    },
    {
     "name": "stderr",
     "output_type": "stream",
     "text": [
      "2019-10-17 11:45:26,886 INFO Sending request to https://cds.climate.copernicus.eu/api/v2/resources/reanalysis-era5-single-levels\n",
      "2019-10-17 11:45:27,753 INFO Request is completed\n",
      "2019-10-17 11:45:27,754 INFO Downloading http://136.156.132.235/cache-compute-0006/cache/data9/adaptor.mars.internal-1571275047.3766825-30543-9-1aed8059-89f8-4dc9-823c-0e76dbd56512.nc to /home/jovyan/europe/05-09-1980.nc (380.2M)\n",
      "2019-10-17 11:45:48,081 INFO Download rate 18.7M/s \n"
     ]
    },
    {
     "data": {
      "text/plain": [
       "<Result cmd='fimex-1.3 -c extractEurope.cfg --input.file /home/jovyan/europe/05-09-1980.nc --output.file /home/jovyan/europe/europe_05-09-1980.nc' exited=0>"
      ]
     },
     "metadata": {},
     "output_type": "display_data"
    },
    {
     "data": {
      "text/plain": [
       "<Result cmd='rm -f /home/jovyan/europe/05-09-1980.nc' exited=0>"
      ]
     },
     "metadata": {},
     "output_type": "display_data"
    },
    {
     "name": "stderr",
     "output_type": "stream",
     "text": [
      "2019-10-17 11:45:48,415 INFO Sending request to https://cds.climate.copernicus.eu/api/v2/resources/reanalysis-era5-single-levels\n",
      "2019-10-17 11:45:48,779 INFO Request is completed\n",
      "2019-10-17 11:45:48,780 INFO Downloading http://136.156.133.32/cache-compute-0009/cache/data1/adaptor.mars.internal-1571102313.708288-23520-15-61ef4e4f-a043-4ae8-a39e-7ae021cf86ab.nc to /home/jovyan/europe/06-09-1980.nc (380.2M)\n",
      "2019-10-17 11:46:14,195 INFO Download rate 15M/s   \n"
     ]
    },
    {
     "data": {
      "text/plain": [
       "<Result cmd='fimex-1.3 -c extractEurope.cfg --input.file /home/jovyan/europe/06-09-1980.nc --output.file /home/jovyan/europe/europe_06-09-1980.nc' exited=0>"
      ]
     },
     "metadata": {},
     "output_type": "display_data"
    },
    {
     "data": {
      "text/plain": [
       "<Result cmd='rm -f /home/jovyan/europe/06-09-1980.nc' exited=0>"
      ]
     },
     "metadata": {},
     "output_type": "display_data"
    },
    {
     "name": "stderr",
     "output_type": "stream",
     "text": [
      "2019-10-17 11:46:14,499 INFO Sending request to https://cds.climate.copernicus.eu/api/v2/resources/reanalysis-era5-single-levels\n",
      "2019-10-17 11:46:15,088 INFO Request is completed\n",
      "2019-10-17 11:46:15,089 INFO Downloading http://136.156.133.42/cache-compute-0014/cache/data8/adaptor.mars.internal-1571275091.9879193-5941-19-65f339d1-0d30-4579-bde1-d0cf2b42f2db.nc to /home/jovyan/europe/07-09-1980.nc (380.2M)\n",
      "2019-10-17 11:46:37,751 INFO Download rate 16.8M/s \n"
     ]
    },
    {
     "data": {
      "text/plain": [
       "<Result cmd='fimex-1.3 -c extractEurope.cfg --input.file /home/jovyan/europe/07-09-1980.nc --output.file /home/jovyan/europe/europe_07-09-1980.nc' exited=0>"
      ]
     },
     "metadata": {},
     "output_type": "display_data"
    },
    {
     "data": {
      "text/plain": [
       "<Result cmd='rm -f /home/jovyan/europe/07-09-1980.nc' exited=0>"
      ]
     },
     "metadata": {},
     "output_type": "display_data"
    },
    {
     "name": "stderr",
     "output_type": "stream",
     "text": [
      "2019-10-17 11:46:38,168 INFO Sending request to https://cds.climate.copernicus.eu/api/v2/resources/reanalysis-era5-single-levels\n",
      "2019-10-17 11:46:38,307 INFO Request is completed\n",
      "2019-10-17 11:46:38,311 INFO Downloading http://136.156.133.25/cache-compute-0008/cache/data2/adaptor.mars.internal-1571275138.4317987-17323-7-819316f2-93c2-4d8b-871e-9082d25222b6.nc to /home/jovyan/europe/08-09-1980.nc (380.2M)\n",
      "2019-10-17 11:47:01,961 INFO Download rate 16.1M/s \n"
     ]
    },
    {
     "data": {
      "text/plain": [
       "<Result cmd='fimex-1.3 -c extractEurope.cfg --input.file /home/jovyan/europe/08-09-1980.nc --output.file /home/jovyan/europe/europe_08-09-1980.nc' exited=0>"
      ]
     },
     "metadata": {},
     "output_type": "display_data"
    },
    {
     "data": {
      "text/plain": [
       "<Result cmd='rm -f /home/jovyan/europe/08-09-1980.nc' exited=0>"
      ]
     },
     "metadata": {},
     "output_type": "display_data"
    },
    {
     "name": "stderr",
     "output_type": "stream",
     "text": [
      "2019-10-17 11:47:02,288 INFO Sending request to https://cds.climate.copernicus.eu/api/v2/resources/reanalysis-era5-single-levels\n",
      "2019-10-17 11:47:02,866 INFO Request is completed\n",
      "2019-10-17 11:47:02,871 INFO Downloading http://136.156.132.198/cache-compute-0003/cache/data0/adaptor.mars.internal-1571275190.5516317-11947-13-3902a3ab-c2e6-4009-9c49-eb90745bae53.nc to /home/jovyan/europe/09-09-1980.nc (380.2M)\n",
      "2019-10-17 11:47:22,683 INFO Download rate 19.2M/s \n"
     ]
    },
    {
     "data": {
      "text/plain": [
       "<Result cmd='fimex-1.3 -c extractEurope.cfg --input.file /home/jovyan/europe/09-09-1980.nc --output.file /home/jovyan/europe/europe_09-09-1980.nc' exited=0>"
      ]
     },
     "metadata": {},
     "output_type": "display_data"
    },
    {
     "data": {
      "text/plain": [
       "<Result cmd='rm -f /home/jovyan/europe/09-09-1980.nc' exited=0>"
      ]
     },
     "metadata": {},
     "output_type": "display_data"
    },
    {
     "name": "stderr",
     "output_type": "stream",
     "text": [
      "2019-10-17 11:47:23,073 INFO Sending request to https://cds.climate.copernicus.eu/api/v2/resources/reanalysis-era5-single-levels\n",
      "2019-10-17 11:47:23,263 INFO Request is completed\n",
      "2019-10-17 11:47:23,267 INFO Downloading http://136.156.132.198/cache-compute-0003/cache/data3/adaptor.mars.internal-1571275239.7915845-11950-5-4e53c352-30aa-4362-aaf7-5e7c95304c29.nc to /home/jovyan/europe/10-09-1980.nc (380.2M)\n",
      "2019-10-17 11:47:41,238 INFO Download rate 21.2M/s \n"
     ]
    },
    {
     "data": {
      "text/plain": [
       "<Result cmd='fimex-1.3 -c extractEurope.cfg --input.file /home/jovyan/europe/10-09-1980.nc --output.file /home/jovyan/europe/europe_10-09-1980.nc' exited=0>"
      ]
     },
     "metadata": {},
     "output_type": "display_data"
    },
    {
     "data": {
      "text/plain": [
       "<Result cmd='rm -f /home/jovyan/europe/10-09-1980.nc' exited=0>"
      ]
     },
     "metadata": {},
     "output_type": "display_data"
    },
    {
     "name": "stderr",
     "output_type": "stream",
     "text": [
      "2019-10-17 11:47:41,511 INFO Sending request to https://cds.climate.copernicus.eu/api/v2/resources/reanalysis-era5-single-levels\n",
      "2019-10-17 11:47:41,877 INFO Request is completed\n",
      "2019-10-17 11:47:41,878 INFO Downloading http://136.156.132.110/cache-compute-0001/cache/data8/adaptor.mars.internal-1571275269.9037926-23733-3-65095c60-5547-4f4b-9516-bd43bc424133.nc to /home/jovyan/europe/11-09-1980.nc (380.2M)\n",
      "2019-10-17 11:48:03,265 INFO Download rate 17.8M/s \n"
     ]
    },
    {
     "data": {
      "text/plain": [
       "<Result cmd='fimex-1.3 -c extractEurope.cfg --input.file /home/jovyan/europe/11-09-1980.nc --output.file /home/jovyan/europe/europe_11-09-1980.nc' exited=0>"
      ]
     },
     "metadata": {},
     "output_type": "display_data"
    },
    {
     "data": {
      "text/plain": [
       "<Result cmd='rm -f /home/jovyan/europe/11-09-1980.nc' exited=0>"
      ]
     },
     "metadata": {},
     "output_type": "display_data"
    },
    {
     "name": "stderr",
     "output_type": "stream",
     "text": [
      "2019-10-17 11:48:03,585 INFO Sending request to https://cds.climate.copernicus.eu/api/v2/resources/reanalysis-era5-single-levels\n",
      "2019-10-17 11:48:03,962 INFO Request is completed\n",
      "2019-10-17 11:48:03,964 INFO Downloading http://136.156.132.236/cache-compute-0007/cache/data9/adaptor.mars.internal-1571275309.4247973-20262-5-fbe264bd-848b-423f-86b7-828eea12194f.nc to /home/jovyan/europe/12-09-1980.nc (380.2M)\n",
      "2019-10-17 11:48:23,224 INFO Download rate 19.7M/s \n"
     ]
    },
    {
     "data": {
      "text/plain": [
       "<Result cmd='fimex-1.3 -c extractEurope.cfg --input.file /home/jovyan/europe/12-09-1980.nc --output.file /home/jovyan/europe/europe_12-09-1980.nc' exited=0>"
      ]
     },
     "metadata": {},
     "output_type": "display_data"
    },
    {
     "data": {
      "text/plain": [
       "<Result cmd='rm -f /home/jovyan/europe/12-09-1980.nc' exited=0>"
      ]
     },
     "metadata": {},
     "output_type": "display_data"
    },
    {
     "name": "stderr",
     "output_type": "stream",
     "text": [
      "2019-10-17 11:48:23,611 INFO Sending request to https://cds.climate.copernicus.eu/api/v2/resources/reanalysis-era5-single-levels\n",
      "2019-10-17 11:48:23,818 INFO Request is completed\n",
      "2019-10-17 11:48:23,819 INFO Downloading http://136.156.133.42/cache-compute-0014/cache/data3/adaptor.mars.internal-1571275350.6094208-14729-3-1845792f-e801-4252-a90e-d5d43cbc35ab.nc to /home/jovyan/europe/13-09-1980.nc (380.2M)\n",
      "2019-10-17 11:48:40,084 INFO Download rate 23.4M/s \n"
     ]
    },
    {
     "data": {
      "text/plain": [
       "<Result cmd='fimex-1.3 -c extractEurope.cfg --input.file /home/jovyan/europe/13-09-1980.nc --output.file /home/jovyan/europe/europe_13-09-1980.nc' exited=0>"
      ]
     },
     "metadata": {},
     "output_type": "display_data"
    },
    {
     "data": {
      "text/plain": [
       "<Result cmd='rm -f /home/jovyan/europe/13-09-1980.nc' exited=0>"
      ]
     },
     "metadata": {},
     "output_type": "display_data"
    },
    {
     "name": "stderr",
     "output_type": "stream",
     "text": [
      "2019-10-17 11:48:40,381 INFO Sending request to https://cds.climate.copernicus.eu/api/v2/resources/reanalysis-era5-single-levels\n",
      "2019-10-17 11:48:41,227 INFO Request is completed\n",
      "2019-10-17 11:48:41,228 INFO Downloading http://136.156.133.46/cache-compute-0015/cache/data0/adaptor.mars.internal-1571102606.9727592-8708-1-a8341460-77fc-4e4a-9baa-5cc73f3f9576.nc to /home/jovyan/europe/14-09-1980.nc (380.2M)\n",
      "2019-10-17 11:49:00,401 INFO Download rate 19.8M/s \n"
     ]
    },
    {
     "data": {
      "text/plain": [
       "<Result cmd='fimex-1.3 -c extractEurope.cfg --input.file /home/jovyan/europe/14-09-1980.nc --output.file /home/jovyan/europe/europe_14-09-1980.nc' exited=0>"
      ]
     },
     "metadata": {},
     "output_type": "display_data"
    },
    {
     "data": {
      "text/plain": [
       "<Result cmd='rm -f /home/jovyan/europe/14-09-1980.nc' exited=0>"
      ]
     },
     "metadata": {},
     "output_type": "display_data"
    },
    {
     "name": "stderr",
     "output_type": "stream",
     "text": [
      "2019-10-17 11:49:00,652 INFO Sending request to https://cds.climate.copernicus.eu/api/v2/resources/reanalysis-era5-single-levels\n",
      "2019-10-17 11:49:00,837 INFO Request is completed\n",
      "2019-10-17 11:49:00,838 INFO Downloading http://136.156.132.198/cache-compute-0003/cache/data4/adaptor.mars.internal-1571102641.4404378-30270-3-ab7f1248-7811-47f7-92fe-c98eba1d153c.nc to /home/jovyan/europe/15-09-1980.nc (380.2M)\n",
      "2019-10-17 11:49:21,235 INFO Download rate 18.6M/s \n"
     ]
    },
    {
     "data": {
      "text/plain": [
       "<Result cmd='fimex-1.3 -c extractEurope.cfg --input.file /home/jovyan/europe/15-09-1980.nc --output.file /home/jovyan/europe/europe_15-09-1980.nc' exited=0>"
      ]
     },
     "metadata": {},
     "output_type": "display_data"
    },
    {
     "data": {
      "text/plain": [
       "<Result cmd='rm -f /home/jovyan/europe/15-09-1980.nc' exited=0>"
      ]
     },
     "metadata": {},
     "output_type": "display_data"
    },
    {
     "name": "stderr",
     "output_type": "stream",
     "text": [
      "2019-10-17 11:49:21,522 INFO Sending request to https://cds.climate.copernicus.eu/api/v2/resources/reanalysis-era5-single-levels\n",
      "2019-10-17 11:49:22,481 INFO Request is completed\n",
      "2019-10-17 11:49:22,482 INFO Downloading http://136.156.132.201/cache-compute-0004/cache/data6/adaptor.mars.internal-1571102684.501283-23283-11-a2bb4d2f-17f4-45db-9450-23537d3c7fed.nc to /home/jovyan/europe/16-09-1980.nc (380.2M)\n",
      "2019-10-17 11:49:44,156 INFO Download rate 17.5M/s \n"
     ]
    },
    {
     "data": {
      "text/plain": [
       "<Result cmd='fimex-1.3 -c extractEurope.cfg --input.file /home/jovyan/europe/16-09-1980.nc --output.file /home/jovyan/europe/europe_16-09-1980.nc' exited=0>"
      ]
     },
     "metadata": {},
     "output_type": "display_data"
    },
    {
     "data": {
      "text/plain": [
       "<Result cmd='rm -f /home/jovyan/europe/16-09-1980.nc' exited=0>"
      ]
     },
     "metadata": {},
     "output_type": "display_data"
    },
    {
     "name": "stderr",
     "output_type": "stream",
     "text": [
      "2019-10-17 11:49:44,407 INFO Sending request to https://cds.climate.copernicus.eu/api/v2/resources/reanalysis-era5-single-levels\n",
      "2019-10-17 11:49:44,772 INFO Request is completed\n",
      "2019-10-17 11:49:44,773 INFO Downloading http://136.156.132.153/cache-compute-0002/cache/data9/adaptor.mars.internal-1571275425.5213895-18204-1-dcd102b7-8b64-41d9-93c2-91cdc52eb5da.nc to /home/jovyan/europe/17-09-1980.nc (380.2M)\n",
      "2019-10-17 11:50:07,690 INFO Download rate 16.6M/s \n"
     ]
    },
    {
     "data": {
      "text/plain": [
       "<Result cmd='fimex-1.3 -c extractEurope.cfg --input.file /home/jovyan/europe/17-09-1980.nc --output.file /home/jovyan/europe/europe_17-09-1980.nc' exited=0>"
      ]
     },
     "metadata": {},
     "output_type": "display_data"
    },
    {
     "data": {
      "text/plain": [
       "<Result cmd='rm -f /home/jovyan/europe/17-09-1980.nc' exited=0>"
      ]
     },
     "metadata": {},
     "output_type": "display_data"
    },
    {
     "name": "stderr",
     "output_type": "stream",
     "text": [
      "2019-10-17 11:50:08,111 INFO Sending request to https://cds.climate.copernicus.eu/api/v2/resources/reanalysis-era5-single-levels\n",
      "2019-10-17 11:50:08,295 INFO Request is completed\n",
      "2019-10-17 11:50:08,297 INFO Downloading http://136.156.132.198/cache-compute-0003/cache/data7/adaptor.mars.internal-1571102749.096182-28862-5-cd49030b-1fde-427c-92e3-dfb252eaed85.nc to /home/jovyan/europe/18-09-1980.nc (380.2M)\n",
      "2019-10-17 11:50:28,214 INFO Download rate 19.1M/s \n"
     ]
    },
    {
     "data": {
      "text/plain": [
       "<Result cmd='fimex-1.3 -c extractEurope.cfg --input.file /home/jovyan/europe/18-09-1980.nc --output.file /home/jovyan/europe/europe_18-09-1980.nc' exited=0>"
      ]
     },
     "metadata": {},
     "output_type": "display_data"
    },
    {
     "data": {
      "text/plain": [
       "<Result cmd='rm -f /home/jovyan/europe/18-09-1980.nc' exited=0>"
      ]
     },
     "metadata": {},
     "output_type": "display_data"
    },
    {
     "name": "stderr",
     "output_type": "stream",
     "text": [
      "2019-10-17 11:50:28,537 INFO Sending request to https://cds.climate.copernicus.eu/api/v2/resources/reanalysis-era5-single-levels\n",
      "2019-10-17 11:50:29,211 INFO Request is completed\n",
      "2019-10-17 11:50:29,212 INFO Downloading http://136.156.132.236/cache-compute-0007/cache/data5/adaptor.mars.internal-1571102784.9693933-370-21-9cd68afa-7d43-40a1-9341-b83a6c4cb194.nc to /home/jovyan/europe/19-09-1980.nc (380.2M)\n",
      "2019-10-17 11:50:49,502 INFO Download rate 18.7M/s \n"
     ]
    },
    {
     "data": {
      "text/plain": [
       "<Result cmd='fimex-1.3 -c extractEurope.cfg --input.file /home/jovyan/europe/19-09-1980.nc --output.file /home/jovyan/europe/europe_19-09-1980.nc' exited=0>"
      ]
     },
     "metadata": {},
     "output_type": "display_data"
    },
    {
     "data": {
      "text/plain": [
       "<Result cmd='rm -f /home/jovyan/europe/19-09-1980.nc' exited=0>"
      ]
     },
     "metadata": {},
     "output_type": "display_data"
    },
    {
     "name": "stderr",
     "output_type": "stream",
     "text": [
      "2019-10-17 11:50:50,114 INFO Sending request to https://cds.climate.copernicus.eu/api/v2/resources/reanalysis-era5-single-levels\n",
      "2019-10-17 11:50:50,245 INFO Request is completed\n",
      "2019-10-17 11:50:50,246 INFO Downloading http://136.156.132.110/cache-compute-0001/cache/data1/adaptor.mars.internal-1571102813.3296766-22049-1-e8e40dc4-c078-4f66-90b0-903e979ac5bb.nc to /home/jovyan/europe/20-09-1980.nc (380.2M)\n",
      "2019-10-17 11:51:07,255 INFO Download rate 22.4M/s \n"
     ]
    },
    {
     "data": {
      "text/plain": [
       "<Result cmd='fimex-1.3 -c extractEurope.cfg --input.file /home/jovyan/europe/20-09-1980.nc --output.file /home/jovyan/europe/europe_20-09-1980.nc' exited=0>"
      ]
     },
     "metadata": {},
     "output_type": "display_data"
    },
    {
     "data": {
      "text/plain": [
       "<Result cmd='rm -f /home/jovyan/europe/20-09-1980.nc' exited=0>"
      ]
     },
     "metadata": {},
     "output_type": "display_data"
    },
    {
     "name": "stderr",
     "output_type": "stream",
     "text": [
      "2019-10-17 11:51:07,722 INFO Sending request to https://cds.climate.copernicus.eu/api/v2/resources/reanalysis-era5-single-levels\n",
      "2019-10-17 11:51:08,545 INFO Request is completed\n",
      "2019-10-17 11:51:08,546 INFO Downloading http://136.156.132.236/cache-compute-0007/cache/data2/adaptor.mars.internal-1571102845.455453-4352-9-816655c3-fa26-436e-9b34-ba17eabcc800.nc to /home/jovyan/europe/21-09-1980.nc (380.2M)\n",
      "2019-10-17 11:51:26,632 INFO Download rate 21M/s   \n"
     ]
    },
    {
     "data": {
      "text/plain": [
       "<Result cmd='fimex-1.3 -c extractEurope.cfg --input.file /home/jovyan/europe/21-09-1980.nc --output.file /home/jovyan/europe/europe_21-09-1980.nc' exited=0>"
      ]
     },
     "metadata": {},
     "output_type": "display_data"
    },
    {
     "data": {
      "text/plain": [
       "<Result cmd='rm -f /home/jovyan/europe/21-09-1980.nc' exited=0>"
      ]
     },
     "metadata": {},
     "output_type": "display_data"
    },
    {
     "name": "stderr",
     "output_type": "stream",
     "text": [
      "2019-10-17 11:51:26,899 INFO Sending request to https://cds.climate.copernicus.eu/api/v2/resources/reanalysis-era5-single-levels\n",
      "2019-10-17 11:51:27,286 INFO Request is completed\n",
      "2019-10-17 11:51:27,287 INFO Downloading http://136.156.132.210/cache-compute-0005/cache/data1/adaptor.mars.internal-1571102876.392029-13701-9-f49210f2-a901-4e46-a468-69e3ba5c056c.nc to /home/jovyan/europe/22-09-1980.nc (380.2M)\n",
      "2019-10-17 11:51:48,402 INFO Download rate 18M/s   \n"
     ]
    },
    {
     "data": {
      "text/plain": [
       "<Result cmd='fimex-1.3 -c extractEurope.cfg --input.file /home/jovyan/europe/22-09-1980.nc --output.file /home/jovyan/europe/europe_22-09-1980.nc' exited=0>"
      ]
     },
     "metadata": {},
     "output_type": "display_data"
    },
    {
     "data": {
      "text/plain": [
       "<Result cmd='rm -f /home/jovyan/europe/22-09-1980.nc' exited=0>"
      ]
     },
     "metadata": {},
     "output_type": "display_data"
    },
    {
     "name": "stderr",
     "output_type": "stream",
     "text": [
      "2019-10-17 11:51:48,700 INFO Sending request to https://cds.climate.copernicus.eu/api/v2/resources/reanalysis-era5-single-levels\n",
      "2019-10-17 11:51:49,191 INFO Request is completed\n",
      "2019-10-17 11:51:49,193 INFO Downloading http://136.156.133.42/cache-compute-0014/cache/data9/adaptor.mars.internal-1571102911.244146-4779-13-d6b8615f-644d-4ec7-a7ee-e034a4435655.nc to /home/jovyan/europe/23-09-1980.nc (380.2M)\n",
      "2019-10-17 11:52:11,157 INFO Download rate 17.3M/s \n"
     ]
    },
    {
     "data": {
      "text/plain": [
       "<Result cmd='fimex-1.3 -c extractEurope.cfg --input.file /home/jovyan/europe/23-09-1980.nc --output.file /home/jovyan/europe/europe_23-09-1980.nc' exited=0>"
      ]
     },
     "metadata": {},
     "output_type": "display_data"
    },
    {
     "data": {
      "text/plain": [
       "<Result cmd='rm -f /home/jovyan/europe/23-09-1980.nc' exited=0>"
      ]
     },
     "metadata": {},
     "output_type": "display_data"
    },
    {
     "name": "stderr",
     "output_type": "stream",
     "text": [
      "2019-10-17 11:52:11,451 INFO Sending request to https://cds.climate.copernicus.eu/api/v2/resources/reanalysis-era5-single-levels\n",
      "2019-10-17 11:52:12,374 INFO Request is completed\n",
      "2019-10-17 11:52:12,378 INFO Downloading http://136.156.133.39/cache-compute-0012/cache/data1/adaptor.mars.internal-1571275560.528499-31324-7-eefe1575-18c9-4bed-b339-e511b910fe52.nc to /home/jovyan/europe/24-09-1980.nc (380.2M)\n",
      "2019-10-17 11:52:35,603 INFO Download rate 16.4M/s \n"
     ]
    },
    {
     "data": {
      "text/plain": [
       "<Result cmd='fimex-1.3 -c extractEurope.cfg --input.file /home/jovyan/europe/24-09-1980.nc --output.file /home/jovyan/europe/europe_24-09-1980.nc' exited=0>"
      ]
     },
     "metadata": {},
     "output_type": "display_data"
    },
    {
     "data": {
      "text/plain": [
       "<Result cmd='rm -f /home/jovyan/europe/24-09-1980.nc' exited=0>"
      ]
     },
     "metadata": {},
     "output_type": "display_data"
    },
    {
     "name": "stderr",
     "output_type": "stream",
     "text": [
      "2019-10-17 11:52:36,042 INFO Sending request to https://cds.climate.copernicus.eu/api/v2/resources/reanalysis-era5-single-levels\n",
      "2019-10-17 11:52:36,257 INFO Request is completed\n",
      "2019-10-17 11:52:36,258 INFO Downloading http://136.156.133.32/cache-compute-0009/cache/data4/adaptor.mars.internal-1571102981.1605895-30170-5-94f90a24-2f95-4a72-a88b-7262ea16ad06.nc to /home/jovyan/europe/25-09-1980.nc (380.2M)\n",
      "2019-10-17 11:52:58,448 INFO Download rate 17.1M/s \n"
     ]
    },
    {
     "data": {
      "text/plain": [
       "<Result cmd='fimex-1.3 -c extractEurope.cfg --input.file /home/jovyan/europe/25-09-1980.nc --output.file /home/jovyan/europe/europe_25-09-1980.nc' exited=0>"
      ]
     },
     "metadata": {},
     "output_type": "display_data"
    },
    {
     "data": {
      "text/plain": [
       "<Result cmd='rm -f /home/jovyan/europe/25-09-1980.nc' exited=0>"
      ]
     },
     "metadata": {},
     "output_type": "display_data"
    },
    {
     "name": "stderr",
     "output_type": "stream",
     "text": [
      "2019-10-17 11:52:58,822 INFO Sending request to https://cds.climate.copernicus.eu/api/v2/resources/reanalysis-era5-single-levels\n",
      "2019-10-17 11:52:58,939 INFO Request is completed\n",
      "2019-10-17 11:52:58,941 INFO Downloading http://136.156.132.236/cache-compute-0007/cache/data6/adaptor.mars.internal-1571103011.8598464-988-15-5b4abf05-bd7b-4484-8205-f1bc15a42130.nc to /home/jovyan/europe/26-09-1980.nc (380.2M)\n",
      "2019-10-17 11:53:26,398 INFO Download rate 13.8M/s \n"
     ]
    },
    {
     "data": {
      "text/plain": [
       "<Result cmd='fimex-1.3 -c extractEurope.cfg --input.file /home/jovyan/europe/26-09-1980.nc --output.file /home/jovyan/europe/europe_26-09-1980.nc' exited=0>"
      ]
     },
     "metadata": {},
     "output_type": "display_data"
    },
    {
     "data": {
      "text/plain": [
       "<Result cmd='rm -f /home/jovyan/europe/26-09-1980.nc' exited=0>"
      ]
     },
     "metadata": {},
     "output_type": "display_data"
    },
    {
     "name": "stderr",
     "output_type": "stream",
     "text": [
      "2019-10-17 11:53:26,743 INFO Sending request to https://cds.climate.copernicus.eu/api/v2/resources/reanalysis-era5-single-levels\n",
      "2019-10-17 11:53:26,959 INFO Request is completed\n",
      "2019-10-17 11:53:26,960 INFO Downloading http://136.156.132.236/cache-compute-0007/cache/data2/adaptor.mars.internal-1571103044.80209-5795-9-b0f2edc2-c71d-40fb-944b-89ed39b89352.nc to /home/jovyan/europe/27-09-1980.nc (380.2M)\n",
      "2019-10-17 11:53:52,471 INFO Download rate 14.9M/s \n"
     ]
    },
    {
     "data": {
      "text/plain": [
       "<Result cmd='fimex-1.3 -c extractEurope.cfg --input.file /home/jovyan/europe/27-09-1980.nc --output.file /home/jovyan/europe/europe_27-09-1980.nc' exited=0>"
      ]
     },
     "metadata": {},
     "output_type": "display_data"
    },
    {
     "data": {
      "text/plain": [
       "<Result cmd='rm -f /home/jovyan/europe/27-09-1980.nc' exited=0>"
      ]
     },
     "metadata": {},
     "output_type": "display_data"
    },
    {
     "name": "stderr",
     "output_type": "stream",
     "text": [
      "2019-10-17 11:53:52,740 INFO Sending request to https://cds.climate.copernicus.eu/api/v2/resources/reanalysis-era5-single-levels\n",
      "2019-10-17 11:53:53,635 INFO Request is completed\n",
      "2019-10-17 11:53:53,636 INFO Downloading http://136.156.132.105/cache-compute-0000/cache/data8/adaptor.mars.internal-1571275631.5768704-27635-5-aab47e3a-3854-4fdc-bbc3-d8358ea1525b.nc to /home/jovyan/europe/28-09-1980.nc (380.2M)\n",
      "2019-10-17 11:54:06,181 INFO Download rate 30.3M/s \n"
     ]
    },
    {
     "data": {
      "text/plain": [
       "<Result cmd='fimex-1.3 -c extractEurope.cfg --input.file /home/jovyan/europe/28-09-1980.nc --output.file /home/jovyan/europe/europe_28-09-1980.nc' exited=0>"
      ]
     },
     "metadata": {},
     "output_type": "display_data"
    },
    {
     "data": {
      "text/plain": [
       "<Result cmd='rm -f /home/jovyan/europe/28-09-1980.nc' exited=0>"
      ]
     },
     "metadata": {},
     "output_type": "display_data"
    },
    {
     "name": "stderr",
     "output_type": "stream",
     "text": [
      "2019-10-17 11:54:06,552 INFO Sending request to https://cds.climate.copernicus.eu/api/v2/resources/reanalysis-era5-single-levels\n",
      "2019-10-17 11:54:06,947 INFO Request is completed\n",
      "2019-10-17 11:54:06,949 INFO Downloading http://136.156.133.42/cache-compute-0014/cache/data5/adaptor.mars.internal-1571103100.4539392-22657-13-6bab7369-fc1c-48af-80e9-f8b96d774689.nc to /home/jovyan/europe/29-09-1980.nc (380.2M)\n",
      "2019-10-17 11:54:32,537 INFO Download rate 14.9M/s \n"
     ]
    },
    {
     "data": {
      "text/plain": [
       "<Result cmd='fimex-1.3 -c extractEurope.cfg --input.file /home/jovyan/europe/29-09-1980.nc --output.file /home/jovyan/europe/europe_29-09-1980.nc' exited=0>"
      ]
     },
     "metadata": {},
     "output_type": "display_data"
    },
    {
     "data": {
      "text/plain": [
       "<Result cmd='rm -f /home/jovyan/europe/29-09-1980.nc' exited=0>"
      ]
     },
     "metadata": {},
     "output_type": "display_data"
    },
    {
     "name": "stderr",
     "output_type": "stream",
     "text": [
      "2019-10-17 11:54:32,982 INFO Sending request to https://cds.climate.copernicus.eu/api/v2/resources/reanalysis-era5-single-levels\n",
      "2019-10-17 11:54:34,005 INFO Request is completed\n",
      "2019-10-17 11:54:34,009 INFO Downloading http://136.156.133.36/cache-compute-0010/cache/data0/adaptor.mars.internal-1571103130.9318392-7476-11-6374b810-50b0-436e-b369-79a5babfaa70.nc to /home/jovyan/europe/30-09-1980.nc (380.2M)\n",
      "2019-10-17 11:54:51,003 INFO Download rate 22.4M/s \n"
     ]
    },
    {
     "data": {
      "text/plain": [
       "<Result cmd='rm -f /home/jovyan/europe/30-09-1980.nc' exited=0>"
      ]
     },
     "metadata": {},
     "output_type": "display_data"
    },
    {
     "name": "stderr",
     "output_type": "stream",
     "text": [
      "2019-10-17 11:54:51,303 INFO Sending request to https://cds.climate.copernicus.eu/api/v2/resources/reanalysis-era5-single-levels\n",
      "2019-10-17 11:54:51,597 INFO Request is completed\n",
      "2019-10-17 11:54:51,598 INFO Downloading http://136.156.133.25/cache-compute-0008/cache/data1/adaptor.mars.internal-1571275710.3332703-19908-3-5afa7290-9ed9-4f03-81d0-c61286db75f1.nc to /home/jovyan/europe/01-10-1980.nc (380.2M)\n",
      "2019-10-17 11:55:09,993 INFO Download rate 20.7M/s \n"
     ]
    },
    {
     "data": {
      "text/plain": [
       "<Result cmd='fimex-1.3 -c extractEurope.cfg --input.file /home/jovyan/europe/01-10-1980.nc --output.file /home/jovyan/europe/europe_01-10-1980.nc' exited=0>"
      ]
     },
     "metadata": {},
     "output_type": "display_data"
    },
    {
     "data": {
      "text/plain": [
       "<Result cmd='rm -f /home/jovyan/europe/01-10-1980.nc' exited=0>"
      ]
     },
     "metadata": {},
     "output_type": "display_data"
    },
    {
     "name": "stderr",
     "output_type": "stream",
     "text": [
      "2019-10-17 11:55:10,290 INFO Sending request to https://cds.climate.copernicus.eu/api/v2/resources/reanalysis-era5-single-levels\n",
      "2019-10-17 11:55:11,825 INFO Request is completed\n",
      "2019-10-17 11:55:11,826 INFO Downloading http://136.156.133.37/cache-compute-0011/cache/data8/adaptor.mars.internal-1571275743.0123901-16288-5-03032beb-db1c-4a5a-8d3f-d8b9b64391aa.nc to /home/jovyan/europe/02-10-1980.nc (380.2M)\n",
      "2019-10-17 11:55:35,613 INFO Download rate 16M/s   \n"
     ]
    },
    {
     "data": {
      "text/plain": [
       "<Result cmd='fimex-1.3 -c extractEurope.cfg --input.file /home/jovyan/europe/02-10-1980.nc --output.file /home/jovyan/europe/europe_02-10-1980.nc' exited=0>"
      ]
     },
     "metadata": {},
     "output_type": "display_data"
    },
    {
     "data": {
      "text/plain": [
       "<Result cmd='rm -f /home/jovyan/europe/02-10-1980.nc' exited=0>"
      ]
     },
     "metadata": {},
     "output_type": "display_data"
    },
    {
     "name": "stderr",
     "output_type": "stream",
     "text": [
      "2019-10-17 11:55:35,875 INFO Sending request to https://cds.climate.copernicus.eu/api/v2/resources/reanalysis-era5-single-levels\n",
      "2019-10-17 11:55:36,029 INFO Request is completed\n",
      "2019-10-17 11:55:36,030 INFO Downloading http://136.156.133.41/cache-compute-0013/cache/data7/adaptor.mars.internal-1571275790.0486753-28762-9-67ea6138-adef-4951-a5e0-55e7d850197c.nc to /home/jovyan/europe/03-10-1980.nc (380.2M)\n",
      "2019-10-17 11:55:52,485 INFO Download rate 23.1M/s \n"
     ]
    },
    {
     "data": {
      "text/plain": [
       "<Result cmd='fimex-1.3 -c extractEurope.cfg --input.file /home/jovyan/europe/03-10-1980.nc --output.file /home/jovyan/europe/europe_03-10-1980.nc' exited=0>"
      ]
     },
     "metadata": {},
     "output_type": "display_data"
    },
    {
     "data": {
      "text/plain": [
       "<Result cmd='rm -f /home/jovyan/europe/03-10-1980.nc' exited=0>"
      ]
     },
     "metadata": {},
     "output_type": "display_data"
    },
    {
     "name": "stderr",
     "output_type": "stream",
     "text": [
      "2019-10-17 11:55:52,767 INFO Sending request to https://cds.climate.copernicus.eu/api/v2/resources/reanalysis-era5-single-levels\n",
      "2019-10-17 11:55:53,567 INFO Request is completed\n",
      "2019-10-17 11:55:53,568 INFO Downloading http://136.156.133.32/cache-compute-0009/cache/data6/adaptor.mars.internal-1571103309.4770033-23520-21-e53ff435-e334-4fae-bbe0-85d3e71bab10.nc to /home/jovyan/europe/04-10-1980.nc (380.2M)\n",
      "2019-10-17 11:56:12,723 INFO Download rate 19.9M/s \n"
     ]
    },
    {
     "data": {
      "text/plain": [
       "<Result cmd='fimex-1.3 -c extractEurope.cfg --input.file /home/jovyan/europe/04-10-1980.nc --output.file /home/jovyan/europe/europe_04-10-1980.nc' exited=0>"
      ]
     },
     "metadata": {},
     "output_type": "display_data"
    },
    {
     "data": {
      "text/plain": [
       "<Result cmd='rm -f /home/jovyan/europe/04-10-1980.nc' exited=0>"
      ]
     },
     "metadata": {},
     "output_type": "display_data"
    },
    {
     "name": "stderr",
     "output_type": "stream",
     "text": [
      "2019-10-17 11:56:13,153 INFO Sending request to https://cds.climate.copernicus.eu/api/v2/resources/reanalysis-era5-single-levels\n",
      "2019-10-17 11:56:14,164 INFO Request is completed\n",
      "2019-10-17 11:56:14,165 INFO Downloading http://136.156.132.198/cache-compute-0003/cache/data8/adaptor.mars.internal-1571275844.2433326-14580-3-955e255a-8a50-438d-844f-0248c956346d.nc to /home/jovyan/europe/05-10-1980.nc (380.2M)\n",
      "2019-10-17 11:56:33,635 INFO Download rate 19.5M/s \n"
     ]
    },
    {
     "data": {
      "text/plain": [
       "<Result cmd='fimex-1.3 -c extractEurope.cfg --input.file /home/jovyan/europe/05-10-1980.nc --output.file /home/jovyan/europe/europe_05-10-1980.nc' exited=0>"
      ]
     },
     "metadata": {},
     "output_type": "display_data"
    },
    {
     "data": {
      "text/plain": [
       "<Result cmd='rm -f /home/jovyan/europe/05-10-1980.nc' exited=0>"
      ]
     },
     "metadata": {},
     "output_type": "display_data"
    },
    {
     "name": "stderr",
     "output_type": "stream",
     "text": [
      "2019-10-17 11:56:33,903 INFO Sending request to https://cds.climate.copernicus.eu/api/v2/resources/reanalysis-era5-single-levels\n",
      "2019-10-17 11:56:34,119 INFO Request is completed\n",
      "2019-10-17 11:56:34,120 INFO Downloading http://136.156.133.25/cache-compute-0008/cache/data2/adaptor.mars.internal-1571103385.463915-10918-17-8c87ccba-a4fd-48e7-96eb-2970a1bde729.nc to /home/jovyan/europe/06-10-1980.nc (380.2M)\n",
      "2019-10-17 11:56:53,324 INFO Download rate 19.8M/s \n"
     ]
    },
    {
     "data": {
      "text/plain": [
       "<Result cmd='fimex-1.3 -c extractEurope.cfg --input.file /home/jovyan/europe/06-10-1980.nc --output.file /home/jovyan/europe/europe_06-10-1980.nc' exited=0>"
      ]
     },
     "metadata": {},
     "output_type": "display_data"
    },
    {
     "data": {
      "text/plain": [
       "<Result cmd='rm -f /home/jovyan/europe/06-10-1980.nc' exited=0>"
      ]
     },
     "metadata": {},
     "output_type": "display_data"
    },
    {
     "name": "stderr",
     "output_type": "stream",
     "text": [
      "2019-10-17 11:56:53,680 INFO Sending request to https://cds.climate.copernicus.eu/api/v2/resources/reanalysis-era5-single-levels\n",
      "2019-10-17 11:56:54,091 INFO Request is completed\n",
      "2019-10-17 11:56:54,093 INFO Downloading http://136.156.133.32/cache-compute-0009/cache/data8/adaptor.mars.internal-1571103419.444782-24469-9-f0e1e7da-5d76-4677-88b0-40db52e4eaa2.nc to /home/jovyan/europe/07-10-1980.nc (380.2M)\n",
      "2019-10-17 11:57:13,473 INFO Download rate 19.6M/s \n"
     ]
    },
    {
     "data": {
      "text/plain": [
       "<Result cmd='fimex-1.3 -c extractEurope.cfg --input.file /home/jovyan/europe/07-10-1980.nc --output.file /home/jovyan/europe/europe_07-10-1980.nc' exited=0>"
      ]
     },
     "metadata": {},
     "output_type": "display_data"
    },
    {
     "data": {
      "text/plain": [
       "<Result cmd='rm -f /home/jovyan/europe/07-10-1980.nc' exited=0>"
      ]
     },
     "metadata": {},
     "output_type": "display_data"
    },
    {
     "name": "stderr",
     "output_type": "stream",
     "text": [
      "2019-10-17 11:57:13,737 INFO Sending request to https://cds.climate.copernicus.eu/api/v2/resources/reanalysis-era5-single-levels\n",
      "2019-10-17 11:57:13,982 INFO Request is completed\n",
      "2019-10-17 11:57:13,984 INFO Downloading http://136.156.133.39/cache-compute-0012/cache/data7/adaptor.mars.internal-1571275905.981274-31324-11-9131e7e0-5740-410c-b8ee-ac81aa5c5532.nc to /home/jovyan/europe/08-10-1980.nc (380.2M)\n",
      "2019-10-17 11:57:38,479 INFO Download rate 15.5M/s \n"
     ]
    },
    {
     "data": {
      "text/plain": [
       "<Result cmd='fimex-1.3 -c extractEurope.cfg --input.file /home/jovyan/europe/08-10-1980.nc --output.file /home/jovyan/europe/europe_08-10-1980.nc' exited=0>"
      ]
     },
     "metadata": {},
     "output_type": "display_data"
    },
    {
     "data": {
      "text/plain": [
       "<Result cmd='rm -f /home/jovyan/europe/08-10-1980.nc' exited=0>"
      ]
     },
     "metadata": {},
     "output_type": "display_data"
    },
    {
     "name": "stderr",
     "output_type": "stream",
     "text": [
      "2019-10-17 11:57:38,745 INFO Sending request to https://cds.climate.copernicus.eu/api/v2/resources/reanalysis-era5-single-levels\n",
      "2019-10-17 11:57:38,927 INFO Request is completed\n",
      "2019-10-17 11:57:38,928 INFO Downloading http://136.156.133.25/cache-compute-0008/cache/data9/adaptor.mars.internal-1571275953.9269369-19908-9-fce0a559-cd68-4e2c-8919-3a2956493974.nc to /home/jovyan/europe/09-10-1980.nc (380.2M)\n",
      "2019-10-17 11:58:10,674 INFO Download rate 12M/s   \n"
     ]
    },
    {
     "data": {
      "text/plain": [
       "<Result cmd='fimex-1.3 -c extractEurope.cfg --input.file /home/jovyan/europe/09-10-1980.nc --output.file /home/jovyan/europe/europe_09-10-1980.nc' exited=0>"
      ]
     },
     "metadata": {},
     "output_type": "display_data"
    },
    {
     "data": {
      "text/plain": [
       "<Result cmd='rm -f /home/jovyan/europe/09-10-1980.nc' exited=0>"
      ]
     },
     "metadata": {},
     "output_type": "display_data"
    },
    {
     "name": "stderr",
     "output_type": "stream",
     "text": [
      "2019-10-17 11:58:11,039 INFO Sending request to https://cds.climate.copernicus.eu/api/v2/resources/reanalysis-era5-single-levels\n",
      "2019-10-17 11:58:11,953 INFO Request is completed\n",
      "2019-10-17 11:58:11,955 INFO Downloading http://136.156.133.36/cache-compute-0010/cache/data6/adaptor.mars.internal-1571103522.634989-6417-17-831dd8e2-7b83-4355-9a55-2b60489bc532.nc to /home/jovyan/europe/10-10-1980.nc (380.2M)\n",
      "2019-10-17 11:58:27,950 INFO Download rate 23.8M/s \n"
     ]
    },
    {
     "data": {
      "text/plain": [
       "<Result cmd='fimex-1.3 -c extractEurope.cfg --input.file /home/jovyan/europe/10-10-1980.nc --output.file /home/jovyan/europe/europe_10-10-1980.nc' exited=0>"
      ]
     },
     "metadata": {},
     "output_type": "display_data"
    },
    {
     "data": {
      "text/plain": [
       "<Result cmd='rm -f /home/jovyan/europe/10-10-1980.nc' exited=0>"
      ]
     },
     "metadata": {},
     "output_type": "display_data"
    },
    {
     "name": "stderr",
     "output_type": "stream",
     "text": [
      "2019-10-17 11:58:28,430 INFO Sending request to https://cds.climate.copernicus.eu/api/v2/resources/reanalysis-era5-single-levels\n",
      "2019-10-17 11:58:28,831 INFO Request is completed\n",
      "2019-10-17 11:58:28,832 INFO Downloading http://136.156.133.37/cache-compute-0011/cache/data8/adaptor.mars.internal-1571276004.3048139-15739-5-703279ad-07d0-409e-ae4f-cf966085f5e3.nc to /home/jovyan/europe/11-10-1980.nc (380.2M)\n",
      "2019-10-17 11:58:53,606 INFO Download rate 15.3M/s \n"
     ]
    },
    {
     "data": {
      "text/plain": [
       "<Result cmd='fimex-1.3 -c extractEurope.cfg --input.file /home/jovyan/europe/11-10-1980.nc --output.file /home/jovyan/europe/europe_11-10-1980.nc' exited=0>"
      ]
     },
     "metadata": {},
     "output_type": "display_data"
    },
    {
     "data": {
      "text/plain": [
       "<Result cmd='rm -f /home/jovyan/europe/11-10-1980.nc' exited=0>"
      ]
     },
     "metadata": {},
     "output_type": "display_data"
    },
    {
     "name": "stderr",
     "output_type": "stream",
     "text": [
      "2019-10-17 11:58:53,926 INFO Sending request to https://cds.climate.copernicus.eu/api/v2/resources/reanalysis-era5-single-levels\n",
      "2019-10-17 11:58:55,062 INFO Request is completed\n",
      "2019-10-17 11:58:55,063 INFO Downloading http://136.156.133.39/cache-compute-0012/cache/data9/adaptor.mars.internal-1571103604.545584-15940-5-110d865d-69db-4a5d-b2bb-9d6008277d73.nc to /home/jovyan/europe/12-10-1980.nc (380.2M)\n",
      "2019-10-17 11:59:09,734 INFO Download rate 25.9M/s \n"
     ]
    },
    {
     "data": {
      "text/plain": [
       "<Result cmd='fimex-1.3 -c extractEurope.cfg --input.file /home/jovyan/europe/12-10-1980.nc --output.file /home/jovyan/europe/europe_12-10-1980.nc' exited=0>"
      ]
     },
     "metadata": {},
     "output_type": "display_data"
    },
    {
     "data": {
      "text/plain": [
       "<Result cmd='rm -f /home/jovyan/europe/12-10-1980.nc' exited=0>"
      ]
     },
     "metadata": {},
     "output_type": "display_data"
    },
    {
     "name": "stderr",
     "output_type": "stream",
     "text": [
      "2019-10-17 11:59:10,066 INFO Sending request to https://cds.climate.copernicus.eu/api/v2/resources/reanalysis-era5-single-levels\n",
      "2019-10-17 11:59:10,926 INFO Request is completed\n",
      "2019-10-17 11:59:10,927 INFO Downloading http://136.156.132.198/cache-compute-0003/cache/data9/adaptor.mars.internal-1571276056.688499-13498-11-70ce58d6-593a-4d30-9ffa-cff1475635e9.nc to /home/jovyan/europe/13-10-1980.nc (380.2M)\n",
      "2019-10-17 11:59:29,991 INFO Download rate 19.9M/s \n"
     ]
    },
    {
     "data": {
      "text/plain": [
       "<Result cmd='fimex-1.3 -c extractEurope.cfg --input.file /home/jovyan/europe/13-10-1980.nc --output.file /home/jovyan/europe/europe_13-10-1980.nc' exited=0>"
      ]
     },
     "metadata": {},
     "output_type": "display_data"
    },
    {
     "data": {
      "text/plain": [
       "<Result cmd='rm -f /home/jovyan/europe/13-10-1980.nc' exited=0>"
      ]
     },
     "metadata": {},
     "output_type": "display_data"
    },
    {
     "name": "stderr",
     "output_type": "stream",
     "text": [
      "2019-10-17 11:59:30,315 INFO Sending request to https://cds.climate.copernicus.eu/api/v2/resources/reanalysis-era5-single-levels\n",
      "2019-10-17 11:59:30,989 INFO Request is completed\n",
      "2019-10-17 11:59:30,990 INFO Downloading http://136.156.133.37/cache-compute-0011/cache/data4/adaptor.mars.internal-1571103677.0596838-930-7-c6c4258d-9303-45cf-9f1a-3ff5ef18007c.nc to /home/jovyan/europe/14-10-1980.nc (380.2M)\n",
      "2019-10-17 11:59:49,662 INFO Download rate 20.4M/s \n"
     ]
    },
    {
     "data": {
      "text/plain": [
       "<Result cmd='fimex-1.3 -c extractEurope.cfg --input.file /home/jovyan/europe/14-10-1980.nc --output.file /home/jovyan/europe/europe_14-10-1980.nc' exited=0>"
      ]
     },
     "metadata": {},
     "output_type": "display_data"
    },
    {
     "data": {
      "text/plain": [
       "<Result cmd='rm -f /home/jovyan/europe/14-10-1980.nc' exited=0>"
      ]
     },
     "metadata": {},
     "output_type": "display_data"
    },
    {
     "name": "stderr",
     "output_type": "stream",
     "text": [
      "2019-10-17 11:59:49,965 INFO Sending request to https://cds.climate.copernicus.eu/api/v2/resources/reanalysis-era5-single-levels\n",
      "2019-10-17 11:59:50,206 INFO Request is completed\n",
      "2019-10-17 11:59:50,208 INFO Downloading http://136.156.132.201/cache-compute-0004/cache/data1/adaptor.mars.internal-1571276109.2293181-22591-5-f646a51d-0e1e-4d37-a4b9-d9dbb54103bf.nc to /home/jovyan/europe/15-10-1980.nc (380.2M)\n",
      "2019-10-17 12:00:07,663 INFO Download rate 21.8M/s \n"
     ]
    },
    {
     "data": {
      "text/plain": [
       "<Result cmd='fimex-1.3 -c extractEurope.cfg --input.file /home/jovyan/europe/15-10-1980.nc --output.file /home/jovyan/europe/europe_15-10-1980.nc' exited=0>"
      ]
     },
     "metadata": {},
     "output_type": "display_data"
    },
    {
     "data": {
      "text/plain": [
       "<Result cmd='rm -f /home/jovyan/europe/15-10-1980.nc' exited=0>"
      ]
     },
     "metadata": {},
     "output_type": "display_data"
    },
    {
     "name": "stderr",
     "output_type": "stream",
     "text": [
      "2019-10-17 12:00:07,954 INFO Sending request to https://cds.climate.copernicus.eu/api/v2/resources/reanalysis-era5-single-levels\n",
      "2019-10-17 12:00:08,875 INFO Request is completed\n",
      "2019-10-17 12:00:08,876 INFO Downloading http://136.156.132.201/cache-compute-0004/cache/data5/adaptor.mars.internal-1571276158.609614-22591-7-773f1bf9-24ab-4998-bd7a-82098816cfe9.nc to /home/jovyan/europe/16-10-1980.nc (380.2M)\n",
      "2019-10-17 12:00:24,502 INFO Download rate 24.3M/s \n"
     ]
    },
    {
     "data": {
      "text/plain": [
       "<Result cmd='fimex-1.3 -c extractEurope.cfg --input.file /home/jovyan/europe/16-10-1980.nc --output.file /home/jovyan/europe/europe_16-10-1980.nc' exited=0>"
      ]
     },
     "metadata": {},
     "output_type": "display_data"
    },
    {
     "data": {
      "text/plain": [
       "<Result cmd='rm -f /home/jovyan/europe/16-10-1980.nc' exited=0>"
      ]
     },
     "metadata": {},
     "output_type": "display_data"
    },
    {
     "name": "stderr",
     "output_type": "stream",
     "text": [
      "2019-10-17 12:00:24,774 INFO Sending request to https://cds.climate.copernicus.eu/api/v2/resources/reanalysis-era5-single-levels\n",
      "2019-10-17 12:00:25,571 INFO Request is completed\n",
      "2019-10-17 12:00:25,572 INFO Downloading http://136.156.133.41/cache-compute-0013/cache/data3/adaptor.mars.internal-1571276199.1020267-31203-17-eb37300b-1666-4627-869f-6314eb8401da.nc to /home/jovyan/europe/17-10-1980.nc (380.2M)\n",
      "2019-10-17 12:00:38,566 INFO Download rate 29.3M/s \n"
     ]
    },
    {
     "data": {
      "text/plain": [
       "<Result cmd='fimex-1.3 -c extractEurope.cfg --input.file /home/jovyan/europe/17-10-1980.nc --output.file /home/jovyan/europe/europe_17-10-1980.nc' exited=0>"
      ]
     },
     "metadata": {},
     "output_type": "display_data"
    },
    {
     "data": {
      "text/plain": [
       "<Result cmd='rm -f /home/jovyan/europe/17-10-1980.nc' exited=0>"
      ]
     },
     "metadata": {},
     "output_type": "display_data"
    },
    {
     "name": "stderr",
     "output_type": "stream",
     "text": [
      "2019-10-17 12:00:39,034 INFO Sending request to https://cds.climate.copernicus.eu/api/v2/resources/reanalysis-era5-single-levels\n",
      "2019-10-17 12:00:39,186 INFO Request is completed\n",
      "2019-10-17 12:00:39,187 INFO Downloading http://136.156.133.25/cache-compute-0008/cache/data7/adaptor.mars.internal-1571103836.2824883-12268-7-2b2f84a1-10a2-49e8-a8f8-1a601d113394.nc to /home/jovyan/europe/18-10-1980.nc (380.2M)\n",
      "2019-10-17 12:00:54,714 INFO Download rate 24.5M/s \n"
     ]
    },
    {
     "data": {
      "text/plain": [
       "<Result cmd='fimex-1.3 -c extractEurope.cfg --input.file /home/jovyan/europe/18-10-1980.nc --output.file /home/jovyan/europe/europe_18-10-1980.nc' exited=0>"
      ]
     },
     "metadata": {},
     "output_type": "display_data"
    },
    {
     "data": {
      "text/plain": [
       "<Result cmd='rm -f /home/jovyan/europe/18-10-1980.nc' exited=0>"
      ]
     },
     "metadata": {},
     "output_type": "display_data"
    },
    {
     "name": "stderr",
     "output_type": "stream",
     "text": [
      "2019-10-17 12:00:55,223 INFO Sending request to https://cds.climate.copernicus.eu/api/v2/resources/reanalysis-era5-single-levels\n",
      "2019-10-17 12:00:55,389 INFO Request is completed\n",
      "2019-10-17 12:00:55,390 INFO Downloading http://136.156.133.25/cache-compute-0008/cache/data9/adaptor.mars.internal-1571276244.8820121-21831-9-d154d7fa-3927-4bcb-9cab-44b97a5a02e2.nc to /home/jovyan/europe/19-10-1980.nc (380.2M)\n",
      "2019-10-17 12:01:11,562 INFO Download rate 23.5M/s \n"
     ]
    },
    {
     "data": {
      "text/plain": [
       "<Result cmd='fimex-1.3 -c extractEurope.cfg --input.file /home/jovyan/europe/19-10-1980.nc --output.file /home/jovyan/europe/europe_19-10-1980.nc' exited=0>"
      ]
     },
     "metadata": {},
     "output_type": "display_data"
    },
    {
     "data": {
      "text/plain": [
       "<Result cmd='rm -f /home/jovyan/europe/19-10-1980.nc' exited=0>"
      ]
     },
     "metadata": {},
     "output_type": "display_data"
    },
    {
     "name": "stderr",
     "output_type": "stream",
     "text": [
      "2019-10-17 12:01:11,829 INFO Sending request to https://cds.climate.copernicus.eu/api/v2/resources/reanalysis-era5-single-levels\n",
      "2019-10-17 12:01:12,008 INFO Request is completed\n",
      "2019-10-17 12:01:12,010 INFO Downloading http://136.156.133.41/cache-compute-0013/cache/data5/adaptor.mars.internal-1571276280.4686205-5206-1-334a29ce-9c59-47c0-ae92-f02fa929ae94.nc to /home/jovyan/europe/20-10-1980.nc (380.2M)\n",
      "2019-10-17 12:01:31,267 INFO Download rate 19.7M/s \n"
     ]
    },
    {
     "data": {
      "text/plain": [
       "<Result cmd='fimex-1.3 -c extractEurope.cfg --input.file /home/jovyan/europe/20-10-1980.nc --output.file /home/jovyan/europe/europe_20-10-1980.nc' exited=0>"
      ]
     },
     "metadata": {},
     "output_type": "display_data"
    },
    {
     "data": {
      "text/plain": [
       "<Result cmd='rm -f /home/jovyan/europe/20-10-1980.nc' exited=0>"
      ]
     },
     "metadata": {},
     "output_type": "display_data"
    },
    {
     "name": "stderr",
     "output_type": "stream",
     "text": [
      "2019-10-17 12:01:31,591 INFO Sending request to https://cds.climate.copernicus.eu/api/v2/resources/reanalysis-era5-single-levels\n",
      "2019-10-17 12:01:32,252 INFO Request is completed\n",
      "2019-10-17 12:01:32,254 INFO Downloading http://136.156.133.32/cache-compute-0009/cache/data5/adaptor.mars.internal-1571276333.1066525-18367-11-cd663d1c-511b-4be7-afb6-09e38cbb2c21.nc to /home/jovyan/europe/21-10-1980.nc (380.2M)\n",
      "2019-10-17 12:01:50,869 INFO Download rate 20.4M/s \n"
     ]
    },
    {
     "data": {
      "text/plain": [
       "<Result cmd='fimex-1.3 -c extractEurope.cfg --input.file /home/jovyan/europe/21-10-1980.nc --output.file /home/jovyan/europe/europe_21-10-1980.nc' exited=0>"
      ]
     },
     "metadata": {},
     "output_type": "display_data"
    },
    {
     "data": {
      "text/plain": [
       "<Result cmd='rm -f /home/jovyan/europe/21-10-1980.nc' exited=0>"
      ]
     },
     "metadata": {},
     "output_type": "display_data"
    },
    {
     "name": "stderr",
     "output_type": "stream",
     "text": [
      "2019-10-17 12:01:51,161 INFO Sending request to https://cds.climate.copernicus.eu/api/v2/resources/reanalysis-era5-single-levels\n",
      "2019-10-17 12:01:51,437 INFO Request is completed\n",
      "2019-10-17 12:01:51,438 INFO Downloading http://136.156.132.210/cache-compute-0005/cache/data3/adaptor.mars.internal-1571276394.1474638-28575-7-4607b58b-7ae8-4b1f-a027-fe36f11d8d9f.nc to /home/jovyan/europe/22-10-1980.nc (380.2M)\n",
      "2019-10-17 12:02:12,259 INFO Download rate 18.3M/s \n"
     ]
    },
    {
     "data": {
      "text/plain": [
       "<Result cmd='fimex-1.3 -c extractEurope.cfg --input.file /home/jovyan/europe/22-10-1980.nc --output.file /home/jovyan/europe/europe_22-10-1980.nc' exited=0>"
      ]
     },
     "metadata": {},
     "output_type": "display_data"
    },
    {
     "data": {
      "text/plain": [
       "<Result cmd='rm -f /home/jovyan/europe/22-10-1980.nc' exited=0>"
      ]
     },
     "metadata": {},
     "output_type": "display_data"
    },
    {
     "name": "stderr",
     "output_type": "stream",
     "text": [
      "2019-10-17 12:02:12,616 INFO Sending request to https://cds.climate.copernicus.eu/api/v2/resources/reanalysis-era5-single-levels\n",
      "2019-10-17 12:02:13,338 INFO Request is completed\n",
      "2019-10-17 12:02:13,342 INFO Downloading http://136.156.132.110/cache-compute-0001/cache/data3/adaptor.mars.internal-1571104028.8205876-28330-5-d29f8634-e176-43ab-8916-a9ee4a7f72c9.nc to /home/jovyan/europe/23-10-1980.nc (380.2M)\n",
      "2019-10-17 12:02:30,369 INFO Download rate 22.3M/s \n"
     ]
    },
    {
     "data": {
      "text/plain": [
       "<Result cmd='fimex-1.3 -c extractEurope.cfg --input.file /home/jovyan/europe/23-10-1980.nc --output.file /home/jovyan/europe/europe_23-10-1980.nc' exited=0>"
      ]
     },
     "metadata": {},
     "output_type": "display_data"
    },
    {
     "data": {
      "text/plain": [
       "<Result cmd='rm -f /home/jovyan/europe/23-10-1980.nc' exited=0>"
      ]
     },
     "metadata": {},
     "output_type": "display_data"
    },
    {
     "name": "stderr",
     "output_type": "stream",
     "text": [
      "2019-10-17 12:02:30,767 INFO Sending request to https://cds.climate.copernicus.eu/api/v2/resources/reanalysis-era5-single-levels\n",
      "2019-10-17 12:02:31,870 INFO Request is completed\n",
      "2019-10-17 12:02:31,874 INFO Downloading http://136.156.133.37/cache-compute-0011/cache/data6/adaptor.mars.internal-1571104067.256525-21546-11-1dd58cc4-8b79-432b-9b07-a45f10ef50b9.nc to /home/jovyan/europe/24-10-1980.nc (380.2M)\n",
      "2019-10-17 12:02:40,070 INFO Download rate 46.4M/s \n"
     ]
    },
    {
     "data": {
      "text/plain": [
       "<Result cmd='fimex-1.3 -c extractEurope.cfg --input.file /home/jovyan/europe/24-10-1980.nc --output.file /home/jovyan/europe/europe_24-10-1980.nc' exited=0>"
      ]
     },
     "metadata": {},
     "output_type": "display_data"
    },
    {
     "data": {
      "text/plain": [
       "<Result cmd='rm -f /home/jovyan/europe/24-10-1980.nc' exited=0>"
      ]
     },
     "metadata": {},
     "output_type": "display_data"
    },
    {
     "name": "stderr",
     "output_type": "stream",
     "text": [
      "2019-10-17 12:02:40,429 INFO Sending request to https://cds.climate.copernicus.eu/api/v2/resources/reanalysis-era5-single-levels\n",
      "2019-10-17 12:02:41,840 INFO Request is completed\n",
      "2019-10-17 12:02:41,841 INFO Downloading http://136.156.132.198/cache-compute-0003/cache/data4/adaptor.mars.internal-1571104108.0193253-7615-3-27cb6ae0-3adc-4ee1-8f33-b0fb8e3e20b9.nc to /home/jovyan/europe/25-10-1980.nc (380.2M)\n",
      "2019-10-17 12:02:56,981 INFO Download rate 25.1M/s \n"
     ]
    },
    {
     "data": {
      "text/plain": [
       "<Result cmd='fimex-1.3 -c extractEurope.cfg --input.file /home/jovyan/europe/25-10-1980.nc --output.file /home/jovyan/europe/europe_25-10-1980.nc' exited=0>"
      ]
     },
     "metadata": {},
     "output_type": "display_data"
    },
    {
     "data": {
      "text/plain": [
       "<Result cmd='rm -f /home/jovyan/europe/25-10-1980.nc' exited=0>"
      ]
     },
     "metadata": {},
     "output_type": "display_data"
    },
    {
     "name": "stderr",
     "output_type": "stream",
     "text": [
      "2019-10-17 12:02:57,379 INFO Sending request to https://cds.climate.copernicus.eu/api/v2/resources/reanalysis-era5-single-levels\n",
      "2019-10-17 12:02:57,589 INFO Request is completed\n",
      "2019-10-17 12:02:57,590 INFO Downloading http://136.156.132.105/cache-compute-0000/cache/data5/adaptor.mars.internal-1571276464.542257-21827-19-a5cf00c1-f776-4396-9d7b-4958688ba831.nc to /home/jovyan/europe/26-10-1980.nc (380.2M)\n",
      "2019-10-17 12:03:16,024 INFO Download rate 20.6M/s \n"
     ]
    },
    {
     "data": {
      "text/plain": [
       "<Result cmd='fimex-1.3 -c extractEurope.cfg --input.file /home/jovyan/europe/26-10-1980.nc --output.file /home/jovyan/europe/europe_26-10-1980.nc' exited=0>"
      ]
     },
     "metadata": {},
     "output_type": "display_data"
    },
    {
     "data": {
      "text/plain": [
       "<Result cmd='rm -f /home/jovyan/europe/26-10-1980.nc' exited=0>"
      ]
     },
     "metadata": {},
     "output_type": "display_data"
    },
    {
     "name": "stderr",
     "output_type": "stream",
     "text": [
      "2019-10-17 12:03:16,332 INFO Sending request to https://cds.climate.copernicus.eu/api/v2/resources/reanalysis-era5-single-levels\n",
      "2019-10-17 12:03:16,617 INFO Request is completed\n",
      "2019-10-17 12:03:16,618 INFO Downloading http://136.156.133.25/cache-compute-0008/cache/data2/adaptor.mars.internal-1571276506.1955807-26017-7-85d6b0b8-efac-4a8e-b859-e68434ce8b1c.nc to /home/jovyan/europe/27-10-1980.nc (380.2M)\n",
      "2019-10-17 12:03:38,690 INFO Download rate 17.2M/s \n"
     ]
    },
    {
     "data": {
      "text/plain": [
       "<Result cmd='fimex-1.3 -c extractEurope.cfg --input.file /home/jovyan/europe/27-10-1980.nc --output.file /home/jovyan/europe/europe_27-10-1980.nc' exited=0>"
      ]
     },
     "metadata": {},
     "output_type": "display_data"
    },
    {
     "data": {
      "text/plain": [
       "<Result cmd='rm -f /home/jovyan/europe/27-10-1980.nc' exited=0>"
      ]
     },
     "metadata": {},
     "output_type": "display_data"
    },
    {
     "name": "stderr",
     "output_type": "stream",
     "text": [
      "2019-10-17 12:03:39,144 INFO Sending request to https://cds.climate.copernicus.eu/api/v2/resources/reanalysis-era5-single-levels\n",
      "2019-10-17 12:03:39,276 INFO Request is completed\n",
      "2019-10-17 12:03:39,277 INFO Downloading http://136.156.132.201/cache-compute-0004/cache/data4/adaptor.mars.internal-1571276557.0075936-24267-9-cc8edfa7-c5aa-437e-b50f-a44ce8e69a39.nc to /home/jovyan/europe/28-10-1980.nc (380.2M)\n",
      "2019-10-17 12:03:59,778 INFO Download rate 18.5M/s \n"
     ]
    },
    {
     "data": {
      "text/plain": [
       "<Result cmd='fimex-1.3 -c extractEurope.cfg --input.file /home/jovyan/europe/28-10-1980.nc --output.file /home/jovyan/europe/europe_28-10-1980.nc' exited=0>"
      ]
     },
     "metadata": {},
     "output_type": "display_data"
    },
    {
     "data": {
      "text/plain": [
       "<Result cmd='rm -f /home/jovyan/europe/28-10-1980.nc' exited=0>"
      ]
     },
     "metadata": {},
     "output_type": "display_data"
    },
    {
     "name": "stderr",
     "output_type": "stream",
     "text": [
      "2019-10-17 12:04:00,094 INFO Sending request to https://cds.climate.copernicus.eu/api/v2/resources/reanalysis-era5-single-levels\n",
      "2019-10-17 12:04:00,959 INFO Request is completed\n",
      "2019-10-17 12:04:00,960 INFO Downloading http://136.156.132.210/cache-compute-0005/cache/data3/adaptor.mars.internal-1571104266.5737057-19596-13-ec43eb20-cb85-424b-969d-5bc5cc0fba39.nc to /home/jovyan/europe/29-10-1980.nc (380.2M)\n",
      "2019-10-17 12:04:15,748 INFO Download rate 25.7M/s \n"
     ]
    },
    {
     "data": {
      "text/plain": [
       "<Result cmd='fimex-1.3 -c extractEurope.cfg --input.file /home/jovyan/europe/29-10-1980.nc --output.file /home/jovyan/europe/europe_29-10-1980.nc' exited=0>"
      ]
     },
     "metadata": {},
     "output_type": "display_data"
    },
    {
     "data": {
      "text/plain": [
       "<Result cmd='rm -f /home/jovyan/europe/29-10-1980.nc' exited=0>"
      ]
     },
     "metadata": {},
     "output_type": "display_data"
    },
    {
     "name": "stderr",
     "output_type": "stream",
     "text": [
      "2019-10-17 12:04:16,015 INFO Sending request to https://cds.climate.copernicus.eu/api/v2/resources/reanalysis-era5-single-levels\n",
      "2019-10-17 12:04:16,627 INFO Request is completed\n",
      "2019-10-17 12:04:16,628 INFO Downloading http://136.156.132.110/cache-compute-0001/cache/data0/adaptor.mars.internal-1571276612.4523928-30824-7-5f627993-88bc-4a36-9633-7b8325ae2c7d.nc to /home/jovyan/europe/30-10-1980.nc (380.2M)\n",
      "2019-10-17 12:04:30,244 INFO Download rate 27.9M/s \n"
     ]
    },
    {
     "data": {
      "text/plain": [
       "<Result cmd='fimex-1.3 -c extractEurope.cfg --input.file /home/jovyan/europe/30-10-1980.nc --output.file /home/jovyan/europe/europe_30-10-1980.nc' exited=0>"
      ]
     },
     "metadata": {},
     "output_type": "display_data"
    },
    {
     "data": {
      "text/plain": [
       "<Result cmd='rm -f /home/jovyan/europe/30-10-1980.nc' exited=0>"
      ]
     },
     "metadata": {},
     "output_type": "display_data"
    },
    {
     "name": "stderr",
     "output_type": "stream",
     "text": [
      "2019-10-17 12:04:30,526 INFO Sending request to https://cds.climate.copernicus.eu/api/v2/resources/reanalysis-era5-single-levels\n",
      "2019-10-17 12:04:31,548 INFO Request is completed\n",
      "2019-10-17 12:04:31,549 INFO Downloading http://136.156.133.32/cache-compute-0009/cache/data0/adaptor.mars.internal-1571276653.216931-23217-7-978c3fcb-0793-42d3-99cf-e924966a1587.nc to /home/jovyan/europe/31-10-1980.nc (380.2M)\n",
      "2019-10-17 12:04:47,949 INFO Download rate 23.2M/s \n"
     ]
    },
    {
     "data": {
      "text/plain": [
       "<Result cmd='fimex-1.3 -c extractEurope.cfg --input.file /home/jovyan/europe/31-10-1980.nc --output.file /home/jovyan/europe/europe_31-10-1980.nc' exited=0>"
      ]
     },
     "metadata": {},
     "output_type": "display_data"
    },
    {
     "data": {
      "text/plain": [
       "<Result cmd='rm -f /home/jovyan/europe/31-10-1980.nc' exited=0>"
      ]
     },
     "metadata": {},
     "output_type": "display_data"
    },
    {
     "name": "stderr",
     "output_type": "stream",
     "text": [
      "2019-10-17 12:04:48,420 INFO Sending request to https://cds.climate.copernicus.eu/api/v2/resources/reanalysis-era5-single-levels\n",
      "2019-10-17 12:04:50,021 INFO Request is completed\n",
      "2019-10-17 12:04:50,022 INFO Downloading http://136.156.133.25/cache-compute-0008/cache/data8/adaptor.mars.internal-1571104378.9695685-29136-3-f58ccbf4-d506-46e5-b867-63a9d95b8296.nc to /home/jovyan/europe/01-11-1980.nc (380.2M)\n",
      "2019-10-17 12:05:10,344 INFO Download rate 18.7M/s \n"
     ]
    },
    {
     "data": {
      "text/plain": [
       "<Result cmd='fimex-1.3 -c extractEurope.cfg --input.file /home/jovyan/europe/01-11-1980.nc --output.file /home/jovyan/europe/europe_01-11-1980.nc' exited=0>"
      ]
     },
     "metadata": {},
     "output_type": "display_data"
    },
    {
     "data": {
      "text/plain": [
       "<Result cmd='rm -f /home/jovyan/europe/01-11-1980.nc' exited=0>"
      ]
     },
     "metadata": {},
     "output_type": "display_data"
    },
    {
     "name": "stderr",
     "output_type": "stream",
     "text": [
      "2019-10-17 12:05:10,722 INFO Sending request to https://cds.climate.copernicus.eu/api/v2/resources/reanalysis-era5-single-levels\n",
      "2019-10-17 12:05:11,541 INFO Request is completed\n",
      "2019-10-17 12:05:11,543 INFO Downloading http://136.156.132.235/cache-compute-0006/cache/data2/adaptor.mars.internal-1571276697.421635-2375-17-ae7876e0-1244-4dea-ab8b-b18ae05fc68e.nc to /home/jovyan/europe/02-11-1980.nc (380.2M)\n",
      "2019-10-17 12:05:33,072 INFO Download rate 17.7M/s \n"
     ]
    },
    {
     "data": {
      "text/plain": [
       "<Result cmd='fimex-1.3 -c extractEurope.cfg --input.file /home/jovyan/europe/02-11-1980.nc --output.file /home/jovyan/europe/europe_02-11-1980.nc' exited=0>"
      ]
     },
     "metadata": {},
     "output_type": "display_data"
    },
    {
     "data": {
      "text/plain": [
       "<Result cmd='rm -f /home/jovyan/europe/02-11-1980.nc' exited=0>"
      ]
     },
     "metadata": {},
     "output_type": "display_data"
    },
    {
     "name": "stderr",
     "output_type": "stream",
     "text": [
      "2019-10-17 12:05:33,645 INFO Sending request to https://cds.climate.copernicus.eu/api/v2/resources/reanalysis-era5-single-levels\n",
      "2019-10-17 12:05:34,493 INFO Request is completed\n",
      "2019-10-17 12:05:34,498 INFO Downloading http://136.156.132.110/cache-compute-0001/cache/data8/adaptor.mars.internal-1571276731.5084825-31695-9-065d63eb-ecbb-44e1-a5ce-668568a6163a.nc to /home/jovyan/europe/03-11-1980.nc (380.2M)\n",
      "2019-10-17 12:05:55,002 INFO Download rate 18.5M/s \n"
     ]
    },
    {
     "data": {
      "text/plain": [
       "<Result cmd='fimex-1.3 -c extractEurope.cfg --input.file /home/jovyan/europe/03-11-1980.nc --output.file /home/jovyan/europe/europe_03-11-1980.nc' exited=0>"
      ]
     },
     "metadata": {},
     "output_type": "display_data"
    },
    {
     "data": {
      "text/plain": [
       "<Result cmd='rm -f /home/jovyan/europe/03-11-1980.nc' exited=0>"
      ]
     },
     "metadata": {},
     "output_type": "display_data"
    },
    {
     "name": "stderr",
     "output_type": "stream",
     "text": [
      "2019-10-17 12:05:55,487 INFO Sending request to https://cds.climate.copernicus.eu/api/v2/resources/reanalysis-era5-single-levels\n",
      "2019-10-17 12:05:56,622 INFO Request is completed\n",
      "2019-10-17 12:05:56,626 INFO Downloading http://136.156.132.198/cache-compute-0003/cache/data1/adaptor.mars.internal-1571276770.392797-3307-13-28a0bdab-c219-479c-9e84-2f1c1cea6655.nc to /home/jovyan/europe/04-11-1980.nc (380.2M)\n",
      "2019-10-17 12:06:19,846 INFO Download rate 16.4M/s \n"
     ]
    },
    {
     "data": {
      "text/plain": [
       "<Result cmd='fimex-1.3 -c extractEurope.cfg --input.file /home/jovyan/europe/04-11-1980.nc --output.file /home/jovyan/europe/europe_04-11-1980.nc' exited=0>"
      ]
     },
     "metadata": {},
     "output_type": "display_data"
    },
    {
     "data": {
      "text/plain": [
       "<Result cmd='rm -f /home/jovyan/europe/04-11-1980.nc' exited=0>"
      ]
     },
     "metadata": {},
     "output_type": "display_data"
    },
    {
     "name": "stderr",
     "output_type": "stream",
     "text": [
      "2019-10-17 12:06:20,435 INFO Sending request to https://cds.climate.copernicus.eu/api/v2/resources/reanalysis-era5-single-levels\n",
      "2019-10-17 12:06:22,145 INFO Request is queued\n",
      "2019-10-17 12:06:23,174 INFO Request is running\n",
      "2019-10-17 12:06:54,533 INFO Request is completed\n",
      "2019-10-17 12:06:54,537 INFO Downloading http://136.156.133.42/cache-compute-0014/cache/data2/adaptor.mars.internal-1571313983.070387-2654-1-946e69c9-06fe-4204-b09e-35ea8878208b.nc to /home/jovyan/europe/05-11-1980.nc (380.2M)\n",
      "2019-10-17 12:07:13,533 INFO Download rate 20M/s   \n"
     ]
    },
    {
     "data": {
      "text/plain": [
       "<Result cmd='fimex-1.3 -c extractEurope.cfg --input.file /home/jovyan/europe/05-11-1980.nc --output.file /home/jovyan/europe/europe_05-11-1980.nc' exited=0>"
      ]
     },
     "metadata": {},
     "output_type": "display_data"
    },
    {
     "data": {
      "text/plain": [
       "<Result cmd='rm -f /home/jovyan/europe/05-11-1980.nc' exited=0>"
      ]
     },
     "metadata": {},
     "output_type": "display_data"
    },
    {
     "name": "stderr",
     "output_type": "stream",
     "text": [
      "2019-10-17 12:07:14,104 INFO Sending request to https://cds.climate.copernicus.eu/api/v2/resources/reanalysis-era5-single-levels\n",
      "2019-10-17 12:07:14,267 INFO Request is completed\n",
      "2019-10-17 12:07:14,268 INFO Downloading http://136.156.133.39/cache-compute-0012/cache/data1/adaptor.mars.internal-1571276814.8702133-7248-7-ac767004-1a29-45a7-817d-c42e79f098c2.nc to /home/jovyan/europe/06-11-1980.nc (380.2M)\n",
      "2019-10-17 12:07:40,767 INFO Download rate 14.3M/s \n"
     ]
    },
    {
     "data": {
      "text/plain": [
       "<Result cmd='fimex-1.3 -c extractEurope.cfg --input.file /home/jovyan/europe/06-11-1980.nc --output.file /home/jovyan/europe/europe_06-11-1980.nc' exited=0>"
      ]
     },
     "metadata": {},
     "output_type": "display_data"
    },
    {
     "data": {
      "text/plain": [
       "<Result cmd='rm -f /home/jovyan/europe/06-11-1980.nc' exited=0>"
      ]
     },
     "metadata": {},
     "output_type": "display_data"
    },
    {
     "name": "stderr",
     "output_type": "stream",
     "text": [
      "2019-10-17 12:07:41,212 INFO Sending request to https://cds.climate.copernicus.eu/api/v2/resources/reanalysis-era5-single-levels\n",
      "2019-10-17 12:07:41,631 INFO Request is completed\n",
      "2019-10-17 12:07:41,635 INFO Downloading http://136.156.133.36/cache-compute-0010/cache/data7/adaptor.mars.internal-1571276851.0560958-6116-3-851de067-a113-4490-8335-bcf1532203d7.nc to /home/jovyan/europe/07-11-1980.nc (380.2M)\n",
      "2019-10-17 12:08:04,223 INFO Download rate 16.8M/s \n"
     ]
    },
    {
     "data": {
      "text/plain": [
       "<Result cmd='fimex-1.3 -c extractEurope.cfg --input.file /home/jovyan/europe/07-11-1980.nc --output.file /home/jovyan/europe/europe_07-11-1980.nc' exited=0>"
      ]
     },
     "metadata": {},
     "output_type": "display_data"
    },
    {
     "data": {
      "text/plain": [
       "<Result cmd='rm -f /home/jovyan/europe/07-11-1980.nc' exited=0>"
      ]
     },
     "metadata": {},
     "output_type": "display_data"
    },
    {
     "name": "stderr",
     "output_type": "stream",
     "text": [
      "2019-10-17 12:08:04,627 INFO Sending request to https://cds.climate.copernicus.eu/api/v2/resources/reanalysis-era5-single-levels\n",
      "2019-10-17 12:08:05,890 INFO Request is completed\n",
      "2019-10-17 12:08:05,891 INFO Downloading http://136.156.133.25/cache-compute-0008/cache/data9/adaptor.mars.internal-1571276891.913362-26714-5-995ad6f6-1387-49c3-aab5-43d0efdcbbc1.nc to /home/jovyan/europe/08-11-1980.nc (380.2M)\n",
      "2019-10-17 12:08:18,803 INFO Download rate 29.5M/s \n"
     ]
    },
    {
     "data": {
      "text/plain": [
       "<Result cmd='fimex-1.3 -c extractEurope.cfg --input.file /home/jovyan/europe/08-11-1980.nc --output.file /home/jovyan/europe/europe_08-11-1980.nc' exited=0>"
      ]
     },
     "metadata": {},
     "output_type": "display_data"
    },
    {
     "data": {
      "text/plain": [
       "<Result cmd='rm -f /home/jovyan/europe/08-11-1980.nc' exited=0>"
      ]
     },
     "metadata": {},
     "output_type": "display_data"
    },
    {
     "name": "stderr",
     "output_type": "stream",
     "text": [
      "2019-10-17 12:08:19,302 INFO Sending request to https://cds.climate.copernicus.eu/api/v2/resources/reanalysis-era5-single-levels\n",
      "2019-10-17 12:08:19,464 INFO Request is completed\n",
      "2019-10-17 12:08:19,469 INFO Downloading http://136.156.132.201/cache-compute-0004/cache/data4/adaptor.mars.internal-1571276931.6419764-19342-9-8c63094a-4b1b-490b-8eeb-da88af745430.nc to /home/jovyan/europe/09-11-1980.nc (380.2M)\n",
      "2019-10-17 12:08:42,844 INFO Download rate 16.3M/s \n"
     ]
    },
    {
     "data": {
      "text/plain": [
       "<Result cmd='fimex-1.3 -c extractEurope.cfg --input.file /home/jovyan/europe/09-11-1980.nc --output.file /home/jovyan/europe/europe_09-11-1980.nc' exited=0>"
      ]
     },
     "metadata": {},
     "output_type": "display_data"
    },
    {
     "data": {
      "text/plain": [
       "<Result cmd='rm -f /home/jovyan/europe/09-11-1980.nc' exited=0>"
      ]
     },
     "metadata": {},
     "output_type": "display_data"
    },
    {
     "name": "stderr",
     "output_type": "stream",
     "text": [
      "2019-10-17 12:08:43,343 INFO Sending request to https://cds.climate.copernicus.eu/api/v2/resources/reanalysis-era5-single-levels\n",
      "2019-10-17 12:08:44,255 INFO Request is completed\n",
      "2019-10-17 12:08:44,257 INFO Downloading http://136.156.132.201/cache-compute-0004/cache/data5/adaptor.mars.internal-1571104711.5453804-5764-19-6aa81948-7249-4bc5-8199-55fcbc014a22.nc to /home/jovyan/europe/10-11-1980.nc (380.2M)\n",
      "2019-10-17 12:09:01,574 INFO Download rate 22M/s   \n"
     ]
    },
    {
     "data": {
      "text/plain": [
       "<Result cmd='fimex-1.3 -c extractEurope.cfg --input.file /home/jovyan/europe/10-11-1980.nc --output.file /home/jovyan/europe/europe_10-11-1980.nc' exited=0>"
      ]
     },
     "metadata": {},
     "output_type": "display_data"
    },
    {
     "data": {
      "text/plain": [
       "<Result cmd='rm -f /home/jovyan/europe/10-11-1980.nc' exited=0>"
      ]
     },
     "metadata": {},
     "output_type": "display_data"
    },
    {
     "name": "stderr",
     "output_type": "stream",
     "text": [
      "2019-10-17 12:09:02,387 INFO Sending request to https://cds.climate.copernicus.eu/api/v2/resources/reanalysis-era5-single-levels\n",
      "2019-10-17 12:09:02,581 INFO Request is completed\n",
      "2019-10-17 12:09:02,582 INFO Downloading http://136.156.132.198/cache-compute-0003/cache/data3/adaptor.mars.internal-1571276997.738403-22162-5-ff268dc1-bb6b-4556-85de-ad06e12a15a6.nc to /home/jovyan/europe/11-11-1980.nc (380.2M)\n",
      "2019-10-17 12:09:19,476 INFO Download rate 22.5M/s \n"
     ]
    },
    {
     "data": {
      "text/plain": [
       "<Result cmd='fimex-1.3 -c extractEurope.cfg --input.file /home/jovyan/europe/11-11-1980.nc --output.file /home/jovyan/europe/europe_11-11-1980.nc' exited=0>"
      ]
     },
     "metadata": {},
     "output_type": "display_data"
    },
    {
     "data": {
      "text/plain": [
       "<Result cmd='rm -f /home/jovyan/europe/11-11-1980.nc' exited=0>"
      ]
     },
     "metadata": {},
     "output_type": "display_data"
    },
    {
     "name": "stderr",
     "output_type": "stream",
     "text": [
      "2019-10-17 12:09:20,250 INFO Sending request to https://cds.climate.copernicus.eu/api/v2/resources/reanalysis-era5-single-levels\n",
      "2019-10-17 12:09:20,695 INFO Request is completed\n",
      "2019-10-17 12:09:20,699 INFO Downloading http://136.156.132.110/cache-compute-0001/cache/data3/adaptor.mars.internal-1571104797.7577677-31061-5-8cc63539-d26e-4610-a4dd-959bf858d2bf.nc to /home/jovyan/europe/12-11-1980.nc (380.2M)\n",
      "2019-10-17 12:09:46,365 INFO Download rate 14.8M/s \n"
     ]
    },
    {
     "data": {
      "text/plain": [
       "<Result cmd='fimex-1.3 -c extractEurope.cfg --input.file /home/jovyan/europe/12-11-1980.nc --output.file /home/jovyan/europe/europe_12-11-1980.nc' exited=0>"
      ]
     },
     "metadata": {},
     "output_type": "display_data"
    },
    {
     "data": {
      "text/plain": [
       "<Result cmd='rm -f /home/jovyan/europe/12-11-1980.nc' exited=0>"
      ]
     },
     "metadata": {},
     "output_type": "display_data"
    },
    {
     "name": "stderr",
     "output_type": "stream",
     "text": [
      "2019-10-17 12:09:46,729 INFO Sending request to https://cds.climate.copernicus.eu/api/v2/resources/reanalysis-era5-single-levels\n",
      "2019-10-17 12:09:46,959 INFO Request is completed\n",
      "2019-10-17 12:09:46,960 INFO Downloading http://136.156.133.46/cache-compute-0015/cache/data4/adaptor.mars.internal-1571277045.7498157-7792-1-1e9b85d3-f7c4-4395-892f-d74f70b84ac3.nc to /home/jovyan/europe/13-11-1980.nc (380.2M)\n",
      "2019-10-17 12:09:55,612 INFO Download rate 44M/s   \n"
     ]
    },
    {
     "data": {
      "text/plain": [
       "<Result cmd='fimex-1.3 -c extractEurope.cfg --input.file /home/jovyan/europe/13-11-1980.nc --output.file /home/jovyan/europe/europe_13-11-1980.nc' exited=0>"
      ]
     },
     "metadata": {},
     "output_type": "display_data"
    },
    {
     "data": {
      "text/plain": [
       "<Result cmd='rm -f /home/jovyan/europe/13-11-1980.nc' exited=0>"
      ]
     },
     "metadata": {},
     "output_type": "display_data"
    },
    {
     "name": "stderr",
     "output_type": "stream",
     "text": [
      "2019-10-17 12:09:55,951 INFO Sending request to https://cds.climate.copernicus.eu/api/v2/resources/reanalysis-era5-single-levels\n",
      "2019-10-17 12:09:56,109 INFO Request is completed\n",
      "2019-10-17 12:09:56,110 INFO Downloading http://136.156.132.235/cache-compute-0006/cache/data7/adaptor.mars.internal-1571104870.7785733-15066-13-bcd86064-83ec-452b-86fa-8dd8b1471480.nc to /home/jovyan/europe/14-11-1980.nc (380.2M)\n",
      "2019-10-17 12:10:06,666 INFO Download rate 36M/s   \n"
     ]
    },
    {
     "data": {
      "text/plain": [
       "<Result cmd='fimex-1.3 -c extractEurope.cfg --input.file /home/jovyan/europe/14-11-1980.nc --output.file /home/jovyan/europe/europe_14-11-1980.nc' exited=0>"
      ]
     },
     "metadata": {},
     "output_type": "display_data"
    },
    {
     "data": {
      "text/plain": [
       "<Result cmd='rm -f /home/jovyan/europe/14-11-1980.nc' exited=0>"
      ]
     },
     "metadata": {},
     "output_type": "display_data"
    },
    {
     "name": "stderr",
     "output_type": "stream",
     "text": [
      "2019-10-17 12:10:06,978 INFO Sending request to https://cds.climate.copernicus.eu/api/v2/resources/reanalysis-era5-single-levels\n",
      "2019-10-17 12:10:07,659 INFO Request is completed\n",
      "2019-10-17 12:10:07,663 INFO Downloading http://136.156.132.236/cache-compute-0007/cache/data8/adaptor.mars.internal-1571277090.8877375-27090-13-4d3b1cb9-f4bc-42cb-b501-6113f737a63e.nc to /home/jovyan/europe/15-11-1980.nc (380.2M)\n",
      "2019-10-17 12:10:24,879 INFO Download rate 22.1M/s \n"
     ]
    },
    {
     "data": {
      "text/plain": [
       "<Result cmd='fimex-1.3 -c extractEurope.cfg --input.file /home/jovyan/europe/15-11-1980.nc --output.file /home/jovyan/europe/europe_15-11-1980.nc' exited=0>"
      ]
     },
     "metadata": {},
     "output_type": "display_data"
    },
    {
     "data": {
      "text/plain": [
       "<Result cmd='rm -f /home/jovyan/europe/15-11-1980.nc' exited=0>"
      ]
     },
     "metadata": {},
     "output_type": "display_data"
    },
    {
     "name": "stderr",
     "output_type": "stream",
     "text": [
      "2019-10-17 12:10:25,166 INFO Sending request to https://cds.climate.copernicus.eu/api/v2/resources/reanalysis-era5-single-levels\n",
      "2019-10-17 12:10:25,317 INFO Request is completed\n",
      "2019-10-17 12:10:25,318 INFO Downloading http://136.156.132.235/cache-compute-0006/cache/data9/adaptor.mars.internal-1571104949.9025047-18343-9-faa4bfb5-1a9c-4fd8-82ca-8e58c376aef2.nc to /home/jovyan/europe/16-11-1980.nc (380.2M)\n",
      "2019-10-17 12:10:39,587 INFO Download rate 26.7M/s \n"
     ]
    },
    {
     "data": {
      "text/plain": [
       "<Result cmd='fimex-1.3 -c extractEurope.cfg --input.file /home/jovyan/europe/16-11-1980.nc --output.file /home/jovyan/europe/europe_16-11-1980.nc' exited=0>"
      ]
     },
     "metadata": {},
     "output_type": "display_data"
    },
    {
     "data": {
      "text/plain": [
       "<Result cmd='rm -f /home/jovyan/europe/16-11-1980.nc' exited=0>"
      ]
     },
     "metadata": {},
     "output_type": "display_data"
    },
    {
     "name": "stderr",
     "output_type": "stream",
     "text": [
      "2019-10-17 12:10:39,888 INFO Sending request to https://cds.climate.copernicus.eu/api/v2/resources/reanalysis-era5-single-levels\n",
      "2019-10-17 12:10:40,778 INFO Request is completed\n",
      "2019-10-17 12:10:40,779 INFO Downloading http://136.156.132.236/cache-compute-0007/cache/data2/adaptor.mars.internal-1571277142.6822116-28469-3-b9a4ac19-1b30-4fc1-9d41-acc3c028e750.nc to /home/jovyan/europe/17-11-1980.nc (380.2M)\n",
      "2019-10-17 12:10:56,959 INFO Download rate 23.5M/s \n"
     ]
    },
    {
     "data": {
      "text/plain": [
       "<Result cmd='fimex-1.3 -c extractEurope.cfg --input.file /home/jovyan/europe/17-11-1980.nc --output.file /home/jovyan/europe/europe_17-11-1980.nc' exited=0>"
      ]
     },
     "metadata": {},
     "output_type": "display_data"
    },
    {
     "data": {
      "text/plain": [
       "<Result cmd='rm -f /home/jovyan/europe/17-11-1980.nc' exited=0>"
      ]
     },
     "metadata": {},
     "output_type": "display_data"
    },
    {
     "name": "stderr",
     "output_type": "stream",
     "text": [
      "2019-10-17 12:10:57,233 INFO Sending request to https://cds.climate.copernicus.eu/api/v2/resources/reanalysis-era5-single-levels\n",
      "2019-10-17 12:10:58,130 INFO Request is completed\n",
      "2019-10-17 12:10:58,132 INFO Downloading http://136.156.133.32/cache-compute-0009/cache/data4/adaptor.mars.internal-1571105034.9819076-10053-11-97e7cee4-9a93-4b52-95a0-ea6c3af99f51.nc to /home/jovyan/europe/18-11-1980.nc (380.2M)\n",
      "2019-10-17 12:11:16,848 INFO Download rate 20.3M/s \n"
     ]
    },
    {
     "data": {
      "text/plain": [
       "<Result cmd='fimex-1.3 -c extractEurope.cfg --input.file /home/jovyan/europe/18-11-1980.nc --output.file /home/jovyan/europe/europe_18-11-1980.nc' exited=0>"
      ]
     },
     "metadata": {},
     "output_type": "display_data"
    },
    {
     "data": {
      "text/plain": [
       "<Result cmd='rm -f /home/jovyan/europe/18-11-1980.nc' exited=0>"
      ]
     },
     "metadata": {},
     "output_type": "display_data"
    },
    {
     "name": "stderr",
     "output_type": "stream",
     "text": [
      "2019-10-17 12:11:17,151 INFO Sending request to https://cds.climate.copernicus.eu/api/v2/resources/reanalysis-era5-single-levels\n",
      "2019-10-17 12:11:17,468 INFO Request is completed\n",
      "2019-10-17 12:11:17,469 INFO Downloading http://136.156.133.37/cache-compute-0011/cache/data6/adaptor.mars.internal-1571277197.9248068-22066-21-0fb6a1e1-c507-4668-97b9-13dbf2b485ad.nc to /home/jovyan/europe/19-11-1980.nc (380.2M)\n",
      "2019-10-17 12:11:36,057 INFO Download rate 20.5M/s \n"
     ]
    },
    {
     "data": {
      "text/plain": [
       "<Result cmd='fimex-1.3 -c extractEurope.cfg --input.file /home/jovyan/europe/19-11-1980.nc --output.file /home/jovyan/europe/europe_19-11-1980.nc' exited=0>"
      ]
     },
     "metadata": {},
     "output_type": "display_data"
    },
    {
     "data": {
      "text/plain": [
       "<Result cmd='rm -f /home/jovyan/europe/19-11-1980.nc' exited=0>"
      ]
     },
     "metadata": {},
     "output_type": "display_data"
    },
    {
     "name": "stderr",
     "output_type": "stream",
     "text": [
      "2019-10-17 12:11:36,429 INFO Sending request to https://cds.climate.copernicus.eu/api/v2/resources/reanalysis-era5-single-levels\n",
      "2019-10-17 12:11:37,098 INFO Request is completed\n",
      "2019-10-17 12:11:37,101 INFO Downloading http://136.156.133.39/cache-compute-0012/cache/data1/adaptor.mars.internal-1571277228.966033-9421-1-d45be7c3-f32e-4b98-9be7-bd66d5043989.nc to /home/jovyan/europe/20-11-1980.nc (380.2M)\n",
      "2019-10-17 12:11:54,289 INFO Download rate 22.1M/s \n"
     ]
    },
    {
     "data": {
      "text/plain": [
       "<Result cmd='fimex-1.3 -c extractEurope.cfg --input.file /home/jovyan/europe/20-11-1980.nc --output.file /home/jovyan/europe/europe_20-11-1980.nc' exited=0>"
      ]
     },
     "metadata": {},
     "output_type": "display_data"
    },
    {
     "data": {
      "text/plain": [
       "<Result cmd='rm -f /home/jovyan/europe/20-11-1980.nc' exited=0>"
      ]
     },
     "metadata": {},
     "output_type": "display_data"
    },
    {
     "name": "stderr",
     "output_type": "stream",
     "text": [
      "2019-10-17 12:11:54,576 INFO Sending request to https://cds.climate.copernicus.eu/api/v2/resources/reanalysis-era5-single-levels\n",
      "2019-10-17 12:11:54,910 INFO Request is completed\n",
      "2019-10-17 12:11:54,911 INFO Downloading http://136.156.133.32/cache-compute-0009/cache/data1/adaptor.mars.internal-1571277261.7666698-24183-13-2a3783a5-86a0-4676-a43f-34c13549358f.nc to /home/jovyan/europe/21-11-1980.nc (380.2M)\n",
      "2019-10-17 12:12:09,485 INFO Download rate 26.1M/s \n"
     ]
    },
    {
     "data": {
      "text/plain": [
       "<Result cmd='fimex-1.3 -c extractEurope.cfg --input.file /home/jovyan/europe/21-11-1980.nc --output.file /home/jovyan/europe/europe_21-11-1980.nc' exited=0>"
      ]
     },
     "metadata": {},
     "output_type": "display_data"
    },
    {
     "data": {
      "text/plain": [
       "<Result cmd='rm -f /home/jovyan/europe/21-11-1980.nc' exited=0>"
      ]
     },
     "metadata": {},
     "output_type": "display_data"
    },
    {
     "name": "stderr",
     "output_type": "stream",
     "text": [
      "2019-10-17 12:12:09,897 INFO Sending request to https://cds.climate.copernicus.eu/api/v2/resources/reanalysis-era5-single-levels\n",
      "2019-10-17 12:12:10,161 INFO Request is completed\n",
      "2019-10-17 12:12:10,162 INFO Downloading http://136.156.132.236/cache-compute-0007/cache/data1/adaptor.mars.internal-1571277295.3456454-23124-15-00501730-4cf9-47e1-85bf-2a613340d33f.nc to /home/jovyan/europe/22-11-1980.nc (380.2M)\n",
      "2019-10-17 12:12:26,443 INFO Download rate 23.4M/s \n"
     ]
    },
    {
     "data": {
      "text/plain": [
       "<Result cmd='fimex-1.3 -c extractEurope.cfg --input.file /home/jovyan/europe/22-11-1980.nc --output.file /home/jovyan/europe/europe_22-11-1980.nc' exited=0>"
      ]
     },
     "metadata": {},
     "output_type": "display_data"
    },
    {
     "data": {
      "text/plain": [
       "<Result cmd='rm -f /home/jovyan/europe/22-11-1980.nc' exited=0>"
      ]
     },
     "metadata": {},
     "output_type": "display_data"
    },
    {
     "name": "stderr",
     "output_type": "stream",
     "text": [
      "2019-10-17 12:12:26,730 INFO Sending request to https://cds.climate.copernicus.eu/api/v2/resources/reanalysis-era5-single-levels\n",
      "2019-10-17 12:12:26,947 INFO Request is completed\n",
      "2019-10-17 12:12:26,951 INFO Downloading http://136.156.133.39/cache-compute-0012/cache/data9/adaptor.mars.internal-1571277325.8369195-9600-5-dfe8ef8f-78eb-4a53-b714-e524bcb170d1.nc to /home/jovyan/europe/23-11-1980.nc (380.2M)\n",
      "2019-10-17 12:12:41,363 INFO Download rate 26.4M/s \n"
     ]
    },
    {
     "data": {
      "text/plain": [
       "<Result cmd='fimex-1.3 -c extractEurope.cfg --input.file /home/jovyan/europe/23-11-1980.nc --output.file /home/jovyan/europe/europe_23-11-1980.nc' exited=0>"
      ]
     },
     "metadata": {},
     "output_type": "display_data"
    },
    {
     "data": {
      "text/plain": [
       "<Result cmd='rm -f /home/jovyan/europe/23-11-1980.nc' exited=0>"
      ]
     },
     "metadata": {},
     "output_type": "display_data"
    },
    {
     "name": "stderr",
     "output_type": "stream",
     "text": [
      "2019-10-17 12:12:41,628 INFO Sending request to https://cds.climate.copernicus.eu/api/v2/resources/reanalysis-era5-single-levels\n",
      "2019-10-17 12:12:41,786 INFO Request is completed\n",
      "2019-10-17 12:12:41,787 INFO Downloading http://136.156.132.110/cache-compute-0001/cache/data6/adaptor.mars.internal-1571105276.1245012-32007-7-14446c44-1157-4e69-ab4c-9839097d26fb.nc to /home/jovyan/europe/24-11-1980.nc (380.2M)\n",
      "2019-10-17 12:12:53,017 INFO Download rate 33.9M/s \n"
     ]
    },
    {
     "data": {
      "text/plain": [
       "<Result cmd='fimex-1.3 -c extractEurope.cfg --input.file /home/jovyan/europe/24-11-1980.nc --output.file /home/jovyan/europe/europe_24-11-1980.nc' exited=0>"
      ]
     },
     "metadata": {},
     "output_type": "display_data"
    },
    {
     "data": {
      "text/plain": [
       "<Result cmd='rm -f /home/jovyan/europe/24-11-1980.nc' exited=0>"
      ]
     },
     "metadata": {},
     "output_type": "display_data"
    },
    {
     "name": "stderr",
     "output_type": "stream",
     "text": [
      "2019-10-17 12:12:53,337 INFO Sending request to https://cds.climate.copernicus.eu/api/v2/resources/reanalysis-era5-single-levels\n",
      "2019-10-17 12:12:54,255 INFO Request is completed\n",
      "2019-10-17 12:12:54,256 INFO Downloading http://136.156.133.36/cache-compute-0010/cache/data7/adaptor.mars.internal-1571277366.0351298-6099-13-01f07cf7-4d06-445a-8425-0eafd956ccd4.nc to /home/jovyan/europe/25-11-1980.nc (380.2M)\n",
      "2019-10-17 12:13:04,219 INFO Download rate 38.2M/s \n"
     ]
    },
    {
     "data": {
      "text/plain": [
       "<Result cmd='fimex-1.3 -c extractEurope.cfg --input.file /home/jovyan/europe/25-11-1980.nc --output.file /home/jovyan/europe/europe_25-11-1980.nc' exited=0>"
      ]
     },
     "metadata": {},
     "output_type": "display_data"
    },
    {
     "data": {
      "text/plain": [
       "<Result cmd='rm -f /home/jovyan/europe/25-11-1980.nc' exited=0>"
      ]
     },
     "metadata": {},
     "output_type": "display_data"
    },
    {
     "name": "stderr",
     "output_type": "stream",
     "text": [
      "2019-10-17 12:13:04,527 INFO Sending request to https://cds.climate.copernicus.eu/api/v2/resources/reanalysis-era5-single-levels\n",
      "2019-10-17 12:13:05,343 INFO Request is completed\n",
      "2019-10-17 12:13:05,344 INFO Downloading http://136.156.132.105/cache-compute-0000/cache/data5/adaptor.mars.internal-1571277403.642203-6056-3-6ed27195-966a-47d9-95f7-6595d5562597.nc to /home/jovyan/europe/26-11-1980.nc (380.2M)\n",
      "2019-10-17 12:13:19,354 INFO Download rate 27.1M/s \n"
     ]
    },
    {
     "data": {
      "text/plain": [
       "<Result cmd='fimex-1.3 -c extractEurope.cfg --input.file /home/jovyan/europe/26-11-1980.nc --output.file /home/jovyan/europe/europe_26-11-1980.nc' exited=0>"
      ]
     },
     "metadata": {},
     "output_type": "display_data"
    },
    {
     "data": {
      "text/plain": [
       "<Result cmd='rm -f /home/jovyan/europe/26-11-1980.nc' exited=0>"
      ]
     },
     "metadata": {},
     "output_type": "display_data"
    },
    {
     "name": "stderr",
     "output_type": "stream",
     "text": [
      "2019-10-17 12:13:19,675 INFO Sending request to https://cds.climate.copernicus.eu/api/v2/resources/reanalysis-era5-single-levels\n",
      "2019-10-17 12:13:21,085 INFO Request is completed\n",
      "2019-10-17 12:13:21,089 INFO Downloading http://136.156.133.41/cache-compute-0013/cache/data5/adaptor.mars.internal-1571277438.9840837-7192-13-b8da84ba-10da-4b58-94bc-80f92663a25f.nc to /home/jovyan/europe/27-11-1980.nc (380.2M)\n",
      "2019-10-17 12:13:35,583 INFO Download rate 26.2M/s \n"
     ]
    },
    {
     "data": {
      "text/plain": [
       "<Result cmd='fimex-1.3 -c extractEurope.cfg --input.file /home/jovyan/europe/27-11-1980.nc --output.file /home/jovyan/europe/europe_27-11-1980.nc' exited=0>"
      ]
     },
     "metadata": {},
     "output_type": "display_data"
    },
    {
     "data": {
      "text/plain": [
       "<Result cmd='rm -f /home/jovyan/europe/27-11-1980.nc' exited=0>"
      ]
     },
     "metadata": {},
     "output_type": "display_data"
    },
    {
     "name": "stderr",
     "output_type": "stream",
     "text": [
      "2019-10-17 12:13:36,075 INFO Sending request to https://cds.climate.copernicus.eu/api/v2/resources/reanalysis-era5-single-levels\n",
      "2019-10-17 12:13:36,755 INFO Request is completed\n",
      "2019-10-17 12:13:36,757 INFO Downloading http://136.156.133.36/cache-compute-0010/cache/data5/adaptor.mars.internal-1571277474.7112148-6099-15-5face65d-ac48-4381-a361-30a685109769.nc to /home/jovyan/europe/28-11-1980.nc (380.2M)\n",
      "2019-10-17 12:13:55,112 INFO Download rate 20.7M/s \n"
     ]
    },
    {
     "data": {
      "text/plain": [
       "<Result cmd='fimex-1.3 -c extractEurope.cfg --input.file /home/jovyan/europe/28-11-1980.nc --output.file /home/jovyan/europe/europe_28-11-1980.nc' exited=0>"
      ]
     },
     "metadata": {},
     "output_type": "display_data"
    },
    {
     "data": {
      "text/plain": [
       "<Result cmd='rm -f /home/jovyan/europe/28-11-1980.nc' exited=0>"
      ]
     },
     "metadata": {},
     "output_type": "display_data"
    },
    {
     "name": "stderr",
     "output_type": "stream",
     "text": [
      "2019-10-17 12:13:55,459 INFO Sending request to https://cds.climate.copernicus.eu/api/v2/resources/reanalysis-era5-single-levels\n",
      "2019-10-17 12:13:55,618 INFO Request is completed\n",
      "2019-10-17 12:13:55,619 INFO Downloading http://136.156.132.105/cache-compute-0000/cache/data6/adaptor.mars.internal-1571277514.8947184-2502-21-8e3873c1-faae-48f7-b58a-1f45e222cd5d.nc to /home/jovyan/europe/29-11-1980.nc (380.2M)\n",
      "2019-10-17 12:14:10,073 INFO Download rate 26.3M/s \n"
     ]
    },
    {
     "data": {
      "text/plain": [
       "<Result cmd='rm -f /home/jovyan/europe/29-11-1980.nc' exited=0>"
      ]
     },
     "metadata": {},
     "output_type": "display_data"
    },
    {
     "name": "stderr",
     "output_type": "stream",
     "text": [
      "2019-10-17 12:14:10,370 INFO Sending request to https://cds.climate.copernicus.eu/api/v2/resources/reanalysis-era5-single-levels\n",
      "2019-10-17 12:14:11,534 INFO Request is completed\n",
      "2019-10-17 12:14:11,535 INFO Downloading http://136.156.132.235/cache-compute-0006/cache/data8/adaptor.mars.internal-1571105481.2490423-16048-5-1820b0d9-2f7a-4268-9629-51919a3c9ac4.nc to /home/jovyan/europe/30-11-1980.nc (380.2M)\n",
      "2019-10-17 12:14:28,754 INFO Download rate 22.1M/s \n"
     ]
    },
    {
     "data": {
      "text/plain": [
       "<Result cmd='fimex-1.3 -c extractEurope.cfg --input.file /home/jovyan/europe/30-11-1980.nc --output.file /home/jovyan/europe/europe_30-11-1980.nc' exited=0>"
      ]
     },
     "metadata": {},
     "output_type": "display_data"
    },
    {
     "data": {
      "text/plain": [
       "<Result cmd='rm -f /home/jovyan/europe/30-11-1980.nc' exited=0>"
      ]
     },
     "metadata": {},
     "output_type": "display_data"
    },
    {
     "name": "stderr",
     "output_type": "stream",
     "text": [
      "2019-10-17 12:14:29,148 INFO Sending request to https://cds.climate.copernicus.eu/api/v2/resources/reanalysis-era5-single-levels\n",
      "2019-10-17 12:14:29,421 INFO Request is completed\n",
      "2019-10-17 12:14:29,425 INFO Downloading http://136.156.132.236/cache-compute-0007/cache/data2/adaptor.mars.internal-1571105514.8399196-16429-9-d1168554-fa7b-4c5b-97a0-3cf1ae0819dc.nc to /home/jovyan/europe/01-12-1980.nc (380.2M)\n",
      "2019-10-17 12:14:38,878 INFO Download rate 40.2M/s \n"
     ]
    },
    {
     "data": {
      "text/plain": [
       "<Result cmd='fimex-1.3 -c extractEurope.cfg --input.file /home/jovyan/europe/01-12-1980.nc --output.file /home/jovyan/europe/europe_01-12-1980.nc' exited=0>"
      ]
     },
     "metadata": {},
     "output_type": "display_data"
    },
    {
     "data": {
      "text/plain": [
       "<Result cmd='rm -f /home/jovyan/europe/01-12-1980.nc' exited=0>"
      ]
     },
     "metadata": {},
     "output_type": "display_data"
    },
    {
     "name": "stderr",
     "output_type": "stream",
     "text": [
      "2019-10-17 12:14:39,317 INFO Sending request to https://cds.climate.copernicus.eu/api/v2/resources/reanalysis-era5-single-levels\n",
      "2019-10-17 12:14:40,078 INFO Request is completed\n",
      "2019-10-17 12:14:40,081 INFO Downloading http://136.156.133.46/cache-compute-0015/cache/data7/adaptor.mars.internal-1571277572.9949212-7993-11-eea86dcd-c560-4e22-a480-338518f482eb.nc to /home/jovyan/europe/02-12-1980.nc (380.2M)\n",
      "2019-10-17 12:14:51,090 INFO Download rate 34.5M/s \n"
     ]
    },
    {
     "data": {
      "text/plain": [
       "<Result cmd='fimex-1.3 -c extractEurope.cfg --input.file /home/jovyan/europe/02-12-1980.nc --output.file /home/jovyan/europe/europe_02-12-1980.nc' exited=0>"
      ]
     },
     "metadata": {},
     "output_type": "display_data"
    },
    {
     "data": {
      "text/plain": [
       "<Result cmd='rm -f /home/jovyan/europe/02-12-1980.nc' exited=0>"
      ]
     },
     "metadata": {},
     "output_type": "display_data"
    },
    {
     "name": "stderr",
     "output_type": "stream",
     "text": [
      "2019-10-17 12:14:51,506 INFO Sending request to https://cds.climate.copernicus.eu/api/v2/resources/reanalysis-era5-single-levels\n",
      "2019-10-17 12:14:52,778 INFO Request is completed\n",
      "2019-10-17 12:14:52,779 INFO Downloading http://136.156.132.198/cache-compute-0003/cache/data1/adaptor.mars.internal-1571105603.78814-9579-13-3720f763-ecfb-4149-92bc-763444ee402c.nc to /home/jovyan/europe/03-12-1980.nc (380.2M)\n",
      "2019-10-17 12:15:09,415 INFO Download rate 22.9M/s \n"
     ]
    },
    {
     "data": {
      "text/plain": [
       "<Result cmd='fimex-1.3 -c extractEurope.cfg --input.file /home/jovyan/europe/03-12-1980.nc --output.file /home/jovyan/europe/europe_03-12-1980.nc' exited=0>"
      ]
     },
     "metadata": {},
     "output_type": "display_data"
    },
    {
     "data": {
      "text/plain": [
       "<Result cmd='rm -f /home/jovyan/europe/03-12-1980.nc' exited=0>"
      ]
     },
     "metadata": {},
     "output_type": "display_data"
    },
    {
     "name": "stderr",
     "output_type": "stream",
     "text": [
      "2019-10-17 12:15:09,975 INFO Sending request to https://cds.climate.copernicus.eu/api/v2/resources/reanalysis-era5-single-levels\n",
      "2019-10-17 12:15:10,898 INFO Request is completed\n",
      "2019-10-17 12:15:10,899 INFO Downloading http://136.156.132.236/cache-compute-0007/cache/data6/adaptor.mars.internal-1571105648.3000715-24209-1-2a6cdd99-84e0-4102-8b97-93bcc3d88a7d.nc to /home/jovyan/europe/04-12-1980.nc (380.2M)\n",
      "2019-10-17 12:15:24,651 INFO Download rate 27.6M/s \n"
     ]
    },
    {
     "data": {
      "text/plain": [
       "<Result cmd='fimex-1.3 -c extractEurope.cfg --input.file /home/jovyan/europe/04-12-1980.nc --output.file /home/jovyan/europe/europe_04-12-1980.nc' exited=0>"
      ]
     },
     "metadata": {},
     "output_type": "display_data"
    },
    {
     "data": {
      "text/plain": [
       "<Result cmd='rm -f /home/jovyan/europe/04-12-1980.nc' exited=0>"
      ]
     },
     "metadata": {},
     "output_type": "display_data"
    },
    {
     "name": "stderr",
     "output_type": "stream",
     "text": [
      "2019-10-17 12:15:24,970 INFO Sending request to https://cds.climate.copernicus.eu/api/v2/resources/reanalysis-era5-single-levels\n",
      "2019-10-17 12:15:25,122 INFO Request is completed\n",
      "2019-10-17 12:15:25,123 INFO Downloading http://136.156.133.36/cache-compute-0010/cache/data6/adaptor.mars.internal-1571277617.5159764-7476-17-f54ba55b-7dfc-4bc3-ad70-6f94de9c353b.nc to /home/jovyan/europe/05-12-1980.nc (380.2M)\n",
      "2019-10-17 12:15:43,114 INFO Download rate 21.1M/s \n"
     ]
    },
    {
     "data": {
      "text/plain": [
       "<Result cmd='fimex-1.3 -c extractEurope.cfg --input.file /home/jovyan/europe/05-12-1980.nc --output.file /home/jovyan/europe/europe_05-12-1980.nc' exited=0>"
      ]
     },
     "metadata": {},
     "output_type": "display_data"
    },
    {
     "data": {
      "text/plain": [
       "<Result cmd='rm -f /home/jovyan/europe/05-12-1980.nc' exited=0>"
      ]
     },
     "metadata": {},
     "output_type": "display_data"
    },
    {
     "name": "stderr",
     "output_type": "stream",
     "text": [
      "2019-10-17 12:15:43,451 INFO Sending request to https://cds.climate.copernicus.eu/api/v2/resources/reanalysis-era5-single-levels\n",
      "2019-10-17 12:15:43,660 INFO Request is completed\n",
      "2019-10-17 12:15:43,661 INFO Downloading http://136.156.133.32/cache-compute-0009/cache/data0/adaptor.mars.internal-1571277662.6330953-25867-15-bccbab3c-365b-4ec1-9b1d-8080396b5dac.nc to /home/jovyan/europe/06-12-1980.nc (380.2M)\n",
      "2019-10-17 12:15:55,210 INFO Download rate 32.9M/s \n"
     ]
    },
    {
     "data": {
      "text/plain": [
       "<Result cmd='fimex-1.3 -c extractEurope.cfg --input.file /home/jovyan/europe/06-12-1980.nc --output.file /home/jovyan/europe/europe_06-12-1980.nc' exited=0>"
      ]
     },
     "metadata": {},
     "output_type": "display_data"
    },
    {
     "data": {
      "text/plain": [
       "<Result cmd='rm -f /home/jovyan/europe/06-12-1980.nc' exited=0>"
      ]
     },
     "metadata": {},
     "output_type": "display_data"
    },
    {
     "name": "stderr",
     "output_type": "stream",
     "text": [
      "2019-10-17 12:15:55,628 INFO Sending request to https://cds.climate.copernicus.eu/api/v2/resources/reanalysis-era5-single-levels\n",
      "2019-10-17 12:15:55,750 INFO Request is completed\n",
      "2019-10-17 12:15:55,751 INFO Downloading http://136.156.133.36/cache-compute-0010/cache/data8/adaptor.mars.internal-1571105796.7160199-18481-15-228df1d7-bba5-41a0-bda7-6f1a08fa0c4b.nc to /home/jovyan/europe/07-12-1980.nc (380.2M)\n",
      "2019-10-17 12:16:13,065 INFO Download rate 22M/s   \n"
     ]
    },
    {
     "data": {
      "text/plain": [
       "<Result cmd='fimex-1.3 -c extractEurope.cfg --input.file /home/jovyan/europe/07-12-1980.nc --output.file /home/jovyan/europe/europe_07-12-1980.nc' exited=0>"
      ]
     },
     "metadata": {},
     "output_type": "display_data"
    },
    {
     "data": {
      "text/plain": [
       "<Result cmd='rm -f /home/jovyan/europe/07-12-1980.nc' exited=0>"
      ]
     },
     "metadata": {},
     "output_type": "display_data"
    },
    {
     "name": "stderr",
     "output_type": "stream",
     "text": [
      "2019-10-17 12:16:13,370 INFO Sending request to https://cds.climate.copernicus.eu/api/v2/resources/reanalysis-era5-single-levels\n",
      "2019-10-17 12:16:13,515 INFO Request is completed\n",
      "2019-10-17 12:16:13,519 INFO Downloading http://136.156.132.105/cache-compute-0000/cache/data4/adaptor.mars.internal-1571105856.8974226-31466-13-2046048b-fbfc-43c2-bbd6-89cdfe97b48a.nc to /home/jovyan/europe/08-12-1980.nc (380.2M)\n",
      "2019-10-17 12:16:30,041 INFO Download rate 23M/s   \n"
     ]
    },
    {
     "data": {
      "text/plain": [
       "<Result cmd='fimex-1.3 -c extractEurope.cfg --input.file /home/jovyan/europe/08-12-1980.nc --output.file /home/jovyan/europe/europe_08-12-1980.nc' exited=0>"
      ]
     },
     "metadata": {},
     "output_type": "display_data"
    },
    {
     "data": {
      "text/plain": [
       "<Result cmd='rm -f /home/jovyan/europe/08-12-1980.nc' exited=0>"
      ]
     },
     "metadata": {},
     "output_type": "display_data"
    },
    {
     "name": "stderr",
     "output_type": "stream",
     "text": [
      "2019-10-17 12:16:30,318 INFO Sending request to https://cds.climate.copernicus.eu/api/v2/resources/reanalysis-era5-single-levels\n",
      "2019-10-17 12:16:30,953 INFO Request is completed\n",
      "2019-10-17 12:16:30,957 INFO Downloading http://136.156.132.210/cache-compute-0005/cache/data0/adaptor.mars.internal-1571277718.3156633-29257-13-00237ab2-e267-4c2b-89df-d450e4243f5b.nc to /home/jovyan/europe/09-12-1980.nc (380.2M)\n",
      "2019-10-17 12:16:37,054 INFO Download rate 62.4M/s \n"
     ]
    },
    {
     "data": {
      "text/plain": [
       "<Result cmd='fimex-1.3 -c extractEurope.cfg --input.file /home/jovyan/europe/09-12-1980.nc --output.file /home/jovyan/europe/europe_09-12-1980.nc' exited=0>"
      ]
     },
     "metadata": {},
     "output_type": "display_data"
    },
    {
     "data": {
      "text/plain": [
       "<Result cmd='rm -f /home/jovyan/europe/09-12-1980.nc' exited=0>"
      ]
     },
     "metadata": {},
     "output_type": "display_data"
    },
    {
     "name": "stderr",
     "output_type": "stream",
     "text": [
      "2019-10-17 12:16:37,331 INFO Sending request to https://cds.climate.copernicus.eu/api/v2/resources/reanalysis-era5-single-levels\n",
      "2019-10-17 12:16:37,573 INFO Request is queued\n",
      "2019-10-17 12:16:38,604 INFO Request is running\n",
      "2019-10-17 12:16:58,532 INFO Request is completed\n",
      "2019-10-17 12:16:58,536 INFO Downloading http://136.156.133.25/cache-compute-0008/cache/data9/adaptor.mars.internal-1571314597.7231824-2043-9-c55fa794-e039-4fc7-850c-b06fec6e4b20.nc to /home/jovyan/europe/10-12-1980.nc (380.2M)\n",
      "2019-10-17 12:17:08,852 INFO Download rate 36.9M/s \n"
     ]
    },
    {
     "data": {
      "text/plain": [
       "<Result cmd='fimex-1.3 -c extractEurope.cfg --input.file /home/jovyan/europe/10-12-1980.nc --output.file /home/jovyan/europe/europe_10-12-1980.nc' exited=0>"
      ]
     },
     "metadata": {},
     "output_type": "display_data"
    },
    {
     "data": {
      "text/plain": [
       "<Result cmd='rm -f /home/jovyan/europe/10-12-1980.nc' exited=0>"
      ]
     },
     "metadata": {},
     "output_type": "display_data"
    },
    {
     "name": "stderr",
     "output_type": "stream",
     "text": [
      "2019-10-17 12:17:09,151 INFO Sending request to https://cds.climate.copernicus.eu/api/v2/resources/reanalysis-era5-single-levels\n",
      "2019-10-17 12:17:10,004 INFO Request is completed\n",
      "2019-10-17 12:17:10,008 INFO Downloading http://136.156.132.235/cache-compute-0006/cache/data9/adaptor.mars.internal-1571277764.0804846-12431-3-4930aae5-6445-4632-80bc-16eb25a2ec1a.nc to /home/jovyan/europe/11-12-1980.nc (380.2M)\n",
      "2019-10-17 12:17:29,318 INFO Download rate 19.7M/s \n"
     ]
    },
    {
     "data": {
      "text/plain": [
       "<Result cmd='fimex-1.3 -c extractEurope.cfg --input.file /home/jovyan/europe/11-12-1980.nc --output.file /home/jovyan/europe/europe_11-12-1980.nc' exited=0>"
      ]
     },
     "metadata": {},
     "output_type": "display_data"
    },
    {
     "data": {
      "text/plain": [
       "<Result cmd='rm -f /home/jovyan/europe/11-12-1980.nc' exited=0>"
      ]
     },
     "metadata": {},
     "output_type": "display_data"
    },
    {
     "name": "stderr",
     "output_type": "stream",
     "text": [
      "2019-10-17 12:17:29,625 INFO Sending request to https://cds.climate.copernicus.eu/api/v2/resources/reanalysis-era5-single-levels\n",
      "2019-10-17 12:17:30,017 INFO Request is completed\n",
      "2019-10-17 12:17:30,021 INFO Downloading http://136.156.132.110/cache-compute-0001/cache/data2/adaptor.mars.internal-1571277796.5684965-745-23-25dedebb-ec06-4eb2-bddf-aa84515842d0.nc to /home/jovyan/europe/12-12-1980.nc (380.2M)\n",
      "2019-10-17 12:17:50,486 INFO Download rate 18.6M/s \n"
     ]
    },
    {
     "data": {
      "text/plain": [
       "<Result cmd='fimex-1.3 -c extractEurope.cfg --input.file /home/jovyan/europe/12-12-1980.nc --output.file /home/jovyan/europe/europe_12-12-1980.nc' exited=0>"
      ]
     },
     "metadata": {},
     "output_type": "display_data"
    },
    {
     "data": {
      "text/plain": [
       "<Result cmd='rm -f /home/jovyan/europe/12-12-1980.nc' exited=0>"
      ]
     },
     "metadata": {},
     "output_type": "display_data"
    },
    {
     "name": "stderr",
     "output_type": "stream",
     "text": [
      "2019-10-17 12:17:50,816 INFO Sending request to https://cds.climate.copernicus.eu/api/v2/resources/reanalysis-era5-single-levels\n",
      "2019-10-17 12:17:51,049 INFO Request is completed\n",
      "2019-10-17 12:17:51,050 INFO Downloading http://136.156.132.236/cache-compute-0007/cache/data0/adaptor.mars.internal-1571277831.7189174-29893-11-ba9291ba-dac1-4648-8ae3-341b5613b826.nc to /home/jovyan/europe/13-12-1980.nc (380.2M)\n",
      "2019-10-17 12:18:08,795 INFO Download rate 21.4M/s \n"
     ]
    },
    {
     "data": {
      "text/plain": [
       "<Result cmd='fimex-1.3 -c extractEurope.cfg --input.file /home/jovyan/europe/13-12-1980.nc --output.file /home/jovyan/europe/europe_13-12-1980.nc' exited=0>"
      ]
     },
     "metadata": {},
     "output_type": "display_data"
    },
    {
     "data": {
      "text/plain": [
       "<Result cmd='rm -f /home/jovyan/europe/13-12-1980.nc' exited=0>"
      ]
     },
     "metadata": {},
     "output_type": "display_data"
    },
    {
     "name": "stderr",
     "output_type": "stream",
     "text": [
      "2019-10-17 12:18:09,203 INFO Sending request to https://cds.climate.copernicus.eu/api/v2/resources/reanalysis-era5-single-levels\n",
      "2019-10-17 12:18:10,377 INFO Request is completed\n",
      "2019-10-17 12:18:10,378 INFO Downloading http://136.156.133.39/cache-compute-0012/cache/data4/adaptor.mars.internal-1571106132.5885773-28238-7-cab7b239-2957-411f-babc-0fc9289eaf60.nc to /home/jovyan/europe/14-12-1980.nc (380.2M)\n",
      "2019-10-17 12:18:30,626 INFO Download rate 18.8M/s \n"
     ]
    },
    {
     "data": {
      "text/plain": [
       "<Result cmd='fimex-1.3 -c extractEurope.cfg --input.file /home/jovyan/europe/14-12-1980.nc --output.file /home/jovyan/europe/europe_14-12-1980.nc' exited=0>"
      ]
     },
     "metadata": {},
     "output_type": "display_data"
    },
    {
     "data": {
      "text/plain": [
       "<Result cmd='rm -f /home/jovyan/europe/14-12-1980.nc' exited=0>"
      ]
     },
     "metadata": {},
     "output_type": "display_data"
    },
    {
     "name": "stderr",
     "output_type": "stream",
     "text": [
      "2019-10-17 12:18:31,069 INFO Sending request to https://cds.climate.copernicus.eu/api/v2/resources/reanalysis-era5-single-levels\n",
      "2019-10-17 12:18:31,421 INFO Request is completed\n",
      "2019-10-17 12:18:31,424 INFO Downloading http://136.156.133.36/cache-compute-0010/cache/data1/adaptor.mars.internal-1571106172.9692318-27358-3-1564a64e-8324-43dc-af76-39d6a84ba513.nc to /home/jovyan/europe/15-12-1980.nc (380.2M)\n",
      "2019-10-17 12:18:48,626 INFO Download rate 22.1M/s \n"
     ]
    },
    {
     "data": {
      "text/plain": [
       "<Result cmd='fimex-1.3 -c extractEurope.cfg --input.file /home/jovyan/europe/15-12-1980.nc --output.file /home/jovyan/europe/europe_15-12-1980.nc' exited=0>"
      ]
     },
     "metadata": {},
     "output_type": "display_data"
    },
    {
     "data": {
      "text/plain": [
       "<Result cmd='rm -f /home/jovyan/europe/15-12-1980.nc' exited=0>"
      ]
     },
     "metadata": {},
     "output_type": "display_data"
    },
    {
     "name": "stderr",
     "output_type": "stream",
     "text": [
      "2019-10-17 12:18:48,928 INFO Sending request to https://cds.climate.copernicus.eu/api/v2/resources/reanalysis-era5-single-levels\n",
      "2019-10-17 12:18:50,432 INFO Request is completed\n",
      "2019-10-17 12:18:50,433 INFO Downloading http://136.156.133.42/cache-compute-0014/cache/data2/adaptor.mars.internal-1571277915.8699784-24868-9-08f262e0-6456-4528-a1d2-848cf5a42094.nc to /home/jovyan/europe/16-12-1980.nc (380.2M)\n",
      "2019-10-17 12:19:08,768 INFO Download rate 20.7M/s \n"
     ]
    },
    {
     "data": {
      "text/plain": [
       "<Result cmd='fimex-1.3 -c extractEurope.cfg --input.file /home/jovyan/europe/16-12-1980.nc --output.file /home/jovyan/europe/europe_16-12-1980.nc' exited=0>"
      ]
     },
     "metadata": {},
     "output_type": "display_data"
    },
    {
     "data": {
      "text/plain": [
       "<Result cmd='rm -f /home/jovyan/europe/16-12-1980.nc' exited=0>"
      ]
     },
     "metadata": {},
     "output_type": "display_data"
    },
    {
     "name": "stderr",
     "output_type": "stream",
     "text": [
      "2019-10-17 12:19:09,068 INFO Sending request to https://cds.climate.copernicus.eu/api/v2/resources/reanalysis-era5-single-levels\n",
      "2019-10-17 12:19:10,041 INFO Request is completed\n",
      "2019-10-17 12:19:10,042 INFO Downloading http://136.156.132.110/cache-compute-0001/cache/data3/adaptor.mars.internal-1571106271.4723065-8954-5-51c42905-4a43-4f6f-8cf9-a8332faba140.nc to /home/jovyan/europe/17-12-1980.nc (380.2M)\n",
      "2019-10-17 12:19:30,501 INFO Download rate 18.6M/s \n"
     ]
    },
    {
     "data": {
      "text/plain": [
       "<Result cmd='fimex-1.3 -c extractEurope.cfg --input.file /home/jovyan/europe/17-12-1980.nc --output.file /home/jovyan/europe/europe_17-12-1980.nc' exited=0>"
      ]
     },
     "metadata": {},
     "output_type": "display_data"
    },
    {
     "data": {
      "text/plain": [
       "<Result cmd='rm -f /home/jovyan/europe/17-12-1980.nc' exited=0>"
      ]
     },
     "metadata": {},
     "output_type": "display_data"
    },
    {
     "name": "stderr",
     "output_type": "stream",
     "text": [
      "2019-10-17 12:19:30,852 INFO Sending request to https://cds.climate.copernicus.eu/api/v2/resources/reanalysis-era5-single-levels\n",
      "2019-10-17 12:19:31,467 INFO Request is completed\n",
      "2019-10-17 12:19:31,469 INFO Downloading http://136.156.133.46/cache-compute-0015/cache/data1/adaptor.mars.internal-1571106322.3120792-25498-11-decaca51-ec16-44ab-bcca-819a41d5e994.nc to /home/jovyan/europe/18-12-1980.nc (380.2M)\n",
      "2019-10-17 12:19:42,050 INFO Download rate 35.9M/s \n"
     ]
    },
    {
     "data": {
      "text/plain": [
       "<Result cmd='fimex-1.3 -c extractEurope.cfg --input.file /home/jovyan/europe/18-12-1980.nc --output.file /home/jovyan/europe/europe_18-12-1980.nc' exited=0>"
      ]
     },
     "metadata": {},
     "output_type": "display_data"
    },
    {
     "data": {
      "text/plain": [
       "<Result cmd='rm -f /home/jovyan/europe/18-12-1980.nc' exited=0>"
      ]
     },
     "metadata": {},
     "output_type": "display_data"
    },
    {
     "name": "stderr",
     "output_type": "stream",
     "text": [
      "2019-10-17 12:19:42,739 INFO Sending request to https://cds.climate.copernicus.eu/api/v2/resources/reanalysis-era5-single-levels\n",
      "2019-10-17 12:19:42,879 INFO Request is completed\n",
      "2019-10-17 12:19:42,880 INFO Downloading http://136.156.132.153/cache-compute-0002/cache/data3/adaptor.mars.internal-1571277983.8856072-30334-5-44678de1-3ae4-4ab1-a2fa-2c08a3795a60.nc to /home/jovyan/europe/19-12-1980.nc (380.2M)\n",
      "2019-10-17 12:19:58,997 INFO Download rate 23.6M/s \n"
     ]
    },
    {
     "data": {
      "text/plain": [
       "<Result cmd='fimex-1.3 -c extractEurope.cfg --input.file /home/jovyan/europe/19-12-1980.nc --output.file /home/jovyan/europe/europe_19-12-1980.nc' exited=0>"
      ]
     },
     "metadata": {},
     "output_type": "display_data"
    },
    {
     "data": {
      "text/plain": [
       "<Result cmd='rm -f /home/jovyan/europe/19-12-1980.nc' exited=0>"
      ]
     },
     "metadata": {},
     "output_type": "display_data"
    },
    {
     "name": "stderr",
     "output_type": "stream",
     "text": [
      "2019-10-17 12:19:59,267 INFO Sending request to https://cds.climate.copernicus.eu/api/v2/resources/reanalysis-era5-single-levels\n",
      "2019-10-17 12:19:59,774 INFO Request is completed\n",
      "2019-10-17 12:19:59,776 INFO Downloading http://136.156.133.37/cache-compute-0011/cache/data8/adaptor.mars.internal-1571278014.947509-25717-11-9a22e27c-2ef9-419f-8663-7c0ff5c2426e.nc to /home/jovyan/europe/20-12-1980.nc (380.2M)\n",
      "2019-10-17 12:20:13,925 INFO Download rate 26.9M/s \n"
     ]
    },
    {
     "data": {
      "text/plain": [
       "<Result cmd='fimex-1.3 -c extractEurope.cfg --input.file /home/jovyan/europe/20-12-1980.nc --output.file /home/jovyan/europe/europe_20-12-1980.nc' exited=0>"
      ]
     },
     "metadata": {},
     "output_type": "display_data"
    },
    {
     "data": {
      "text/plain": [
       "<Result cmd='rm -f /home/jovyan/europe/20-12-1980.nc' exited=0>"
      ]
     },
     "metadata": {},
     "output_type": "display_data"
    },
    {
     "name": "stderr",
     "output_type": "stream",
     "text": [
      "2019-10-17 12:20:14,413 INFO Sending request to https://cds.climate.copernicus.eu/api/v2/resources/reanalysis-era5-single-levels\n",
      "2019-10-17 12:20:14,673 INFO Request is completed\n",
      "2019-10-17 12:20:14,674 INFO Downloading http://136.156.132.105/cache-compute-0000/cache/data9/adaptor.mars.internal-1571278049.260763-5512-13-fc843808-71b1-4151-b260-ebf4713bc472.nc to /home/jovyan/europe/21-12-1980.nc (380.2M)\n",
      "2019-10-17 12:20:29,600 INFO Download rate 25.5M/s \n"
     ]
    },
    {
     "data": {
      "text/plain": [
       "<Result cmd='fimex-1.3 -c extractEurope.cfg --input.file /home/jovyan/europe/21-12-1980.nc --output.file /home/jovyan/europe/europe_21-12-1980.nc' exited=0>"
      ]
     },
     "metadata": {},
     "output_type": "display_data"
    },
    {
     "data": {
      "text/plain": [
       "<Result cmd='rm -f /home/jovyan/europe/21-12-1980.nc' exited=0>"
      ]
     },
     "metadata": {},
     "output_type": "display_data"
    },
    {
     "name": "stderr",
     "output_type": "stream",
     "text": [
      "2019-10-17 12:20:29,864 INFO Sending request to https://cds.climate.copernicus.eu/api/v2/resources/reanalysis-era5-single-levels\n",
      "2019-10-17 12:20:30,098 INFO Request is completed\n",
      "2019-10-17 12:20:30,099 INFO Downloading http://136.156.132.210/cache-compute-0005/cache/data2/adaptor.mars.internal-1571278093.7843049-8465-3-33c012a6-882b-4b4a-b9c4-143f22e92983.nc to /home/jovyan/europe/22-12-1980.nc (380.2M)\n",
      "2019-10-17 12:20:38,592 INFO Download rate 44.8M/s \n"
     ]
    },
    {
     "data": {
      "text/plain": [
       "<Result cmd='fimex-1.3 -c extractEurope.cfg --input.file /home/jovyan/europe/22-12-1980.nc --output.file /home/jovyan/europe/europe_22-12-1980.nc' exited=0>"
      ]
     },
     "metadata": {},
     "output_type": "display_data"
    },
    {
     "data": {
      "text/plain": [
       "<Result cmd='rm -f /home/jovyan/europe/22-12-1980.nc' exited=0>"
      ]
     },
     "metadata": {},
     "output_type": "display_data"
    },
    {
     "name": "stderr",
     "output_type": "stream",
     "text": [
      "2019-10-17 12:20:38,855 INFO Sending request to https://cds.climate.copernicus.eu/api/v2/resources/reanalysis-era5-single-levels\n",
      "2019-10-17 12:20:38,983 INFO Request is completed\n",
      "2019-10-17 12:20:38,984 INFO Downloading http://136.156.133.32/cache-compute-0009/cache/data0/adaptor.mars.internal-1571278133.6161387-2045-1-4c2979ff-7b3d-4e81-b1a6-2551afd8bc89.nc to /home/jovyan/europe/23-12-1980.nc (380.2M)\n",
      "2019-10-17 12:20:52,099 INFO Download rate 29M/s   \n"
     ]
    },
    {
     "data": {
      "text/plain": [
       "<Result cmd='fimex-1.3 -c extractEurope.cfg --input.file /home/jovyan/europe/23-12-1980.nc --output.file /home/jovyan/europe/europe_23-12-1980.nc' exited=0>"
      ]
     },
     "metadata": {},
     "output_type": "display_data"
    },
    {
     "data": {
      "text/plain": [
       "<Result cmd='rm -f /home/jovyan/europe/23-12-1980.nc' exited=0>"
      ]
     },
     "metadata": {},
     "output_type": "display_data"
    },
    {
     "name": "stderr",
     "output_type": "stream",
     "text": [
      "2019-10-17 12:20:52,594 INFO Sending request to https://cds.climate.copernicus.eu/api/v2/resources/reanalysis-era5-single-levels\n",
      "2019-10-17 12:20:52,748 INFO Request is completed\n",
      "2019-10-17 12:20:52,751 INFO Downloading http://136.156.132.236/cache-compute-0007/cache/data3/adaptor.mars.internal-1571106625.1432369-26777-7-51c163d9-0557-463b-8597-19462089126e.nc to /home/jovyan/europe/24-12-1980.nc (380.2M)\n",
      "2019-10-17 12:21:06,698 INFO Download rate 27.3M/s \n"
     ]
    },
    {
     "data": {
      "text/plain": [
       "<Result cmd='fimex-1.3 -c extractEurope.cfg --input.file /home/jovyan/europe/24-12-1980.nc --output.file /home/jovyan/europe/europe_24-12-1980.nc' exited=0>"
      ]
     },
     "metadata": {},
     "output_type": "display_data"
    },
    {
     "data": {
      "text/plain": [
       "<Result cmd='rm -f /home/jovyan/europe/24-12-1980.nc' exited=0>"
      ]
     },
     "metadata": {},
     "output_type": "display_data"
    },
    {
     "name": "stderr",
     "output_type": "stream",
     "text": [
      "2019-10-17 12:21:07,100 INFO Sending request to https://cds.climate.copernicus.eu/api/v2/resources/reanalysis-era5-single-levels\n",
      "2019-10-17 12:21:07,237 INFO Request is completed\n",
      "2019-10-17 12:21:07,238 INFO Downloading http://136.156.132.236/cache-compute-0007/cache/data1/adaptor.mars.internal-1571278177.6865683-31823-15-18f76fb4-c459-4638-a3d0-edd40d94396d.nc to /home/jovyan/europe/25-12-1980.nc (380.2M)\n",
      "2019-10-17 12:21:21,915 INFO Download rate 25.9M/s \n"
     ]
    },
    {
     "data": {
      "text/plain": [
       "<Result cmd='fimex-1.3 -c extractEurope.cfg --input.file /home/jovyan/europe/25-12-1980.nc --output.file /home/jovyan/europe/europe_25-12-1980.nc' exited=0>"
      ]
     },
     "metadata": {},
     "output_type": "display_data"
    },
    {
     "data": {
      "text/plain": [
       "<Result cmd='rm -f /home/jovyan/europe/25-12-1980.nc' exited=0>"
      ]
     },
     "metadata": {},
     "output_type": "display_data"
    },
    {
     "name": "stderr",
     "output_type": "stream",
     "text": [
      "2019-10-17 12:21:22,330 INFO Sending request to https://cds.climate.copernicus.eu/api/v2/resources/reanalysis-era5-single-levels\n",
      "2019-10-17 12:21:22,567 INFO Request is completed\n",
      "2019-10-17 12:21:22,568 INFO Downloading http://136.156.133.36/cache-compute-0010/cache/data3/adaptor.mars.internal-1571278208.1022356-13712-5-bf663d8d-5b5c-462f-af19-44c1341dc2e0.nc to /home/jovyan/europe/26-12-1980.nc (380.2M)\n",
      "2019-10-17 12:21:36,435 INFO Download rate 27.4M/s \n"
     ]
    },
    {
     "data": {
      "text/plain": [
       "<Result cmd='fimex-1.3 -c extractEurope.cfg --input.file /home/jovyan/europe/26-12-1980.nc --output.file /home/jovyan/europe/europe_26-12-1980.nc' exited=0>"
      ]
     },
     "metadata": {},
     "output_type": "display_data"
    },
    {
     "data": {
      "text/plain": [
       "<Result cmd='rm -f /home/jovyan/europe/26-12-1980.nc' exited=0>"
      ]
     },
     "metadata": {},
     "output_type": "display_data"
    },
    {
     "name": "stderr",
     "output_type": "stream",
     "text": [
      "2019-10-17 12:21:36,709 INFO Sending request to https://cds.climate.copernicus.eu/api/v2/resources/reanalysis-era5-single-levels\n",
      "2019-10-17 12:21:36,973 INFO Request is completed\n",
      "2019-10-17 12:21:36,974 INFO Downloading http://136.156.132.236/cache-compute-0007/cache/data6/adaptor.mars.internal-1571278248.42773-31160-27-45f0c46d-238b-40cc-84a7-11b609f41dd7.nc to /home/jovyan/europe/27-12-1980.nc (380.2M)\n",
      "2019-10-17 12:21:50,130 INFO Download rate 28.9M/s \n"
     ]
    },
    {
     "data": {
      "text/plain": [
       "<Result cmd='fimex-1.3 -c extractEurope.cfg --input.file /home/jovyan/europe/27-12-1980.nc --output.file /home/jovyan/europe/europe_27-12-1980.nc' exited=0>"
      ]
     },
     "metadata": {},
     "output_type": "display_data"
    },
    {
     "data": {
      "text/plain": [
       "<Result cmd='rm -f /home/jovyan/europe/27-12-1980.nc' exited=0>"
      ]
     },
     "metadata": {},
     "output_type": "display_data"
    },
    {
     "name": "stderr",
     "output_type": "stream",
     "text": [
      "2019-10-17 12:21:50,448 INFO Sending request to https://cds.climate.copernicus.eu/api/v2/resources/reanalysis-era5-single-levels\n",
      "2019-10-17 12:21:50,807 INFO Request is completed\n",
      "2019-10-17 12:21:50,808 INFO Downloading http://136.156.133.36/cache-compute-0010/cache/data3/adaptor.mars.internal-1571278279.2414317-10902-5-4a3b4635-1c39-4253-8eee-bf57eee9e71c.nc to /home/jovyan/europe/28-12-1980.nc (380.2M)\n",
      "2019-10-17 12:22:06,760 INFO Download rate 23.8M/s \n"
     ]
    },
    {
     "data": {
      "text/plain": [
       "<Result cmd='fimex-1.3 -c extractEurope.cfg --input.file /home/jovyan/europe/28-12-1980.nc --output.file /home/jovyan/europe/europe_28-12-1980.nc' exited=0>"
      ]
     },
     "metadata": {},
     "output_type": "display_data"
    },
    {
     "data": {
      "text/plain": [
       "<Result cmd='rm -f /home/jovyan/europe/28-12-1980.nc' exited=0>"
      ]
     },
     "metadata": {},
     "output_type": "display_data"
    },
    {
     "name": "stderr",
     "output_type": "stream",
     "text": [
      "2019-10-17 12:22:07,062 INFO Sending request to https://cds.climate.copernicus.eu/api/v2/resources/reanalysis-era5-single-levels\n",
      "2019-10-17 12:22:07,264 INFO Request is completed\n",
      "2019-10-17 12:22:07,267 INFO Downloading http://136.156.132.235/cache-compute-0006/cache/data3/adaptor.mars.internal-1571278328.7535422-17219-7-18518eb4-78d8-413a-825c-b92a284c4152.nc to /home/jovyan/europe/29-12-1980.nc (380.2M)\n",
      "2019-10-17 12:22:42,239 INFO Download rate 10.9M/s \n"
     ]
    },
    {
     "data": {
      "text/plain": [
       "<Result cmd='fimex-1.3 -c extractEurope.cfg --input.file /home/jovyan/europe/29-12-1980.nc --output.file /home/jovyan/europe/europe_29-12-1980.nc' exited=0>"
      ]
     },
     "metadata": {},
     "output_type": "display_data"
    },
    {
     "data": {
      "text/plain": [
       "<Result cmd='rm -f /home/jovyan/europe/29-12-1980.nc' exited=0>"
      ]
     },
     "metadata": {},
     "output_type": "display_data"
    },
    {
     "name": "stderr",
     "output_type": "stream",
     "text": [
      "2019-10-17 12:22:42,549 INFO Sending request to https://cds.climate.copernicus.eu/api/v2/resources/reanalysis-era5-single-levels\n",
      "2019-10-17 12:22:43,029 INFO Request is completed\n",
      "2019-10-17 12:22:43,030 INFO Downloading http://136.156.133.36/cache-compute-0010/cache/data9/adaptor.mars.internal-1571278376.650735-10902-7-4c6f2b2d-d257-43c7-b9cd-6435cd761236.nc to /home/jovyan/europe/30-12-1980.nc (380.2M)\n",
      "2019-10-17 12:22:55,054 INFO Download rate 31.6M/s \n"
     ]
    },
    {
     "data": {
      "text/plain": [
       "<Result cmd='fimex-1.3 -c extractEurope.cfg --input.file /home/jovyan/europe/30-12-1980.nc --output.file /home/jovyan/europe/europe_30-12-1980.nc' exited=0>"
      ]
     },
     "metadata": {},
     "output_type": "display_data"
    },
    {
     "data": {
      "text/plain": [
       "<Result cmd='rm -f /home/jovyan/europe/30-12-1980.nc' exited=0>"
      ]
     },
     "metadata": {},
     "output_type": "display_data"
    },
    {
     "name": "stderr",
     "output_type": "stream",
     "text": [
      "2019-10-17 12:22:55,379 INFO Sending request to https://cds.climate.copernicus.eu/api/v2/resources/reanalysis-era5-single-levels\n",
      "2019-10-17 12:22:55,547 INFO Request is completed\n",
      "2019-10-17 12:22:55,548 INFO Downloading http://136.156.133.42/cache-compute-0014/cache/data5/adaptor.mars.internal-1571106987.794485-13684-13-4b03a610-0a78-4d0f-959a-d429254ffd89.nc to /home/jovyan/europe/31-12-1980.nc (380.2M)\n",
      "2019-10-17 12:23:10,473 INFO Download rate 25.5M/s \n"
     ]
    },
    {
     "data": {
      "text/plain": [
       "<Result cmd='fimex-1.3 -c extractEurope.cfg --input.file /home/jovyan/europe/31-12-1980.nc --output.file /home/jovyan/europe/europe_31-12-1980.nc' exited=0>"
      ]
     },
     "metadata": {},
     "output_type": "display_data"
    },
    {
     "data": {
      "text/plain": [
       "<Result cmd='rm -f /home/jovyan/europe/31-12-1980.nc' exited=0>"
      ]
     },
     "metadata": {},
     "output_type": "display_data"
    },
    {
     "name": "stderr",
     "output_type": "stream",
     "text": [
      "2019-10-17 12:23:10,985 INFO Sending request to https://cds.climate.copernicus.eu/api/v2/resources/reanalysis-era5-single-levels\n",
      "2019-10-17 12:23:12,373 INFO Request is completed\n",
      "2019-10-17 12:23:12,374 INFO Downloading http://136.156.132.198/cache-compute-0003/cache/data0/adaptor.mars.internal-1571278427.4366724-24061-13-d3538c2d-1664-481c-ba1f-9665d938ad86.nc to /home/jovyan/europe/01-01-1981.nc (380.2M)\n",
      "2019-10-17 12:23:36,964 INFO Download rate 15.5M/s \n"
     ]
    },
    {
     "data": {
      "text/plain": [
       "<Result cmd='fimex-1.3 -c extractEurope.cfg --input.file /home/jovyan/europe/01-01-1981.nc --output.file /home/jovyan/europe/europe_01-01-1981.nc' exited=0>"
      ]
     },
     "metadata": {},
     "output_type": "display_data"
    },
    {
     "data": {
      "text/plain": [
       "<Result cmd='rm -f /home/jovyan/europe/01-01-1981.nc' exited=0>"
      ]
     },
     "metadata": {},
     "output_type": "display_data"
    },
    {
     "name": "stderr",
     "output_type": "stream",
     "text": [
      "2019-10-17 12:23:37,418 INFO Sending request to https://cds.climate.copernicus.eu/api/v2/resources/reanalysis-era5-single-levels\n",
      "2019-10-17 12:23:37,587 INFO Request is completed\n",
      "2019-10-17 12:23:37,588 INFO Downloading http://136.156.133.25/cache-compute-0008/cache/data2/adaptor.mars.internal-1571107073.433395-26387-15-8d64cb65-3a9d-4ec9-bc74-fa457df5eed7.nc to /home/jovyan/europe/02-01-1981.nc (380.2M)\n",
      "2019-10-17 12:23:47,910 INFO Download rate 36.8M/s \n"
     ]
    },
    {
     "data": {
      "text/plain": [
       "<Result cmd='fimex-1.3 -c extractEurope.cfg --input.file /home/jovyan/europe/02-01-1981.nc --output.file /home/jovyan/europe/europe_02-01-1981.nc' exited=0>"
      ]
     },
     "metadata": {},
     "output_type": "display_data"
    },
    {
     "data": {
      "text/plain": [
       "<Result cmd='rm -f /home/jovyan/europe/02-01-1981.nc' exited=0>"
      ]
     },
     "metadata": {},
     "output_type": "display_data"
    },
    {
     "name": "stderr",
     "output_type": "stream",
     "text": [
      "2019-10-17 12:23:48,334 INFO Sending request to https://cds.climate.copernicus.eu/api/v2/resources/reanalysis-era5-single-levels\n",
      "2019-10-17 12:23:48,533 INFO Request is completed\n",
      "2019-10-17 12:23:48,536 INFO Downloading http://136.156.133.46/cache-compute-0015/cache/data6/adaptor.mars.internal-1571278471.8898726-15974-3-e2876170-bdeb-4651-aeff-dcf6a4e7e8a8.nc to /home/jovyan/europe/03-01-1981.nc (380.2M)\n",
      "2019-10-17 12:24:02,154 INFO Download rate 27.9M/s \n"
     ]
    },
    {
     "data": {
      "text/plain": [
       "<Result cmd='fimex-1.3 -c extractEurope.cfg --input.file /home/jovyan/europe/03-01-1981.nc --output.file /home/jovyan/europe/europe_03-01-1981.nc' exited=0>"
      ]
     },
     "metadata": {},
     "output_type": "display_data"
    },
    {
     "data": {
      "text/plain": [
       "<Result cmd='rm -f /home/jovyan/europe/03-01-1981.nc' exited=0>"
      ]
     },
     "metadata": {},
     "output_type": "display_data"
    },
    {
     "name": "stderr",
     "output_type": "stream",
     "text": [
      "2019-10-17 12:24:02,438 INFO Sending request to https://cds.climate.copernicus.eu/api/v2/resources/reanalysis-era5-single-levels\n",
      "2019-10-17 12:24:02,969 INFO Request is completed\n",
      "2019-10-17 12:24:02,973 INFO Downloading http://136.156.133.32/cache-compute-0009/cache/data0/adaptor.mars.internal-1571278502.9827878-3154-1-a450b5a1-c1d0-44a7-ab00-0cd60f3c14fd.nc to /home/jovyan/europe/04-01-1981.nc (380.2M)\n",
      "2019-10-17 12:24:14,634 INFO Download rate 32.6M/s \n"
     ]
    },
    {
     "data": {
      "text/plain": [
       "<Result cmd='fimex-1.3 -c extractEurope.cfg --input.file /home/jovyan/europe/04-01-1981.nc --output.file /home/jovyan/europe/europe_04-01-1981.nc' exited=0>"
      ]
     },
     "metadata": {},
     "output_type": "display_data"
    },
    {
     "data": {
      "text/plain": [
       "<Result cmd='rm -f /home/jovyan/europe/04-01-1981.nc' exited=0>"
      ]
     },
     "metadata": {},
     "output_type": "display_data"
    },
    {
     "name": "stderr",
     "output_type": "stream",
     "text": [
      "2019-10-17 12:24:14,913 INFO Sending request to https://cds.climate.copernicus.eu/api/v2/resources/reanalysis-era5-single-levels\n",
      "2019-10-17 12:24:15,447 INFO Request is completed\n",
      "2019-10-17 12:24:15,450 INFO Downloading http://136.156.133.36/cache-compute-0010/cache/data6/adaptor.mars.internal-1571278540.4238088-13399-17-eca22390-bf29-4462-8f87-978863d2778e.nc to /home/jovyan/europe/05-01-1981.nc (380.2M)\n",
      "2019-10-17 12:24:35,565 INFO Download rate 18.9M/s \n"
     ]
    },
    {
     "data": {
      "text/plain": [
       "<Result cmd='fimex-1.3 -c extractEurope.cfg --input.file /home/jovyan/europe/05-01-1981.nc --output.file /home/jovyan/europe/europe_05-01-1981.nc' exited=0>"
      ]
     },
     "metadata": {},
     "output_type": "display_data"
    },
    {
     "data": {
      "text/plain": [
       "<Result cmd='rm -f /home/jovyan/europe/05-01-1981.nc' exited=0>"
      ]
     },
     "metadata": {},
     "output_type": "display_data"
    },
    {
     "name": "stderr",
     "output_type": "stream",
     "text": [
      "2019-10-17 12:24:35,894 INFO Sending request to https://cds.climate.copernicus.eu/api/v2/resources/reanalysis-era5-single-levels\n",
      "2019-10-17 12:24:36,055 INFO Request is completed\n",
      "2019-10-17 12:24:36,056 INFO Downloading http://136.156.132.235/cache-compute-0006/cache/data8/adaptor.mars.internal-1571107234.3883514-30452-5-e1536f35-8ff9-4da9-bfe6-f26deb44a5a1.nc to /home/jovyan/europe/06-01-1981.nc (380.2M)\n",
      "2019-10-17 12:24:55,137 INFO Download rate 19.9M/s \n"
     ]
    },
    {
     "data": {
      "text/plain": [
       "<Result cmd='fimex-1.3 -c extractEurope.cfg --input.file /home/jovyan/europe/06-01-1981.nc --output.file /home/jovyan/europe/europe_06-01-1981.nc' exited=0>"
      ]
     },
     "metadata": {},
     "output_type": "display_data"
    },
    {
     "data": {
      "text/plain": [
       "<Result cmd='rm -f /home/jovyan/europe/06-01-1981.nc' exited=0>"
      ]
     },
     "metadata": {},
     "output_type": "display_data"
    },
    {
     "name": "stderr",
     "output_type": "stream",
     "text": [
      "2019-10-17 12:24:55,563 INFO Sending request to https://cds.climate.copernicus.eu/api/v2/resources/reanalysis-era5-single-levels\n",
      "2019-10-17 12:24:56,402 INFO Request is completed\n",
      "2019-10-17 12:24:56,403 INFO Downloading http://136.156.133.46/cache-compute-0015/cache/data5/adaptor.mars.internal-1571278602.3567042-8818-23-1dfc8105-1a92-4c06-b686-daad65d61248.nc to /home/jovyan/europe/07-01-1981.nc (380.2M)\n",
      "2019-10-17 12:25:10,499 INFO Download rate 27M/s   \n"
     ]
    },
    {
     "data": {
      "text/plain": [
       "<Result cmd='fimex-1.3 -c extractEurope.cfg --input.file /home/jovyan/europe/07-01-1981.nc --output.file /home/jovyan/europe/europe_07-01-1981.nc' exited=0>"
      ]
     },
     "metadata": {},
     "output_type": "display_data"
    },
    {
     "data": {
      "text/plain": [
       "<Result cmd='rm -f /home/jovyan/europe/07-01-1981.nc' exited=0>"
      ]
     },
     "metadata": {},
     "output_type": "display_data"
    },
    {
     "name": "stderr",
     "output_type": "stream",
     "text": [
      "2019-10-17 12:25:10,916 INFO Sending request to https://cds.climate.copernicus.eu/api/v2/resources/reanalysis-era5-single-levels\n",
      "2019-10-17 12:25:11,066 INFO Request is completed\n",
      "2019-10-17 12:25:11,068 INFO Downloading http://136.156.133.39/cache-compute-0012/cache/data1/adaptor.mars.internal-1571278635.7287388-16646-7-7f2e812d-4acb-4223-a6be-a3f206cc3f25.nc to /home/jovyan/europe/08-01-1981.nc (380.2M)\n",
      "2019-10-17 12:25:20,474 INFO Download rate 40.4M/s \n"
     ]
    },
    {
     "data": {
      "text/plain": [
       "<Result cmd='fimex-1.3 -c extractEurope.cfg --input.file /home/jovyan/europe/08-01-1981.nc --output.file /home/jovyan/europe/europe_08-01-1981.nc' exited=0>"
      ]
     },
     "metadata": {},
     "output_type": "display_data"
    },
    {
     "data": {
      "text/plain": [
       "<Result cmd='rm -f /home/jovyan/europe/08-01-1981.nc' exited=0>"
      ]
     },
     "metadata": {},
     "output_type": "display_data"
    },
    {
     "name": "stderr",
     "output_type": "stream",
     "text": [
      "2019-10-17 12:25:20,823 INFO Sending request to https://cds.climate.copernicus.eu/api/v2/resources/reanalysis-era5-single-levels\n",
      "2019-10-17 12:25:21,677 INFO Request is completed\n",
      "2019-10-17 12:25:21,678 INFO Downloading http://136.156.133.42/cache-compute-0014/cache/data1/adaptor.mars.internal-1571278669.920538-26127-21-cc05a976-3954-4bb4-86ab-e443e50aba95.nc to /home/jovyan/europe/09-01-1981.nc (380.2M)\n",
      "2019-10-17 12:25:33,596 INFO Download rate 31.9M/s \n"
     ]
    },
    {
     "data": {
      "text/plain": [
       "<Result cmd='fimex-1.3 -c extractEurope.cfg --input.file /home/jovyan/europe/09-01-1981.nc --output.file /home/jovyan/europe/europe_09-01-1981.nc' exited=0>"
      ]
     },
     "metadata": {},
     "output_type": "display_data"
    },
    {
     "data": {
      "text/plain": [
       "<Result cmd='rm -f /home/jovyan/europe/09-01-1981.nc' exited=0>"
      ]
     },
     "metadata": {},
     "output_type": "display_data"
    },
    {
     "name": "stderr",
     "output_type": "stream",
     "text": [
      "2019-10-17 12:25:33,971 INFO Sending request to https://cds.climate.copernicus.eu/api/v2/resources/reanalysis-era5-single-levels\n",
      "2019-10-17 12:25:34,631 INFO Request is completed\n",
      "2019-10-17 12:25:34,632 INFO Downloading http://136.156.133.36/cache-compute-0010/cache/data9/adaptor.mars.internal-1571278710.7454998-15763-7-a6db61fd-6774-46af-8679-4ceb786a693c.nc to /home/jovyan/europe/10-01-1981.nc (380.2M)\n",
      "2019-10-17 12:25:52,330 INFO Download rate 21.5M/s \n"
     ]
    },
    {
     "data": {
      "text/plain": [
       "<Result cmd='fimex-1.3 -c extractEurope.cfg --input.file /home/jovyan/europe/10-01-1981.nc --output.file /home/jovyan/europe/europe_10-01-1981.nc' exited=0>"
      ]
     },
     "metadata": {},
     "output_type": "display_data"
    },
    {
     "data": {
      "text/plain": [
       "<Result cmd='rm -f /home/jovyan/europe/10-01-1981.nc' exited=0>"
      ]
     },
     "metadata": {},
     "output_type": "display_data"
    },
    {
     "name": "stderr",
     "output_type": "stream",
     "text": [
      "2019-10-17 12:25:52,593 INFO Sending request to https://cds.climate.copernicus.eu/api/v2/resources/reanalysis-era5-single-levels\n",
      "2019-10-17 12:25:52,994 INFO Request is completed\n",
      "2019-10-17 12:25:52,995 INFO Downloading http://136.156.132.198/cache-compute-0003/cache/data8/adaptor.mars.internal-1571278745.650023-31945-3-874417db-69d6-47d4-8adc-eecc180dd069.nc to /home/jovyan/europe/11-01-1981.nc (380.2M)\n",
      "2019-10-17 12:26:11,616 INFO Download rate 20.4M/s \n"
     ]
    },
    {
     "data": {
      "text/plain": [
       "<Result cmd='fimex-1.3 -c extractEurope.cfg --input.file /home/jovyan/europe/11-01-1981.nc --output.file /home/jovyan/europe/europe_11-01-1981.nc' exited=0>"
      ]
     },
     "metadata": {},
     "output_type": "display_data"
    },
    {
     "data": {
      "text/plain": [
       "<Result cmd='rm -f /home/jovyan/europe/11-01-1981.nc' exited=0>"
      ]
     },
     "metadata": {},
     "output_type": "display_data"
    },
    {
     "name": "stderr",
     "output_type": "stream",
     "text": [
      "2019-10-17 12:26:11,917 INFO Sending request to https://cds.climate.copernicus.eu/api/v2/resources/reanalysis-era5-single-levels\n",
      "2019-10-17 12:26:12,652 INFO Request is completed\n",
      "2019-10-17 12:26:12,653 INFO Downloading http://136.156.133.25/cache-compute-0008/cache/data9/adaptor.mars.internal-1571107482.4029632-6584-19-18e67119-e2c3-4343-8410-f390bb2d9f9d.nc to /home/jovyan/europe/12-01-1981.nc (380.2M)\n",
      "2019-10-17 12:26:26,366 INFO Download rate 27.7M/s \n"
     ]
    },
    {
     "data": {
      "text/plain": [
       "<Result cmd='fimex-1.3 -c extractEurope.cfg --input.file /home/jovyan/europe/12-01-1981.nc --output.file /home/jovyan/europe/europe_12-01-1981.nc' exited=0>"
      ]
     },
     "metadata": {},
     "output_type": "display_data"
    },
    {
     "data": {
      "text/plain": [
       "<Result cmd='rm -f /home/jovyan/europe/12-01-1981.nc' exited=0>"
      ]
     },
     "metadata": {},
     "output_type": "display_data"
    },
    {
     "name": "stderr",
     "output_type": "stream",
     "text": [
      "2019-10-17 12:26:26,799 INFO Sending request to https://cds.climate.copernicus.eu/api/v2/resources/reanalysis-era5-single-levels\n",
      "2019-10-17 12:26:27,093 INFO Request is completed\n",
      "2019-10-17 12:26:27,097 INFO Downloading http://136.156.132.236/cache-compute-0007/cache/data6/adaptor.mars.internal-1571107531.307001-26795-15-c6ca429d-7654-4449-bd38-066c2f5540a0.nc to /home/jovyan/europe/13-01-1981.nc (380.2M)\n",
      "2019-10-17 12:26:41,552 INFO Download rate 26.3M/s \n"
     ]
    },
    {
     "data": {
      "text/plain": [
       "<Result cmd='fimex-1.3 -c extractEurope.cfg --input.file /home/jovyan/europe/13-01-1981.nc --output.file /home/jovyan/europe/europe_13-01-1981.nc' exited=0>"
      ]
     },
     "metadata": {},
     "output_type": "display_data"
    },
    {
     "data": {
      "text/plain": [
       "<Result cmd='rm -f /home/jovyan/europe/13-01-1981.nc' exited=0>"
      ]
     },
     "metadata": {},
     "output_type": "display_data"
    },
    {
     "name": "stderr",
     "output_type": "stream",
     "text": [
      "2019-10-17 12:26:41,871 INFO Sending request to https://cds.climate.copernicus.eu/api/v2/resources/reanalysis-era5-single-levels\n",
      "2019-10-17 12:26:42,097 INFO Request is completed\n",
      "2019-10-17 12:26:42,101 INFO Downloading http://136.156.132.201/cache-compute-0004/cache/data4/adaptor.mars.internal-1571107568.2675893-26567-7-745f13a0-4ddd-4936-a46d-6bd1c30452aa.nc to /home/jovyan/europe/14-01-1981.nc (380.2M)\n",
      "2019-10-17 12:26:59,424 INFO Download rate 22M/s   \n"
     ]
    },
    {
     "data": {
      "text/plain": [
       "<Result cmd='fimex-1.3 -c extractEurope.cfg --input.file /home/jovyan/europe/14-01-1981.nc --output.file /home/jovyan/europe/europe_14-01-1981.nc' exited=0>"
      ]
     },
     "metadata": {},
     "output_type": "display_data"
    },
    {
     "data": {
      "text/plain": [
       "<Result cmd='rm -f /home/jovyan/europe/14-01-1981.nc' exited=0>"
      ]
     },
     "metadata": {},
     "output_type": "display_data"
    },
    {
     "name": "stderr",
     "output_type": "stream",
     "text": [
      "2019-10-17 12:26:59,684 INFO Sending request to https://cds.climate.copernicus.eu/api/v2/resources/reanalysis-era5-single-levels\n",
      "2019-10-17 12:26:59,885 INFO Request is completed\n",
      "2019-10-17 12:26:59,887 INFO Downloading http://136.156.133.46/cache-compute-0015/cache/data8/adaptor.mars.internal-1571107612.7616425-3587-5-8729a484-0937-461a-8462-6b4d71d6f7da.nc to /home/jovyan/europe/15-01-1981.nc (380.2M)\n",
      "2019-10-17 12:27:14,220 INFO Download rate 26.5M/s \n"
     ]
    },
    {
     "data": {
      "text/plain": [
       "<Result cmd='fimex-1.3 -c extractEurope.cfg --input.file /home/jovyan/europe/15-01-1981.nc --output.file /home/jovyan/europe/europe_15-01-1981.nc' exited=0>"
      ]
     },
     "metadata": {},
     "output_type": "display_data"
    },
    {
     "data": {
      "text/plain": [
       "<Result cmd='rm -f /home/jovyan/europe/15-01-1981.nc' exited=0>"
      ]
     },
     "metadata": {},
     "output_type": "display_data"
    },
    {
     "name": "stderr",
     "output_type": "stream",
     "text": [
      "2019-10-17 12:27:14,572 INFO Sending request to https://cds.climate.copernicus.eu/api/v2/resources/reanalysis-era5-single-levels\n",
      "2019-10-17 12:27:15,296 INFO Request is completed\n",
      "2019-10-17 12:27:15,297 INFO Downloading http://136.156.133.41/cache-compute-0013/cache/data6/adaptor.mars.internal-1571278818.1111658-15933-9-18fc0694-250a-46aa-9301-39ec33f4a42f.nc to /home/jovyan/europe/16-01-1981.nc (380.2M)\n",
      "2019-10-17 12:27:30,383 INFO Download rate 25.2M/s \n"
     ]
    },
    {
     "data": {
      "text/plain": [
       "<Result cmd='fimex-1.3 -c extractEurope.cfg --input.file /home/jovyan/europe/16-01-1981.nc --output.file /home/jovyan/europe/europe_16-01-1981.nc' exited=0>"
      ]
     },
     "metadata": {},
     "output_type": "display_data"
    },
    {
     "data": {
      "text/plain": [
       "<Result cmd='rm -f /home/jovyan/europe/16-01-1981.nc' exited=0>"
      ]
     },
     "metadata": {},
     "output_type": "display_data"
    },
    {
     "name": "stderr",
     "output_type": "stream",
     "text": [
      "2019-10-17 12:27:31,186 INFO Sending request to https://cds.climate.copernicus.eu/api/v2/resources/reanalysis-era5-single-levels\n",
      "2019-10-17 12:27:32,060 INFO Request is completed\n",
      "2019-10-17 12:27:32,061 INFO Downloading http://136.156.132.236/cache-compute-0007/cache/data8/adaptor.mars.internal-1571278853.6248932-333-13-88fdd383-d7ce-4fdd-935e-c7960d04b3c5.nc to /home/jovyan/europe/17-01-1981.nc (380.2M)\n",
      "2019-10-17 12:27:47,027 INFO Download rate 25.4M/s \n"
     ]
    },
    {
     "data": {
      "text/plain": [
       "<Result cmd='fimex-1.3 -c extractEurope.cfg --input.file /home/jovyan/europe/17-01-1981.nc --output.file /home/jovyan/europe/europe_17-01-1981.nc' exited=0>"
      ]
     },
     "metadata": {},
     "output_type": "display_data"
    },
    {
     "data": {
      "text/plain": [
       "<Result cmd='rm -f /home/jovyan/europe/17-01-1981.nc' exited=0>"
      ]
     },
     "metadata": {},
     "output_type": "display_data"
    },
    {
     "name": "stderr",
     "output_type": "stream",
     "text": [
      "2019-10-17 12:27:47,326 INFO Sending request to https://cds.climate.copernicus.eu/api/v2/resources/reanalysis-era5-single-levels\n",
      "2019-10-17 12:27:47,537 INFO Request is completed\n",
      "2019-10-17 12:27:47,545 INFO Downloading http://136.156.133.41/cache-compute-0013/cache/data5/adaptor.mars.internal-1571278889.1604595-10618-15-f5d010c7-417f-4d5c-ad61-303fb660e8ef.nc to /home/jovyan/europe/18-01-1981.nc (380.2M)\n",
      "2019-10-17 12:27:55,598 INFO Download rate 47.2M/s \n"
     ]
    },
    {
     "data": {
      "text/plain": [
       "<Result cmd='fimex-1.3 -c extractEurope.cfg --input.file /home/jovyan/europe/18-01-1981.nc --output.file /home/jovyan/europe/europe_18-01-1981.nc' exited=0>"
      ]
     },
     "metadata": {},
     "output_type": "display_data"
    },
    {
     "data": {
      "text/plain": [
       "<Result cmd='rm -f /home/jovyan/europe/18-01-1981.nc' exited=0>"
      ]
     },
     "metadata": {},
     "output_type": "display_data"
    },
    {
     "name": "stderr",
     "output_type": "stream",
     "text": [
      "2019-10-17 12:27:55,921 INFO Sending request to https://cds.climate.copernicus.eu/api/v2/resources/reanalysis-era5-single-levels\n",
      "2019-10-17 12:27:56,097 INFO Request is completed\n",
      "2019-10-17 12:27:56,098 INFO Downloading http://136.156.132.201/cache-compute-0004/cache/data2/adaptor.mars.internal-1571278929.6997244-7632-11-9f5b8c11-7db0-4414-a004-4d4fdc771456.nc to /home/jovyan/europe/19-01-1981.nc (380.2M)\n",
      "2019-10-17 12:28:07,346 INFO Download rate 33.8M/s \n"
     ]
    },
    {
     "data": {
      "text/plain": [
       "<Result cmd='fimex-1.3 -c extractEurope.cfg --input.file /home/jovyan/europe/19-01-1981.nc --output.file /home/jovyan/europe/europe_19-01-1981.nc' exited=0>"
      ]
     },
     "metadata": {},
     "output_type": "display_data"
    },
    {
     "data": {
      "text/plain": [
       "<Result cmd='rm -f /home/jovyan/europe/19-01-1981.nc' exited=0>"
      ]
     },
     "metadata": {},
     "output_type": "display_data"
    },
    {
     "name": "stderr",
     "output_type": "stream",
     "text": [
      "2019-10-17 12:28:07,649 INFO Sending request to https://cds.climate.copernicus.eu/api/v2/resources/reanalysis-era5-single-levels\n",
      "2019-10-17 12:28:07,926 INFO Request is completed\n",
      "2019-10-17 12:28:07,927 INFO Downloading http://136.156.132.105/cache-compute-0000/cache/data2/adaptor.mars.internal-1571107839.846222-9282-7-244e5df2-ae60-4d1f-a05c-92f537f32d35.nc to /home/jovyan/europe/20-01-1981.nc (380.2M)\n",
      "2019-10-17 12:28:20,668 INFO Download rate 29.8M/s \n"
     ]
    },
    {
     "data": {
      "text/plain": [
       "<Result cmd='rm -f /home/jovyan/europe/20-01-1981.nc' exited=0>"
      ]
     },
     "metadata": {},
     "output_type": "display_data"
    },
    {
     "name": "stderr",
     "output_type": "stream",
     "text": [
      "2019-10-17 12:28:21,325 INFO Sending request to https://cds.climate.copernicus.eu/api/v2/resources/reanalysis-era5-single-levels\n",
      "2019-10-17 12:28:22,487 INFO Request is completed\n",
      "2019-10-17 12:28:22,489 INFO Downloading http://136.156.133.25/cache-compute-0008/cache/data2/adaptor.mars.internal-1571278981.9503474-4942-7-a79af98f-8c8c-41a5-add1-14e3f4e26be8.nc to /home/jovyan/europe/21-01-1981.nc (380.2M)\n",
      "2019-10-17 12:28:38,092 INFO Download rate 24.4M/s \n"
     ]
    },
    {
     "data": {
      "text/plain": [
       "<Result cmd='fimex-1.3 -c extractEurope.cfg --input.file /home/jovyan/europe/21-01-1981.nc --output.file /home/jovyan/europe/europe_21-01-1981.nc' exited=0>"
      ]
     },
     "metadata": {},
     "output_type": "display_data"
    },
    {
     "data": {
      "text/plain": [
       "<Result cmd='rm -f /home/jovyan/europe/21-01-1981.nc' exited=0>"
      ]
     },
     "metadata": {},
     "output_type": "display_data"
    },
    {
     "name": "stderr",
     "output_type": "stream",
     "text": [
      "2019-10-17 12:28:38,656 INFO Sending request to https://cds.climate.copernicus.eu/api/v2/resources/reanalysis-era5-single-levels\n",
      "2019-10-17 12:28:38,803 INFO Request is completed\n",
      "2019-10-17 12:28:38,804 INFO Downloading http://136.156.132.201/cache-compute-0004/cache/data4/adaptor.mars.internal-1571279018.472446-4882-21-6d57ab9e-6979-4257-8341-de842fc59738.nc to /home/jovyan/europe/22-01-1981.nc (380.2M)\n",
      "2019-10-17 12:28:51,583 INFO Download rate 29.8M/s \n"
     ]
    },
    {
     "data": {
      "text/plain": [
       "<Result cmd='fimex-1.3 -c extractEurope.cfg --input.file /home/jovyan/europe/22-01-1981.nc --output.file /home/jovyan/europe/europe_22-01-1981.nc' exited=0>"
      ]
     },
     "metadata": {},
     "output_type": "display_data"
    },
    {
     "data": {
      "text/plain": [
       "<Result cmd='rm -f /home/jovyan/europe/22-01-1981.nc' exited=0>"
      ]
     },
     "metadata": {},
     "output_type": "display_data"
    },
    {
     "name": "stderr",
     "output_type": "stream",
     "text": [
      "2019-10-17 12:28:51,909 INFO Sending request to https://cds.climate.copernicus.eu/api/v2/resources/reanalysis-era5-single-levels\n",
      "2019-10-17 12:28:52,842 INFO Request is completed\n",
      "2019-10-17 12:28:52,843 INFO Downloading http://136.156.132.153/cache-compute-0002/cache/data4/adaptor.mars.internal-1571279050.0260367-4824-7-d159a4c9-0133-4ce0-9f66-ad4aff0b20a6.nc to /home/jovyan/europe/23-01-1981.nc (380.2M)\n",
      "2019-10-17 12:29:07,582 INFO Download rate 25.8M/s \n"
     ]
    },
    {
     "data": {
      "text/plain": [
       "<Result cmd='fimex-1.3 -c extractEurope.cfg --input.file /home/jovyan/europe/23-01-1981.nc --output.file /home/jovyan/europe/europe_23-01-1981.nc' exited=0>"
      ]
     },
     "metadata": {},
     "output_type": "display_data"
    },
    {
     "data": {
      "text/plain": [
       "<Result cmd='rm -f /home/jovyan/europe/23-01-1981.nc' exited=0>"
      ]
     },
     "metadata": {},
     "output_type": "display_data"
    },
    {
     "name": "stderr",
     "output_type": "stream",
     "text": [
      "2019-10-17 12:29:07,912 INFO Sending request to https://cds.climate.copernicus.eu/api/v2/resources/reanalysis-era5-single-levels\n",
      "2019-10-17 12:29:08,109 INFO Request is completed\n",
      "2019-10-17 12:29:08,110 INFO Downloading http://136.156.132.235/cache-compute-0006/cache/data9/adaptor.mars.internal-1571107980.8496382-3510-9-53676258-3398-41e8-9493-508e8788b79d.nc to /home/jovyan/europe/24-01-1981.nc (380.2M)\n",
      "2019-10-17 12:29:18,307 INFO Download rate 37.3M/s \n"
     ]
    },
    {
     "data": {
      "text/plain": [
       "<Result cmd='fimex-1.3 -c extractEurope.cfg --input.file /home/jovyan/europe/24-01-1981.nc --output.file /home/jovyan/europe/europe_24-01-1981.nc' exited=0>"
      ]
     },
     "metadata": {},
     "output_type": "display_data"
    },
    {
     "data": {
      "text/plain": [
       "<Result cmd='rm -f /home/jovyan/europe/24-01-1981.nc' exited=0>"
      ]
     },
     "metadata": {},
     "output_type": "display_data"
    },
    {
     "name": "stderr",
     "output_type": "stream",
     "text": [
      "2019-10-17 12:29:18,737 INFO Sending request to https://cds.climate.copernicus.eu/api/v2/resources/reanalysis-era5-single-levels\n",
      "2019-10-17 12:29:19,019 INFO Request is completed\n",
      "2019-10-17 12:29:19,023 INFO Downloading http://136.156.133.36/cache-compute-0010/cache/data6/adaptor.mars.internal-1571279093.2488658-15763-17-d7f4d4ba-66dd-470c-8a6d-2c8247d87663.nc to /home/jovyan/europe/25-01-1981.nc (380.2M)\n",
      "2019-10-17 12:29:31,887 INFO Download rate 29.6M/s \n"
     ]
    },
    {
     "data": {
      "text/plain": [
       "<Result cmd='fimex-1.3 -c extractEurope.cfg --input.file /home/jovyan/europe/25-01-1981.nc --output.file /home/jovyan/europe/europe_25-01-1981.nc' exited=0>"
      ]
     },
     "metadata": {},
     "output_type": "display_data"
    },
    {
     "data": {
      "text/plain": [
       "<Result cmd='rm -f /home/jovyan/europe/25-01-1981.nc' exited=0>"
      ]
     },
     "metadata": {},
     "output_type": "display_data"
    },
    {
     "name": "stderr",
     "output_type": "stream",
     "text": [
      "2019-10-17 12:29:32,293 INFO Sending request to https://cds.climate.copernicus.eu/api/v2/resources/reanalysis-era5-single-levels\n",
      "2019-10-17 12:29:33,463 INFO Request is completed\n",
      "2019-10-17 12:29:33,464 INFO Downloading http://136.156.132.105/cache-compute-0000/cache/data4/adaptor.mars.internal-1571279128.695694-15842-1-1dc8a446-59d8-4603-94b8-eff7d63e7a30.nc to /home/jovyan/europe/26-01-1981.nc (380.2M)\n",
      "2019-10-17 12:29:47,627 INFO Download rate 26.9M/s \n"
     ]
    },
    {
     "data": {
      "text/plain": [
       "<Result cmd='fimex-1.3 -c extractEurope.cfg --input.file /home/jovyan/europe/26-01-1981.nc --output.file /home/jovyan/europe/europe_26-01-1981.nc' exited=0>"
      ]
     },
     "metadata": {},
     "output_type": "display_data"
    },
    {
     "data": {
      "text/plain": [
       "<Result cmd='rm -f /home/jovyan/europe/26-01-1981.nc' exited=0>"
      ]
     },
     "metadata": {},
     "output_type": "display_data"
    },
    {
     "name": "stderr",
     "output_type": "stream",
     "text": [
      "2019-10-17 12:29:48,262 INFO Sending request to https://cds.climate.copernicus.eu/api/v2/resources/reanalysis-era5-single-levels\n",
      "2019-10-17 12:29:48,405 INFO Request is completed\n",
      "2019-10-17 12:29:48,406 INFO Downloading http://136.156.133.37/cache-compute-0011/cache/data8/adaptor.mars.internal-1571279163.9092922-3198-5-19a5337d-90b1-4ed2-bc4a-c34595da6dff.nc to /home/jovyan/europe/27-01-1981.nc (380.2M)\n",
      "2019-10-17 12:29:59,475 INFO Download rate 34.4M/s \n"
     ]
    },
    {
     "data": {
      "text/plain": [
       "<Result cmd='fimex-1.3 -c extractEurope.cfg --input.file /home/jovyan/europe/27-01-1981.nc --output.file /home/jovyan/europe/europe_27-01-1981.nc' exited=0>"
      ]
     },
     "metadata": {},
     "output_type": "display_data"
    },
    {
     "data": {
      "text/plain": [
       "<Result cmd='rm -f /home/jovyan/europe/27-01-1981.nc' exited=0>"
      ]
     },
     "metadata": {},
     "output_type": "display_data"
    },
    {
     "name": "stderr",
     "output_type": "stream",
     "text": [
      "2019-10-17 12:29:59,856 INFO Sending request to https://cds.climate.copernicus.eu/api/v2/resources/reanalysis-era5-single-levels\n",
      "2019-10-17 12:30:00,146 INFO Request is completed\n",
      "2019-10-17 12:30:00,147 INFO Downloading http://136.156.133.39/cache-compute-0012/cache/data0/adaptor.mars.internal-1571108113.819142-9390-1-5c0994ac-b700-4851-b47d-98329e0a3b10.nc to /home/jovyan/europe/28-01-1981.nc (380.2M)\n",
      "2019-10-17 12:30:16,973 INFO Download rate 22.6M/s \n"
     ]
    },
    {
     "data": {
      "text/plain": [
       "<Result cmd='fimex-1.3 -c extractEurope.cfg --input.file /home/jovyan/europe/28-01-1981.nc --output.file /home/jovyan/europe/europe_28-01-1981.nc' exited=0>"
      ]
     },
     "metadata": {},
     "output_type": "display_data"
    },
    {
     "data": {
      "text/plain": [
       "<Result cmd='rm -f /home/jovyan/europe/28-01-1981.nc' exited=0>"
      ]
     },
     "metadata": {},
     "output_type": "display_data"
    },
    {
     "name": "stderr",
     "output_type": "stream",
     "text": [
      "2019-10-17 12:30:17,339 INFO Sending request to https://cds.climate.copernicus.eu/api/v2/resources/reanalysis-era5-single-levels\n",
      "2019-10-17 12:30:17,459 INFO Request is completed\n",
      "2019-10-17 12:30:17,462 INFO Downloading http://136.156.133.39/cache-compute-0012/cache/data4/adaptor.mars.internal-1571108144.6451128-8004-7-d6701bef-9f01-49d4-8996-23960d7815b5.nc to /home/jovyan/europe/29-01-1981.nc (380.2M)\n",
      "2019-10-17 12:30:27,431 INFO Download rate 38.1M/s \n"
     ]
    },
    {
     "data": {
      "text/plain": [
       "<Result cmd='fimex-1.3 -c extractEurope.cfg --input.file /home/jovyan/europe/29-01-1981.nc --output.file /home/jovyan/europe/europe_29-01-1981.nc' exited=0>"
      ]
     },
     "metadata": {},
     "output_type": "display_data"
    },
    {
     "data": {
      "text/plain": [
       "<Result cmd='rm -f /home/jovyan/europe/29-01-1981.nc' exited=0>"
      ]
     },
     "metadata": {},
     "output_type": "display_data"
    },
    {
     "name": "stderr",
     "output_type": "stream",
     "text": [
      "2019-10-17 12:30:27,710 INFO Sending request to https://cds.climate.copernicus.eu/api/v2/resources/reanalysis-era5-single-levels\n",
      "2019-10-17 12:30:27,881 INFO Request is completed\n",
      "2019-10-17 12:30:27,882 INFO Downloading http://136.156.132.236/cache-compute-0007/cache/data1/adaptor.mars.internal-1571279221.7589626-8364-7-4cf814c8-6551-4014-9023-60edd84151ea.nc to /home/jovyan/europe/30-01-1981.nc (380.2M)\n",
      "2019-10-17 12:30:39,425 INFO Download rate 33M/s   \n"
     ]
    },
    {
     "data": {
      "text/plain": [
       "<Result cmd='fimex-1.3 -c extractEurope.cfg --input.file /home/jovyan/europe/30-01-1981.nc --output.file /home/jovyan/europe/europe_30-01-1981.nc' exited=0>"
      ]
     },
     "metadata": {},
     "output_type": "display_data"
    },
    {
     "data": {
      "text/plain": [
       "<Result cmd='rm -f /home/jovyan/europe/30-01-1981.nc' exited=0>"
      ]
     },
     "metadata": {},
     "output_type": "display_data"
    },
    {
     "name": "stderr",
     "output_type": "stream",
     "text": [
      "2019-10-17 12:30:39,727 INFO Sending request to https://cds.climate.copernicus.eu/api/v2/resources/reanalysis-era5-single-levels\n",
      "2019-10-17 12:30:40,665 INFO Request is completed\n",
      "2019-10-17 12:30:40,666 INFO Downloading http://136.156.132.235/cache-compute-0006/cache/data9/adaptor.mars.internal-1571108218.674421-5627-9-6b326c2d-8347-4dcf-9365-a4681c8faf8f.nc to /home/jovyan/europe/31-01-1981.nc (380.2M)\n",
      "2019-10-17 12:30:55,332 INFO Download rate 25.9M/s \n"
     ]
    },
    {
     "data": {
      "text/plain": [
       "<Result cmd='fimex-1.3 -c extractEurope.cfg --input.file /home/jovyan/europe/31-01-1981.nc --output.file /home/jovyan/europe/europe_31-01-1981.nc' exited=0>"
      ]
     },
     "metadata": {},
     "output_type": "display_data"
    },
    {
     "data": {
      "text/plain": [
       "<Result cmd='rm -f /home/jovyan/europe/31-01-1981.nc' exited=0>"
      ]
     },
     "metadata": {},
     "output_type": "display_data"
    },
    {
     "name": "stderr",
     "output_type": "stream",
     "text": [
      "2019-10-17 12:30:55,611 INFO Sending request to https://cds.climate.copernicus.eu/api/v2/resources/reanalysis-era5-single-levels\n",
      "2019-10-17 12:30:55,783 INFO Request is completed\n",
      "2019-10-17 12:30:55,784 INFO Downloading http://136.156.132.110/cache-compute-0001/cache/data3/adaptor.mars.internal-1571108274.9210322-17107-5-cb545dce-db47-44d4-bb46-6ed5a7d951ba.nc to /home/jovyan/europe/01-02-1981.nc (380.2M)\n",
      "2019-10-17 12:31:09,598 INFO Download rate 27.5M/s \n"
     ]
    },
    {
     "data": {
      "text/plain": [
       "<Result cmd='fimex-1.3 -c extractEurope.cfg --input.file /home/jovyan/europe/01-02-1981.nc --output.file /home/jovyan/europe/europe_01-02-1981.nc' exited=0>"
      ]
     },
     "metadata": {},
     "output_type": "display_data"
    },
    {
     "data": {
      "text/plain": [
       "<Result cmd='rm -f /home/jovyan/europe/01-02-1981.nc' exited=0>"
      ]
     },
     "metadata": {},
     "output_type": "display_data"
    },
    {
     "name": "stderr",
     "output_type": "stream",
     "text": [
      "2019-10-17 12:31:09,877 INFO Sending request to https://cds.climate.copernicus.eu/api/v2/resources/reanalysis-era5-single-levels\n",
      "2019-10-17 12:31:10,392 INFO Request is completed\n",
      "2019-10-17 12:31:10,393 INFO Downloading http://136.156.133.46/cache-compute-0015/cache/data8/adaptor.mars.internal-1571108312.1452932-6653-5-2df0f6ef-f270-4466-980b-eb6320b83c17.nc to /home/jovyan/europe/02-02-1981.nc (380.2M)\n",
      "2019-10-17 12:31:22,007 INFO Download rate 32.8M/s \n"
     ]
    },
    {
     "data": {
      "text/plain": [
       "<Result cmd='fimex-1.3 -c extractEurope.cfg --input.file /home/jovyan/europe/02-02-1981.nc --output.file /home/jovyan/europe/europe_02-02-1981.nc' exited=0>"
      ]
     },
     "metadata": {},
     "output_type": "display_data"
    },
    {
     "data": {
      "text/plain": [
       "<Result cmd='rm -f /home/jovyan/europe/02-02-1981.nc' exited=0>"
      ]
     },
     "metadata": {},
     "output_type": "display_data"
    },
    {
     "name": "stderr",
     "output_type": "stream",
     "text": [
      "2019-10-17 12:31:22,280 INFO Sending request to https://cds.climate.copernicus.eu/api/v2/resources/reanalysis-era5-single-levels\n",
      "2019-10-17 12:31:22,503 INFO Request is completed\n",
      "2019-10-17 12:31:22,504 INFO Downloading http://136.156.132.236/cache-compute-0007/cache/data6/adaptor.mars.internal-1571279297.135647-8396-9-fede6023-95ac-4650-8c80-c7154bbd3149.nc to /home/jovyan/europe/03-02-1981.nc (380.2M)\n",
      "2019-10-17 12:31:36,346 INFO Download rate 27.5M/s \n"
     ]
    },
    {
     "data": {
      "text/plain": [
       "<Result cmd='fimex-1.3 -c extractEurope.cfg --input.file /home/jovyan/europe/03-02-1981.nc --output.file /home/jovyan/europe/europe_03-02-1981.nc' exited=0>"
      ]
     },
     "metadata": {},
     "output_type": "display_data"
    },
    {
     "data": {
      "text/plain": [
       "<Result cmd='rm -f /home/jovyan/europe/03-02-1981.nc' exited=0>"
      ]
     },
     "metadata": {},
     "output_type": "display_data"
    },
    {
     "name": "stderr",
     "output_type": "stream",
     "text": [
      "2019-10-17 12:31:36,676 INFO Sending request to https://cds.climate.copernicus.eu/api/v2/resources/reanalysis-era5-single-levels\n",
      "2019-10-17 12:31:37,528 INFO Request is completed\n",
      "2019-10-17 12:31:37,529 INFO Downloading http://136.156.132.235/cache-compute-0006/cache/data9/adaptor.mars.internal-1571279325.4162753-20125-9-92189a95-fe2e-4a28-9724-8dfb5d7ab157.nc to /home/jovyan/europe/04-02-1981.nc (380.2M)\n",
      "2019-10-17 12:31:49,618 INFO Download rate 31.5M/s \n"
     ]
    },
    {
     "data": {
      "text/plain": [
       "<Result cmd='fimex-1.3 -c extractEurope.cfg --input.file /home/jovyan/europe/04-02-1981.nc --output.file /home/jovyan/europe/europe_04-02-1981.nc' exited=0>"
      ]
     },
     "metadata": {},
     "output_type": "display_data"
    },
    {
     "data": {
      "text/plain": [
       "<Result cmd='rm -f /home/jovyan/europe/04-02-1981.nc' exited=0>"
      ]
     },
     "metadata": {},
     "output_type": "display_data"
    },
    {
     "name": "stderr",
     "output_type": "stream",
     "text": [
      "2019-10-17 12:31:49,909 INFO Sending request to https://cds.climate.copernicus.eu/api/v2/resources/reanalysis-era5-single-levels\n",
      "2019-10-17 12:31:50,755 INFO Request is completed\n",
      "2019-10-17 12:31:50,756 INFO Downloading http://136.156.133.41/cache-compute-0013/cache/data6/adaptor.mars.internal-1571279366.4165545-17808-9-5a70badc-ea0f-409a-9567-ce2d50983e62.nc to /home/jovyan/europe/05-02-1981.nc (380.2M)\n",
      "2019-10-17 12:32:05,922 INFO Download rate 25.1M/s \n"
     ]
    },
    {
     "data": {
      "text/plain": [
       "<Result cmd='fimex-1.3 -c extractEurope.cfg --input.file /home/jovyan/europe/05-02-1981.nc --output.file /home/jovyan/europe/europe_05-02-1981.nc' exited=0>"
      ]
     },
     "metadata": {},
     "output_type": "display_data"
    },
    {
     "data": {
      "text/plain": [
       "<Result cmd='rm -f /home/jovyan/europe/05-02-1981.nc' exited=0>"
      ]
     },
     "metadata": {},
     "output_type": "display_data"
    },
    {
     "name": "stderr",
     "output_type": "stream",
     "text": [
      "2019-10-17 12:32:06,422 INFO Sending request to https://cds.climate.copernicus.eu/api/v2/resources/reanalysis-era5-single-levels\n",
      "2019-10-17 12:32:06,746 INFO Request is completed\n",
      "2019-10-17 12:32:06,747 INFO Downloading http://136.156.132.201/cache-compute-0004/cache/data9/adaptor.mars.internal-1571279399.6287854-7597-15-adf915c9-6e50-4566-8c31-1f37af6f7e2e.nc to /home/jovyan/europe/06-02-1981.nc (380.2M)\n",
      "2019-10-17 12:32:22,200 INFO Download rate 24.6M/s \n"
     ]
    },
    {
     "data": {
      "text/plain": [
       "<Result cmd='fimex-1.3 -c extractEurope.cfg --input.file /home/jovyan/europe/06-02-1981.nc --output.file /home/jovyan/europe/europe_06-02-1981.nc' exited=0>"
      ]
     },
     "metadata": {},
     "output_type": "display_data"
    },
    {
     "data": {
      "text/plain": [
       "<Result cmd='rm -f /home/jovyan/europe/06-02-1981.nc' exited=0>"
      ]
     },
     "metadata": {},
     "output_type": "display_data"
    },
    {
     "name": "stderr",
     "output_type": "stream",
     "text": [
      "2019-10-17 12:32:22,740 INFO Sending request to https://cds.climate.copernicus.eu/api/v2/resources/reanalysis-era5-single-levels\n",
      "2019-10-17 12:32:23,474 INFO Request is completed\n",
      "2019-10-17 12:32:23,478 INFO Downloading http://136.156.132.198/cache-compute-0003/cache/data6/adaptor.mars.internal-1571279432.779569-29030-21-a8f040e3-e607-4c13-8f7d-70fc6aa30bbf.nc to /home/jovyan/europe/07-02-1981.nc (380.2M)\n",
      "2019-10-17 12:32:35,265 INFO Download rate 32.3M/s \n"
     ]
    },
    {
     "data": {
      "text/plain": [
       "<Result cmd='fimex-1.3 -c extractEurope.cfg --input.file /home/jovyan/europe/07-02-1981.nc --output.file /home/jovyan/europe/europe_07-02-1981.nc' exited=0>"
      ]
     },
     "metadata": {},
     "output_type": "display_data"
    },
    {
     "data": {
      "text/plain": [
       "<Result cmd='rm -f /home/jovyan/europe/07-02-1981.nc' exited=0>"
      ]
     },
     "metadata": {},
     "output_type": "display_data"
    },
    {
     "name": "stderr",
     "output_type": "stream",
     "text": [
      "2019-10-17 12:32:35,542 INFO Sending request to https://cds.climate.copernicus.eu/api/v2/resources/reanalysis-era5-single-levels\n",
      "2019-10-17 12:32:36,413 INFO Request is completed\n",
      "2019-10-17 12:32:36,414 INFO Downloading http://136.156.132.201/cache-compute-0004/cache/data4/adaptor.mars.internal-1571279498.09189-8439-13-f7631c97-5322-4ab2-b69d-63de338fa165.nc to /home/jovyan/europe/08-02-1981.nc (380.2M)\n",
      "2019-10-17 12:32:51,164 INFO Download rate 25.8M/s \n"
     ]
    },
    {
     "data": {
      "text/plain": [
       "<Result cmd='fimex-1.3 -c extractEurope.cfg --input.file /home/jovyan/europe/08-02-1981.nc --output.file /home/jovyan/europe/europe_08-02-1981.nc' exited=0>"
      ]
     },
     "metadata": {},
     "output_type": "display_data"
    },
    {
     "data": {
      "text/plain": [
       "<Result cmd='rm -f /home/jovyan/europe/08-02-1981.nc' exited=0>"
      ]
     },
     "metadata": {},
     "output_type": "display_data"
    },
    {
     "name": "stderr",
     "output_type": "stream",
     "text": [
      "2019-10-17 12:32:51,482 INFO Sending request to https://cds.climate.copernicus.eu/api/v2/resources/reanalysis-era5-single-levels\n",
      "2019-10-17 12:32:52,269 INFO Request is queued\n",
      "2019-10-17 12:32:53,297 INFO Request is running\n",
      "2019-10-17 12:33:13,215 INFO Request is completed\n",
      "2019-10-17 12:33:13,216 INFO Downloading http://136.156.133.46/cache-compute-0015/cache/data4/adaptor.mars.internal-1571315572.6499758-25121-1-05ef5346-00c0-41c6-ae1e-904ebdcda7d1.nc to /home/jovyan/europe/09-02-1981.nc (380.2M)\n",
      "2019-10-17 12:33:30,202 INFO Download rate 22.4M/s \n"
     ]
    },
    {
     "data": {
      "text/plain": [
       "<Result cmd='fimex-1.3 -c extractEurope.cfg --input.file /home/jovyan/europe/09-02-1981.nc --output.file /home/jovyan/europe/europe_09-02-1981.nc' exited=0>"
      ]
     },
     "metadata": {},
     "output_type": "display_data"
    },
    {
     "data": {
      "text/plain": [
       "<Result cmd='rm -f /home/jovyan/europe/09-02-1981.nc' exited=0>"
      ]
     },
     "metadata": {},
     "output_type": "display_data"
    },
    {
     "name": "stderr",
     "output_type": "stream",
     "text": [
      "2019-10-17 12:33:30,532 INFO Sending request to https://cds.climate.copernicus.eu/api/v2/resources/reanalysis-era5-single-levels\n",
      "2019-10-17 12:33:30,850 INFO Request is queued\n",
      "2019-10-17 12:33:31,875 INFO Request is running\n",
      "2019-10-17 12:33:51,785 INFO Request is completed\n",
      "2019-10-17 12:33:51,786 INFO Downloading http://136.156.132.201/cache-compute-0004/cache/data7/adaptor.mars.internal-1571315611.547418-13585-1-9f556aa7-dd9a-4913-ae4e-4ed61a054944.nc to /home/jovyan/europe/10-02-1981.nc (380.2M)\n",
      "2019-10-17 12:34:12,131 INFO Download rate 18.7M/s \n"
     ]
    },
    {
     "data": {
      "text/plain": [
       "<Result cmd='fimex-1.3 -c extractEurope.cfg --input.file /home/jovyan/europe/10-02-1981.nc --output.file /home/jovyan/europe/europe_10-02-1981.nc' exited=0>"
      ]
     },
     "metadata": {},
     "output_type": "display_data"
    },
    {
     "data": {
      "text/plain": [
       "<Result cmd='rm -f /home/jovyan/europe/10-02-1981.nc' exited=0>"
      ]
     },
     "metadata": {},
     "output_type": "display_data"
    },
    {
     "name": "stderr",
     "output_type": "stream",
     "text": [
      "2019-10-17 12:34:15,406 INFO Sending request to https://cds.climate.copernicus.eu/api/v2/resources/reanalysis-era5-single-levels\n",
      "2019-10-17 12:34:16,095 INFO Request is completed\n",
      "2019-10-17 12:34:16,096 INFO Downloading http://136.156.132.235/cache-compute-0006/cache/data6/adaptor.mars.internal-1571108656.4725862-26029-15-e261161c-580b-4990-ba36-6a22d1e0dc52.nc to /home/jovyan/europe/11-02-1981.nc (380.2M)\n",
      "2019-10-17 12:34:38,853 INFO Download rate 16.7M/s \n"
     ]
    },
    {
     "data": {
      "text/plain": [
       "<Result cmd='fimex-1.3 -c extractEurope.cfg --input.file /home/jovyan/europe/11-02-1981.nc --output.file /home/jovyan/europe/europe_11-02-1981.nc' exited=0>"
      ]
     },
     "metadata": {},
     "output_type": "display_data"
    },
    {
     "data": {
      "text/plain": [
       "<Result cmd='rm -f /home/jovyan/europe/11-02-1981.nc' exited=0>"
      ]
     },
     "metadata": {},
     "output_type": "display_data"
    },
    {
     "name": "stderr",
     "output_type": "stream",
     "text": [
      "2019-10-17 12:34:40,883 INFO Sending request to https://cds.climate.copernicus.eu/api/v2/resources/reanalysis-era5-single-levels\n",
      "2019-10-17 12:34:41,509 INFO Request is completed\n",
      "2019-10-17 12:34:41,514 INFO Downloading http://136.156.133.32/cache-compute-0009/cache/data5/adaptor.mars.internal-1571279564.9882326-6412-5-9aa90d66-6705-420b-8f51-25cef100b9b0.nc to /home/jovyan/europe/12-02-1981.nc (380.2M)\n",
      "2019-10-17 12:34:55,967 INFO Download rate 26.3M/s \n"
     ]
    },
    {
     "data": {
      "text/plain": [
       "<Result cmd='fimex-1.3 -c extractEurope.cfg --input.file /home/jovyan/europe/12-02-1981.nc --output.file /home/jovyan/europe/europe_12-02-1981.nc' exited=0>"
      ]
     },
     "metadata": {},
     "output_type": "display_data"
    },
    {
     "data": {
      "text/plain": [
       "<Result cmd='rm -f /home/jovyan/europe/12-02-1981.nc' exited=0>"
      ]
     },
     "metadata": {},
     "output_type": "display_data"
    },
    {
     "name": "stderr",
     "output_type": "stream",
     "text": [
      "2019-10-17 12:34:56,394 INFO Sending request to https://cds.climate.copernicus.eu/api/v2/resources/reanalysis-era5-single-levels\n",
      "2019-10-17 12:34:56,647 INFO Request is completed\n",
      "2019-10-17 12:34:56,648 INFO Downloading http://136.156.133.32/cache-compute-0009/cache/data4/adaptor.mars.internal-1571279605.6835384-4201-19-12a11edd-1157-4fbd-a07d-90ec966cf99d.nc to /home/jovyan/europe/13-02-1981.nc (380.2M)\n",
      "2019-10-17 12:35:13,963 INFO Download rate 22M/s   \n"
     ]
    },
    {
     "data": {
      "text/plain": [
       "<Result cmd='fimex-1.3 -c extractEurope.cfg --input.file /home/jovyan/europe/13-02-1981.nc --output.file /home/jovyan/europe/europe_13-02-1981.nc' exited=0>"
      ]
     },
     "metadata": {},
     "output_type": "display_data"
    },
    {
     "data": {
      "text/plain": [
       "<Result cmd='rm -f /home/jovyan/europe/13-02-1981.nc' exited=0>"
      ]
     },
     "metadata": {},
     "output_type": "display_data"
    },
    {
     "name": "stderr",
     "output_type": "stream",
     "text": [
      "2019-10-17 12:35:14,259 INFO Sending request to https://cds.climate.copernicus.eu/api/v2/resources/reanalysis-era5-single-levels\n",
      "2019-10-17 12:35:15,399 INFO Request is completed\n",
      "2019-10-17 12:35:15,400 INFO Downloading http://136.156.133.39/cache-compute-0012/cache/data9/adaptor.mars.internal-1571279638.767434-20445-5-b11d5bb0-6cd4-4d61-928f-d3471e9c2f8a.nc to /home/jovyan/europe/14-02-1981.nc (380.2M)\n",
      "2019-10-17 12:35:34,129 INFO Download rate 20.3M/s \n"
     ]
    },
    {
     "data": {
      "text/plain": [
       "<Result cmd='fimex-1.3 -c extractEurope.cfg --input.file /home/jovyan/europe/14-02-1981.nc --output.file /home/jovyan/europe/europe_14-02-1981.nc' exited=0>"
      ]
     },
     "metadata": {},
     "output_type": "display_data"
    },
    {
     "data": {
      "text/plain": [
       "<Result cmd='rm -f /home/jovyan/europe/14-02-1981.nc' exited=0>"
      ]
     },
     "metadata": {},
     "output_type": "display_data"
    },
    {
     "name": "stderr",
     "output_type": "stream",
     "text": [
      "2019-10-17 12:35:34,540 INFO Sending request to https://cds.climate.copernicus.eu/api/v2/resources/reanalysis-era5-single-levels\n",
      "2019-10-17 12:35:34,865 INFO Request is completed\n",
      "2019-10-17 12:35:34,866 INFO Downloading http://136.156.133.36/cache-compute-0010/cache/data9/adaptor.mars.internal-1571108845.1967952-7177-9-05743b6e-acfe-456a-9e60-8eaf8df3bd72.nc to /home/jovyan/europe/15-02-1981.nc (380.2M)\n",
      "2019-10-17 12:35:47,138 INFO Download rate 31M/s   \n"
     ]
    },
    {
     "data": {
      "text/plain": [
       "<Result cmd='fimex-1.3 -c extractEurope.cfg --input.file /home/jovyan/europe/15-02-1981.nc --output.file /home/jovyan/europe/europe_15-02-1981.nc' exited=0>"
      ]
     },
     "metadata": {},
     "output_type": "display_data"
    },
    {
     "name": "stderr",
     "output_type": "stream",
     "text": [
      "2019-10-17 12:35:47,838 INFO Sending request to https://cds.climate.copernicus.eu/api/v2/resources/reanalysis-era5-single-levels\n",
      "2019-10-17 12:35:48,055 INFO Request is completed\n",
      "2019-10-17 12:35:48,057 INFO Downloading http://136.156.133.36/cache-compute-0010/cache/data9/adaptor.mars.internal-1571108845.1967952-7177-9-05743b6e-acfe-456a-9e60-8eaf8df3bd72.nc to /home/jovyan/europe/15-02-1981.nc (380.2M)\n",
      "2019-10-17 12:35:58,307 INFO Download rate 37.1M/s \n"
     ]
    },
    {
     "data": {
      "text/plain": [
       "<Result cmd='rm -f /home/jovyan/europe/15-02-1981.nc' exited=0>"
      ]
     },
     "metadata": {},
     "output_type": "display_data"
    },
    {
     "name": "stderr",
     "output_type": "stream",
     "text": [
      "2019-10-17 12:35:58,570 INFO Sending request to https://cds.climate.copernicus.eu/api/v2/resources/reanalysis-era5-single-levels\n",
      "2019-10-17 12:35:59,840 INFO Request is completed\n",
      "2019-10-17 12:35:59,841 INFO Downloading http://136.156.132.198/cache-compute-0003/cache/data8/adaptor.mars.internal-1571279682.6120923-469-17-7655327d-a5c6-4108-9d78-e2c444b5f9f5.nc to /home/jovyan/europe/16-02-1981.nc (380.2M)\n",
      "2019-10-17 12:36:15,520 INFO Download rate 24.3M/s \n"
     ]
    },
    {
     "data": {
      "text/plain": [
       "<Result cmd='fimex-1.3 -c extractEurope.cfg --input.file /home/jovyan/europe/16-02-1981.nc --output.file /home/jovyan/europe/europe_16-02-1981.nc' exited=0>"
      ]
     },
     "metadata": {},
     "output_type": "display_data"
    },
    {
     "data": {
      "text/plain": [
       "<Result cmd='rm -f /home/jovyan/europe/16-02-1981.nc' exited=0>"
      ]
     },
     "metadata": {},
     "output_type": "display_data"
    },
    {
     "name": "stderr",
     "output_type": "stream",
     "text": [
      "2019-10-17 12:36:15,815 INFO Sending request to https://cds.climate.copernicus.eu/api/v2/resources/reanalysis-era5-single-levels\n",
      "2019-10-17 12:36:15,959 INFO Request is completed\n",
      "2019-10-17 12:36:15,960 INFO Downloading http://136.156.133.46/cache-compute-0015/cache/data6/adaptor.mars.internal-1571279720.9928982-22488-3-8055a02e-f6f4-49da-9b52-b9d716985ce9.nc to /home/jovyan/europe/17-02-1981.nc (380.2M)\n",
      "2019-10-17 12:36:24,610 INFO Download rate 44M/s   \n"
     ]
    },
    {
     "data": {
      "text/plain": [
       "<Result cmd='fimex-1.3 -c extractEurope.cfg --input.file /home/jovyan/europe/17-02-1981.nc --output.file /home/jovyan/europe/europe_17-02-1981.nc' exited=0>"
      ]
     },
     "metadata": {},
     "output_type": "display_data"
    },
    {
     "data": {
      "text/plain": [
       "<Result cmd='rm -f /home/jovyan/europe/17-02-1981.nc' exited=0>"
      ]
     },
     "metadata": {},
     "output_type": "display_data"
    },
    {
     "name": "stderr",
     "output_type": "stream",
     "text": [
      "2019-10-17 12:36:25,090 INFO Sending request to https://cds.climate.copernicus.eu/api/v2/resources/reanalysis-era5-single-levels\n",
      "2019-10-17 12:36:25,839 INFO Request is completed\n",
      "2019-10-17 12:36:25,840 INFO Downloading http://136.156.133.39/cache-compute-0012/cache/data8/adaptor.mars.internal-1571279752.4485521-20014-9-fb7033cc-9c3d-44d5-98c1-7fdcca905e3d.nc to /home/jovyan/europe/18-02-1981.nc (380.2M)\n",
      "2019-10-17 12:36:41,709 INFO Download rate 24M/s   \n"
     ]
    },
    {
     "data": {
      "text/plain": [
       "<Result cmd='fimex-1.3 -c extractEurope.cfg --input.file /home/jovyan/europe/18-02-1981.nc --output.file /home/jovyan/europe/europe_18-02-1981.nc' exited=0>"
      ]
     },
     "metadata": {},
     "output_type": "display_data"
    },
    {
     "data": {
      "text/plain": [
       "<Result cmd='rm -f /home/jovyan/europe/18-02-1981.nc' exited=0>"
      ]
     },
     "metadata": {},
     "output_type": "display_data"
    },
    {
     "name": "stderr",
     "output_type": "stream",
     "text": [
      "2019-10-17 12:36:41,996 INFO Sending request to https://cds.climate.copernicus.eu/api/v2/resources/reanalysis-era5-single-levels\n",
      "2019-10-17 12:36:42,313 INFO Request is completed\n",
      "2019-10-17 12:36:42,317 INFO Downloading http://136.156.133.25/cache-compute-0008/cache/data9/adaptor.mars.internal-1571279780.123544-7145-9-df1bf2e4-bd9c-4509-a237-e5d16a332e30.nc to /home/jovyan/europe/19-02-1981.nc (380.2M)\n",
      "2019-10-17 12:36:55,639 INFO Download rate 28.5M/s \n"
     ]
    },
    {
     "data": {
      "text/plain": [
       "<Result cmd='fimex-1.3 -c extractEurope.cfg --input.file /home/jovyan/europe/19-02-1981.nc --output.file /home/jovyan/europe/europe_19-02-1981.nc' exited=0>"
      ]
     },
     "metadata": {},
     "output_type": "display_data"
    },
    {
     "data": {
      "text/plain": [
       "<Result cmd='rm -f /home/jovyan/europe/19-02-1981.nc' exited=0>"
      ]
     },
     "metadata": {},
     "output_type": "display_data"
    },
    {
     "name": "stderr",
     "output_type": "stream",
     "text": [
      "2019-10-17 12:36:55,901 INFO Sending request to https://cds.climate.copernicus.eu/api/v2/resources/reanalysis-era5-single-levels\n",
      "2019-10-17 12:36:56,445 INFO Request is completed\n",
      "2019-10-17 12:36:56,446 INFO Downloading http://136.156.133.36/cache-compute-0010/cache/data5/adaptor.mars.internal-1571279811.2351713-18879-15-fd00d7b7-9261-4d45-82e5-f3a8dad90dcb.nc to /home/jovyan/europe/20-02-1981.nc (380.2M)\n",
      "2019-10-17 12:37:12,391 INFO Download rate 23.8M/s \n"
     ]
    },
    {
     "data": {
      "text/plain": [
       "<Result cmd='fimex-1.3 -c extractEurope.cfg --input.file /home/jovyan/europe/20-02-1981.nc --output.file /home/jovyan/europe/europe_20-02-1981.nc' exited=0>"
      ]
     },
     "metadata": {},
     "output_type": "display_data"
    },
    {
     "data": {
      "text/plain": [
       "<Result cmd='rm -f /home/jovyan/europe/20-02-1981.nc' exited=0>"
      ]
     },
     "metadata": {},
     "output_type": "display_data"
    },
    {
     "name": "stderr",
     "output_type": "stream",
     "text": [
      "2019-10-17 12:37:12,784 INFO Sending request to https://cds.climate.copernicus.eu/api/v2/resources/reanalysis-era5-single-levels\n",
      "2019-10-17 12:37:12,969 INFO Request is completed\n",
      "2019-10-17 12:37:12,970 INFO Downloading http://136.156.133.46/cache-compute-0015/cache/data3/adaptor.mars.internal-1571109094.4140782-24251-13-7018b12a-2882-44cd-839a-74a73f501e3c.nc to /home/jovyan/europe/21-02-1981.nc (380.2M)\n",
      "2019-10-17 12:37:27,217 INFO Download rate 26.7M/s \n"
     ]
    },
    {
     "data": {
      "text/plain": [
       "<Result cmd='fimex-1.3 -c extractEurope.cfg --input.file /home/jovyan/europe/21-02-1981.nc --output.file /home/jovyan/europe/europe_21-02-1981.nc' exited=0>"
      ]
     },
     "metadata": {},
     "output_type": "display_data"
    },
    {
     "data": {
      "text/plain": [
       "<Result cmd='rm -f /home/jovyan/europe/21-02-1981.nc' exited=0>"
      ]
     },
     "metadata": {},
     "output_type": "display_data"
    },
    {
     "name": "stderr",
     "output_type": "stream",
     "text": [
      "2019-10-17 12:37:27,630 INFO Sending request to https://cds.climate.copernicus.eu/api/v2/resources/reanalysis-era5-single-levels\n",
      "2019-10-17 12:37:28,050 INFO Request is completed\n",
      "2019-10-17 12:37:28,051 INFO Downloading http://136.156.133.42/cache-compute-0014/cache/data6/adaptor.mars.internal-1571279856.9886436-2824-17-9e682fb4-cb36-41d6-9c84-c6ba24b8ab57.nc to /home/jovyan/europe/22-02-1981.nc (380.2M)\n",
      "2019-10-17 12:37:49,719 INFO Download rate 17.5M/s \n"
     ]
    },
    {
     "data": {
      "text/plain": [
       "<Result cmd='fimex-1.3 -c extractEurope.cfg --input.file /home/jovyan/europe/22-02-1981.nc --output.file /home/jovyan/europe/europe_22-02-1981.nc' exited=0>"
      ]
     },
     "metadata": {},
     "output_type": "display_data"
    },
    {
     "data": {
      "text/plain": [
       "<Result cmd='rm -f /home/jovyan/europe/22-02-1981.nc' exited=0>"
      ]
     },
     "metadata": {},
     "output_type": "display_data"
    },
    {
     "name": "stderr",
     "output_type": "stream",
     "text": [
      "2019-10-17 12:37:50,285 INFO Sending request to https://cds.climate.copernicus.eu/api/v2/resources/reanalysis-era5-single-levels\n",
      "2019-10-17 12:37:50,702 INFO Request is completed\n",
      "2019-10-17 12:37:50,705 INFO Downloading http://136.156.132.210/cache-compute-0005/cache/data0/adaptor.mars.internal-1571279903.4728386-15212-13-4ab7027c-f79d-4d72-9866-242c5888362a.nc to /home/jovyan/europe/23-02-1981.nc (380.2M)\n",
      "2019-10-17 12:38:02,948 INFO Download rate 31.1M/s \n"
     ]
    },
    {
     "data": {
      "text/plain": [
       "<Result cmd='fimex-1.3 -c extractEurope.cfg --input.file /home/jovyan/europe/23-02-1981.nc --output.file /home/jovyan/europe/europe_23-02-1981.nc' exited=0>"
      ]
     },
     "metadata": {},
     "output_type": "display_data"
    },
    {
     "data": {
      "text/plain": [
       "<Result cmd='rm -f /home/jovyan/europe/23-02-1981.nc' exited=0>"
      ]
     },
     "metadata": {},
     "output_type": "display_data"
    },
    {
     "name": "stderr",
     "output_type": "stream",
     "text": [
      "2019-10-17 12:38:03,276 INFO Sending request to https://cds.climate.copernicus.eu/api/v2/resources/reanalysis-era5-single-levels\n",
      "2019-10-17 12:38:03,451 INFO Request is completed\n",
      "2019-10-17 12:38:03,452 INFO Downloading http://136.156.133.25/cache-compute-0008/cache/data3/adaptor.mars.internal-1571279938.5508087-13288-1-316099a0-2373-412f-bb68-a0f5c406b788.nc to /home/jovyan/europe/24-02-1981.nc (380.2M)\n",
      "2019-10-17 12:38:18,174 INFO Download rate 25.8M/s \n"
     ]
    },
    {
     "data": {
      "text/plain": [
       "<Result cmd='fimex-1.3 -c extractEurope.cfg --input.file /home/jovyan/europe/24-02-1981.nc --output.file /home/jovyan/europe/europe_24-02-1981.nc' exited=0>"
      ]
     },
     "metadata": {},
     "output_type": "display_data"
    },
    {
     "data": {
      "text/plain": [
       "<Result cmd='rm -f /home/jovyan/europe/24-02-1981.nc' exited=0>"
      ]
     },
     "metadata": {},
     "output_type": "display_data"
    },
    {
     "name": "stderr",
     "output_type": "stream",
     "text": [
      "2019-10-17 12:38:18,572 INFO Sending request to https://cds.climate.copernicus.eu/api/v2/resources/reanalysis-era5-single-levels\n",
      "2019-10-17 12:38:18,700 INFO Request is completed\n",
      "2019-10-17 12:38:18,702 INFO Downloading http://136.156.133.32/cache-compute-0009/cache/data0/adaptor.mars.internal-1571279972.9499145-10551-7-c0b4435f-74a4-4e3c-b024-c4fcc6966cb1.nc to /home/jovyan/europe/25-02-1981.nc (380.2M)\n",
      "2019-10-17 12:38:25,260 INFO Download rate 58M/s   \n"
     ]
    },
    {
     "data": {
      "text/plain": [
       "<Result cmd='fimex-1.3 -c extractEurope.cfg --input.file /home/jovyan/europe/25-02-1981.nc --output.file /home/jovyan/europe/europe_25-02-1981.nc' exited=0>"
      ]
     },
     "metadata": {},
     "output_type": "display_data"
    },
    {
     "data": {
      "text/plain": [
       "<Result cmd='rm -f /home/jovyan/europe/25-02-1981.nc' exited=0>"
      ]
     },
     "metadata": {},
     "output_type": "display_data"
    },
    {
     "name": "stderr",
     "output_type": "stream",
     "text": [
      "2019-10-17 12:38:25,613 INFO Sending request to https://cds.climate.copernicus.eu/api/v2/resources/reanalysis-era5-single-levels\n",
      "2019-10-17 12:38:26,133 INFO Request is completed\n",
      "2019-10-17 12:38:26,136 INFO Downloading http://136.156.132.110/cache-compute-0001/cache/data3/adaptor.mars.internal-1571280011.4378889-12728-17-e93bc142-81eb-49d2-9a16-f7306564321b.nc to /home/jovyan/europe/26-02-1981.nc (380.2M)\n",
      "2019-10-17 12:38:41,664 INFO Download rate 24.5M/s \n"
     ]
    },
    {
     "data": {
      "text/plain": [
       "<Result cmd='fimex-1.3 -c extractEurope.cfg --input.file /home/jovyan/europe/26-02-1981.nc --output.file /home/jovyan/europe/europe_26-02-1981.nc' exited=0>"
      ]
     },
     "metadata": {},
     "output_type": "display_data"
    },
    {
     "data": {
      "text/plain": [
       "<Result cmd='rm -f /home/jovyan/europe/26-02-1981.nc' exited=0>"
      ]
     },
     "metadata": {},
     "output_type": "display_data"
    },
    {
     "name": "stderr",
     "output_type": "stream",
     "text": [
      "2019-10-17 12:38:42,039 INFO Sending request to https://cds.climate.copernicus.eu/api/v2/resources/reanalysis-era5-single-levels\n",
      "2019-10-17 12:38:42,393 INFO Request is completed\n",
      "2019-10-17 12:38:42,394 INFO Downloading http://136.156.132.198/cache-compute-0003/cache/data8/adaptor.mars.internal-1571280048.0067406-6326-7-b09f9be8-474b-4e44-9bd7-81251d19cc19.nc to /home/jovyan/europe/27-02-1981.nc (380.2M)\n",
      "2019-10-17 12:38:54,825 INFO Download rate 30.6M/s \n"
     ]
    },
    {
     "data": {
      "text/plain": [
       "<Result cmd='fimex-1.3 -c extractEurope.cfg --input.file /home/jovyan/europe/27-02-1981.nc --output.file /home/jovyan/europe/europe_27-02-1981.nc' exited=0>"
      ]
     },
     "metadata": {},
     "output_type": "display_data"
    },
    {
     "data": {
      "text/plain": [
       "<Result cmd='rm -f /home/jovyan/europe/27-02-1981.nc' exited=0>"
      ]
     },
     "metadata": {},
     "output_type": "display_data"
    },
    {
     "name": "stderr",
     "output_type": "stream",
     "text": [
      "2019-10-17 12:38:55,235 INFO Sending request to https://cds.climate.copernicus.eu/api/v2/resources/reanalysis-era5-single-levels\n",
      "2019-10-17 12:38:56,131 INFO Request is completed\n",
      "2019-10-17 12:38:56,132 INFO Downloading http://136.156.132.105/cache-compute-0000/cache/data9/adaptor.mars.internal-1571280080.623906-20563-13-5feb90f7-2f44-4022-ab42-1db4aeb74678.nc to /home/jovyan/europe/28-02-1981.nc (380.2M)\n",
      "2019-10-17 12:39:13,497 INFO Download rate 21.9M/s \n"
     ]
    },
    {
     "data": {
      "text/plain": [
       "<Result cmd='fimex-1.3 -c extractEurope.cfg --input.file /home/jovyan/europe/28-02-1981.nc --output.file /home/jovyan/europe/europe_28-02-1981.nc' exited=0>"
      ]
     },
     "metadata": {},
     "output_type": "display_data"
    },
    {
     "data": {
      "text/plain": [
       "<Result cmd='rm -f /home/jovyan/europe/28-02-1981.nc' exited=0>"
      ]
     },
     "metadata": {},
     "output_type": "display_data"
    },
    {
     "name": "stderr",
     "output_type": "stream",
     "text": [
      "2019-10-17 12:39:13,872 INFO Sending request to https://cds.climate.copernicus.eu/api/v2/resources/reanalysis-era5-single-levels\n",
      "2019-10-17 12:39:14,481 INFO Request is completed\n",
      "2019-10-17 12:39:14,482 INFO Downloading http://136.156.133.36/cache-compute-0010/cache/data1/adaptor.mars.internal-1571109397.637999-12523-3-9f322a8b-cb61-40ed-af11-d964c6b8839b.nc to /home/jovyan/europe/01-03-1981.nc (380.2M)\n",
      "2019-10-17 12:39:25,177 INFO Download rate 35.6M/s \n"
     ]
    },
    {
     "data": {
      "text/plain": [
       "<Result cmd='fimex-1.3 -c extractEurope.cfg --input.file /home/jovyan/europe/01-03-1981.nc --output.file /home/jovyan/europe/europe_01-03-1981.nc' exited=0>"
      ]
     },
     "metadata": {},
     "output_type": "display_data"
    },
    {
     "data": {
      "text/plain": [
       "<Result cmd='rm -f /home/jovyan/europe/01-03-1981.nc' exited=0>"
      ]
     },
     "metadata": {},
     "output_type": "display_data"
    },
    {
     "name": "stderr",
     "output_type": "stream",
     "text": [
      "2019-10-17 12:39:25,493 INFO Sending request to https://cds.climate.copernicus.eu/api/v2/resources/reanalysis-era5-single-levels\n",
      "2019-10-17 12:39:25,941 INFO Request is completed\n",
      "2019-10-17 12:39:25,942 INFO Downloading http://136.156.132.105/cache-compute-0000/cache/data5/adaptor.mars.internal-1571280133.7418132-22347-3-75729dd9-d575-4e1c-a104-6d502420be5a.nc to /home/jovyan/europe/02-03-1981.nc (380.2M)\n",
      "2019-10-17 12:39:43,715 INFO Download rate 21.4M/s \n"
     ]
    },
    {
     "data": {
      "text/plain": [
       "<Result cmd='fimex-1.3 -c extractEurope.cfg --input.file /home/jovyan/europe/02-03-1981.nc --output.file /home/jovyan/europe/europe_02-03-1981.nc' exited=0>"
      ]
     },
     "metadata": {},
     "output_type": "display_data"
    },
    {
     "data": {
      "text/plain": [
       "<Result cmd='rm -f /home/jovyan/europe/02-03-1981.nc' exited=0>"
      ]
     },
     "metadata": {},
     "output_type": "display_data"
    },
    {
     "name": "stderr",
     "output_type": "stream",
     "text": [
      "2019-10-17 12:39:43,998 INFO Sending request to https://cds.climate.copernicus.eu/api/v2/resources/reanalysis-era5-single-levels\n",
      "2019-10-17 12:39:44,188 INFO Request is completed\n",
      "2019-10-17 12:39:44,190 INFO Downloading http://136.156.133.46/cache-compute-0015/cache/data6/adaptor.mars.internal-1571280202.5772398-23879-9-c105e9ab-5142-412e-936e-2bfef5e5576a.nc to /home/jovyan/europe/03-03-1981.nc (380.2M)\n",
      "2019-10-17 12:39:57,198 INFO Download rate 29.2M/s \n"
     ]
    },
    {
     "data": {
      "text/plain": [
       "<Result cmd='fimex-1.3 -c extractEurope.cfg --input.file /home/jovyan/europe/03-03-1981.nc --output.file /home/jovyan/europe/europe_03-03-1981.nc' exited=0>"
      ]
     },
     "metadata": {},
     "output_type": "display_data"
    },
    {
     "data": {
      "text/plain": [
       "<Result cmd='rm -f /home/jovyan/europe/03-03-1981.nc' exited=0>"
      ]
     },
     "metadata": {},
     "output_type": "display_data"
    },
    {
     "name": "stderr",
     "output_type": "stream",
     "text": [
      "2019-10-17 12:39:57,504 INFO Sending request to https://cds.climate.copernicus.eu/api/v2/resources/reanalysis-era5-single-levels\n",
      "2019-10-17 12:39:58,154 INFO Request is completed\n",
      "2019-10-17 12:39:58,155 INFO Downloading http://136.156.133.42/cache-compute-0014/cache/data5/adaptor.mars.internal-1571109533.4484866-29844-9-dd166ba6-c51a-40a9-aa6a-42ce1c919924.nc to /home/jovyan/europe/04-03-1981.nc (380.2M)\n",
      "2019-10-17 12:40:17,549 INFO Download rate 19.6M/s \n"
     ]
    },
    {
     "data": {
      "text/plain": [
       "<Result cmd='fimex-1.3 -c extractEurope.cfg --input.file /home/jovyan/europe/04-03-1981.nc --output.file /home/jovyan/europe/europe_04-03-1981.nc' exited=0>"
      ]
     },
     "metadata": {},
     "output_type": "display_data"
    },
    {
     "data": {
      "text/plain": [
       "<Result cmd='rm -f /home/jovyan/europe/04-03-1981.nc' exited=0>"
      ]
     },
     "metadata": {},
     "output_type": "display_data"
    },
    {
     "name": "stderr",
     "output_type": "stream",
     "text": [
      "2019-10-17 12:40:17,859 INFO Sending request to https://cds.climate.copernicus.eu/api/v2/resources/reanalysis-era5-single-levels\n",
      "2019-10-17 12:40:18,913 INFO Request is completed\n",
      "2019-10-17 12:40:18,914 INFO Downloading http://136.156.133.46/cache-compute-0015/cache/data1/adaptor.mars.internal-1571280342.4425776-19172-17-6844e68e-3602-4f6c-8184-8923dd297562.nc to /home/jovyan/europe/05-03-1981.nc (380.2M)\n",
      "2019-10-17 12:40:39,835 INFO Download rate 18.2M/s \n"
     ]
    },
    {
     "data": {
      "text/plain": [
       "<Result cmd='fimex-1.3 -c extractEurope.cfg --input.file /home/jovyan/europe/05-03-1981.nc --output.file /home/jovyan/europe/europe_05-03-1981.nc' exited=0>"
      ]
     },
     "metadata": {},
     "output_type": "display_data"
    },
    {
     "data": {
      "text/plain": [
       "<Result cmd='rm -f /home/jovyan/europe/05-03-1981.nc' exited=0>"
      ]
     },
     "metadata": {},
     "output_type": "display_data"
    },
    {
     "name": "stderr",
     "output_type": "stream",
     "text": [
      "2019-10-17 12:40:40,122 INFO Sending request to https://cds.climate.copernicus.eu/api/v2/resources/reanalysis-era5-single-levels\n",
      "2019-10-17 12:40:40,886 INFO Request is completed\n",
      "2019-10-17 12:40:40,887 INFO Downloading http://136.156.132.198/cache-compute-0003/cache/data0/adaptor.mars.internal-1571280371.743898-2253-15-c6f98d56-3685-4578-9807-959d6f3e05cb.nc to /home/jovyan/europe/06-03-1981.nc (380.2M)\n",
      "2019-10-17 12:40:53,029 INFO Download rate 31.3M/s \n"
     ]
    },
    {
     "data": {
      "text/plain": [
       "<Result cmd='fimex-1.3 -c extractEurope.cfg --input.file /home/jovyan/europe/06-03-1981.nc --output.file /home/jovyan/europe/europe_06-03-1981.nc' exited=0>"
      ]
     },
     "metadata": {},
     "output_type": "display_data"
    },
    {
     "data": {
      "text/plain": [
       "<Result cmd='rm -f /home/jovyan/europe/06-03-1981.nc' exited=0>"
      ]
     },
     "metadata": {},
     "output_type": "display_data"
    },
    {
     "name": "stderr",
     "output_type": "stream",
     "text": [
      "2019-10-17 12:40:53,348 INFO Sending request to https://cds.climate.copernicus.eu/api/v2/resources/reanalysis-era5-single-levels\n",
      "2019-10-17 12:40:54,190 INFO Request is queued\n",
      "2019-10-17 12:40:55,215 INFO Request is running\n",
      "2019-10-17 12:41:26,552 INFO Request is completed\n",
      "2019-10-17 12:41:26,554 INFO Downloading http://136.156.133.42/cache-compute-0014/cache/data3/adaptor.mars.internal-1571316054.3665786-6607-13-701c09ab-5a3a-496b-ba81-9b6f8f137ce5.nc to /home/jovyan/europe/07-03-1981.nc (380.2M)\n",
      "2019-10-17 12:41:49,143 INFO Download rate 16.8M/s \n"
     ]
    },
    {
     "data": {
      "text/plain": [
       "<Result cmd='fimex-1.3 -c extractEurope.cfg --input.file /home/jovyan/europe/07-03-1981.nc --output.file /home/jovyan/europe/europe_07-03-1981.nc' exited=0>"
      ]
     },
     "metadata": {},
     "output_type": "display_data"
    },
    {
     "data": {
      "text/plain": [
       "<Result cmd='rm -f /home/jovyan/europe/07-03-1981.nc' exited=0>"
      ]
     },
     "metadata": {},
     "output_type": "display_data"
    },
    {
     "name": "stderr",
     "output_type": "stream",
     "text": [
      "2019-10-17 12:41:49,450 INFO Sending request to https://cds.climate.copernicus.eu/api/v2/resources/reanalysis-era5-single-levels\n",
      "2019-10-17 12:41:50,487 INFO Request is completed\n",
      "2019-10-17 12:41:50,488 INFO Downloading http://136.156.133.41/cache-compute-0013/cache/data5/adaptor.mars.internal-1571280424.2240155-18489-13-3116a7ba-afd2-4fab-acc3-06f21d858c18.nc to /home/jovyan/europe/08-03-1981.nc (380.2M)\n",
      "2019-10-17 12:42:00,339 INFO Download rate 38.6M/s \n"
     ]
    },
    {
     "data": {
      "text/plain": [
       "<Result cmd='fimex-1.3 -c extractEurope.cfg --input.file /home/jovyan/europe/08-03-1981.nc --output.file /home/jovyan/europe/europe_08-03-1981.nc' exited=0>"
      ]
     },
     "metadata": {},
     "output_type": "display_data"
    },
    {
     "data": {
      "text/plain": [
       "<Result cmd='rm -f /home/jovyan/europe/08-03-1981.nc' exited=0>"
      ]
     },
     "metadata": {},
     "output_type": "display_data"
    },
    {
     "name": "stderr",
     "output_type": "stream",
     "text": [
      "2019-10-17 12:42:00,630 INFO Sending request to https://cds.climate.copernicus.eu/api/v2/resources/reanalysis-era5-single-levels\n",
      "2019-10-17 12:42:00,804 INFO Request is completed\n",
      "2019-10-17 12:42:00,805 INFO Downloading http://136.156.133.41/cache-compute-0013/cache/data9/adaptor.mars.internal-1571109746.0837224-12984-11-3097c8b0-9527-4634-8ffb-fa9da1b26067.nc to /home/jovyan/europe/09-03-1981.nc (380.2M)\n",
      "2019-10-17 12:42:08,430 INFO Download rate 49.9M/s \n"
     ]
    },
    {
     "data": {
      "text/plain": [
       "<Result cmd='fimex-1.3 -c extractEurope.cfg --input.file /home/jovyan/europe/09-03-1981.nc --output.file /home/jovyan/europe/europe_09-03-1981.nc' exited=0>"
      ]
     },
     "metadata": {},
     "output_type": "display_data"
    },
    {
     "data": {
      "text/plain": [
       "<Result cmd='rm -f /home/jovyan/europe/09-03-1981.nc' exited=0>"
      ]
     },
     "metadata": {},
     "output_type": "display_data"
    },
    {
     "name": "stderr",
     "output_type": "stream",
     "text": [
      "2019-10-17 12:42:08,839 INFO Sending request to https://cds.climate.copernicus.eu/api/v2/resources/reanalysis-era5-single-levels\n",
      "2019-10-17 12:42:09,555 INFO Request is completed\n",
      "2019-10-17 12:42:09,557 INFO Downloading http://136.156.132.235/cache-compute-0006/cache/data6/adaptor.mars.internal-1571109773.6462345-12928-15-53e91874-206e-4a28-8d77-5cdaa8a1a086.nc to /home/jovyan/europe/10-03-1981.nc (380.2M)\n",
      "2019-10-17 12:42:26,259 INFO Download rate 22.8M/s \n"
     ]
    },
    {
     "data": {
      "text/plain": [
       "<Result cmd='fimex-1.3 -c extractEurope.cfg --input.file /home/jovyan/europe/10-03-1981.nc --output.file /home/jovyan/europe/europe_10-03-1981.nc' exited=0>"
      ]
     },
     "metadata": {},
     "output_type": "display_data"
    },
    {
     "data": {
      "text/plain": [
       "<Result cmd='rm -f /home/jovyan/europe/10-03-1981.nc' exited=0>"
      ]
     },
     "metadata": {},
     "output_type": "display_data"
    },
    {
     "name": "stderr",
     "output_type": "stream",
     "text": [
      "2019-10-17 12:42:26,638 INFO Sending request to https://cds.climate.copernicus.eu/api/v2/resources/reanalysis-era5-single-levels\n",
      "2019-10-17 12:42:27,622 INFO Request is completed\n",
      "2019-10-17 12:42:27,624 INFO Downloading http://136.156.133.36/cache-compute-0010/cache/data3/adaptor.mars.internal-1571109826.6456614-11832-13-44bca53c-3883-4052-996a-ff4d44ea3fe2.nc to /home/jovyan/europe/11-03-1981.nc (380.2M)\n",
      "2019-10-17 12:42:49,041 INFO Download rate 17.8M/s \n"
     ]
    },
    {
     "data": {
      "text/plain": [
       "<Result cmd='fimex-1.3 -c extractEurope.cfg --input.file /home/jovyan/europe/11-03-1981.nc --output.file /home/jovyan/europe/europe_11-03-1981.nc' exited=0>"
      ]
     },
     "metadata": {},
     "output_type": "display_data"
    },
    {
     "data": {
      "text/plain": [
       "<Result cmd='rm -f /home/jovyan/europe/11-03-1981.nc' exited=0>"
      ]
     },
     "metadata": {},
     "output_type": "display_data"
    },
    {
     "name": "stderr",
     "output_type": "stream",
     "text": [
      "2019-10-17 12:42:49,423 INFO Sending request to https://cds.climate.copernicus.eu/api/v2/resources/reanalysis-era5-single-levels\n",
      "2019-10-17 12:42:50,359 INFO Request is completed\n",
      "2019-10-17 12:42:50,363 INFO Downloading http://136.156.133.32/cache-compute-0009/cache/data4/adaptor.mars.internal-1571280530.5271769-5566-19-c69db59f-b550-4d9f-9663-e8686ff0749e.nc to /home/jovyan/europe/12-03-1981.nc (380.2M)\n",
      "2019-10-17 12:43:01,499 INFO Download rate 34.1M/s \n"
     ]
    },
    {
     "data": {
      "text/plain": [
       "<Result cmd='fimex-1.3 -c extractEurope.cfg --input.file /home/jovyan/europe/12-03-1981.nc --output.file /home/jovyan/europe/europe_12-03-1981.nc' exited=0>"
      ]
     },
     "metadata": {},
     "output_type": "display_data"
    },
    {
     "data": {
      "text/plain": [
       "<Result cmd='rm -f /home/jovyan/europe/12-03-1981.nc' exited=0>"
      ]
     },
     "metadata": {},
     "output_type": "display_data"
    },
    {
     "name": "stderr",
     "output_type": "stream",
     "text": [
      "2019-10-17 12:43:01,912 INFO Sending request to https://cds.climate.copernicus.eu/api/v2/resources/reanalysis-era5-single-levels\n",
      "2019-10-17 12:43:02,886 INFO Request is completed\n",
      "2019-10-17 12:43:02,887 INFO Downloading http://136.156.133.41/cache-compute-0013/cache/data1/adaptor.mars.internal-1571109900.6301916-16734-1-700507e0-a316-4f51-be75-cd9652ac7aa1.nc to /home/jovyan/europe/13-03-1981.nc (380.2M)\n",
      "2019-10-17 12:43:17,623 INFO Download rate 25.8M/s \n"
     ]
    },
    {
     "data": {
      "text/plain": [
       "<Result cmd='fimex-1.3 -c extractEurope.cfg --input.file /home/jovyan/europe/13-03-1981.nc --output.file /home/jovyan/europe/europe_13-03-1981.nc' exited=0>"
      ]
     },
     "metadata": {},
     "output_type": "display_data"
    },
    {
     "data": {
      "text/plain": [
       "<Result cmd='rm -f /home/jovyan/europe/13-03-1981.nc' exited=0>"
      ]
     },
     "metadata": {},
     "output_type": "display_data"
    },
    {
     "name": "stderr",
     "output_type": "stream",
     "text": [
      "2019-10-17 12:43:17,947 INFO Sending request to https://cds.climate.copernicus.eu/api/v2/resources/reanalysis-era5-single-levels\n",
      "2019-10-17 12:43:19,151 INFO Request is completed\n",
      "2019-10-17 12:43:19,152 INFO Downloading http://136.156.133.41/cache-compute-0013/cache/data4/adaptor.mars.internal-1571109953.025605-16396-5-23b7a2b2-dc24-4f91-9fcf-0b6c0f4cd958.nc to /home/jovyan/europe/14-03-1981.nc (380.2M)\n",
      "2019-10-17 12:43:42,836 INFO Download rate 16.1M/s \n"
     ]
    },
    {
     "data": {
      "text/plain": [
       "<Result cmd='fimex-1.3 -c extractEurope.cfg --input.file /home/jovyan/europe/14-03-1981.nc --output.file /home/jovyan/europe/europe_14-03-1981.nc' exited=0>"
      ]
     },
     "metadata": {},
     "output_type": "display_data"
    },
    {
     "data": {
      "text/plain": [
       "<Result cmd='rm -f /home/jovyan/europe/14-03-1981.nc' exited=0>"
      ]
     },
     "metadata": {},
     "output_type": "display_data"
    },
    {
     "name": "stderr",
     "output_type": "stream",
     "text": [
      "2019-10-17 12:43:43,220 INFO Sending request to https://cds.climate.copernicus.eu/api/v2/resources/reanalysis-era5-single-levels\n",
      "2019-10-17 12:43:43,381 INFO Request is completed\n",
      "2019-10-17 12:43:43,384 INFO Downloading http://136.156.133.25/cache-compute-0008/cache/data3/adaptor.mars.internal-1571280598.0424092-7883-21-7dea56a7-27dc-42f9-b6e5-6f383d975697.nc to /home/jovyan/europe/15-03-1981.nc (380.2M)\n",
      "2019-10-17 12:44:05,342 INFO Download rate 17.3M/s \n"
     ]
    },
    {
     "data": {
      "text/plain": [
       "<Result cmd='fimex-1.3 -c extractEurope.cfg --input.file /home/jovyan/europe/15-03-1981.nc --output.file /home/jovyan/europe/europe_15-03-1981.nc' exited=0>"
      ]
     },
     "metadata": {},
     "output_type": "display_data"
    },
    {
     "data": {
      "text/plain": [
       "<Result cmd='rm -f /home/jovyan/europe/15-03-1981.nc' exited=0>"
      ]
     },
     "metadata": {},
     "output_type": "display_data"
    },
    {
     "name": "stderr",
     "output_type": "stream",
     "text": [
      "2019-10-17 12:44:05,807 INFO Sending request to https://cds.climate.copernicus.eu/api/v2/resources/reanalysis-era5-single-levels\n",
      "2019-10-17 12:44:07,106 INFO Request is completed\n",
      "2019-10-17 12:44:07,107 INFO Downloading http://136.156.132.235/cache-compute-0006/cache/data9/adaptor.mars.internal-1571110022.8132386-13813-9-8da40872-04df-4b44-9142-26b74d058bbe.nc to /home/jovyan/europe/16-03-1981.nc (380.2M)\n",
      "2019-10-17 12:44:13,352 INFO Download rate 60.9M/s \n"
     ]
    },
    {
     "data": {
      "text/plain": [
       "<Result cmd='fimex-1.3 -c extractEurope.cfg --input.file /home/jovyan/europe/16-03-1981.nc --output.file /home/jovyan/europe/europe_16-03-1981.nc' exited=0>"
      ]
     },
     "metadata": {},
     "output_type": "display_data"
    },
    {
     "data": {
      "text/plain": [
       "<Result cmd='rm -f /home/jovyan/europe/16-03-1981.nc' exited=0>"
      ]
     },
     "metadata": {},
     "output_type": "display_data"
    },
    {
     "name": "stderr",
     "output_type": "stream",
     "text": [
      "2019-10-17 12:44:13,664 INFO Sending request to https://cds.climate.copernicus.eu/api/v2/resources/reanalysis-era5-single-levels\n",
      "2019-10-17 12:44:14,641 INFO Request is completed\n",
      "2019-10-17 12:44:14,642 INFO Downloading http://136.156.133.36/cache-compute-0010/cache/data1/adaptor.mars.internal-1571280656.686906-20091-21-34f21e34-df66-491d-9dbc-dc4c7d3c6fee.nc to /home/jovyan/europe/17-03-1981.nc (380.2M)\n",
      "2019-10-17 12:44:30,893 INFO Download rate 23.4M/s \n"
     ]
    },
    {
     "data": {
      "text/plain": [
       "<Result cmd='fimex-1.3 -c extractEurope.cfg --input.file /home/jovyan/europe/17-03-1981.nc --output.file /home/jovyan/europe/europe_17-03-1981.nc' exited=0>"
      ]
     },
     "metadata": {},
     "output_type": "display_data"
    },
    {
     "data": {
      "text/plain": [
       "<Result cmd='rm -f /home/jovyan/europe/17-03-1981.nc' exited=0>"
      ]
     },
     "metadata": {},
     "output_type": "display_data"
    },
    {
     "name": "stderr",
     "output_type": "stream",
     "text": [
      "2019-10-17 12:44:31,219 INFO Sending request to https://cds.climate.copernicus.eu/api/v2/resources/reanalysis-era5-single-levels\n",
      "2019-10-17 12:44:31,415 INFO Request is completed\n",
      "2019-10-17 12:44:31,416 INFO Downloading http://136.156.133.41/cache-compute-0013/cache/data6/adaptor.mars.internal-1571110094.9127736-15239-7-a37bed5c-1a55-4481-a140-c51b03d55cc4.nc to /home/jovyan/europe/18-03-1981.nc (380.2M)\n",
      "2019-10-17 12:44:45,028 INFO Download rate 27.9M/s \n"
     ]
    },
    {
     "data": {
      "text/plain": [
       "<Result cmd='fimex-1.3 -c extractEurope.cfg --input.file /home/jovyan/europe/18-03-1981.nc --output.file /home/jovyan/europe/europe_18-03-1981.nc' exited=0>"
      ]
     },
     "metadata": {},
     "output_type": "display_data"
    },
    {
     "data": {
      "text/plain": [
       "<Result cmd='rm -f /home/jovyan/europe/18-03-1981.nc' exited=0>"
      ]
     },
     "metadata": {},
     "output_type": "display_data"
    },
    {
     "name": "stderr",
     "output_type": "stream",
     "text": [
      "2019-10-17 12:44:45,390 INFO Sending request to https://cds.climate.copernicus.eu/api/v2/resources/reanalysis-era5-single-levels\n",
      "2019-10-17 12:44:45,620 INFO Request is completed\n",
      "2019-10-17 12:44:45,624 INFO Downloading http://136.156.133.42/cache-compute-0014/cache/data5/adaptor.mars.internal-1571110130.3559306-30855-13-c74b1dbb-86d3-4642-9b5e-db4103b7ea80.nc to /home/jovyan/europe/19-03-1981.nc (380.2M)\n",
      "2019-10-17 12:45:01,718 INFO Download rate 23.6M/s \n"
     ]
    },
    {
     "data": {
      "text/plain": [
       "<Result cmd='fimex-1.3 -c extractEurope.cfg --input.file /home/jovyan/europe/19-03-1981.nc --output.file /home/jovyan/europe/europe_19-03-1981.nc' exited=0>"
      ]
     },
     "metadata": {},
     "output_type": "display_data"
    },
    {
     "data": {
      "text/plain": [
       "<Result cmd='rm -f /home/jovyan/europe/19-03-1981.nc' exited=0>"
      ]
     },
     "metadata": {},
     "output_type": "display_data"
    },
    {
     "name": "stderr",
     "output_type": "stream",
     "text": [
      "2019-10-17 12:45:02,074 INFO Sending request to https://cds.climate.copernicus.eu/api/v2/resources/reanalysis-era5-single-levels\n",
      "2019-10-17 12:45:03,671 INFO Request is completed\n",
      "2019-10-17 12:45:03,675 INFO Downloading http://136.156.133.37/cache-compute-0011/cache/data4/adaptor.mars.internal-1571110176.8828921-3694-1-d0829330-e586-4e6c-a466-fd61fa7b23da.nc to /home/jovyan/europe/20-03-1981.nc (380.2M)\n",
      "2019-10-17 12:45:17,058 INFO Download rate 28.4M/s \n"
     ]
    },
    {
     "data": {
      "text/plain": [
       "<Result cmd='fimex-1.3 -c extractEurope.cfg --input.file /home/jovyan/europe/20-03-1981.nc --output.file /home/jovyan/europe/europe_20-03-1981.nc' exited=0>"
      ]
     },
     "metadata": {},
     "output_type": "display_data"
    },
    {
     "data": {
      "text/plain": [
       "<Result cmd='rm -f /home/jovyan/europe/20-03-1981.nc' exited=0>"
      ]
     },
     "metadata": {},
     "output_type": "display_data"
    },
    {
     "name": "stderr",
     "output_type": "stream",
     "text": [
      "2019-10-17 12:45:17,393 INFO Sending request to https://cds.climate.copernicus.eu/api/v2/resources/reanalysis-era5-single-levels\n",
      "2019-10-17 12:45:17,631 INFO Request is completed\n",
      "2019-10-17 12:45:17,636 INFO Downloading http://136.156.132.198/cache-compute-0003/cache/data7/adaptor.mars.internal-1571280773.6716459-10531-3-c9b6097f-a62c-4a2e-a0c8-18bd7b362553.nc to /home/jovyan/europe/21-03-1981.nc (380.2M)\n",
      "2019-10-17 12:45:36,326 INFO Download rate 20.3M/s \n"
     ]
    },
    {
     "data": {
      "text/plain": [
       "<Result cmd='fimex-1.3 -c extractEurope.cfg --input.file /home/jovyan/europe/21-03-1981.nc --output.file /home/jovyan/europe/europe_21-03-1981.nc' exited=0>"
      ]
     },
     "metadata": {},
     "output_type": "display_data"
    },
    {
     "data": {
      "text/plain": [
       "<Result cmd='rm -f /home/jovyan/europe/21-03-1981.nc' exited=0>"
      ]
     },
     "metadata": {},
     "output_type": "display_data"
    },
    {
     "name": "stderr",
     "output_type": "stream",
     "text": [
      "2019-10-17 12:45:37,372 INFO Sending request to https://cds.climate.copernicus.eu/api/v2/resources/reanalysis-era5-single-levels\n",
      "2019-10-17 12:45:37,671 INFO Request is completed\n",
      "2019-10-17 12:45:37,675 INFO Downloading http://136.156.132.235/cache-compute-0006/cache/data7/adaptor.mars.internal-1571280818.8148708-26822-19-fa7311ee-a718-4133-b7bb-8575563f30bd.nc to /home/jovyan/europe/22-03-1981.nc (380.2M)\n",
      "2019-10-17 12:45:51,479 INFO Download rate 27.5M/s \n"
     ]
    },
    {
     "data": {
      "text/plain": [
       "<Result cmd='fimex-1.3 -c extractEurope.cfg --input.file /home/jovyan/europe/22-03-1981.nc --output.file /home/jovyan/europe/europe_22-03-1981.nc' exited=0>"
      ]
     },
     "metadata": {},
     "output_type": "display_data"
    },
    {
     "data": {
      "text/plain": [
       "<Result cmd='rm -f /home/jovyan/europe/22-03-1981.nc' exited=0>"
      ]
     },
     "metadata": {},
     "output_type": "display_data"
    },
    {
     "name": "stderr",
     "output_type": "stream",
     "text": [
      "2019-10-17 12:45:51,956 INFO Sending request to https://cds.climate.copernicus.eu/api/v2/resources/reanalysis-era5-single-levels\n",
      "2019-10-17 12:45:52,305 INFO Request is completed\n",
      "2019-10-17 12:45:52,306 INFO Downloading http://136.156.132.153/cache-compute-0002/cache/data8/adaptor.mars.internal-1571280884.0128896-12392-9-cee7f89b-9cd5-4909-9f45-5b60ffa4246d.nc to /home/jovyan/europe/23-03-1981.nc (380.2M)\n",
      "2019-10-17 12:46:10,201 INFO Download rate 21.2M/s \n"
     ]
    },
    {
     "data": {
      "text/plain": [
       "<Result cmd='fimex-1.3 -c extractEurope.cfg --input.file /home/jovyan/europe/23-03-1981.nc --output.file /home/jovyan/europe/europe_23-03-1981.nc' exited=0>"
      ]
     },
     "metadata": {},
     "output_type": "display_data"
    },
    {
     "data": {
      "text/plain": [
       "<Result cmd='rm -f /home/jovyan/europe/23-03-1981.nc' exited=0>"
      ]
     },
     "metadata": {},
     "output_type": "display_data"
    },
    {
     "name": "stderr",
     "output_type": "stream",
     "text": [
      "2019-10-17 12:46:10,656 INFO Sending request to https://cds.climate.copernicus.eu/api/v2/resources/reanalysis-era5-single-levels\n",
      "2019-10-17 12:46:11,588 INFO Request is completed\n",
      "2019-10-17 12:46:11,589 INFO Downloading http://136.156.133.32/cache-compute-0009/cache/data0/adaptor.mars.internal-1571280927.3343606-14125-7-32fd2d04-9063-4342-a348-b7431c952ec9.nc to /home/jovyan/europe/24-03-1981.nc (380.2M)\n",
      "2019-10-17 12:46:22,171 INFO Download rate 35.9M/s \n"
     ]
    },
    {
     "data": {
      "text/plain": [
       "<Result cmd='fimex-1.3 -c extractEurope.cfg --input.file /home/jovyan/europe/24-03-1981.nc --output.file /home/jovyan/europe/europe_24-03-1981.nc' exited=0>"
      ]
     },
     "metadata": {},
     "output_type": "display_data"
    },
    {
     "data": {
      "text/plain": [
       "<Result cmd='rm -f /home/jovyan/europe/24-03-1981.nc' exited=0>"
      ]
     },
     "metadata": {},
     "output_type": "display_data"
    },
    {
     "name": "stderr",
     "output_type": "stream",
     "text": [
      "2019-10-17 12:46:22,443 INFO Sending request to https://cds.climate.copernicus.eu/api/v2/resources/reanalysis-era5-single-levels\n",
      "2019-10-17 12:46:23,869 INFO Request is completed\n",
      "2019-10-17 12:46:23,870 INFO Downloading http://136.156.132.110/cache-compute-0001/cache/data6/adaptor.mars.internal-1571110383.7329867-29744-7-286030a5-3111-4ca0-8cd7-701d4b309b40.nc to /home/jovyan/europe/25-03-1981.nc (380.2M)\n",
      "2019-10-17 12:46:45,437 INFO Download rate 17.6M/s \n"
     ]
    },
    {
     "data": {
      "text/plain": [
       "<Result cmd='fimex-1.3 -c extractEurope.cfg --input.file /home/jovyan/europe/25-03-1981.nc --output.file /home/jovyan/europe/europe_25-03-1981.nc' exited=0>"
      ]
     },
     "metadata": {},
     "output_type": "display_data"
    },
    {
     "data": {
      "text/plain": [
       "<Result cmd='rm -f /home/jovyan/europe/25-03-1981.nc' exited=0>"
      ]
     },
     "metadata": {},
     "output_type": "display_data"
    },
    {
     "name": "stderr",
     "output_type": "stream",
     "text": [
      "2019-10-17 12:46:45,808 INFO Sending request to https://cds.climate.copernicus.eu/api/v2/resources/reanalysis-era5-single-levels\n",
      "2019-10-17 12:46:46,659 INFO Request is completed\n",
      "2019-10-17 12:46:46,660 INFO Downloading http://136.156.132.198/cache-compute-0003/cache/data1/adaptor.mars.internal-1571110418.3842175-4647-23-e955e197-d15c-4e03-870a-c69b7026f4f6.nc to /home/jovyan/europe/26-03-1981.nc (380.2M)\n",
      "2019-10-17 12:47:06,241 INFO Download rate 19.4M/s \n"
     ]
    },
    {
     "data": {
      "text/plain": [
       "<Result cmd='fimex-1.3 -c extractEurope.cfg --input.file /home/jovyan/europe/26-03-1981.nc --output.file /home/jovyan/europe/europe_26-03-1981.nc' exited=0>"
      ]
     },
     "metadata": {},
     "output_type": "display_data"
    },
    {
     "data": {
      "text/plain": [
       "<Result cmd='rm -f /home/jovyan/europe/26-03-1981.nc' exited=0>"
      ]
     },
     "metadata": {},
     "output_type": "display_data"
    },
    {
     "name": "stderr",
     "output_type": "stream",
     "text": [
      "2019-10-17 12:47:06,545 INFO Sending request to https://cds.climate.copernicus.eu/api/v2/resources/reanalysis-era5-single-levels\n",
      "2019-10-17 12:47:07,344 INFO Request is completed\n",
      "2019-10-17 12:47:07,345 INFO Downloading http://136.156.133.46/cache-compute-0015/cache/data6/adaptor.mars.internal-1571110447.1569798-18287-3-bfc7817e-b24c-4289-8043-aac68abc21d6.nc to /home/jovyan/europe/27-03-1981.nc (380.2M)\n",
      "2019-10-17 12:47:15,830 INFO Download rate 44.8M/s \n"
     ]
    },
    {
     "data": {
      "text/plain": [
       "<Result cmd='fimex-1.3 -c extractEurope.cfg --input.file /home/jovyan/europe/27-03-1981.nc --output.file /home/jovyan/europe/europe_27-03-1981.nc' exited=0>"
      ]
     },
     "metadata": {},
     "output_type": "display_data"
    },
    {
     "data": {
      "text/plain": [
       "<Result cmd='rm -f /home/jovyan/europe/27-03-1981.nc' exited=0>"
      ]
     },
     "metadata": {},
     "output_type": "display_data"
    },
    {
     "name": "stderr",
     "output_type": "stream",
     "text": [
      "2019-10-17 12:47:16,175 INFO Sending request to https://cds.climate.copernicus.eu/api/v2/resources/reanalysis-era5-single-levels\n",
      "2019-10-17 12:47:16,329 INFO Request is completed\n",
      "2019-10-17 12:47:16,330 INFO Downloading http://136.156.133.39/cache-compute-0012/cache/data4/adaptor.mars.internal-1571110493.318225-17553-11-3baefa8c-f347-4b65-a6d6-1c0e25a9ad4e.nc to /home/jovyan/europe/28-03-1981.nc (380.2M)\n",
      "2019-10-17 12:47:35,628 INFO Download rate 19.7M/s \n"
     ]
    },
    {
     "data": {
      "text/plain": [
       "<Result cmd='fimex-1.3 -c extractEurope.cfg --input.file /home/jovyan/europe/28-03-1981.nc --output.file /home/jovyan/europe/europe_28-03-1981.nc' exited=0>"
      ]
     },
     "metadata": {},
     "output_type": "display_data"
    },
    {
     "data": {
      "text/plain": [
       "<Result cmd='rm -f /home/jovyan/europe/28-03-1981.nc' exited=0>"
      ]
     },
     "metadata": {},
     "output_type": "display_data"
    },
    {
     "name": "stderr",
     "output_type": "stream",
     "text": [
      "2019-10-17 12:47:35,999 INFO Sending request to https://cds.climate.copernicus.eu/api/v2/resources/reanalysis-era5-single-levels\n",
      "2019-10-17 12:47:36,735 INFO Request is completed\n",
      "2019-10-17 12:47:36,736 INFO Downloading http://136.156.133.25/cache-compute-0008/cache/data9/adaptor.mars.internal-1571110529.0715518-24736-19-755e13b8-e626-474e-9c8a-c1e526532228.nc to /home/jovyan/europe/29-03-1981.nc (380.2M)\n",
      "2019-10-17 12:47:50,226 INFO Download rate 28.2M/s \n"
     ]
    },
    {
     "data": {
      "text/plain": [
       "<Result cmd='fimex-1.3 -c extractEurope.cfg --input.file /home/jovyan/europe/29-03-1981.nc --output.file /home/jovyan/europe/europe_29-03-1981.nc' exited=0>"
      ]
     },
     "metadata": {},
     "output_type": "display_data"
    },
    {
     "data": {
      "text/plain": [
       "<Result cmd='rm -f /home/jovyan/europe/29-03-1981.nc' exited=0>"
      ]
     },
     "metadata": {},
     "output_type": "display_data"
    },
    {
     "name": "stderr",
     "output_type": "stream",
     "text": [
      "2019-10-17 12:47:50,637 INFO Sending request to https://cds.climate.copernicus.eu/api/v2/resources/reanalysis-era5-single-levels\n",
      "2019-10-17 12:47:51,490 INFO Request is completed\n",
      "2019-10-17 12:47:51,492 INFO Downloading http://136.156.132.110/cache-compute-0001/cache/data6/adaptor.mars.internal-1571110571.1022258-20575-15-691ecf83-6465-47ef-8f19-a638cb4266c1.nc to /home/jovyan/europe/30-03-1981.nc (380.2M)\n",
      "2019-10-17 12:48:01,703 INFO Download rate 37.2M/s \n"
     ]
    },
    {
     "data": {
      "text/plain": [
       "<Result cmd='fimex-1.3 -c extractEurope.cfg --input.file /home/jovyan/europe/30-03-1981.nc --output.file /home/jovyan/europe/europe_30-03-1981.nc' exited=0>"
      ]
     },
     "metadata": {},
     "output_type": "display_data"
    },
    {
     "data": {
      "text/plain": [
       "<Result cmd='rm -f /home/jovyan/europe/30-03-1981.nc' exited=0>"
      ]
     },
     "metadata": {},
     "output_type": "display_data"
    },
    {
     "name": "stderr",
     "output_type": "stream",
     "text": [
      "2019-10-17 12:48:04,925 INFO Sending request to https://cds.climate.copernicus.eu/api/v2/resources/reanalysis-era5-single-levels\n",
      "2019-10-17 12:48:06,109 INFO Request is completed\n",
      "2019-10-17 12:48:06,110 INFO Downloading http://136.156.132.110/cache-compute-0001/cache/data2/adaptor.mars.internal-1571110601.5518346-28614-15-e48cc06e-d88c-409f-a6b9-3978730bf6d3.nc to /home/jovyan/europe/31-03-1981.nc (380.2M)\n",
      "2019-10-17 12:48:29,885 INFO Download rate 16M/s   \n"
     ]
    },
    {
     "data": {
      "text/plain": [
       "<Result cmd='fimex-1.3 -c extractEurope.cfg --input.file /home/jovyan/europe/31-03-1981.nc --output.file /home/jovyan/europe/europe_31-03-1981.nc' exited=0>"
      ]
     },
     "metadata": {},
     "output_type": "display_data"
    },
    {
     "data": {
      "text/plain": [
       "<Result cmd='rm -f /home/jovyan/europe/31-03-1981.nc' exited=0>"
      ]
     },
     "metadata": {},
     "output_type": "display_data"
    },
    {
     "name": "stderr",
     "output_type": "stream",
     "text": [
      "2019-10-17 12:48:30,419 INFO Sending request to https://cds.climate.copernicus.eu/api/v2/resources/reanalysis-era5-single-levels\n",
      "2019-10-17 12:48:30,971 INFO Request is completed\n",
      "2019-10-17 12:48:30,972 INFO Downloading http://136.156.133.41/cache-compute-0013/cache/data3/adaptor.mars.internal-1571110632.3573496-17289-3-4f18b96c-428a-46e2-be5e-c997913b514e.nc to /home/jovyan/europe/01-04-1981.nc (380.2M)\n",
      "2019-10-17 12:48:50,615 INFO Download rate 19.4M/s \n"
     ]
    },
    {
     "data": {
      "text/plain": [
       "<Result cmd='fimex-1.3 -c extractEurope.cfg --input.file /home/jovyan/europe/01-04-1981.nc --output.file /home/jovyan/europe/europe_01-04-1981.nc' exited=0>"
      ]
     },
     "metadata": {},
     "output_type": "display_data"
    },
    {
     "data": {
      "text/plain": [
       "<Result cmd='rm -f /home/jovyan/europe/01-04-1981.nc' exited=0>"
      ]
     },
     "metadata": {},
     "output_type": "display_data"
    },
    {
     "name": "stderr",
     "output_type": "stream",
     "text": [
      "2019-10-17 12:48:50,927 INFO Sending request to https://cds.climate.copernicus.eu/api/v2/resources/reanalysis-era5-single-levels\n",
      "2019-10-17 12:48:51,236 INFO Request is completed\n",
      "2019-10-17 12:48:51,237 INFO Downloading http://136.156.133.36/cache-compute-0010/cache/data5/adaptor.mars.internal-1571281092.4359455-24854-15-c2dbb993-e21d-4e82-8f8f-8e8ce010911c.nc to /home/jovyan/europe/02-04-1981.nc (380.2M)\n",
      "2019-10-17 12:49:07,030 INFO Download rate 24.1M/s \n"
     ]
    },
    {
     "data": {
      "text/plain": [
       "<Result cmd='fimex-1.3 -c extractEurope.cfg --input.file /home/jovyan/europe/02-04-1981.nc --output.file /home/jovyan/europe/europe_02-04-1981.nc' exited=0>"
      ]
     },
     "metadata": {},
     "output_type": "display_data"
    },
    {
     "data": {
      "text/plain": [
       "<Result cmd='rm -f /home/jovyan/europe/02-04-1981.nc' exited=0>"
      ]
     },
     "metadata": {},
     "output_type": "display_data"
    },
    {
     "name": "stderr",
     "output_type": "stream",
     "text": [
      "2019-10-17 12:49:07,293 INFO Sending request to https://cds.climate.copernicus.eu/api/v2/resources/reanalysis-era5-single-levels\n",
      "2019-10-17 12:49:07,900 INFO Request is completed\n",
      "2019-10-17 12:49:07,901 INFO Downloading http://136.156.133.46/cache-compute-0015/cache/data6/adaptor.mars.internal-1571110702.922908-23892-3-2d55330d-cd56-4587-a6ae-87afe1e0452e.nc to /home/jovyan/europe/03-04-1981.nc (380.2M)\n",
      "2019-10-17 12:49:27,825 INFO Download rate 19.1M/s \n"
     ]
    },
    {
     "data": {
      "text/plain": [
       "<Result cmd='fimex-1.3 -c extractEurope.cfg --input.file /home/jovyan/europe/03-04-1981.nc --output.file /home/jovyan/europe/europe_03-04-1981.nc' exited=0>"
      ]
     },
     "metadata": {},
     "output_type": "display_data"
    },
    {
     "data": {
      "text/plain": [
       "<Result cmd='rm -f /home/jovyan/europe/03-04-1981.nc' exited=0>"
      ]
     },
     "metadata": {},
     "output_type": "display_data"
    },
    {
     "name": "stderr",
     "output_type": "stream",
     "text": [
      "2019-10-17 12:49:28,410 INFO Sending request to https://cds.climate.copernicus.eu/api/v2/resources/reanalysis-era5-single-levels\n",
      "2019-10-17 12:49:29,147 INFO Request is completed\n",
      "2019-10-17 12:49:29,148 INFO Downloading http://136.156.132.110/cache-compute-0001/cache/data2/adaptor.mars.internal-1571110737.1028447-4033-3-ccd1683b-edd6-4c69-ad99-d364a3dc3a09.nc to /home/jovyan/europe/04-04-1981.nc (380.2M)\n",
      "2019-10-17 12:49:50,221 INFO Download rate 18M/s   \n"
     ]
    },
    {
     "data": {
      "text/plain": [
       "<Result cmd='fimex-1.3 -c extractEurope.cfg --input.file /home/jovyan/europe/04-04-1981.nc --output.file /home/jovyan/europe/europe_04-04-1981.nc' exited=0>"
      ]
     },
     "metadata": {},
     "output_type": "display_data"
    },
    {
     "data": {
      "text/plain": [
       "<Result cmd='rm -f /home/jovyan/europe/04-04-1981.nc' exited=0>"
      ]
     },
     "metadata": {},
     "output_type": "display_data"
    },
    {
     "name": "stderr",
     "output_type": "stream",
     "text": [
      "2019-10-17 12:49:50,525 INFO Sending request to https://cds.climate.copernicus.eu/api/v2/resources/reanalysis-era5-single-levels\n",
      "2019-10-17 12:49:51,073 INFO Request is completed\n",
      "2019-10-17 12:49:51,074 INFO Downloading http://136.156.133.42/cache-compute-0014/cache/data2/adaptor.mars.internal-1571281169.199423-12275-9-feb59101-87b8-484f-97b9-846f67e3c799.nc to /home/jovyan/europe/05-04-1981.nc (380.2M)\n",
      "2019-10-17 12:50:20,884 INFO Download rate 12.8M/s \n"
     ]
    },
    {
     "data": {
      "text/plain": [
       "<Result cmd='fimex-1.3 -c extractEurope.cfg --input.file /home/jovyan/europe/05-04-1981.nc --output.file /home/jovyan/europe/europe_05-04-1981.nc' exited=0>"
      ]
     },
     "metadata": {},
     "output_type": "display_data"
    },
    {
     "data": {
      "text/plain": [
       "<Result cmd='rm -f /home/jovyan/europe/05-04-1981.nc' exited=0>"
      ]
     },
     "metadata": {},
     "output_type": "display_data"
    },
    {
     "name": "stderr",
     "output_type": "stream",
     "text": [
      "2019-10-17 12:50:21,815 INFO Sending request to https://cds.climate.copernicus.eu/api/v2/resources/reanalysis-era5-single-levels\n",
      "2019-10-17 12:50:22,690 INFO Request is completed\n",
      "2019-10-17 12:50:22,691 INFO Downloading http://136.156.133.41/cache-compute-0013/cache/data6/adaptor.mars.internal-1571110810.9402816-16734-15-f9d8de63-4f41-4cdf-aee4-b31746fdecf1.nc to /home/jovyan/europe/06-04-1981.nc (380.2M)\n",
      "2019-10-17 12:50:39,487 INFO Download rate 22.6M/s \n"
     ]
    },
    {
     "data": {
      "text/plain": [
       "<Result cmd='fimex-1.3 -c extractEurope.cfg --input.file /home/jovyan/europe/06-04-1981.nc --output.file /home/jovyan/europe/europe_06-04-1981.nc' exited=0>"
      ]
     },
     "metadata": {},
     "output_type": "display_data"
    },
    {
     "data": {
      "text/plain": [
       "<Result cmd='rm -f /home/jovyan/europe/06-04-1981.nc' exited=0>"
      ]
     },
     "metadata": {},
     "output_type": "display_data"
    },
    {
     "name": "stderr",
     "output_type": "stream",
     "text": [
      "2019-10-17 12:50:39,829 INFO Sending request to https://cds.climate.copernicus.eu/api/v2/resources/reanalysis-era5-single-levels\n",
      "2019-10-17 12:50:40,460 INFO Request is completed\n",
      "2019-10-17 12:50:40,463 INFO Downloading http://136.156.133.32/cache-compute-0009/cache/data0/adaptor.mars.internal-1571281245.6551387-12035-15-31f8987b-be46-49ab-8742-ba85f52deeff.nc to /home/jovyan/europe/07-04-1981.nc (380.2M)\n",
      "2019-10-17 12:50:52,606 INFO Download rate 31.3M/s \n"
     ]
    },
    {
     "data": {
      "text/plain": [
       "<Result cmd='fimex-1.3 -c extractEurope.cfg --input.file /home/jovyan/europe/07-04-1981.nc --output.file /home/jovyan/europe/europe_07-04-1981.nc' exited=0>"
      ]
     },
     "metadata": {},
     "output_type": "display_data"
    },
    {
     "data": {
      "text/plain": [
       "<Result cmd='rm -f /home/jovyan/europe/07-04-1981.nc' exited=0>"
      ]
     },
     "metadata": {},
     "output_type": "display_data"
    },
    {
     "name": "stderr",
     "output_type": "stream",
     "text": [
      "2019-10-17 12:50:52,920 INFO Sending request to https://cds.climate.copernicus.eu/api/v2/resources/reanalysis-era5-single-levels\n",
      "2019-10-17 12:50:54,025 INFO Request is completed\n",
      "2019-10-17 12:50:54,026 INFO Downloading http://136.156.132.110/cache-compute-0001/cache/data6/adaptor.mars.internal-1571110881.6415937-30651-7-878761f8-5d9c-4575-ad8c-018db424244f.nc to /home/jovyan/europe/08-04-1981.nc (380.2M)\n",
      "2019-10-17 12:51:13,443 INFO Download rate 19.6M/s \n"
     ]
    },
    {
     "data": {
      "text/plain": [
       "<Result cmd='fimex-1.3 -c extractEurope.cfg --input.file /home/jovyan/europe/08-04-1981.nc --output.file /home/jovyan/europe/europe_08-04-1981.nc' exited=0>"
      ]
     },
     "metadata": {},
     "output_type": "display_data"
    },
    {
     "data": {
      "text/plain": [
       "<Result cmd='rm -f /home/jovyan/europe/08-04-1981.nc' exited=0>"
      ]
     },
     "metadata": {},
     "output_type": "display_data"
    },
    {
     "name": "stderr",
     "output_type": "stream",
     "text": [
      "2019-10-17 12:51:13,814 INFO Sending request to https://cds.climate.copernicus.eu/api/v2/resources/reanalysis-era5-single-levels\n",
      "2019-10-17 12:51:14,076 INFO Request is completed\n",
      "2019-10-17 12:51:14,077 INFO Downloading http://136.156.133.46/cache-compute-0015/cache/data6/adaptor.mars.internal-1571110915.0547266-24107-3-10835855-60ad-4f20-a10d-9b3600e31395.nc to /home/jovyan/europe/09-04-1981.nc (380.2M)\n",
      "2019-10-17 12:51:31,479 INFO Download rate 21.9M/s \n"
     ]
    },
    {
     "data": {
      "text/plain": [
       "<Result cmd='fimex-1.3 -c extractEurope.cfg --input.file /home/jovyan/europe/09-04-1981.nc --output.file /home/jovyan/europe/europe_09-04-1981.nc' exited=0>"
      ]
     },
     "metadata": {},
     "output_type": "display_data"
    },
    {
     "data": {
      "text/plain": [
       "<Result cmd='rm -f /home/jovyan/europe/09-04-1981.nc' exited=0>"
      ]
     },
     "metadata": {},
     "output_type": "display_data"
    },
    {
     "name": "stderr",
     "output_type": "stream",
     "text": [
      "2019-10-17 12:51:31,921 INFO Sending request to https://cds.climate.copernicus.eu/api/v2/resources/reanalysis-era5-single-levels\n",
      "2019-10-17 12:51:32,223 INFO Request is completed\n",
      "2019-10-17 12:51:32,225 INFO Downloading http://136.156.132.105/cache-compute-0000/cache/data6/adaptor.mars.internal-1571281325.2633433-22343-21-c6844a37-7e90-4531-acb1-e741c41c5ac6.nc to /home/jovyan/europe/10-04-1981.nc (380.2M)\n",
      "2019-10-17 12:51:57,250 INFO Download rate 15.2M/s \n"
     ]
    },
    {
     "data": {
      "text/plain": [
       "<Result cmd='fimex-1.3 -c extractEurope.cfg --input.file /home/jovyan/europe/10-04-1981.nc --output.file /home/jovyan/europe/europe_10-04-1981.nc' exited=0>"
      ]
     },
     "metadata": {},
     "output_type": "display_data"
    },
    {
     "data": {
      "text/plain": [
       "<Result cmd='rm -f /home/jovyan/europe/10-04-1981.nc' exited=0>"
      ]
     },
     "metadata": {},
     "output_type": "display_data"
    },
    {
     "name": "stderr",
     "output_type": "stream",
     "text": [
      "2019-10-17 12:51:57,530 INFO Sending request to https://cds.climate.copernicus.eu/api/v2/resources/reanalysis-era5-single-levels\n",
      "2019-10-17 12:51:57,665 INFO Request is completed\n",
      "2019-10-17 12:51:57,666 INFO Downloading http://136.156.132.105/cache-compute-0000/cache/data2/adaptor.mars.internal-1571110994.5744872-26253-7-ec58afdf-1732-4aa1-b31c-c75e6af9394e.nc to /home/jovyan/europe/11-04-1981.nc (380.2M)\n",
      "2019-10-17 12:52:17,555 INFO Download rate 19.1M/s \n"
     ]
    },
    {
     "data": {
      "text/plain": [
       "<Result cmd='fimex-1.3 -c extractEurope.cfg --input.file /home/jovyan/europe/11-04-1981.nc --output.file /home/jovyan/europe/europe_11-04-1981.nc' exited=0>"
      ]
     },
     "metadata": {},
     "output_type": "display_data"
    },
    {
     "data": {
      "text/plain": [
       "<Result cmd='rm -f /home/jovyan/europe/11-04-1981.nc' exited=0>"
      ]
     },
     "metadata": {},
     "output_type": "display_data"
    },
    {
     "name": "stderr",
     "output_type": "stream",
     "text": [
      "2019-10-17 12:52:17,835 INFO Sending request to https://cds.climate.copernicus.eu/api/v2/resources/reanalysis-era5-single-levels\n",
      "2019-10-17 12:52:17,947 INFO Request is completed\n",
      "2019-10-17 12:52:17,948 INFO Downloading http://136.156.132.236/cache-compute-0007/cache/data9/adaptor.mars.internal-1571281369.8788095-18634-5-5369ee97-fa40-446d-a7c3-211d65c1572e.nc to /home/jovyan/europe/12-04-1981.nc (380.2M)\n",
      "2019-10-17 12:52:23,315 INFO Sending request to https://cds.climate.copernicus.eu/api/v2/resources/reanalysis-era5-single-levels\n",
      "2019-10-17 12:52:23,541 INFO Request is completed\n",
      "2019-10-17 12:52:23,542 INFO Downloading http://136.156.132.236/cache-compute-0007/cache/data9/adaptor.mars.internal-1571281369.8788095-18634-5-5369ee97-fa40-446d-a7c3-211d65c1572e.nc to /home/jovyan/europe/12-04-1981.nc (380.2M)\n",
      "2019-10-17 12:52:29,941 INFO Sending request to https://cds.climate.copernicus.eu/api/v2/resources/reanalysis-era5-single-levels\n",
      "2019-10-17 12:52:30,363 INFO Request is completed\n",
      "2019-10-17 12:52:30,365 INFO Downloading http://136.156.132.236/cache-compute-0007/cache/data9/adaptor.mars.internal-1571281369.8788095-18634-5-5369ee97-fa40-446d-a7c3-211d65c1572e.nc to /home/jovyan/europe/12-04-1981.nc (380.2M)\n",
      " 37%|███▋      | 139M/380M [00:05<00:13, 18.5MB/s] "
     ]
    }
   ],
   "source": [
    "# with Connection('localhost') as c:\n",
    "#    c.local('rm -rf /home/jovyan/europe/')\n",
    "#    c.local('rm -f out.nc')\n",
    "#    c.local('mkdir /home/jovyan/europe/')\n",
    "   \n",
    "for i in date_generated:\n",
    "    filename = '/home/jovyan/europe/{0}.nc'.format(i.strftime('%d-%m-%Y'))\n",
    "    out =  '/home/jovyan/europe/europe_{0}.nc'.format(i.strftime('%d-%m-%Y'))\n",
    "    getFile(filename,out)   "
   ]
  },
  {
   "cell_type": "markdown",
   "metadata": {},
   "source": [
    "## Merging nc files into a single one"
   ]
  },
  {
   "cell_type": "code",
   "execution_count": null,
   "metadata": {},
   "outputs": [],
   "source": [
    "folder = '/home/jovyan/test/'\n",
    "with Connection('localhost') as c:\n",
    "    c.local('rm -rf {}'.format(folder))\n",
    "    c.local('mkdir {}'.format(folder))\n",
    "    c.local('cp -r /home/jovyan/common/norway*.nc {}'.format(folder))\n",
    "\n",
    "def expandDim(file): #Expanding time dimension in individual nc file to be able to concatenate them\n",
    "    display('Processing file {}'.format(file))\n",
    "    while True:\n",
    "        try:\n",
    "            with Connection('localhost') as c:\n",
    "                c.local('ncks -O --mk_rec_dmn time {} out.nc'.format(file))\n",
    "                c.local('mv out.nc {}'.format(file))\n",
    "        except:\n",
    "            continue\n",
    "        break\n",
    "        \n",
    "\n",
    "pathlist = Path(folder).glob('**/norway*.nc')\n",
    "for path in pathlist:\n",
    "     expandDim(str(path))\n",
    "        \n",
    "#Concatenating files with ncrcat. Note that they will me ordered in the order they are fed to the utility. Let's rename them so they are sorted by time\n",
    "for path in pathlist:\n",
    "    oldfile = str(path)\n",
    "    idx = [-2,-3,-4]\n",
    "    newfile = folder + '_'.join([re.split('[_.-]',oldfile)[i] for i in idx]) + '.nc'\n",
    "    with Connection('localhost') as c:\n",
    "        c.local('mv {} {}'.format(oldfile,newfile))\n",
    "    \n",
    "with Connection('localhost') as c:\n",
    "    c.local(\"ncrcat -O {}*.nc ./norway.nc\".format(folder))"
   ]
  },
  {
   "cell_type": "code",
   "execution_count": null,
   "metadata": {},
   "outputs": [],
   "source": []
  }
 ],
 "metadata": {
  "kernelspec": {
   "display_name": "Python 3",
   "language": "python",
   "name": "python3"
  },
  "language_info": {
   "codemirror_mode": {
    "name": "ipython",
    "version": 3
   },
   "file_extension": ".py",
   "mimetype": "text/x-python",
   "name": "python",
   "nbconvert_exporter": "python",
   "pygments_lexer": "ipython3",
   "version": "3.7.3"
  }
 },
 "nbformat": 4,
 "nbformat_minor": 4
}
