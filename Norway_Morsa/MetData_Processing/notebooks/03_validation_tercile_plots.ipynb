{
 "cells": [
  {
   "cell_type": "markdown",
   "metadata": {},
   "source": [
    "# WATExR: validation using tercile plots\n",
    "\n",
    "This notebook performs basic validation of the seasonal forecast output by creating tercile plots. The code is modified from the original [here](https://github.com/icra/WATExR/blob/master/R/validation.R)."
   ]
  },
  {
   "cell_type": "code",
   "execution_count": 1,
   "metadata": {},
   "outputs": [
    {
     "name": "stderr",
     "output_type": "stream",
     "text": [
      "transformeR version 1.6.0 (2019-10-04) is loaded\n",
      "WARNING: Your current version of transformeR (v1.6.0) is not up-to-date\n",
      "Get the latest stable version (1.6.1) using <devtools::install_github('SantanderMetGroup/transformeR')>\n",
      "Please see 'citation(\"transformeR\")' to cite this package.\n",
      "Warning message:\n",
      "“no DISPLAY variable so Tk is not available”visualizeR version 1.5.0 (2019-10-04) is loaded\n",
      "Please see 'citation(\"visualizeR\")' to cite this package.\n"
     ]
    }
   ],
   "source": [
    "# Load packages. \n",
    "library(transformeR)\n",
    "library(visualizeR)\n",
    "library(Cairo)\n",
    "library(abind)"
   ]
  },
  {
   "cell_type": "markdown",
   "metadata": {},
   "source": [
    "## 1. User settings"
   ]
  },
  {
   "cell_type": "code",
   "execution_count": 2,
   "metadata": {},
   "outputs": [],
   "source": [
    "# Output path where the generated validation plots will be saved\n",
    "dir.validation <- './plots/'\n",
    "\n",
    "# Path where the Rdata was saved. Change to your local path)\n",
    "dir.Rdata <- './Rdata/'\n",
    "\n",
    "# Observational and seasonal forecasting datasets\n",
    "obs.dataset <- \"PIK_Obs-EWEMBI\"\n",
    "forecast.dataset <- \"System4_seasonal_15\"\n",
    "\n",
    "# Select variables for validation\n",
    "# e.g.\n",
    "val.variables <- c(\"uas\", \"vas\", \"ps\", \"tas\", \"pr\", \"rsds\", \"rlds\", \"hurs\", \"petH\")\n",
    "\n",
    "# Define metadata to generate the file name\n",
    "institution <- \"NIVA\"\n",
    "lake_id <- \"Morsa\"\n",
    "ClimateModelName <- forecast.dataset\n",
    "ExperimentName <- \"seasonal\"\n",
    "freq <- \"day\""
   ]
  },
  {
   "cell_type": "markdown",
   "metadata": {},
   "source": [
    "## 2. Load data"
   ]
  },
  {
   "cell_type": "code",
   "execution_count": 3,
   "metadata": {},
   "outputs": [
    {
     "data": {
      "text/html": [],
      "text/latex": [],
      "text/markdown": [],
      "text/plain": [
       "character(0)"
      ]
     },
     "metadata": {},
     "output_type": "display_data"
    },
    {
     "name": "stderr",
     "output_type": "stream",
     "text": [
      "Warning message in readChar(con, 5L, useBytes = TRUE):\n",
      "“cannot open compressed file './Rdata/PIK_Obs-EWEMBI_1_2_3_4_5_6_7_8_9_10_11_12_uas_vas_ps_tas_pr_rsds_rlds_hurs_petH.rda', probable reason 'No such file or directory'”"
     ]
    },
    {
     "ename": "ERROR",
     "evalue": "Error in readChar(con, 5L, useBytes = TRUE): cannot open the connection\n",
     "output_type": "error",
     "traceback": [
      "Error in readChar(con, 5L, useBytes = TRUE): cannot open the connection\nTraceback:\n",
      "1. get(load(\"./Rdata/PIK_Obs-EWEMBI_1_2_3_4_5_6_7_8_9_10_11_12_uas_vas_ps_tas_pr_rsds_rlds_hurs_petH.rda\"))",
      "2. load(\"./Rdata/PIK_Obs-EWEMBI_1_2_3_4_5_6_7_8_9_10_11_12_uas_vas_ps_tas_pr_rsds_rlds_hurs_petH.rda\")",
      "3. readChar(con, 5L, useBytes = TRUE)"
     ]
    }
   ],
   "source": [
    "# Define the variables to be loaded\n",
    "variables <- c(\"uas\", \"vas\", \"ps\", \"tas\", \"pr\", \"rsds\", \"rlds\", \"hurs\", \"petH\")\n",
    "# Or a larger string of variables: c(\"uas\", \"vas\", \"ps\", \"tas\", \"hurs\", \"rsds\", \"rlds\", \"cc\")  \n",
    "\n",
    "# Find Rdara according to a name pattern and load with the appropriate path of those printed in the console\n",
    "list.files(dir.Rdata, pattern = paste0(obs.dataset, \"_.*\", paste0(variables, collapse = \"_\")), full.names = TRUE)\n",
    "obs.data <- get(load(\"./Rdata/PIK_Obs-EWEMBI_1_2_3_4_5_6_7_8_9_10_11_12_uas_vas_ps_tas_pr_rsds_rlds_hurs_petH.rda\"))\n",
    "\n",
    "# Repeat the operation for forecast data\n",
    "list.files(dir.Rdata, pattern = paste0(forecast.dataset, \"_.*\", paste0(variables, collapse = \"_\")), full.names = TRUE)\n",
    "forecast.data <- get(load(\"./Rdata/System4_seasonal_15_2_3_4_uas_vas_ps_tas_pr_rsds_rlds_hurs_petH_BC.rda\")) \n",
    "forecast.data <- lapply(forecast.data, function(x) subsetGrid(x, season = getSeason(x)[-1]))"
   ]
  },
  {
   "cell_type": "markdown",
   "metadata": {},
   "source": [
    "## 3. Time series plots ???"
   ]
  },
  {
   "cell_type": "code",
   "execution_count": null,
   "metadata": {},
   "outputs": [],
   "source": [
    "# Retain required variables\n",
    "ind <- abind(lapply(val.variables, function(x) which(names(obs.data) == x)))\n",
    "obs <- obs.data[ind]\n",
    "ind <- abind(lapply(val.variables, function(x) which(names(forecast.data) == x)))\n",
    "hind <- forecast.data[ind]\n",
    "\n",
    "if (!identical(names(obs), names(hind))) stop(\"there is one or more variables missing in the observations and/or forecast data.\")\n",
    "\n",
    "# Subset season in obs # works for spirng-summer-autumn\n",
    "season <- getSeason(hind[[1]])\n",
    "obs.sub <- lapply(1:length(obs), function(x) {intersectGrid(obs[[x]], hind[[x]], type = \"temporal\", which.return = 1)})\n",
    "hind <- lapply(1:length(obs), function(x) {intersectGrid(obs[[x]], hind[[x]], type = \"temporal\", which.return = 2)})\n",
    "\n",
    "names(obs.sub) <- sapply(obs.sub, function(x) getVarNames(x))\n",
    "names(hind) <- sapply(hind, function(x) getVarNames(x))\n",
    "\n",
    "temporalPlot(obs.sub$pr, hind$pr)"
   ]
  },
  {
   "cell_type": "markdown",
   "metadata": {},
   "source": [
    "## 4. Validation"
   ]
  },
  {
   "cell_type": "code",
   "execution_count": null,
   "metadata": {},
   "outputs": [],
   "source": [
    "startTime <- format(as.POSIXlt(hind[[1]]$Dates$start[1]), format = \"%Y%m%d\")\n",
    "endTime <- format(as.POSIXlt(hind[[1]]$Dates$end[length(hind[[1]]$Dates$end)]), format = \"%Y%m%d\")\n",
    "\n",
    "# Create and save tercile plots\n",
    "for (i in 1:length(val.variables)) {\n",
    "  filename <- paste0(dir.validation, '/', lake_id, \"_\", institution, \"_\", ClimateModelName, \"_\", ExperimentName, \"_\", paste0(season, collapse = \"_\"), \"_\", freq,\"_\", startTime, \"-\", endTime, val.variables[i],\"_\", \".pdf\")\n",
    "  CairoPDF(file = filename, width = 10)\n",
    "  tercilePlot(obs = redim(obs.sub[[i]]), hindcast = redim(hind[[i]]))\n",
    "  dev.off()\n",
    "}"
   ]
  }
 ],
 "metadata": {
  "kernelspec": {
   "display_name": "R",
   "language": "R",
   "name": "ir"
  },
  "language_info": {
   "codemirror_mode": "r",
   "file_extension": ".r",
   "mimetype": "text/x-r-source",
   "name": "R",
   "pygments_lexer": "r",
   "version": "3.6.1"
  }
 },
 "nbformat": 4,
 "nbformat_minor": 4
}
