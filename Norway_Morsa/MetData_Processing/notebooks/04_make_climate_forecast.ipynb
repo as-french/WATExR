{
 "cells": [
  {
   "cell_type": "code",
   "execution_count": 1,
   "metadata": {},
   "outputs": [],
   "source": [
    "%matplotlib inline\n",
    "\n",
    "import pandas as pd\n",
    "import watexr_forecast as wx\n",
    "import matplotlib.pyplot as plt\n",
    "import warnings\n",
    "\n",
    "warnings.simplefilter('ignore')"
   ]
  },
  {
   "cell_type": "markdown",
   "metadata": {},
   "source": [
    "# WATExR: Seasonal forecast workflow"
   ]
  },
  {
   "cell_type": "markdown",
   "metadata": {},
   "source": [
    "## 1. Period of interest\n",
    "\n",
    "Specify the year and season of interest in the cell below."
   ]
  },
  {
   "cell_type": "code",
   "execution_count": 2,
   "metadata": {},
   "outputs": [],
   "source": [
    "# Year of interest\n",
    "year = 2001\n",
    "\n",
    "# Season of interest. Choose from:\n",
    "# ['winter', 'spring', 'early_summer', 'late_summer']\n",
    "season = 'early_summer'\n",
    "\n",
    "# Path to historic (EWEMBI) dataset for 1981 - 2010\n",
    "ewembi_path = r'../../Data/Meteorological/01_ewembi_obs/ewembi_obs_1981-2010.dat'\n",
    "\n",
    "# CSV to create summarising EWEMBI quantiles (optional - see Section 3)\n",
    "quant_path = r'../../Data/Meteorological/01_ewembi_obs/ewembi_obs_quantiles_1981-2010.csv'"
   ]
  },
  {
   "cell_type": "markdown",
   "metadata": {},
   "source": [
    "## 2. Get seasonal forecast \n",
    "\n",
    "Download and bias-correct (without cross-validation) the 15-member seasonal forecast for the specificed year and season.\n",
    "\n",
    "**Note:** Takes several minutes to complete.\n",
    "\n",
    "**Debugging:** If the call below fails, trying opening a terminal and running:\n",
    "\n",
    "    cd projects/WATExR/Norway_Morsa/MetData_Processing/notebooks\n",
    "    \n",
    "then\n",
    "\n",
    "    Rscript --vanilla get_seasonal_forecast.R 2001 5,6,7\n",
    "    \n",
    "This will give more informative errors."
   ]
  },
  {
   "cell_type": "code",
   "execution_count": 3,
   "metadata": {},
   "outputs": [
    {
     "name": "stdout",
     "output_type": "stream",
     "text": [
      "Downloading and bias-correcting seasonal forecast data (this may take 5 to 10 minutes)...\n"
     ]
    },
    {
     "ename": "CalledProcessError",
     "evalue": "Command '['Rscript', '--vanilla', 'get_seasonal_forecast.R', '2001', '5,6,7']' returned non-zero exit status 1.",
     "output_type": "error",
     "traceback": [
      "\u001b[0;31m---------------------------------------------------------------------------\u001b[0m",
      "\u001b[0;31mCalledProcessError\u001b[0m                        Traceback (most recent call last)",
      "\u001b[0;32m<timed exec>\u001b[0m in \u001b[0;36m<module>\u001b[0;34m\u001b[0m\n",
      "\u001b[0;32m~/projects/WATExR/Norway_Morsa/MetData_Processing/notebooks/watexr_forecast.py\u001b[0m in \u001b[0;36mget_seasonal_forecast\u001b[0;34m(year, season)\u001b[0m\n\u001b[1;32m     84\u001b[0m                                  \u001b[0mstr\u001b[0m\u001b[0;34m(\u001b[0m\u001b[0myear\u001b[0m\u001b[0;34m)\u001b[0m\u001b[0;34m,\u001b[0m\u001b[0;34m\u001b[0m\u001b[0;34m\u001b[0m\u001b[0m\n\u001b[1;32m     85\u001b[0m                                  months_dict[season]],\n\u001b[0;32m---> 86\u001b[0;31m                                 \u001b[0mcwd\u001b[0m\u001b[0;34m=\u001b[0m\u001b[0mos\u001b[0m\u001b[0;34m.\u001b[0m\u001b[0mpath\u001b[0m\u001b[0;34m.\u001b[0m\u001b[0mdirname\u001b[0m\u001b[0;34m(\u001b[0m\u001b[0mos\u001b[0m\u001b[0;34m.\u001b[0m\u001b[0mpath\u001b[0m\u001b[0;34m.\u001b[0m\u001b[0mrealpath\u001b[0m\u001b[0;34m(\u001b[0m\u001b[0m__file__\u001b[0m\u001b[0;34m)\u001b[0m\u001b[0;34m)\u001b[0m\u001b[0;34m,\u001b[0m\u001b[0;34m\u001b[0m\u001b[0;34m\u001b[0m\u001b[0m\n\u001b[0m\u001b[1;32m     87\u001b[0m                                )\n\u001b[1;32m     88\u001b[0m \u001b[0;34m\u001b[0m\u001b[0m\n",
      "\u001b[0;32m/opt/conda/lib/python3.7/subprocess.py\u001b[0m in \u001b[0;36mcheck_call\u001b[0;34m(*popenargs, **kwargs)\u001b[0m\n\u001b[1;32m    345\u001b[0m         \u001b[0;32mif\u001b[0m \u001b[0mcmd\u001b[0m \u001b[0;32mis\u001b[0m \u001b[0;32mNone\u001b[0m\u001b[0;34m:\u001b[0m\u001b[0;34m\u001b[0m\u001b[0;34m\u001b[0m\u001b[0m\n\u001b[1;32m    346\u001b[0m             \u001b[0mcmd\u001b[0m \u001b[0;34m=\u001b[0m \u001b[0mpopenargs\u001b[0m\u001b[0;34m[\u001b[0m\u001b[0;36m0\u001b[0m\u001b[0;34m]\u001b[0m\u001b[0;34m\u001b[0m\u001b[0;34m\u001b[0m\u001b[0m\n\u001b[0;32m--> 347\u001b[0;31m         \u001b[0;32mraise\u001b[0m \u001b[0mCalledProcessError\u001b[0m\u001b[0;34m(\u001b[0m\u001b[0mretcode\u001b[0m\u001b[0;34m,\u001b[0m \u001b[0mcmd\u001b[0m\u001b[0;34m)\u001b[0m\u001b[0;34m\u001b[0m\u001b[0;34m\u001b[0m\u001b[0m\n\u001b[0m\u001b[1;32m    348\u001b[0m     \u001b[0;32mreturn\u001b[0m \u001b[0;36m0\u001b[0m\u001b[0;34m\u001b[0m\u001b[0;34m\u001b[0m\u001b[0m\n\u001b[1;32m    349\u001b[0m \u001b[0;34m\u001b[0m\u001b[0m\n",
      "\u001b[0;31mCalledProcessError\u001b[0m: Command '['Rscript', '--vanilla', 'get_seasonal_forecast.R', '2001', '5,6,7']' returned non-zero exit status 1."
     ]
    }
   ],
   "source": [
    "%%time\n",
    "\n",
    "# Download and bias correct S4 data\n",
    "res = wx.get_seasonal_forecast(year, season)"
   ]
  },
  {
   "cell_type": "markdown",
   "metadata": {},
   "source": [
    "## 3. (Re-)Calculate historic EWEMBI quantiles (optional)\n",
    "\n",
    "**Note:** This cell only needs to be re-run if the EWEMBI dataset is changed or updated."
   ]
  },
  {
   "cell_type": "code",
   "execution_count": null,
   "metadata": {},
   "outputs": [],
   "source": [
    "# Summarise EWEMBI data\n",
    "wx.calculate_ewembi_quantiles(ewembi_path, \n",
    "                              quant_path, \n",
    "                              quants=[0.05, 0.33, 0.67, 0.95],\n",
    "                              names=['date', 'time', 'uas', 'vas', 'ps', 'tas', 'pr', 'hurs', 'petH'],\n",
    "                             )"
   ]
  },
  {
   "cell_type": "markdown",
   "metadata": {},
   "source": [
    "## 4. Aggregate seasonal forecast data"
   ]
  },
  {
   "cell_type": "code",
   "execution_count": null,
   "metadata": {},
   "outputs": [],
   "source": [
    "# Average seasonal data\n",
    "s4_df = wx.aggregate_seasonal_forecast(season, \n",
    "                                       par_list=['tas', 'pr', 'wind'],\n",
    "                                       names=['date', 'time', 'uas', 'vas', 'ps', 'tas', 'pr', 'hurs', 'petH'],\n",
    "                                      )\n",
    "s4_df"
   ]
  },
  {
   "cell_type": "markdown",
   "metadata": {},
   "source": [
    "## 5. Compare S4 forecast to historic EWEMBI quantiles\n",
    "\n",
    "Classifies the S4 forecast for this season as \"Extreme low\", \"Below normal\", \" Near normal\", \"Above normal\" or \"Extreme high\", based on historic EWEMBI quantiles."
   ]
  },
  {
   "cell_type": "code",
   "execution_count": null,
   "metadata": {},
   "outputs": [],
   "source": [
    "# Classify forecast\n",
    "res_dict = wx.compare_s4_to_ewembi(quant_path, \n",
    "                                   season, \n",
    "                                   s4_df, \n",
    "                                   par_list=['tas', 'pr', 'wind'],\n",
    "                                   normal_quants=[0.33, 0.67], \n",
    "                                   extreme_quants=[0.05, 0.95],\n",
    "                                  )\n",
    "\n",
    "res_dict"
   ]
  },
  {
   "cell_type": "markdown",
   "metadata": {},
   "source": [
    "## 6. Make forecast PNG\n",
    "\n",
    "**Note:** The forecast reliability score for \"wind\" is currently based on the ROCSS score for `uas` **only**. Need to fix this."
   ]
  },
  {
   "cell_type": "code",
   "execution_count": null,
   "metadata": {},
   "outputs": [],
   "source": [
    "# Read table of historic performance\n",
    "xl_path = r'../../Data/Meteorological/04_tercile_plots/seasonal_forecast_performance_1981-2010.xlsx'\n",
    "perf_df = pd.read_excel(xl_path)\n",
    "\n",
    "# Make summary image\n",
    "forecast_png = r'forecast_output/climate_forecast_summary.png'\n",
    "wx.make_climate_forecast_png(season, res_dict, perf_df, forecast_png)"
   ]
  },
  {
   "cell_type": "markdown",
   "metadata": {},
   "source": [
    "## 7. Make forecast PDF"
   ]
  },
  {
   "cell_type": "code",
   "execution_count": null,
   "metadata": {},
   "outputs": [],
   "source": [
    "# Export PDF\n",
    "wx.make_forecast_pdf(year, season)"
   ]
  }
 ],
 "metadata": {
  "kernelspec": {
   "display_name": "Python 3",
   "language": "python",
   "name": "python3"
  },
  "language_info": {
   "codemirror_mode": {
    "name": "ipython",
    "version": 3
   },
   "file_extension": ".py",
   "mimetype": "text/x-python",
   "name": "python",
   "nbconvert_exporter": "python",
   "pygments_lexer": "ipython3",
   "version": "3.7.3"
  }
 },
 "nbformat": 4,
 "nbformat_minor": 4
}
