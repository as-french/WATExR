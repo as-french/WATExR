{
 "cells": [
  {
   "cell_type": "code",
   "execution_count": 1,
   "metadata": {},
   "outputs": [],
   "source": [
    "%matplotlib inline\n",
    "\n",
    "import pandas as pd\n",
    "import watexr_forecast as wx\n",
    "import matplotlib.pyplot as plt\n",
    "import warnings\n",
    "\n",
    "warnings.simplefilter('ignore')"
   ]
  },
  {
   "cell_type": "markdown",
   "metadata": {},
   "source": [
    "# WATExR: Seasonal forecast workflow"
   ]
  },
  {
   "cell_type": "markdown",
   "metadata": {},
   "source": [
    "## 1. Period of interest\n",
    "\n",
    "Specify the year and season of interest in the cell below."
   ]
  },
  {
   "cell_type": "code",
   "execution_count": 2,
   "metadata": {},
   "outputs": [],
   "source": [
    "# Year of interest\n",
    "year = 2001\n",
    "\n",
    "# Season of interest. Choose from:\n",
    "# ['winter', 'spring', 'early_summer', 'late_summer']\n",
    "season = 'early_summer'\n",
    "\n",
    "# Path to historic (EWEMBI) dataset for 1981 - 2010\n",
    "ewembi_path = r'../../Data/Meteorological/01_ewembi_obs/ewembi_obs_1981-2010.dat'\n",
    "\n",
    "# CSV to create summarising EWEMBI quantiles (optional - see Section 3)\n",
    "quant_path = r'../../Data/Meteorological/01_ewembi_obs/ewembi_obs_quantiles_1981-2010.csv'"
   ]
  },
  {
   "cell_type": "markdown",
   "metadata": {},
   "source": [
    "## 2. Get seasonal forecast \n",
    "\n",
    "Download and bias-correct (without cross-validation) the 15-member seasonal forecast for the specificed year and season.\n",
    "\n",
    "**Note:** Takes several minutes to complete."
   ]
  },
  {
   "cell_type": "code",
   "execution_count": 3,
   "metadata": {},
   "outputs": [
    {
     "name": "stdout",
     "output_type": "stream",
     "text": [
      "The folder:\n",
      "    WATExR/Norway_Morsa/Data/Meteorological/05_temporary_forecast_data/Morsa/CLIMATE\n",
      "\n",
      "already contains S4 model output.\n",
      "\n"
     ]
    },
    {
     "name": "stdin",
     "output_type": "stream",
     "text": [
      "These files will be deleted and new data will be downloaded for the specified year and season.\n",
      "Do you want to continue? (y/n):  y\n"
     ]
    },
    {
     "name": "stdout",
     "output_type": "stream",
     "text": [
      "Old data has been deleted.\n",
      "\n",
      "Downloading and bias-correcting seasonal forecast data (this may take 5 to 10 minutes)...\n",
      "Done.\n",
      "Data saved to:\n",
      "    WATExR/Norway_Morsa/Data/Meteorological/05_temporary_forecast_data\n",
      "\n",
      "CPU times: user 17.1 ms, sys: 9.44 ms, total: 26.5 ms\n",
      "Wall time: 3min 55s\n"
     ]
    }
   ],
   "source": [
    "%%time\n",
    "\n",
    "# Download and bias correct S4 data\n",
    "res = wx.get_seasonal_forecast(year, season)"
   ]
  },
  {
   "cell_type": "markdown",
   "metadata": {},
   "source": [
    "## 3. (Re-)Calculate historic EWEMBI quantiles (optional)\n",
    "\n",
    "**Note:** This cell only needs to be re-run if the EWEMBI dataset is changed or updated."
   ]
  },
  {
   "cell_type": "code",
   "execution_count": 4,
   "metadata": {},
   "outputs": [],
   "source": [
    "# Summarise EWEMBI data\n",
    "wx.calculate_ewembi_quantiles(ewembi_path, \n",
    "                              quant_path, \n",
    "                              quants=[0.05, 0.33, 0.67, 0.95],\n",
    "                              names=['date', 'time', 'uas', 'vas', 'ps', 'tas', 'pr', 'hurs', 'petH'],\n",
    "                             )"
   ]
  },
  {
   "cell_type": "markdown",
   "metadata": {},
   "source": [
    "## 4. Aggregate seasonal forecast data"
   ]
  },
  {
   "cell_type": "code",
   "execution_count": 5,
   "metadata": {},
   "outputs": [
    {
     "data": {
      "text/html": [
       "<div>\n",
       "<style scoped>\n",
       "    .dataframe tbody tr th:only-of-type {\n",
       "        vertical-align: middle;\n",
       "    }\n",
       "\n",
       "    .dataframe tbody tr th {\n",
       "        vertical-align: top;\n",
       "    }\n",
       "\n",
       "    .dataframe thead th {\n",
       "        text-align: right;\n",
       "    }\n",
       "</style>\n",
       "<table border=\"1\" class=\"dataframe\">\n",
       "  <thead>\n",
       "    <tr style=\"text-align: right;\">\n",
       "      <th></th>\n",
       "      <th>tas</th>\n",
       "      <th>pr</th>\n",
       "      <th>wind</th>\n",
       "    </tr>\n",
       "    <tr>\n",
       "      <th>member</th>\n",
       "      <th></th>\n",
       "      <th></th>\n",
       "      <th></th>\n",
       "    </tr>\n",
       "  </thead>\n",
       "  <tbody>\n",
       "    <tr>\n",
       "      <td>01</td>\n",
       "      <td>12.977575</td>\n",
       "      <td>1.741301</td>\n",
       "      <td>2.887250</td>\n",
       "    </tr>\n",
       "    <tr>\n",
       "      <td>02</td>\n",
       "      <td>14.449429</td>\n",
       "      <td>1.652783</td>\n",
       "      <td>2.599823</td>\n",
       "    </tr>\n",
       "    <tr>\n",
       "      <td>03</td>\n",
       "      <td>14.669597</td>\n",
       "      <td>1.161666</td>\n",
       "      <td>2.374058</td>\n",
       "    </tr>\n",
       "    <tr>\n",
       "      <td>04</td>\n",
       "      <td>14.508759</td>\n",
       "      <td>2.359823</td>\n",
       "      <td>2.388216</td>\n",
       "    </tr>\n",
       "    <tr>\n",
       "      <td>05</td>\n",
       "      <td>14.271840</td>\n",
       "      <td>2.870232</td>\n",
       "      <td>2.547451</td>\n",
       "    </tr>\n",
       "    <tr>\n",
       "      <td>06</td>\n",
       "      <td>14.112660</td>\n",
       "      <td>1.715506</td>\n",
       "      <td>3.090637</td>\n",
       "    </tr>\n",
       "    <tr>\n",
       "      <td>07</td>\n",
       "      <td>13.887294</td>\n",
       "      <td>1.579319</td>\n",
       "      <td>2.493314</td>\n",
       "    </tr>\n",
       "    <tr>\n",
       "      <td>08</td>\n",
       "      <td>13.468209</td>\n",
       "      <td>1.269454</td>\n",
       "      <td>2.564586</td>\n",
       "    </tr>\n",
       "    <tr>\n",
       "      <td>09</td>\n",
       "      <td>13.824921</td>\n",
       "      <td>2.251951</td>\n",
       "      <td>2.553203</td>\n",
       "    </tr>\n",
       "    <tr>\n",
       "      <td>10</td>\n",
       "      <td>13.554381</td>\n",
       "      <td>1.796703</td>\n",
       "      <td>3.001110</td>\n",
       "    </tr>\n",
       "    <tr>\n",
       "      <td>11</td>\n",
       "      <td>14.093062</td>\n",
       "      <td>1.553751</td>\n",
       "      <td>2.475850</td>\n",
       "    </tr>\n",
       "    <tr>\n",
       "      <td>12</td>\n",
       "      <td>14.032186</td>\n",
       "      <td>1.884448</td>\n",
       "      <td>2.643912</td>\n",
       "    </tr>\n",
       "    <tr>\n",
       "      <td>13</td>\n",
       "      <td>14.266795</td>\n",
       "      <td>1.774610</td>\n",
       "      <td>2.479011</td>\n",
       "    </tr>\n",
       "    <tr>\n",
       "      <td>14</td>\n",
       "      <td>15.087365</td>\n",
       "      <td>2.201573</td>\n",
       "      <td>2.354304</td>\n",
       "    </tr>\n",
       "    <tr>\n",
       "      <td>15</td>\n",
       "      <td>13.388355</td>\n",
       "      <td>1.986368</td>\n",
       "      <td>2.766706</td>\n",
       "    </tr>\n",
       "  </tbody>\n",
       "</table>\n",
       "</div>"
      ],
      "text/plain": [
       "              tas        pr      wind\n",
       "member                               \n",
       "01      12.977575  1.741301  2.887250\n",
       "02      14.449429  1.652783  2.599823\n",
       "03      14.669597  1.161666  2.374058\n",
       "04      14.508759  2.359823  2.388216\n",
       "05      14.271840  2.870232  2.547451\n",
       "06      14.112660  1.715506  3.090637\n",
       "07      13.887294  1.579319  2.493314\n",
       "08      13.468209  1.269454  2.564586\n",
       "09      13.824921  2.251951  2.553203\n",
       "10      13.554381  1.796703  3.001110\n",
       "11      14.093062  1.553751  2.475850\n",
       "12      14.032186  1.884448  2.643912\n",
       "13      14.266795  1.774610  2.479011\n",
       "14      15.087365  2.201573  2.354304\n",
       "15      13.388355  1.986368  2.766706"
      ]
     },
     "execution_count": 5,
     "metadata": {},
     "output_type": "execute_result"
    }
   ],
   "source": [
    "# Average seasonal data\n",
    "s4_df = wx.aggregate_seasonal_forecast(season, \n",
    "                                       par_list=['tas', 'pr', 'wind'],\n",
    "                                       names=['date', 'time', 'uas', 'vas', 'ps', 'tas', 'pr', 'hurs', 'petH'],\n",
    "                                      )\n",
    "s4_df"
   ]
  },
  {
   "cell_type": "markdown",
   "metadata": {},
   "source": [
    "## 5. Compare S4 forecast to historic EWEMBI quantiles\n",
    "\n",
    "Classifies the S4 forecast for this season as \"Extreme low\", \"Below normal\", \" Near normal\", \"Above normal\" or \"Extreme high\", based on historic EWEMBI quantiles."
   ]
  },
  {
   "cell_type": "code",
   "execution_count": 6,
   "metadata": {},
   "outputs": [
    {
     "data": {
      "text/plain": [
       "{'tas': {'tercile': 'Above normal',\n",
       "  'tercile_prob': 40.0,\n",
       "  'extreme': 'Not extreme',\n",
       "  'extreme_prob': 100.0},\n",
       " 'pr': {'tercile': 'Below normal',\n",
       "  'tercile_prob': 66.66666666666667,\n",
       "  'extreme': 'Not extreme',\n",
       "  'extreme_prob': 73.33333333333333},\n",
       " 'wind': {'tercile': 'Below normal',\n",
       "  'tercile_prob': 73.33333333333333,\n",
       "  'extreme': 'Not extreme',\n",
       "  'extreme_prob': 86.66666666666667}}"
      ]
     },
     "execution_count": 6,
     "metadata": {},
     "output_type": "execute_result"
    }
   ],
   "source": [
    "# Classify forecast\n",
    "res_dict = wx.compare_s4_to_ewembi(quant_path, \n",
    "                                   season, \n",
    "                                   s4_df, \n",
    "                                   par_list=['tas', 'pr', 'wind'],\n",
    "                                   normal_quants=[0.33, 0.67], \n",
    "                                   extreme_quants=[0.05, 0.95],\n",
    "                                  )\n",
    "\n",
    "res_dict"
   ]
  },
  {
   "cell_type": "markdown",
   "metadata": {},
   "source": [
    "## 6. Make forecast PNG\n",
    "\n",
    "**Note:** The forecast reliability score for \"wind\" is currently based on the ROCSS score for `uas` **only**. Need to fix this."
   ]
  },
  {
   "cell_type": "code",
   "execution_count": 7,
   "metadata": {},
   "outputs": [
    {
     "data": {
      "image/png": "[encoded data removed]",
      "text/plain": [
       "<Figure size 507.6x218.16 with 1 Axes>"
      ]
     },
     "metadata": {
      "needs_background": "light"
     },
     "output_type": "display_data"
    }
   ],
   "source": [
    "# Read table of historic performance\n",
    "xl_path = r'../../Data/Meteorological/04_tercile_plots/seasonal_forecast_performance_1981-2010.xlsx'\n",
    "perf_df = pd.read_excel(xl_path)\n",
    "\n",
    "# Make summary image\n",
    "forecast_png = r'forecast_output/climate_forecast_summary.png'\n",
    "wx.make_climate_forecast_png(season, res_dict, perf_df, forecast_png)"
   ]
  },
  {
   "cell_type": "markdown",
   "metadata": {},
   "source": [
    "## 7. Make forecast PDF"
   ]
  },
  {
   "cell_type": "code",
   "execution_count": 8,
   "metadata": {},
   "outputs": [
    {
     "name": "stdout",
     "output_type": "stream",
     "text": [
      "Forecast saved to:\n",
      "\n",
      "    /home/jovyan/projects/WATExR/Norway_Morsa/MetData_Processing/notebooks/forecast_output/morsa_forecast_early_summer_2001.pdf\n"
     ]
    }
   ],
   "source": [
    "# Export PDF\n",
    "wx.make_forecast_pdf(year, season)"
   ]
  }
 ],
 "metadata": {
  "kernelspec": {
   "display_name": "Python 3",
   "language": "python",
   "name": "python3"
  },
  "language_info": {
   "codemirror_mode": {
    "name": "ipython",
    "version": 3
   },
   "file_extension": ".py",
   "mimetype": "text/x-python",
   "name": "python",
   "nbconvert_exporter": "python",
   "pygments_lexer": "ipython3",
   "version": "3.7.3"
  }
 },
 "nbformat": 4,
 "nbformat_minor": 4
}
