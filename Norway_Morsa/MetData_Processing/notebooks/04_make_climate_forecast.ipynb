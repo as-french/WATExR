{
 "cells": [
  {
   "cell_type": "code",
   "execution_count": 1,
   "metadata": {},
   "outputs": [],
   "source": [
    "%matplotlib inline\n",
    "\n",
    "import pandas as pd\n",
    "import watexr_forecast as wx\n",
    "import matplotlib.pyplot as plt\n",
    "import warnings\n",
    "\n",
    "warnings.simplefilter('ignore')"
   ]
  },
  {
   "cell_type": "markdown",
   "metadata": {},
   "source": [
    "# WATExR: Seasonal forecast workflow"
   ]
  },
  {
   "cell_type": "markdown",
   "metadata": {},
   "source": [
    "## 1. Period of interest\n",
    "\n",
    "Specify the year and season of interest in the cell below."
   ]
  },
  {
   "cell_type": "code",
   "execution_count": 2,
   "metadata": {},
   "outputs": [],
   "source": [
    "# Year of interest\n",
    "year = 2000\n",
    "\n",
    "# Season of interest. Choose from:\n",
    "# ['winter', 'spring', 'early_summer', 'late_summer']\n",
    "season = 'spring'\n",
    "\n",
    "# Path to historic (EWEMBI) dataset for 1981 - 2010\n",
    "ewembi_path = r'../../Data/Meteorological/01_ewembi_obs/ewembi_obs_1981-2010.dat'\n",
    "\n",
    "# CSV to create summarising EWEMBI quantiles (optional - see Section 3)\n",
    "quant_path = r'../../Data/Meteorological/01_ewembi_obs/ewembi_obs_quantiles_1981-2010.csv'"
   ]
  },
  {
   "cell_type": "markdown",
   "metadata": {},
   "source": [
    "## 2. Get seasonal forecast \n",
    "\n",
    "Download and bias-correct (without cross-validation) the 15-member seasonal forecast for the specificed year and season.\n",
    "\n",
    "**Note:** Takes several minutes to complete."
   ]
  },
  {
   "cell_type": "code",
   "execution_count": 3,
   "metadata": {},
   "outputs": [],
   "source": [
    "#%%time\n",
    "#res = wx.get_seasonal_forecast(year, season)"
   ]
  },
  {
   "cell_type": "markdown",
   "metadata": {},
   "source": [
    "## 3. (Re-)Calculate historic EWEMBI quantiles (optional)\n",
    "\n",
    "**Note:** This cell only needs to be re-run if the EWEMBI dataset is changed or updated."
   ]
  },
  {
   "cell_type": "code",
   "execution_count": 4,
   "metadata": {},
   "outputs": [],
   "source": [
    "# Summarise EWEMBI data\n",
    "wx.calculate_ewembi_quantiles(ewembi_path, \n",
    "                              quant_path, \n",
    "                              quants=[0.05, 0.33, 0.67, 0.95],\n",
    "                              names=['date', 'time', 'uas', 'vas', 'ps', 'tas', 'pr', 'hurs', 'petH'],\n",
    "                             )"
   ]
  },
  {
   "cell_type": "markdown",
   "metadata": {},
   "source": [
    "## 4. Aggregate seasonal forecast data"
   ]
  },
  {
   "cell_type": "code",
   "execution_count": 5,
   "metadata": {},
   "outputs": [
    {
     "data": {
      "text/html": [
       "<div>\n",
       "<style scoped>\n",
       "    .dataframe tbody tr th:only-of-type {\n",
       "        vertical-align: middle;\n",
       "    }\n",
       "\n",
       "    .dataframe tbody tr th {\n",
       "        vertical-align: top;\n",
       "    }\n",
       "\n",
       "    .dataframe thead th {\n",
       "        text-align: right;\n",
       "    }\n",
       "</style>\n",
       "<table border=\"1\" class=\"dataframe\">\n",
       "  <thead>\n",
       "    <tr style=\"text-align: right;\">\n",
       "      <th></th>\n",
       "      <th>tas</th>\n",
       "      <th>pr</th>\n",
       "      <th>wind</th>\n",
       "    </tr>\n",
       "    <tr>\n",
       "      <th>member</th>\n",
       "      <th></th>\n",
       "      <th></th>\n",
       "      <th></th>\n",
       "    </tr>\n",
       "  </thead>\n",
       "  <tbody>\n",
       "    <tr>\n",
       "      <td>01</td>\n",
       "      <td>-0.041890</td>\n",
       "      <td>2.219180</td>\n",
       "      <td>2.841993</td>\n",
       "    </tr>\n",
       "    <tr>\n",
       "      <td>02</td>\n",
       "      <td>3.868580</td>\n",
       "      <td>2.301571</td>\n",
       "      <td>3.437018</td>\n",
       "    </tr>\n",
       "    <tr>\n",
       "      <td>03</td>\n",
       "      <td>1.964248</td>\n",
       "      <td>2.539741</td>\n",
       "      <td>3.299554</td>\n",
       "    </tr>\n",
       "    <tr>\n",
       "      <td>04</td>\n",
       "      <td>3.015373</td>\n",
       "      <td>1.142011</td>\n",
       "      <td>3.416503</td>\n",
       "    </tr>\n",
       "    <tr>\n",
       "      <td>05</td>\n",
       "      <td>0.730747</td>\n",
       "      <td>1.948192</td>\n",
       "      <td>2.872380</td>\n",
       "    </tr>\n",
       "    <tr>\n",
       "      <td>06</td>\n",
       "      <td>2.641572</td>\n",
       "      <td>0.994982</td>\n",
       "      <td>2.892356</td>\n",
       "    </tr>\n",
       "    <tr>\n",
       "      <td>07</td>\n",
       "      <td>2.417041</td>\n",
       "      <td>2.103120</td>\n",
       "      <td>2.913799</td>\n",
       "    </tr>\n",
       "    <tr>\n",
       "      <td>08</td>\n",
       "      <td>3.925111</td>\n",
       "      <td>1.940949</td>\n",
       "      <td>3.313710</td>\n",
       "    </tr>\n",
       "    <tr>\n",
       "      <td>09</td>\n",
       "      <td>2.283365</td>\n",
       "      <td>2.274356</td>\n",
       "      <td>2.628727</td>\n",
       "    </tr>\n",
       "    <tr>\n",
       "      <td>10</td>\n",
       "      <td>1.025618</td>\n",
       "      <td>1.913968</td>\n",
       "      <td>2.745468</td>\n",
       "    </tr>\n",
       "    <tr>\n",
       "      <td>11</td>\n",
       "      <td>3.871244</td>\n",
       "      <td>1.607833</td>\n",
       "      <td>3.345846</td>\n",
       "    </tr>\n",
       "    <tr>\n",
       "      <td>12</td>\n",
       "      <td>2.933430</td>\n",
       "      <td>2.327297</td>\n",
       "      <td>3.234682</td>\n",
       "    </tr>\n",
       "    <tr>\n",
       "      <td>13</td>\n",
       "      <td>3.878634</td>\n",
       "      <td>2.613706</td>\n",
       "      <td>3.429955</td>\n",
       "    </tr>\n",
       "    <tr>\n",
       "      <td>14</td>\n",
       "      <td>0.838323</td>\n",
       "      <td>2.320807</td>\n",
       "      <td>3.135594</td>\n",
       "    </tr>\n",
       "    <tr>\n",
       "      <td>15</td>\n",
       "      <td>4.419741</td>\n",
       "      <td>2.657501</td>\n",
       "      <td>3.243358</td>\n",
       "    </tr>\n",
       "  </tbody>\n",
       "</table>\n",
       "</div>"
      ],
      "text/plain": [
       "             tas        pr      wind\n",
       "member                              \n",
       "01     -0.041890  2.219180  2.841993\n",
       "02      3.868580  2.301571  3.437018\n",
       "03      1.964248  2.539741  3.299554\n",
       "04      3.015373  1.142011  3.416503\n",
       "05      0.730747  1.948192  2.872380\n",
       "06      2.641572  0.994982  2.892356\n",
       "07      2.417041  2.103120  2.913799\n",
       "08      3.925111  1.940949  3.313710\n",
       "09      2.283365  2.274356  2.628727\n",
       "10      1.025618  1.913968  2.745468\n",
       "11      3.871244  1.607833  3.345846\n",
       "12      2.933430  2.327297  3.234682\n",
       "13      3.878634  2.613706  3.429955\n",
       "14      0.838323  2.320807  3.135594\n",
       "15      4.419741  2.657501  3.243358"
      ]
     },
     "execution_count": 5,
     "metadata": {},
     "output_type": "execute_result"
    }
   ],
   "source": [
    "s4_df = wx.aggregate_seasonal_forecast(season, \n",
    "                                       par_list=['tas', 'pr', 'wind'],\n",
    "                                       names=['date', 'time', 'uas', 'vas', 'ps', 'tas', 'pr', 'hurs', 'petH'],\n",
    "                                      )\n",
    "s4_df"
   ]
  },
  {
   "cell_type": "markdown",
   "metadata": {},
   "source": [
    "## 5. Compare S4 forecast to historic EWEMBI quantiles\n",
    "\n",
    "Classifies the S4 forecast for this season as \"Extreme low\", \"Below normal\", \" Near normal\", \"Above normal\" or \"Extreme high\", based on historic EWEMBI quantiles."
   ]
  },
  {
   "cell_type": "code",
   "execution_count": 6,
   "metadata": {},
   "outputs": [
    {
     "data": {
      "text/plain": [
       "{'tas': {'tercile': 'Above normal',\n",
       "  'tercile_prob': 66.66666666666667,\n",
       "  'extreme': 'Not extreme',\n",
       "  'extreme_prob': 66.66666666666667},\n",
       " 'pr': {'tercile': 'Near normal',\n",
       "  'tercile_prob': 60.0,\n",
       "  'extreme': 'Not extreme',\n",
       "  'extreme_prob': 100.0},\n",
       " 'wind': {'tercile': 'Above normal',\n",
       "  'tercile_prob': 53.333333333333336,\n",
       "  'extreme': 'Not extreme',\n",
       "  'extreme_prob': 100.0}}"
      ]
     },
     "execution_count": 6,
     "metadata": {},
     "output_type": "execute_result"
    }
   ],
   "source": [
    "res_dict = wx.compare_s4_to_ewembi(quant_path, \n",
    "                                   season, \n",
    "                                   s4_df, \n",
    "                                   par_list=['tas', 'pr', 'wind'],\n",
    "                                   normal_quants=[0.33, 0.67], \n",
    "                                   extreme_quants=[0.05, 0.95],\n",
    "                                  )\n",
    "\n",
    "res_dict"
   ]
  },
  {
   "cell_type": "markdown",
   "metadata": {},
   "source": [
    "## 6. Make forecast PNG\n",
    "\n",
    "**Note:** The forecast reliability score for \"wind\" is currently based on the ROCSS score for `uas` **only**. Need to fix this."
   ]
  },
  {
   "cell_type": "code",
   "execution_count": 7,
   "metadata": {},
   "outputs": [
    {
     "data": {
      "image/png": "[encoded data removed]",
      "text/plain": [
       "<Figure size 507.6x218.16 with 1 Axes>"
      ]
     },
     "metadata": {
      "needs_background": "light"
     },
     "output_type": "display_data"
    }
   ],
   "source": [
    "# Read table of historic performance\n",
    "xl_path = r'../../Data/Meteorological/04_tercile_plots/seasonal_forecast_performance_1981-2010.xlsx'\n",
    "perf_df = pd.read_excel(xl_path)\n",
    "\n",
    "# Make summary image\n",
    "forecast_png = r'forecast_output/climate_forecast_summary.png'\n",
    "wx.make_climate_forecast_png(season, res_dict, perf_df, forecast_png)"
   ]
  },
  {
   "cell_type": "markdown",
   "metadata": {},
   "source": [
    "## 7. Make forecast PDF"
   ]
  },
  {
   "cell_type": "code",
   "execution_count": 8,
   "metadata": {},
   "outputs": [],
   "source": [
    "wx.make_forecast_pdf(year, season)"
   ]
  }
 ],
 "metadata": {
  "kernelspec": {
   "display_name": "Python 3",
   "language": "python",
   "name": "python3"
  },
  "language_info": {
   "codemirror_mode": {
    "name": "ipython",
    "version": 3
   },
   "file_extension": ".py",
   "mimetype": "text/x-python",
   "name": "python",
   "nbconvert_exporter": "python",
   "pygments_lexer": "ipython3",
   "version": "3.7.3"
  }
 },
 "nbformat": 4,
 "nbformat_minor": 4
}
