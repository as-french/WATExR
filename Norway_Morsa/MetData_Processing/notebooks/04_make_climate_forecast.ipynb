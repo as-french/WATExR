{
 "cells": [
  {
   "cell_type": "code",
   "execution_count": null,
   "metadata": {},
   "outputs": [],
   "source": [
    "%matplotlib inline\n",
    "\n",
    "import subprocess\n",
    "import pandas as pd\n",
    "import numpy as np\n",
    "import os\n",
    "import matplotlib.pyplot as plt\n",
    "import warnings\n",
    "\n",
    "warnings.simplefilter('ignore')"
   ]
  },
  {
   "cell_type": "markdown",
   "metadata": {},
   "source": [
    "# WATExR: Forecast workflow"
   ]
  },
  {
   "cell_type": "markdown",
   "metadata": {},
   "source": [
    "## 1. Get seasonal forecast \n",
    "\n",
    "Downloads and bias-corrects (without cross-validation) the 15-member seasonal forecast for the specificed year and season.\n",
    "\n",
    "**Note:** Takes several minutes to complete."
   ]
  },
  {
   "cell_type": "code",
   "execution_count": null,
   "metadata": {},
   "outputs": [],
   "source": [
    "year = 2000\n",
    "\n",
    "# Season ('winter', 'spring', early_summer' or 'late_summer')\n",
    "season = 'winter'"
   ]
  },
  {
   "cell_type": "code",
   "execution_count": null,
   "metadata": {},
   "outputs": [],
   "source": [
    "# Map season to months\n",
    "months_dict = {'winter':      '11,12,1',\n",
    "               'spring':      '2,3,4',\n",
    "               'early_summer':'5,6,7',\n",
    "               'late_summer': '8,9,10',\n",
    "              }\n",
    "\n",
    "assert season in months_dict.keys(), \"'season' must be one of ('winter', 'spring', early_summer', 'late_summer').\""
   ]
  },
  {
   "cell_type": "code",
   "execution_count": null,
   "metadata": {},
   "outputs": [],
   "source": [
    "# Process seasoanl data using R\n",
    "# This takes a while!\n",
    "res = subprocess.check_call(['Rscript',\n",
    "                             '--vanilla',\n",
    "                             'get_seasonal_forecast.R',\n",
    "                             str(year),\n",
    "                             months_dict[season]],\n",
    "                           )"
   ]
  },
  {
   "cell_type": "markdown",
   "metadata": {},
   "source": [
    "## 2. Compare forecast to historic record"
   ]
  },
  {
   "cell_type": "code",
   "execution_count": null,
   "metadata": {},
   "outputs": [],
   "source": [
    "def get_season(row):\n",
    "    if row['date'].month in (11, 12, 1):\n",
    "        return 'winter'\n",
    "    elif row['date'].month in (2, 3, 4):\n",
    "        return 'spring'\n",
    "    elif row['date'].month in (5, 6, 7):\n",
    "        return 'early_summer'\n",
    "    elif row['date'].month in (8, 9, 10):\n",
    "        return 'late_summer'\n",
    "    else:\n",
    "        return np.nan"
   ]
  },
  {
   "cell_type": "markdown",
   "metadata": {},
   "source": [
    "### 2.1. Read EWEMBI dataset (1981 - 2010)\n",
    "\n",
    "**Note:** The code in Section 2.1 only needs to be re-run if the EWEMBI dataset changes. Quantiles are saved in\n",
    "\n",
    "    WATExR/Norway_Morsa/Data/Meteorological/01_ewembi_obs/ewembi_obs_quantiles_1981-2010.csv"
   ]
  },
  {
   "cell_type": "code",
   "execution_count": null,
   "metadata": {},
   "outputs": [],
   "source": [
    "# Read EWEMBI for 1981 - 2010\n",
    "ewembi_path = (r'/home/jovyan/projects/watexr/WATExR/Norway_Morsa/Data'\n",
    "               r'/Meteorological/01_ewembi_obs/ewembi_obs_1981-2010.dat')\n",
    "\n",
    "# Loop over seasons\n",
    "df_list = []\n",
    "for seas in months_dict.keys():\n",
    "    obs_df = pd.read_csv(ewembi_path, sep='\\t', encoding='utf-8',\n",
    "                         names=['date', 'time', 'uas', 'vas', 'ps', 'tas', 'pr', 'hurs', 'petH'])\n",
    "\n",
    "    # Parse dates\n",
    "    obs_df['date'] = pd.to_datetime(obs_df['date'], format='%Y-%m-%d')\n",
    "    obs_df['month'] = obs_df['date'].dt.month\n",
    "    obs_df['year'] = obs_df['date'].dt.year\n",
    "    obs_df['season'] = obs_df.apply(get_season, axis=1)\n",
    "\n",
    "    # January should always be associated with the previous year\n",
    "    mask = obs_df['month'] == 1\n",
    "    obs_df['year'][mask] = obs_df['year'][mask] - 1\n",
    "\n",
    "    # Get vars of interest (temp, precip and wind)\n",
    "    # NOTE: wind seems to be reported as vectors with E-W and N-S components\n",
    "    # estimate total of (u**2 + v**2)**0.5, but CHECK THIS!\n",
    "    obs_df['wind'] = (obs_df['uas']**2 + obs_df['vas']**2)**0.5\n",
    "\n",
    "    # Filter to cols and season of interest\n",
    "    obs_df = obs_df[['year', 'season', 'tas', 'pr', 'wind']]\n",
    "    obs_df = obs_df.query('season == @seas')\n",
    "    obs_df = obs_df.query('year != 1980') # 1980 not valid (as only have Jan from 1981)\n",
    "\n",
    "    # Groupby year\n",
    "    obs_df = obs_df.groupby('year').mean()\n",
    "\n",
    "    # Calculate quantiles\n",
    "    quant_df = obs_df.quantile([0.05, 0.33, 0.67, 0.95])\n",
    "    quant_df['quantile'] = quant_df.index\n",
    "    quant_df['season'] = seas\n",
    "    \n",
    "    df_list.append(quant_df)\n",
    "\n",
    "# Combine\n",
    "quant_df = pd.concat(df_list)\n",
    "quant_df.reset_index(inplace=True)\n",
    "quant_df = quant_df[['season', 'quantile', 'tas', 'pr', 'wind']]\n",
    "\n",
    "# Save\n",
    "quant_path = (r'/home/jovyan/projects/watexr/WATExR/Norway_Morsa/Data'\n",
    "            r'/Meteorological/01_ewembi_obs/ewembi_obs_quantiles_1981-2010.csv')\n",
    "quant_df.to_csv(quant_path, encoding='utf-8', index=False)\n",
    "\n",
    "quant_df"
   ]
  },
  {
   "cell_type": "markdown",
   "metadata": {},
   "source": [
    "### 2.2. Read forecasts for coming season"
   ]
  },
  {
   "cell_type": "code",
   "execution_count": null,
   "metadata": {},
   "outputs": [],
   "source": [
    "# List of output from 15-member ensemble\n",
    "base_path = (r'/home/jovyan/projects/watexr/WATExR/Norway_Morsa/Data'\n",
    "             r'/Meteorological/05_temporary_forecast_data/Morsa/CLIMATE')\n",
    "\n",
    "s4_dirs = list(os.listdir(base_path))\n",
    "\n",
    "# Loop over ensemble\n",
    "df_list = []\n",
    "for dir_path in s4_dirs:\n",
    "    # Get member\n",
    "    member = dir_path.split('_')[6][-2:]\n",
    "    \n",
    "    fpath = os.path.join(base_path, dir_path, 'meteo_file.dat')\n",
    "    \n",
    "    mod_df = pd.read_csv(fpath, sep='\\t', encoding='utf-8',\n",
    "                         names=['date', 'time', 'uas', 'vas', 'ps', 'tas', 'pr', 'hurs', 'petH'])\n",
    "\n",
    "    # Parse dates\n",
    "    mod_df['date'] = pd.to_datetime(mod_df['date'], format='%Y-%m-%d')\n",
    "    mod_df['month'] = mod_df['date'].dt.month\n",
    "    mod_df['year'] = mod_df['date'].dt.year\n",
    "    mod_df['season'] = mod_df.apply(get_season, axis=1)\n",
    "    \n",
    "    # January should always be associated with the previous year\n",
    "    mask = mod_df['month'] == 1\n",
    "    mod_df['year'][mask] = mod_df['year'][mask] - 1\n",
    "\n",
    "    # Get vars of interest (temp, precip and wind)\n",
    "    # NOTE: wind seems to be reported as vectors with E-W and N-S components\n",
    "    # estimate total of (u**2 + v**2)**0.5, but CHECK THIS!\n",
    "    mod_df['wind'] = (mod_df['uas']**2 + mod_df['vas']**2)**0.5\n",
    "\n",
    "    # Filter to cols and season of interest\n",
    "    mod_df = mod_df[['year', 'season', 'tas', 'pr', 'wind']]\n",
    "    mod_df = mod_df.query('season == @season')\n",
    "    mod_df = mod_df.query('year != 1980') # 1980 not valid (as only have Jan from 1981)\n",
    "\n",
    "    # Groupby year\n",
    "    mod_df = mod_df.groupby('year').mean()\n",
    "\n",
    "    assert len(mod_df) == 1\n",
    "    \n",
    "    # Tidy \n",
    "    mod_df.reset_index(inplace=True, drop=True)\n",
    "    mod_df['member'] = member\n",
    "    \n",
    "    df_list.append(mod_df)\n",
    "\n",
    "# Combine\n",
    "mod_df = pd.concat(df_list)\n",
    "mod_df = mod_df[['member', 'tas', 'pr', 'wind']]\n",
    "mod_df.sort_values('member', inplace=True)\n",
    "mod_df.set_index('member', inplace=True)\n",
    "\n",
    "mod_df"
   ]
  },
  {
   "cell_type": "code",
   "execution_count": null,
   "metadata": {},
   "outputs": [],
   "source": [
    "# Read quantiles\n",
    "quant_path = (r'/home/jovyan/projects/watexr/WATExR/Norway_Morsa/Data'\n",
    "            r'/Meteorological/01_ewembi_obs/ewembi_obs_quantiles_1981-2010.csv')\n",
    "quant_df = pd.read_csv(quant_path)\n",
    "\n",
    "# Get season\n",
    "quant_df = quant_df.query('season == @season')\n",
    "quant_df.index = quant_df['quantile']\n",
    "\n",
    "# Labels for terciles and extremes\n",
    "terc_labels = ['Below normal', 'Near normal', 'Above normal']\n",
    "ext_labels = ['Extreme low', 'Not extreme', 'Extreme high']\n",
    "\n",
    "# Loop over variables\n",
    "res_dict = {}\n",
    "for par in ['tas', 'pr', 'wind']:\n",
    "    # Build bins for terciles\n",
    "    terc_bins = quant_df.loc[[0.33, 0.67]][par].values\n",
    "    terc_bins = np.insert(terc_bins, 0, -np.inf)\n",
    "    terc_bins = np.append(terc_bins, np.inf)  \n",
    "    \n",
    "    # Build bins for extremes\n",
    "    ext_bins = quant_df.loc[[0.05, 0.95]][par].values\n",
    "    ext_bins = np.insert(ext_bins, 0, -np.inf)\n",
    "    ext_bins = np.append(ext_bins, np.inf)  \n",
    "    \n",
    "    # Get terciles\n",
    "    terc_df = pd.cut(mod_df[par], \n",
    "                     bins=terc_bins,\n",
    "                     labels=terc_labels)\n",
    "    \n",
    "    terc = terc_df.value_counts().idxmax()\n",
    "    terc_prob = 100 * terc_df.value_counts().max() / 15\n",
    "    \n",
    "    # Get extremes\n",
    "    ext_df = pd.cut(mod_df[par], \n",
    "                    bins=ext_bins,\n",
    "                    labels=ext_labels)\n",
    "    \n",
    "    ext = ext_df.value_counts().idxmax()\n",
    "    ext_prob = 100 * ext_df.value_counts().max() / 15\n",
    "    \n",
    "    # Add to results\n",
    "    res_dict[par] = {'tercile':terc,\n",
    "                     'tercile_prob':terc_prob,\n",
    "                     'extreme':ext,\n",
    "                     'extreme_prob':ext_prob}"
   ]
  },
  {
   "cell_type": "code",
   "execution_count": null,
   "metadata": {},
   "outputs": [],
   "source": [
    "res_dict"
   ]
  },
  {
   "cell_type": "code",
   "execution_count": null,
   "metadata": {},
   "outputs": [],
   "source": [
    "a"
   ]
  },
  {
   "cell_type": "code",
   "execution_count": null,
   "metadata": {},
   "outputs": [],
   "source": []
  }
 ],
 "metadata": {
  "kernelspec": {
   "display_name": "Python 3",
   "language": "python",
   "name": "python3"
  },
  "language_info": {
   "codemirror_mode": {
    "name": "ipython",
    "version": 3
   },
   "file_extension": ".py",
   "mimetype": "text/x-python",
   "name": "python",
   "nbconvert_exporter": "python",
   "pygments_lexer": "ipython3",
   "version": "3.7.3"
  }
 },
 "nbformat": 4,
 "nbformat_minor": 4
}
