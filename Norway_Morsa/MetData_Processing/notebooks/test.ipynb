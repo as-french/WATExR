{
 "cells": [
  {
   "cell_type": "code",
   "execution_count": 1,
   "metadata": {},
   "outputs": [],
   "source": [
    "import pandas as pd\n",
    "import watexr_forecast2 as wx\n",
    "import matplotlib.pyplot as plt\n",
    "import warnings\n",
    "import functools\n",
    "import datetime as dt\n",
    "import ipywidgets as widgets\n",
    "from ipywidgets import Layout\n",
    "from IPython.display import display, Markdown, Image, clear_output\n",
    "\n",
    "warnings.simplefilter('ignore')"
   ]
  },
  {
   "cell_type": "markdown",
   "metadata": {},
   "source": [
    "# WATExR: Seasonal forecasts\n",
    "\n",
    "## Select forecast parameters"
   ]
  },
  {
   "cell_type": "code",
   "execution_count": 2,
   "metadata": {},
   "outputs": [],
   "source": [
    "def get_forecast_data(download, year, season):\n",
    "    # Path to historic (EWEMBI) dataset for 1981 - 2010\n",
    "    ewembi_path = r'../../Data/Meteorological/01_ewembi_obs/ewembi_obs_1981-2010.dat'\n",
    "\n",
    "    # CSV to create summarising EWEMBI quantiles (optional - see Section 3)\n",
    "    quant_path = r'../../Data/Meteorological/01_ewembi_obs/ewembi_obs_quantiles_1981-2010.csv'\n",
    "    \n",
    "    # S4 path\n",
    "    s4_path = r'../../Data/Meteorological/05_temporary_forecast_data/Morsa/CLIMATE'\n",
    "\n",
    "    # Download and bias correct S4 data\n",
    "    if download:\n",
    "        res = wx.get_seasonal_forecast(year, season)\n",
    "        \n",
    "    # \n",
    "\n",
    "    # Summarise EWEMBI data\n",
    "    wx.calculate_ewembi_quantiles(ewembi_path, \n",
    "                                  quant_path, \n",
    "                                  quants=[0.05, 0.33, 0.67, 0.95],\n",
    "                                  names=['date', 'time', 'uas', 'vas', 'ps', 'tas', 'pr', 'hurs', 'petH'],\n",
    "                                 )\n",
    "\n",
    "    # Average seasonal data\n",
    "    s4_df = wx.aggregate_seasonal_forecast(season, \n",
    "                                           year,\n",
    "                                           par_list=['tas', 'pr', 'wind'],\n",
    "                                           names=['date', 'time', 'uas', 'vas', 'ps', 'tas', 'pr', 'hurs', 'petH'],\n",
    "                                          )\n",
    "\n",
    "    # Classify forecast\n",
    "    res_dict = wx.compare_s4_to_ewembi(quant_path, \n",
    "                                       season, \n",
    "                                       s4_df, \n",
    "                                       par_list=['tas', 'pr', 'wind'],\n",
    "                                       normal_quants=[0.33, 0.67], \n",
    "                                       extreme_quants=[0.05, 0.95],\n",
    "                                      )\n",
    "\n",
    "    # Read table of historic performance\n",
    "    xl_path = r'../../Data/Meteorological/04_tercile_plots/seasonal_forecast_performance_1981-2010.xlsx'\n",
    "    perf_df = pd.read_excel(xl_path)\n",
    "\n",
    "    # Make summary image\n",
    "    forecast_png = r'forecast_output/climate_forecast_summary.png'\n",
    "    clim_plot = wx.make_climate_forecast_png(season, res_dict, perf_df, forecast_png)"
   ]
  },
  {
   "cell_type": "code",
   "execution_count": 3,
   "metadata": {},
   "outputs": [],
   "source": [
    "def get_months(season):\n",
    "    \"\"\" Get the start and end months for the specified season.\n",
    "    \"\"\"\n",
    "    if season == 'winter':\n",
    "        return ['November', 'January']\n",
    "    elif season == 'spring':\n",
    "        return ['February', 'April']\n",
    "    elif season == 'early_summer':\n",
    "        return ['May', 'July']\n",
    "    elif season == 'late_summer':\n",
    "        return ['August', 'October']"
   ]
  },
  {
   "cell_type": "code",
   "execution_count": 4,
   "metadata": {},
   "outputs": [],
   "source": [
    "def make_forecast(b):\n",
    "    with output:\n",
    "        \n",
    "        clear_output()\n",
    "        \n",
    "        dl = download_check.value\n",
    "        year = year_list.value\n",
    "        season = season_list.value\n",
    "        \n",
    "        print('Getting forecast...')\n",
    "        \n",
    "        get_forecast_data(dl, year, season)\n",
    "        \n",
    "        # Introduction\n",
    "        if season == 'winter':\n",
    "            end_year = year + 1\n",
    "        else:\n",
    "            end_year = year\n",
    "\n",
    "        months = get_months(season)\n",
    "        date = dt.datetime.today()\n",
    "        date = date.strftime(\"%B %d. %Y\")\n",
    "\n",
    "        display(Markdown(f'## Forecast for Lake Vansjø: {months[0]} {year} – {months[1]} {end_year}'))\n",
    "        display(Markdown(f'### Forecast issued {date}'))\n",
    "\n",
    "        display(Markdown(('This page shows temperature, rainfall and wind conditions expected '\n",
    "                          'for south-eastern Norway during the next 3 months. For summer (May-Oct), '\n",
    "                          'lake water quality forecasts for the western basin of Lake Vansjø are also '\n",
    "                          'produced, where the aim is to predict ecological status according to the '\n",
    "                          'Water Framework Directive.')))\n",
    "\n",
    "        display(Markdown('Weather forecasts are issued four times a year, as follows:'))\n",
    "\n",
    "        display(Image(r'./forecast_output/forecast_table.png', width=400))\n",
    "\n",
    "        display(Markdown(('Forecasts are generated using an ensemble of bias-corrected '\n",
    "                          'seasonal climate forecasts (15 members) provided by the ECMWF System 4. '\n",
    "                          'Lake ecological status forecasts are based on statistical modelling '\n",
    "                          '(click [here](https://github.com/icra/WATExR) for further information).')))\n",
    "\n",
    "        display(Markdown('__________'))\n",
    "\n",
    "        display(Markdown(f'### Weather forecast for {months[0]} {year} – {months[1]} {end_year}'))\n",
    "\n",
    "        display(Image(r'./forecast_output/climate_forecast_summary.png', width=800))\n",
    "\n",
    "        display(Markdown('__________'))\n",
    "\n",
    "        display(Markdown(f'### Lake water quality forecast for {months[0]} {year} – {months[1]} {end_year}'))\n",
    "\n",
    "        display(Image(r'./forecast_output/quality_forecast_summary.png', width=800))"
   ]
  },
  {
   "cell_type": "code",
   "execution_count": 5,
   "metadata": {},
   "outputs": [
    {
     "data": {
      "application/vnd.jupyter.widget-view+json": {
       "model_id": "9fd8960acd9b4edfb9cfc86263a94983",
       "version_major": 2,
       "version_minor": 0
      },
      "text/plain": [
       "Checkbox(value=False, description='Update/replace cached seasonal data?', style=DescriptionStyle(description_w…"
      ]
     },
     "metadata": {},
     "output_type": "display_data"
    },
    {
     "data": {
      "application/vnd.jupyter.widget-view+json": {
       "model_id": "e729a5ea63d8460ca751bd2a6487b8f2",
       "version_major": 2,
       "version_minor": 0
      },
      "text/plain": [
       "Dropdown(description='Select year:', index=18, options=(1982, 1983, 1984, 1985, 1986, 1987, 1988, 1989, 1990, …"
      ]
     },
     "metadata": {},
     "output_type": "display_data"
    },
    {
     "data": {
      "application/vnd.jupyter.widget-view+json": {
       "model_id": "ee8d0fb12e5448f3bfc4251fcf90c639",
       "version_major": 2,
       "version_minor": 0
      },
      "text/plain": [
       "Dropdown(description='Select season:', options=(('Winter (NDJ)', 'winter'), ('Spring (FMA)', 'spring'), ('Earl…"
      ]
     },
     "metadata": {},
     "output_type": "display_data"
    },
    {
     "data": {
      "application/vnd.jupyter.widget-view+json": {
       "model_id": "3787734e7730407e9d658a3f47d665c2",
       "version_major": 2,
       "version_minor": 0
      },
      "text/plain": [
       "Button(description='Start', layout=Layout(height='30px', width='200px'), style=ButtonStyle(font_weight='bold')…"
      ]
     },
     "metadata": {},
     "output_type": "display_data"
    },
    {
     "data": {
      "application/vnd.jupyter.widget-view+json": {
       "model_id": "88ee698dd7a5486f83477aaea91a70ef",
       "version_major": 2,
       "version_minor": 0
      },
      "text/plain": [
       "Output()"
      ]
     },
     "metadata": {},
     "output_type": "display_data"
    }
   ],
   "source": [
    "# User selection widgets\n",
    "download_check = widgets.Checkbox(value=False,\n",
    "                                  description='Update/replace cached seasonal data?',\n",
    "                                  disabled=False,\n",
    "                                  style={'description_width':'initial'},\n",
    "                                 )\n",
    "\n",
    "year_list = widgets.Dropdown(options=range(1982, 2011),\n",
    "                             value=2000,\n",
    "                             description='Select year:',\n",
    "                             disabled=False,\n",
    "                            )\n",
    "\n",
    "season_list = widgets.Dropdown(options=(('Winter (NDJ)', 'winter'), \n",
    "                                        ('Spring (FMA)', 'spring'), \n",
    "                                        ('Early summer (MJJ)', 'early_summer'), \n",
    "                                        ('Late summer (ASO)', 'late_summer'),\n",
    "                                       ),\n",
    "                               value='winter',\n",
    "                               description='Select season:',\n",
    "                               disabled=False,\n",
    "                              )\n",
    "\n",
    "button = widgets.Button(description='Start',\n",
    "                        layout=Layout(width='200px', height='30px'),\n",
    "                        style={'font_weight': 'bold'},\n",
    "                       )\n",
    "\n",
    "output = widgets.Output()\n",
    "\n",
    "display(download_check, year_list, season_list, button, output)\n",
    "\n",
    "button.on_click(make_forecast)"
   ]
  }
 ],
 "metadata": {
  "kernelspec": {
   "display_name": "Python 3",
   "language": "python",
   "name": "python3"
  },
  "language_info": {
   "codemirror_mode": {
    "name": "ipython",
    "version": 3
   },
   "file_extension": ".py",
   "mimetype": "text/x-python",
   "name": "python",
   "nbconvert_exporter": "python",
   "pygments_lexer": "ipython3",
   "version": "3.7.3"
  }
 },
 "nbformat": 4,
 "nbformat_minor": 4
}
