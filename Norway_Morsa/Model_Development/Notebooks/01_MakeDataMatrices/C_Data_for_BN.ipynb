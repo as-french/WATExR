{
 "cells": [
  {
   "cell_type": "code",
   "execution_count": 97,
   "metadata": {},
   "outputs": [],
   "source": [
    "import pygraphviz as pgv\n",
    "from IPython.display import Image\n",
    "import pandas as pd, numpy as np\n",
    "from sklearn.tree import DecisionTreeRegressor # Import Decision Tree Regressor\n",
    "from sklearn.tree import export_graphviz\n",
    "import matplotlib.pyplot as plt"
   ]
  },
  {
   "cell_type": "markdown",
   "metadata": {},
   "source": [
    "# Introduction\n",
    "\n",
    "Having selected the variables to use in the BN after analysis in notebooks 03-04, in this notebook we:\n",
    "- Just pick the variables of interest\n",
    "- Fill any NaNs it is reasonable to fill\n",
    "- Write them to csv\n",
    "- Discretize the variables and write to another csv\n",
    "\n",
    "To discretize, use two methods:\n",
    "\n",
    "1) Regression tree analysis to determine break points<br>\n",
    "2) Simple terciles"
   ]
  },
  {
   "cell_type": "markdown",
   "metadata": {},
   "source": [
    "# Read in data"
   ]
  },
  {
   "cell_type": "code",
   "execution_count": 98,
   "metadata": {},
   "outputs": [],
   "source": [
    "# Read in data. This is output from notebook B\n",
    "fpath = r'../../data/DataMatrices/VansjøData_%s_forBN.csv'\n",
    "\n",
    "# Season list\n",
    "season_li = ['summ','aut']\n",
    "\n",
    "df_dict = {}\n",
    "for season in season_li:\n",
    "    infile = fpath %season\n",
    "    df_dict[season] = pd.read_csv(infile, index_col = 0)"
   ]
  },
  {
   "cell_type": "code",
   "execution_count": 99,
   "metadata": {},
   "outputs": [
    {
     "data": {
      "text/html": [
       "<div>\n",
       "<style scoped>\n",
       "    .dataframe tbody tr th:only-of-type {\n",
       "        vertical-align: middle;\n",
       "    }\n",
       "\n",
       "    .dataframe tbody tr th {\n",
       "        vertical-align: top;\n",
       "    }\n",
       "\n",
       "    .dataframe thead th {\n",
       "        text-align: right;\n",
       "    }\n",
       "</style>\n",
       "<table border=\"1\" class=\"dataframe\">\n",
       "  <thead>\n",
       "    <tr style=\"text-align: right;\">\n",
       "      <th></th>\n",
       "      <th>chla</th>\n",
       "      <th>chla_prevSummer</th>\n",
       "      <th>colour</th>\n",
       "      <th>colour_prevSummer</th>\n",
       "      <th>cyano</th>\n",
       "      <th>cyano_prevSummer</th>\n",
       "      <th>rain</th>\n",
       "      <th>rain_lag1</th>\n",
       "      <th>rainy_days_winter</th>\n",
       "      <th>temp</th>\n",
       "      <th>TP</th>\n",
       "      <th>TP_prevSummer</th>\n",
       "      <th>windDays_under_Q0.4</th>\n",
       "      <th>windDays_over_Q0.6</th>\n",
       "    </tr>\n",
       "    <tr>\n",
       "      <th>year</th>\n",
       "      <th></th>\n",
       "      <th></th>\n",
       "      <th></th>\n",
       "      <th></th>\n",
       "      <th></th>\n",
       "      <th></th>\n",
       "      <th></th>\n",
       "      <th></th>\n",
       "      <th></th>\n",
       "      <th></th>\n",
       "      <th></th>\n",
       "      <th></th>\n",
       "      <th></th>\n",
       "      <th></th>\n",
       "    </tr>\n",
       "  </thead>\n",
       "  <tbody>\n",
       "    <tr>\n",
       "      <td>1980</td>\n",
       "      <td>12.169127</td>\n",
       "      <td>NaN</td>\n",
       "      <td>NaN</td>\n",
       "      <td>NaN</td>\n",
       "      <td>NaN</td>\n",
       "      <td>NaN</td>\n",
       "      <td>242.199218</td>\n",
       "      <td>80.992741</td>\n",
       "      <td>NaN</td>\n",
       "      <td>14.449403</td>\n",
       "      <td>36.084127</td>\n",
       "      <td>NaN</td>\n",
       "      <td>43.0</td>\n",
       "      <td>27.0</td>\n",
       "    </tr>\n",
       "    <tr>\n",
       "      <td>1981</td>\n",
       "      <td>7.075000</td>\n",
       "      <td>16.471230</td>\n",
       "      <td>NaN</td>\n",
       "      <td>NaN</td>\n",
       "      <td>NaN</td>\n",
       "      <td>NaN</td>\n",
       "      <td>282.257779</td>\n",
       "      <td>105.457323</td>\n",
       "      <td>102.0</td>\n",
       "      <td>13.213264</td>\n",
       "      <td>23.583333</td>\n",
       "      <td>43.573016</td>\n",
       "      <td>28.0</td>\n",
       "      <td>43.0</td>\n",
       "    </tr>\n",
       "    <tr>\n",
       "      <td>1982</td>\n",
       "      <td>5.466667</td>\n",
       "      <td>8.331250</td>\n",
       "      <td>NaN</td>\n",
       "      <td>NaN</td>\n",
       "      <td>NaN</td>\n",
       "      <td>NaN</td>\n",
       "      <td>151.006233</td>\n",
       "      <td>175.810938</td>\n",
       "      <td>105.0</td>\n",
       "      <td>13.452291</td>\n",
       "      <td>37.777778</td>\n",
       "      <td>28.833333</td>\n",
       "      <td>25.0</td>\n",
       "      <td>41.0</td>\n",
       "    </tr>\n",
       "    <tr>\n",
       "      <td>1983</td>\n",
       "      <td>5.980000</td>\n",
       "      <td>5.847917</td>\n",
       "      <td>19.4</td>\n",
       "      <td>26.666667</td>\n",
       "      <td>NaN</td>\n",
       "      <td>NaN</td>\n",
       "      <td>182.728817</td>\n",
       "      <td>122.882007</td>\n",
       "      <td>121.0</td>\n",
       "      <td>13.517998</td>\n",
       "      <td>31.960000</td>\n",
       "      <td>28.336806</td>\n",
       "      <td>23.0</td>\n",
       "      <td>51.0</td>\n",
       "    </tr>\n",
       "    <tr>\n",
       "      <td>1984</td>\n",
       "      <td>10.230000</td>\n",
       "      <td>6.073333</td>\n",
       "      <td>NaN</td>\n",
       "      <td>17.033333</td>\n",
       "      <td>NaN</td>\n",
       "      <td>NaN</td>\n",
       "      <td>255.820629</td>\n",
       "      <td>74.093285</td>\n",
       "      <td>121.0</td>\n",
       "      <td>13.845605</td>\n",
       "      <td>27.360000</td>\n",
       "      <td>29.055000</td>\n",
       "      <td>17.0</td>\n",
       "      <td>51.0</td>\n",
       "    </tr>\n",
       "  </tbody>\n",
       "</table>\n",
       "</div>"
      ],
      "text/plain": [
       "           chla  chla_prevSummer  colour  colour_prevSummer  cyano  \\\n",
       "year                                                                 \n",
       "1980  12.169127              NaN     NaN                NaN    NaN   \n",
       "1981   7.075000        16.471230     NaN                NaN    NaN   \n",
       "1982   5.466667         8.331250     NaN                NaN    NaN   \n",
       "1983   5.980000         5.847917    19.4          26.666667    NaN   \n",
       "1984  10.230000         6.073333     NaN          17.033333    NaN   \n",
       "\n",
       "      cyano_prevSummer        rain   rain_lag1  rainy_days_winter       temp  \\\n",
       "year                                                                           \n",
       "1980               NaN  242.199218   80.992741                NaN  14.449403   \n",
       "1981               NaN  282.257779  105.457323              102.0  13.213264   \n",
       "1982               NaN  151.006233  175.810938              105.0  13.452291   \n",
       "1983               NaN  182.728817  122.882007              121.0  13.517998   \n",
       "1984               NaN  255.820629   74.093285              121.0  13.845605   \n",
       "\n",
       "             TP  TP_prevSummer  windDays_under_Q0.4  windDays_over_Q0.6  \n",
       "year                                                                     \n",
       "1980  36.084127            NaN                 43.0                27.0  \n",
       "1981  23.583333      43.573016                 28.0                43.0  \n",
       "1982  37.777778      28.833333                 25.0                41.0  \n",
       "1983  31.960000      28.336806                 23.0                51.0  \n",
       "1984  27.360000      29.055000                 17.0                51.0  "
      ]
     },
     "execution_count": 99,
     "metadata": {},
     "output_type": "execute_result"
    }
   ],
   "source": [
    "df_dict['summ'].head()"
   ]
  },
  {
   "cell_type": "code",
   "execution_count": 100,
   "metadata": {},
   "outputs": [
    {
     "data": {
      "text/html": [
       "<div>\n",
       "<style scoped>\n",
       "    .dataframe tbody tr th:only-of-type {\n",
       "        vertical-align: middle;\n",
       "    }\n",
       "\n",
       "    .dataframe tbody tr th {\n",
       "        vertical-align: top;\n",
       "    }\n",
       "\n",
       "    .dataframe thead th {\n",
       "        text-align: right;\n",
       "    }\n",
       "</style>\n",
       "<table border=\"1\" class=\"dataframe\">\n",
       "  <thead>\n",
       "    <tr style=\"text-align: right;\">\n",
       "      <th></th>\n",
       "      <th>chla</th>\n",
       "      <th>chla_lag1</th>\n",
       "      <th>chla_prevSummer</th>\n",
       "      <th>colour</th>\n",
       "      <th>colour_lag1</th>\n",
       "      <th>colour_prevSummer</th>\n",
       "      <th>cyano</th>\n",
       "      <th>cyano_lag1</th>\n",
       "      <th>cyano_prevSummer</th>\n",
       "      <th>rain</th>\n",
       "      <th>rain_lag1</th>\n",
       "      <th>rainy_days_winter</th>\n",
       "      <th>temp</th>\n",
       "      <th>TP</th>\n",
       "      <th>TP_lag1</th>\n",
       "      <th>TP_prevSummer</th>\n",
       "      <th>windDays_under_Q0.4</th>\n",
       "      <th>windDays_over_Q0.6</th>\n",
       "    </tr>\n",
       "    <tr>\n",
       "      <th>year</th>\n",
       "      <th></th>\n",
       "      <th></th>\n",
       "      <th></th>\n",
       "      <th></th>\n",
       "      <th></th>\n",
       "      <th></th>\n",
       "      <th></th>\n",
       "      <th></th>\n",
       "      <th></th>\n",
       "      <th></th>\n",
       "      <th></th>\n",
       "      <th></th>\n",
       "      <th></th>\n",
       "      <th></th>\n",
       "      <th></th>\n",
       "      <th></th>\n",
       "      <th></th>\n",
       "      <th></th>\n",
       "    </tr>\n",
       "  </thead>\n",
       "  <tbody>\n",
       "    <tr>\n",
       "      <td>1980</td>\n",
       "      <td>20.773333</td>\n",
       "      <td>12.169127</td>\n",
       "      <td>NaN</td>\n",
       "      <td>NaN</td>\n",
       "      <td>NaN</td>\n",
       "      <td>NaN</td>\n",
       "      <td>NaN</td>\n",
       "      <td>NaN</td>\n",
       "      <td>NaN</td>\n",
       "      <td>351.676639</td>\n",
       "      <td>242.199218</td>\n",
       "      <td>NaN</td>\n",
       "      <td>9.575229</td>\n",
       "      <td>51.061905</td>\n",
       "      <td>36.084127</td>\n",
       "      <td>NaN</td>\n",
       "      <td>38.0</td>\n",
       "      <td>33.0</td>\n",
       "    </tr>\n",
       "    <tr>\n",
       "      <td>1981</td>\n",
       "      <td>9.587500</td>\n",
       "      <td>7.075000</td>\n",
       "      <td>16.471230</td>\n",
       "      <td>NaN</td>\n",
       "      <td>NaN</td>\n",
       "      <td>NaN</td>\n",
       "      <td>NaN</td>\n",
       "      <td>NaN</td>\n",
       "      <td>NaN</td>\n",
       "      <td>216.851554</td>\n",
       "      <td>282.257779</td>\n",
       "      <td>102.0</td>\n",
       "      <td>9.937926</td>\n",
       "      <td>34.083333</td>\n",
       "      <td>23.583333</td>\n",
       "      <td>43.573016</td>\n",
       "      <td>41.0</td>\n",
       "      <td>29.0</td>\n",
       "    </tr>\n",
       "    <tr>\n",
       "      <td>1982</td>\n",
       "      <td>6.229167</td>\n",
       "      <td>5.466667</td>\n",
       "      <td>8.331250</td>\n",
       "      <td>26.666667</td>\n",
       "      <td>NaN</td>\n",
       "      <td>NaN</td>\n",
       "      <td>NaN</td>\n",
       "      <td>NaN</td>\n",
       "      <td>NaN</td>\n",
       "      <td>297.668159</td>\n",
       "      <td>151.006233</td>\n",
       "      <td>105.0</td>\n",
       "      <td>10.870945</td>\n",
       "      <td>18.895833</td>\n",
       "      <td>37.777778</td>\n",
       "      <td>28.833333</td>\n",
       "      <td>28.0</td>\n",
       "      <td>47.0</td>\n",
       "    </tr>\n",
       "    <tr>\n",
       "      <td>1983</td>\n",
       "      <td>6.166667</td>\n",
       "      <td>5.980000</td>\n",
       "      <td>5.847917</td>\n",
       "      <td>14.666667</td>\n",
       "      <td>19.4</td>\n",
       "      <td>26.666667</td>\n",
       "      <td>NaN</td>\n",
       "      <td>NaN</td>\n",
       "      <td>NaN</td>\n",
       "      <td>275.606690</td>\n",
       "      <td>182.728817</td>\n",
       "      <td>121.0</td>\n",
       "      <td>10.877162</td>\n",
       "      <td>26.150000</td>\n",
       "      <td>31.960000</td>\n",
       "      <td>28.336806</td>\n",
       "      <td>25.0</td>\n",
       "      <td>51.0</td>\n",
       "    </tr>\n",
       "    <tr>\n",
       "      <td>1984</td>\n",
       "      <td>11.950000</td>\n",
       "      <td>10.230000</td>\n",
       "      <td>6.073333</td>\n",
       "      <td>NaN</td>\n",
       "      <td>NaN</td>\n",
       "      <td>17.033333</td>\n",
       "      <td>NaN</td>\n",
       "      <td>NaN</td>\n",
       "      <td>NaN</td>\n",
       "      <td>317.230629</td>\n",
       "      <td>255.820629</td>\n",
       "      <td>121.0</td>\n",
       "      <td>10.635043</td>\n",
       "      <td>25.695000</td>\n",
       "      <td>27.360000</td>\n",
       "      <td>29.055000</td>\n",
       "      <td>35.0</td>\n",
       "      <td>31.0</td>\n",
       "    </tr>\n",
       "  </tbody>\n",
       "</table>\n",
       "</div>"
      ],
      "text/plain": [
       "           chla  chla_lag1  chla_prevSummer     colour  colour_lag1  \\\n",
       "year                                                                  \n",
       "1980  20.773333  12.169127              NaN        NaN          NaN   \n",
       "1981   9.587500   7.075000        16.471230        NaN          NaN   \n",
       "1982   6.229167   5.466667         8.331250  26.666667          NaN   \n",
       "1983   6.166667   5.980000         5.847917  14.666667         19.4   \n",
       "1984  11.950000  10.230000         6.073333        NaN          NaN   \n",
       "\n",
       "      colour_prevSummer  cyano  cyano_lag1  cyano_prevSummer        rain  \\\n",
       "year                                                                       \n",
       "1980                NaN    NaN         NaN               NaN  351.676639   \n",
       "1981                NaN    NaN         NaN               NaN  216.851554   \n",
       "1982                NaN    NaN         NaN               NaN  297.668159   \n",
       "1983          26.666667    NaN         NaN               NaN  275.606690   \n",
       "1984          17.033333    NaN         NaN               NaN  317.230629   \n",
       "\n",
       "       rain_lag1  rainy_days_winter       temp         TP    TP_lag1  \\\n",
       "year                                                                   \n",
       "1980  242.199218                NaN   9.575229  51.061905  36.084127   \n",
       "1981  282.257779              102.0   9.937926  34.083333  23.583333   \n",
       "1982  151.006233              105.0  10.870945  18.895833  37.777778   \n",
       "1983  182.728817              121.0  10.877162  26.150000  31.960000   \n",
       "1984  255.820629              121.0  10.635043  25.695000  27.360000   \n",
       "\n",
       "      TP_prevSummer  windDays_under_Q0.4  windDays_over_Q0.6  \n",
       "year                                                          \n",
       "1980            NaN                 38.0                33.0  \n",
       "1981      43.573016                 41.0                29.0  \n",
       "1982      28.833333                 28.0                47.0  \n",
       "1983      28.336806                 25.0                51.0  \n",
       "1984      29.055000                 35.0                31.0  "
      ]
     },
     "execution_count": 100,
     "metadata": {},
     "output_type": "execute_result"
    }
   ],
   "source": [
    "df_dict['aut'].head()"
   ]
  },
  {
   "cell_type": "markdown",
   "metadata": {},
   "source": [
    "# Merge seasons, fill NaNs and export continuous df\n",
    "\n",
    "- Drop variables that definitely won't be used in the BN. Note, some other vars may be dropped at a later stage, after x-val of different network structures\n",
    "- Merge the two seasons into one dataframe, with independently named variables\n",
    "- Fill NaNs where appropriate"
   ]
  },
  {
   "cell_type": "code",
   "execution_count": 101,
   "metadata": {},
   "outputs": [
    {
     "data": {
      "text/plain": [
       "['TP_ES',\n",
       " 'TP_LS',\n",
       " 'TP_prevSummer',\n",
       " 'chla_ES',\n",
       " 'chla_LS',\n",
       " 'chla_prevSummer',\n",
       " 'colour_ES',\n",
       " 'colour_LS',\n",
       " 'colour_prevSummer',\n",
       " 'cyano_ES',\n",
       " 'cyano_LS',\n",
       " 'cyano_prevSummer',\n",
       " 'rain_ES',\n",
       " 'rainy_days_winter',\n",
       " 'temp_LS',\n",
       " 'windDays_over_Q0.6_LS',\n",
       " 'windDays_under_Q0.4_LS']"
      ]
     },
     "execution_count": 101,
     "metadata": {},
     "output_type": "execute_result"
    }
   ],
   "source": [
    "# USER INPUT\n",
    "\n",
    "# Variables to drop that definitely won't be used in the BN, by season\n",
    "drop_vars_dict = {\n",
    "                  'summ': ['rain_lag1', 'windDays_under_Q0.4', 'windDays_over_Q0.6', 'temp'],\n",
    "                  'aut': ['TP_lag1', 'rain', 'chla_prevSummer',  'colour_prevSummer', 'cyano_prevSummer', 'rainy_days_winter']\n",
    "                 }\n",
    "\n",
    "# For variables in this list, add suffix _ES or _LS for early and late summer\n",
    "suffix_li = ['chla','colour','cyano','TP','rain'] #  N.B. includes more variables for late summer, added in loop below\n",
    "suffix_dict = {'summ':'_ES', 'aut':'_LS'}\n",
    "\n",
    "\n",
    "# PROCESSING\n",
    "df_li = []\n",
    "# Start renaming and dropping\n",
    "for season in season_li:\n",
    "    df = df_dict[season]\n",
    "    for col in df.columns:\n",
    "        if col in drop_vars_dict[season]:\n",
    "            df.drop(col, axis=1, inplace=True)\n",
    "        \n",
    "        if season == 'aut':\n",
    "            suffix_li += ['temp','windDays_under_Q0.4', 'windDays_over_Q0.6']\n",
    "        if col in suffix_li and col not in drop_vars_dict[season]:\n",
    "            df[col+'%s' %suffix_dict[season]] = df[col]\n",
    "            df.drop(col, axis=1, inplace=True)\n",
    "\n",
    "        # Replace anything ending with '_lag1' with '_ES'\n",
    "        # There should only be _lag1 vars for late summer\n",
    "        if season == 'aut':\n",
    "            if col[-5:] == '_lag1' and col not in drop_vars_dict[season]:\n",
    "                df[col[:-5]+'_ES'] = df[col]\n",
    "                df.drop(col, axis=1, inplace=True)\n",
    "    df_li.append(df)\n",
    "\n",
    "# Join the early and late summer dataframes into one and drop duplicated columns (e.g. early summer TP, chla, etc. are in both dfs)\n",
    "cont_df = pd.concat(df_li, axis=1)\n",
    "cont_df = cont_df.loc[:,~cont_df.columns.duplicated()]\n",
    "\n",
    "sorted(cont_df.columns)"
   ]
  },
  {
   "cell_type": "markdown",
   "metadata": {},
   "source": [
    "## Filling NaNs\n",
    "\n",
    "Currently the data cover the period 1980-2018, but with the following gaps:\n",
    "- Quite a few gaps in colour. But aren't currently using this in the BN, so **drop all colour-related columns**\n",
    "- All cols 'prevSummer' are missing data in 1980. Therefore: **drop 1980**\n",
    "- No TP or chl-a data was collected in 1999, so cols TP_LS, TP_ES, chla_ES, chla_LS for then are blanks: for now, **linearly interpolate**. Could also just drop these rows.\n",
    "- Correspondingly, blanks in TP_prevSummer and chla_prevSummer for 2000. Again, **linearly interpolate**.\n",
    "- Patchy data from 2017 onwards:\n",
    "    * 2017: No TP data\n",
    "    * 2018: need to update TP, chl-a, wind, late summer cyano\n",
    "  For now, decide to **drop 2018** and **forward fill 2017 TP with 2016**. But (after 2019 project meeting?) need to **update all data**, hopefully to include summer 2019 when there were blooms.\n",
    "  \n",
    "\n",
    "- cyanobacteria:\n",
    "    * if cyano_prevSummer is included as predictor variable, then first year is 1997 and **drop all before**\n",
    "    * otherwise, first year is 1996, drop all before.\n",
    "    * Last year is 2017. **Drop 2018**"
   ]
  },
  {
   "cell_type": "code",
   "execution_count": 102,
   "metadata": {},
   "outputs": [],
   "source": [
    "# Drop colour-related cols\n",
    "cont_df = cont_df.drop(['colour_ES','colour_LS','colour_prevSummer'], axis=1)\n",
    "\n",
    "# Truncate start and end years so covers period 1981-2017 (incl.)\n",
    "cont_df = cont_df.loc[1981:2017,:]\n",
    "\n",
    "# Linearly interpolate gaps of size 1 and forward fill 2017 TP\n",
    "cont_df.interpolate(method='linear',limit=1, inplace=True)"
   ]
  },
  {
   "cell_type": "code",
   "execution_count": 103,
   "metadata": {},
   "outputs": [
    {
     "name": "stdout",
     "output_type": "stream",
     "text": [
      "Number of NaNs: 0\n"
     ]
    }
   ],
   "source": [
    "# Select variables involved in cyanobacterial BN\n",
    "cont_df_cyano = cont_df.loc[:,['chla_ES',\n",
    "                             'chla_LS',\n",
    "                             'cyano_ES',\n",
    "                             'cyano_LS',\n",
    "                             'cyano_prevSummer',\n",
    "#                              'temp_LS',\n",
    "                             'windDays_under_Q0.4_LS']]\n",
    "\n",
    "# Truncate cyanobacteria df to drop missing data from start\n",
    "cont_df_cyano = cont_df_cyano.loc[1997:,:]\n",
    "\n",
    "# Check for NaNs\n",
    "print('Number of NaNs: %s' %cont_df_cyano.isna().sum().sum())"
   ]
  },
  {
   "cell_type": "code",
   "execution_count": 104,
   "metadata": {},
   "outputs": [
    {
     "name": "stdout",
     "output_type": "stream",
     "text": [
      "Number of NaNs: 0\n"
     ]
    }
   ],
   "source": [
    "# Drop cyanobacteria variables from TP and chl-a dataframe\n",
    "cont_df_noCyano = cont_df.drop(['cyano_ES',\n",
    "                                'cyano_LS',\n",
    "                                'cyano_prevSummer'], axis=1)\n",
    "\n",
    "# Check for NaNs\n",
    "print('Number of NaNs: %s' %cont_df_noCyano.isna().sum().sum())"
   ]
  },
  {
   "cell_type": "markdown",
   "metadata": {},
   "source": [
    "## Save the new continuous dataframes"
   ]
  },
  {
   "cell_type": "code",
   "execution_count": 105,
   "metadata": {},
   "outputs": [],
   "source": [
    "cont_df.to_csv(r'../../data/DataMatrices/Vansjo_Seasonal_Continuous_all.csv')\n",
    "cont_df_cyano.to_csv(r'../../data/DataMatrices/Vansjo_Seasonal_Continuous_cyano.csv')\n",
    "cont_df_noCyano.to_csv(r'../../data/DataMatrices/Vansjo_Seasonal_Continuous_noCyano.csv')"
   ]
  },
  {
   "cell_type": "markdown",
   "metadata": {},
   "source": [
    "# Regression trees to help decide on class boundaries\n",
    "\n",
    "**No longer working, need to re-do variable names...**"
   ]
  },
  {
   "cell_type": "code",
   "execution_count": 106,
   "metadata": {},
   "outputs": [],
   "source": [
    "# Dictionary of explanatory variables linked to each response variable, for each season\n",
    "xy_dict = {'summ':\n",
    "              {'TP': ['TP_prevSummer'],\n",
    "               'colour': ['colour_prevSummer','rain'],\n",
    "               'chla': ['TP','chla_prevSummer', 'rainy_days_winter'],\n",
    "               'cyano': ['chla','colour', 'cyano_prevSummer']},\n",
    "           \n",
    "           'aut':\n",
    "              {'TP': ['TP_prevSummer'],\n",
    "               'colour': ['colour_lag1','rain_lag1'],\n",
    "               'chla': ['windDays_over_Q0.6','TP','chla_lag1'],\n",
    "               'cyano': ['chla','colour','windDays_under_Q0.4', 'temp', 'cyano_lag1']}\n",
    "          }  "
   ]
  },
  {
   "cell_type": "code",
   "execution_count": 107,
   "metadata": {},
   "outputs": [],
   "source": [
    "# # Regression tree, one for each dependent variable, including all possible explanatory variables in one tree\n",
    "# for season in season_li:\n",
    "#     for var in xy_dict[season].keys():\n",
    "#         temp_df = df_dict[season][[var]+xy_dict[season][var]].dropna()\n",
    "#         y = temp_df[var] # Target variable\n",
    "#         X = temp_df[xy_dict[season][var]] # Feature(s)\n",
    "#         regressor = DecisionTreeRegressor(random_state=0,\n",
    "#                                           max_depth=4,\n",
    "#                                           min_samples_split=6,\n",
    "#                                           min_samples_leaf=3,\n",
    "#                                           max_leaf_nodes=8\n",
    "#                                          )\n",
    "#         regressor.fit(X,y)\n",
    "\n",
    "#         # export the decision tree to a tree.dot file for visualizing the plot easily anywhere\n",
    "#         dot_fpath = r'../Figures/Discretization_regTrees/AllVarsTogether/DotFiles/%s_%s.dot' %(season,var)\n",
    "#         export_graphviz(regressor, out_file =dot_fpath, \n",
    "#                         feature_names = xy_dict[season][var])\n",
    "\n",
    "#         # Convert .dot file to .png\n",
    "#         png_fpath = r'../Figures/Discretization_regTrees/AllVarsTogether/%s_%s.png' %(season,var)\n",
    "#         pgv.AGraph(dot_fpath).draw(png_fpath, format='png', prog='dot')"
   ]
  },
  {
   "cell_type": "code",
   "execution_count": 108,
   "metadata": {},
   "outputs": [],
   "source": [
    "# # Regression tree, one for each pair of explanatory - dependent variable\n",
    "# for season in season_li:\n",
    "#     for targetvar in xy_dict[season].keys():\n",
    "#         for xvar in xy_dict[season][targetvar]:\n",
    "#             temp_df = df_dict[season][[targetvar]+[xvar]].dropna()\n",
    "#             y = temp_df[targetvar].values # Target variable data\n",
    "#             y = y.reshape(-1, 1)\n",
    "#             X = temp_df[xvar].values # Explanatory var data\n",
    "#             X = X.reshape(-1,1)\n",
    "#             regressor = DecisionTreeRegressor(random_state=0,\n",
    "#                                           max_depth=4,\n",
    "#                                           min_samples_split=6,\n",
    "#                                           min_samples_leaf=3,\n",
    "#                                           max_leaf_nodes=8\n",
    "#                                          )\n",
    "#             regressor.fit(X,y)\n",
    "\n",
    "#             # export the decision tree to a tree.dot file for visualizing the plot easily anywhere\n",
    "#             dot_fpath = r'../Figures/Discretization_regTrees/Pairwise/DotFiles/%s_%s-%s.dot' %(season,targetvar,xvar)\n",
    "#             export_graphviz(regressor, out_file =dot_fpath, \n",
    "#                             feature_names = [xvar])\n",
    "\n",
    "#             # Convert .dot file to .png\n",
    "#             png_fpath = r'../Figures/Discretization_regTrees/Pairwise/%s_%s-%s.png' %(season,targetvar,xvar)\n",
    "#             pgv.AGraph(dot_fpath).draw(png_fpath, format='png', prog='dot')"
   ]
  },
  {
   "cell_type": "markdown",
   "metadata": {},
   "source": [
    "# Class boundaries"
   ]
  },
  {
   "cell_type": "markdown",
   "metadata": {},
   "source": [
    "## Based on regression tree analysis and WFD class boundaries\n",
    "\n",
    "Pick class boundaries from examination of regression trees and scatter plots, and for each variable plot where they lie to see how many data points we will have in each class (not considering joint classes for now)\n",
    "\n",
    "Notes for particular variables:\n",
    "TP: WFD class boundaries are 20.0 and 39.0 ug/l. However, pretty much all data are within the 'moderate' class between these two bounds, leading to no data issues when we try to link TP to other nodes. So reduce to just two categories, above or below the midpoint of the 'Moderate' ecological status class."
   ]
  },
  {
   "cell_type": "code",
   "execution_count": 114,
   "metadata": {},
   "outputs": [],
   "source": [
    "bound_dict = {\n",
    "             'TP_ES': [29.5], # No data below 20, so drop this class boundary\n",
    "             'TP_LS': [29.5],\n",
    "             'TP_prevSummer': [26.4, 31.5],\n",
    "             'chla_ES': [10.5, 20.0],\n",
    "             'chla_LS': [10.5, 20.0],\n",
    "             'chla_prevSummer': [16.8],\n",
    "#              'colour_ES': [27.9, 49.6],\n",
    "#              'colour_LS': [27.9, 49.6],\n",
    "#              'colour_prevSummer': [26.9, 36.5, 60.4],\n",
    "             'cyano_ES': [1.0, 2.0],\n",
    "             'cyano_LS': [1.0, 2.0],\n",
    "             'cyano_prevSummer': [0.531],\n",
    "             'rain_ES': [220],\n",
    "             'rainy_days_winter': [144],\n",
    "             'temp_LS': [10.9],\n",
    "             'windDays_over_Q0.6_LS': [33.5],\n",
    "             'windDays_under_Q0.4_LS': [43.5]\n",
    "            }\n",
    "\n",
    "# Previous boundaries used:\n",
    "#              'TP_ES': [29.5, 39.0], # No data below 20, so drop this class boundary\n",
    "#              'TP_LS': [20.0, 29.5, 39.0],"
   ]
  },
  {
   "cell_type": "code",
   "execution_count": 110,
   "metadata": {},
   "outputs": [],
   "source": [
    "# Dropped colour data for now, so this cell commented out.\n",
    "\n",
    "# # For colour, don't have WFD class boundaries that we're interested in. Instead, just define using terciles for starters\n",
    "# all_colour_data = pd.concat([cont_df['colour_ES'], cont_df['colour_LS']])\n",
    "\n",
    "# for q in [0.33, 0.66]:\n",
    "#     print('Q: %s' %all_colour_data.quantile(q))"
   ]
  },
  {
   "cell_type": "markdown",
   "metadata": {},
   "source": [
    "## Using terciles"
   ]
  },
  {
   "cell_type": "code",
   "execution_count": 124,
   "metadata": {},
   "outputs": [
    {
     "data": {
      "text/plain": [
       "{'chla_prevSummer': [12.677744444444441, 17.96943333333334],\n",
       " 'cyano_prevSummer': [0.22652991193857147, 1.3148341321333334],\n",
       " 'rainy_days_winter': [134.988, 147.012],\n",
       " 'TP_prevSummer': [28.32881388888889, 32.140566666666665],\n",
       " 'chla_ES': [11.641133333333334, 17.107661538461535],\n",
       " 'cyano_ES': [0.13908323017578572, 0.7708633333333336],\n",
       " 'rain_ES': [185.74809274180396, 248.40200788134393],\n",
       " 'TP_ES': [27.352080000000008, 31.2016],\n",
       " 'chla_LS': [13.00614666666667, 18.68866666666667],\n",
       " 'cyano_LS': [0.2635223647780001, 1.1876963489933339],\n",
       " 'temp_LS': [10.209550679575301, 11.093509765828909],\n",
       " 'TP_LS': [26.41566666666667, 31.584333333333326],\n",
       " 'windDays_under_Q0.4_LS': [35.988, 41.012],\n",
       " 'windDays_over_Q0.6_LS': [31.0, 35.012]}"
      ]
     },
     "execution_count": 124,
     "metadata": {},
     "output_type": "execute_result"
    }
   ],
   "source": [
    "bound_dict_terciles = {}\n",
    "\n",
    "for var in cont_df.columns:\n",
    "    bound_dict_terciles[var] = [cont_df[var].quantile(0.333), cont_df[var].quantile(0.667)]\n",
    "\n",
    "bound_dict_terciles"
   ]
  },
  {
   "cell_type": "markdown",
   "metadata": {},
   "source": [
    "## Visualise proportion of data in each class"
   ]
  },
  {
   "cell_type": "code",
   "execution_count": 125,
   "metadata": {},
   "outputs": [
    {
     "data": {
      "image/png": "[encoded data removed]",
      "text/plain": [
       "<Figure size 1080x1008 with 16 Axes>"
      ]
     },
     "metadata": {
      "needs_background": "light"
     },
     "output_type": "display_data"
    }
   ],
   "source": [
    "axes = cont_df.hist(bins=12, figsize=(15,14), grid=False)\n",
    "\n",
    "# For each subplot, add on vertical lines for the proposed class boundaries\n",
    "# N.B. assumes order of plots is the same as the order of keys in bound_dict\n",
    "var_li = sorted(list(bound_dict.keys()))\n",
    "\n",
    "for i, ax in enumerate(axes.flatten()):\n",
    "    if i<13:\n",
    "        lines = bound_dict[var_li[i]]\n",
    "        for line in lines:\n",
    "            ax.axvline(x=line, color='r')\n",
    "        tercile_lines = bound_dict_terciles[var_li[i]]\n",
    "        for tercLine in tercile_lines:\n",
    "            ax.axvline(x=tercLine, color='g')\n",
    "\n",
    "plt.show()"
   ]
  },
  {
   "cell_type": "markdown",
   "metadata": {},
   "source": [
    "# Produce discretized dataframes"
   ]
  },
  {
   "cell_type": "code",
   "execution_count": 126,
   "metadata": {},
   "outputs": [],
   "source": [
    "def discretize(thresholds, value):\n",
    "    \n",
    "    if np.isnan(value):\n",
    "        return np.NaN\n",
    "    \n",
    "    factor_li_dict = {2: ['L','H'],\n",
    "                     3: ['L','M','H'],\n",
    "                     4: ['VL','L','M','H'],\n",
    "                     5: ['VL','L','M','H','VH']}\n",
    "    \n",
    "    n_classes = len(thresholds)+1\n",
    "    \n",
    "    for i, boundary in enumerate(thresholds):\n",
    "    \n",
    "        if value<boundary:\n",
    "            return factor_li_dict[n_classes][i]\n",
    "            break # Break out of loop\n",
    "        \n",
    "        # If we're up to the last class boundary, and the value is bigger than it, value is in the uppermost class\n",
    "        if i+1 == len(thresholds) and value >= boundary:\n",
    "            return factor_li_dict[n_classes][i+1]\n"
   ]
  },
  {
   "cell_type": "markdown",
   "metadata": {},
   "source": [
    "## Using regression tree boundaries"
   ]
  },
  {
   "cell_type": "code",
   "execution_count": 127,
   "metadata": {},
   "outputs": [],
   "source": [
    "cont_df_li = [cont_df, cont_df_cyano, cont_df_noCyano]\n",
    "fname_suffix_li = ['all','cyano','noCyano']\n",
    "\n",
    "# Dictionary for storing different discretized dfs.\n",
    "# Key: data included (all data, or just cyano-related vars, or no cyano vars; from fname_suffix_li). Returns regression-tree df\n",
    "disc_rt_dict = {}\n",
    "\n",
    "for i, df in enumerate(cont_df_li):\n",
    "\n",
    "    # Create empty dataframe to be populated with discretized data\n",
    "    disc_df = pd.DataFrame(index=df.index, columns=df.columns)\n",
    "\n",
    "    for var in df.columns:\n",
    "        disc_df[var] = df[var].apply(lambda x: discretize(bound_dict[var], x))\n",
    "    \n",
    "    # Store in dictionary\n",
    "    disc_rt_dict[fname_suffix_li[i]] = disc_df\n",
    "        \n",
    "    # Write to csv\n",
    "    fname = r'../../data/DataMatrices/Vansjo_Seasonal_Discretized_RegTree_%s.csv' %fname_suffix_li[i]\n",
    "    disc_df.to_csv(fname)"
   ]
  },
  {
   "cell_type": "code",
   "execution_count": 130,
   "metadata": {},
   "outputs": [
    {
     "data": {
      "image/png": "[encoded data removed]",
      "text/plain": [
       "<Figure size 864x576 with 14 Axes>"
      ]
     },
     "metadata": {
      "needs_background": "light"
     },
     "output_type": "display_data"
    }
   ],
   "source": [
    "# How balanced are the classes?\n",
    "disc_df = disc_rt_dict['all']\n",
    "\n",
    "fig, ax = plt.subplots(3,5, figsize=(12,8))\n",
    "ax = ax.flatten()\n",
    "for i, categorical_feature in enumerate(disc_df.columns):\n",
    "    disc_df[categorical_feature].value_counts().plot(kind=\"bar\", ax=ax[i]).set_title(categorical_feature)\n",
    "\n",
    "for axi in ax[-1:]:\n",
    "    fig.delaxes(axi)\n",
    "plt.tight_layout()"
   ]
  },
  {
   "cell_type": "markdown",
   "metadata": {},
   "source": [
    "## Discretize using terciles\n",
    "\n",
    "**To do:** Haven't split this out into different dataframes acccording to whether cyanobacteria-related or not yet"
   ]
  },
  {
   "cell_type": "code",
   "execution_count": null,
   "metadata": {},
   "outputs": [],
   "source": [
    "# Create empty dataframe to be populated with discretized data using terciles\n",
    "disc_df_terc = pd.DataFrame(index=cont_df.index, columns=cont_df.columns)\n",
    "\n",
    "for var in cont_df.columns:\n",
    "    disc_df_terc[var] = cont_df[var].apply(lambda x: discretize(bound_dict_terciles[var], x))\n",
    "\n",
    "disc_df_terc.to_csv(r'../../data/DataMatrices/Vansjo_Seasonal_Discretized_Terciles.csv')\n",
    "\n",
    "disc_df_terc.tail(10)"
   ]
  },
  {
   "cell_type": "code",
   "execution_count": null,
   "metadata": {},
   "outputs": [],
   "source": []
  },
  {
   "cell_type": "markdown",
   "metadata": {},
   "source": [
    "# Continuous data: transforming to make it more Gaussian\n",
    "\n",
    "It could be good for the BN to be continuous rather than discrete, but BNLearn assumes all nodes are Gaussian. From a look at the histograms above most aren't far off bell-shaped, aside from colour and cyanobacteria. We could just drop all the colour variables from this BN and put it into its own BN. For cyanobacteria, the distribution is right-skewed and has lots of zeros. In reality these won't really be zeros, just below the counting detection limit. So some kind of transformation is required which can cope with zeros.\n",
    "\n",
    "First, try square rooting."
   ]
  },
  {
   "cell_type": "markdown",
   "metadata": {},
   "source": [
    "## Exploring different transformations"
   ]
  },
  {
   "cell_type": "code",
   "execution_count": null,
   "metadata": {},
   "outputs": [],
   "source": [
    "# Original data\n",
    "cont_df['cyano_ES'].hist(bins=15)"
   ]
  },
  {
   "cell_type": "code",
   "execution_count": null,
   "metadata": {},
   "outputs": [],
   "source": [
    "np.sqrt(cont_df['cyano_ES']).hist(bins=15)"
   ]
  },
  {
   "cell_type": "code",
   "execution_count": null,
   "metadata": {},
   "outputs": [],
   "source": [
    "# Try box cox, y* = (y^l - 1)/L, where L != 0. L close to 0 is a near-logorithmic transformation\n",
    "\n",
    "from scipy.stats import boxcox\n",
    "bs = boxcox(cont_df['cyano_ES'].values, lmbda=0.1)\n",
    "\n",
    "trans_df = pd.DataFrame(index = cont_df.index)\n",
    "trans_df['original'] = cont_df['cyano_ES']\n",
    "trans_df['boxcox'] = bs\n",
    "\n",
    "trans_df['boxcox'].hist(bins=5)"
   ]
  },
  {
   "cell_type": "markdown",
   "metadata": {},
   "source": [
    "lambda (L) between 0.06 and 0.2 produces symmetrical data. Doesn't look  bell shaped (in fact looks bimodal), but that could easily be because of the low n. No reason to pick any particular number between 0.06 and 0.2, so decide to go with 0.1 as a nice even number.\n",
    "\n",
    "Will then need to back-transform the predictions later: y = (x*lambda + 1)^(1/lambda)"
   ]
  },
  {
   "cell_type": "code",
   "execution_count": null,
   "metadata": {},
   "outputs": [],
   "source": [
    "# Original data\n",
    "cont_df['cyano_LS'].hist(bins=15)"
   ]
  },
  {
   "cell_type": "code",
   "execution_count": null,
   "metadata": {},
   "outputs": [],
   "source": [
    "# Does the same transformation look ok for late summer? Yes.\n",
    "bs = boxcox(cont_df['cyano_LS'].values, lmbda=0.1)\n",
    "\n",
    "trans_df = pd.DataFrame(index = cont_df.index)\n",
    "trans_df['original'] = cont_df['cyano_LS']\n",
    "trans_df['boxcox'] = bs\n",
    "\n",
    "trans_df['boxcox'].hist(bins=5)"
   ]
  },
  {
   "cell_type": "code",
   "execution_count": null,
   "metadata": {},
   "outputs": [],
   "source": [
    "# What about for the previous summer? Ok.\n",
    "bs = boxcox(cont_df['cyano_prevSummer'].values, lmbda=0.1)\n",
    "\n",
    "trans_df = pd.DataFrame(index = cont_df.index)\n",
    "trans_df['original'] = cont_df['cyano_prevSummer']\n",
    "trans_df['boxcox'] = bs\n",
    "\n",
    "trans_df['boxcox'].hist(bins=5)"
   ]
  },
  {
   "cell_type": "markdown",
   "metadata": {},
   "source": [
    "## Apply boxcox transformation and save to csv"
   ]
  },
  {
   "cell_type": "code",
   "execution_count": 137,
   "metadata": {},
   "outputs": [
    {
     "data": {
      "image/png": "[encoded data removed]",
      "text/plain": [
       "<Figure size 576x576 with 6 Axes>"
      ]
     },
     "metadata": {
      "needs_background": "light"
     },
     "output_type": "display_data"
    }
   ],
   "source": [
    "# Copy original df\n",
    "cont_df_cyano_boxcx = cont_df_cyano.copy()\n",
    "\n",
    "# Apply transformation \n",
    "for col in ['cyano_ES','cyano_LS', 'cyano_prevSummer']:\n",
    "    cont_df_cyano_boxcx[col] = boxcox(cont_df_cyano[col].values, lmbda=0.1)\n",
    "\n",
    "cont_df_cyano_boxcx.to_csv(r'../../data/DataMatrices/Vansjo_Seasonal_Continuous_cyano_boxcox.csv')\n",
    "\n",
    "# Plot histogram again\n",
    "axes = cont_df_cyano_boxcx.hist(bins=12, figsize=(8,8), grid=False)"
   ]
  },
  {
   "cell_type": "code",
   "execution_count": 139,
   "metadata": {},
   "outputs": [
    {
     "data": {
      "image/png": "[encoded data removed]",
      "text/plain": [
       "<Figure size 576x576 with 12 Axes>"
      ]
     },
     "metadata": {
      "needs_background": "light"
     },
     "output_type": "display_data"
    }
   ],
   "source": [
    "axes = cont_df_noCyano.hist(bins=12, figsize=(8,8), grid=False)\n",
    "plt.tight_layout()"
   ]
  }
 ],
 "metadata": {
  "kernelspec": {
   "display_name": "Python 3",
   "language": "python",
   "name": "python3"
  },
  "language_info": {
   "codemirror_mode": {
    "name": "ipython",
    "version": 3
   },
   "file_extension": ".py",
   "mimetype": "text/x-python",
   "name": "python",
   "nbconvert_exporter": "python",
   "pygments_lexer": "ipython3",
   "version": "3.7.3"
  },
  "toc-autonumbering": true
 },
 "nbformat": 4,
 "nbformat_minor": 4
}
