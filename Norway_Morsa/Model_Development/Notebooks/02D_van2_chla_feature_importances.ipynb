{
 "cells": [
  {
   "cell_type": "code",
   "execution_count": 1,
   "metadata": {},
   "outputs": [],
   "source": [
    "%matplotlib inline\n",
    "import pandas as pd\n",
    "import numpy as np\n",
    "import nivapy3 as nivapy\n",
    "import seaborn as sn\n",
    "import matplotlib.pyplot as plt\n",
    "from sklearn.ensemble import RandomForestRegressor\n",
    "from sklearn.impute import SimpleImputer\n",
    "from sklearn.preprocessing import StandardScaler\n",
    "from sklearn.model_selection import train_test_split\n",
    "from sklearn.model_selection import RandomizedSearchCV\n",
    "from sklearn.metrics import r2_score\n",
    "from sklearn.feature_selection import RFECV\n",
    "from collections import OrderedDict\n",
    "\n",
    "plt.style.use('ggplot')"
   ]
  },
  {
   "cell_type": "markdown",
   "metadata": {},
   "source": [
    "# Feature importances for WaterXr\n",
    "\n",
    "Rough code for estimating feature importances using a Random Forest. The most complicated part of this workflow is deciding how to handle NaNs in a sensible way. This is because the sampling strategy at Vansjø is strongly biased over time (sampling only takes place between spring and autumn). This produces regular periods of NaNs in the data series, which affect the calculations for lagged variables.\n",
    "\n",
    "## 1. Read data"
   ]
  },
  {
   "cell_type": "code",
   "execution_count": 2,
   "metadata": {},
   "outputs": [
    {
     "data": {
      "text/html": [
       "<div>\n",
       "<style scoped>\n",
       "    .dataframe tbody tr th:only-of-type {\n",
       "        vertical-align: middle;\n",
       "    }\n",
       "\n",
       "    .dataframe tbody tr th {\n",
       "        vertical-align: top;\n",
       "    }\n",
       "\n",
       "    .dataframe thead th {\n",
       "        text-align: right;\n",
       "    }\n",
       "</style>\n",
       "<table border=\"1\" class=\"dataframe\">\n",
       "  <thead>\n",
       "    <tr style=\"text-align: right;\">\n",
       "      <th></th>\n",
       "      <th>pptn</th>\n",
       "      <th>temp</th>\n",
       "      <th>q</th>\n",
       "      <th>tp_catch</th>\n",
       "      <th>colour_lake</th>\n",
       "      <th>chl-a_lake</th>\n",
       "      <th>tp_lake</th>\n",
       "      <th>colour_van1</th>\n",
       "      <th>chl-a_van1</th>\n",
       "      <th>tp_van1</th>\n",
       "      <th>...</th>\n",
       "      <th>tp_catch_lag3m_av</th>\n",
       "      <th>temp_lag2m_av</th>\n",
       "      <th>temp_lag3m_av</th>\n",
       "      <th>q_lag2m_av</th>\n",
       "      <th>q_lag3m_av</th>\n",
       "      <th>season</th>\n",
       "      <th>chl-a_lake_prevsummer</th>\n",
       "      <th>tp_lake_prevsummer</th>\n",
       "      <th>chl-a_van1_prevsummer</th>\n",
       "      <th>tp_van1_prevsummer</th>\n",
       "    </tr>\n",
       "    <tr>\n",
       "      <th>date</th>\n",
       "      <th></th>\n",
       "      <th></th>\n",
       "      <th></th>\n",
       "      <th></th>\n",
       "      <th></th>\n",
       "      <th></th>\n",
       "      <th></th>\n",
       "      <th></th>\n",
       "      <th></th>\n",
       "      <th></th>\n",
       "      <th></th>\n",
       "      <th></th>\n",
       "      <th></th>\n",
       "      <th></th>\n",
       "      <th></th>\n",
       "      <th></th>\n",
       "      <th></th>\n",
       "      <th></th>\n",
       "      <th></th>\n",
       "      <th></th>\n",
       "      <th></th>\n",
       "    </tr>\n",
       "  </thead>\n",
       "  <tbody>\n",
       "    <tr>\n",
       "      <th>1980-04-30</th>\n",
       "      <td>10.553205</td>\n",
       "      <td>4.218885</td>\n",
       "      <td>10.717172</td>\n",
       "      <td>130.0</td>\n",
       "      <td>NaN</td>\n",
       "      <td>3.971429</td>\n",
       "      <td>45.250000</td>\n",
       "      <td>NaN</td>\n",
       "      <td>1.233333</td>\n",
       "      <td>53.559028</td>\n",
       "      <td>...</td>\n",
       "      <td>NaN</td>\n",
       "      <td>-6.596171</td>\n",
       "      <td>-7.094574</td>\n",
       "      <td>0.355697</td>\n",
       "      <td>1.620386</td>\n",
       "      <td>spr</td>\n",
       "      <td>NaN</td>\n",
       "      <td>NaN</td>\n",
       "      <td>NaN</td>\n",
       "      <td>NaN</td>\n",
       "    </tr>\n",
       "    <tr>\n",
       "      <th>1980-05-31</th>\n",
       "      <td>59.362142</td>\n",
       "      <td>11.237943</td>\n",
       "      <td>4.432067</td>\n",
       "      <td>50.0</td>\n",
       "      <td>NaN</td>\n",
       "      <td>9.948810</td>\n",
       "      <td>38.857143</td>\n",
       "      <td>NaN</td>\n",
       "      <td>2.680000</td>\n",
       "      <td>67.075000</td>\n",
       "      <td>...</td>\n",
       "      <td>NaN</td>\n",
       "      <td>0.108739</td>\n",
       "      <td>-2.991152</td>\n",
       "      <td>5.541483</td>\n",
       "      <td>3.809522</td>\n",
       "      <td>spr</td>\n",
       "      <td>NaN</td>\n",
       "      <td>NaN</td>\n",
       "      <td>NaN</td>\n",
       "      <td>NaN</td>\n",
       "    </tr>\n",
       "    <tr>\n",
       "      <th>1980-06-30</th>\n",
       "      <td>131.738069</td>\n",
       "      <td>15.539921</td>\n",
       "      <td>4.893233</td>\n",
       "      <td>80.0</td>\n",
       "      <td>NaN</td>\n",
       "      <td>13.200000</td>\n",
       "      <td>32.633333</td>\n",
       "      <td>NaN</td>\n",
       "      <td>4.751389</td>\n",
       "      <td>24.444444</td>\n",
       "      <td>...</td>\n",
       "      <td>NaN</td>\n",
       "      <td>7.728414</td>\n",
       "      <td>3.818473</td>\n",
       "      <td>7.574620</td>\n",
       "      <td>5.171677</td>\n",
       "      <td>summ</td>\n",
       "      <td>NaN</td>\n",
       "      <td>NaN</td>\n",
       "      <td>NaN</td>\n",
       "      <td>NaN</td>\n",
       "    </tr>\n",
       "    <tr>\n",
       "      <th>1980-07-31</th>\n",
       "      <td>51.099007</td>\n",
       "      <td>16.605522</td>\n",
       "      <td>3.487091</td>\n",
       "      <td>75.0</td>\n",
       "      <td>NaN</td>\n",
       "      <td>13.358571</td>\n",
       "      <td>36.761905</td>\n",
       "      <td>NaN</td>\n",
       "      <td>5.627083</td>\n",
       "      <td>22.888889</td>\n",
       "      <td>...</td>\n",
       "      <td>86.666667</td>\n",
       "      <td>13.388932</td>\n",
       "      <td>10.332250</td>\n",
       "      <td>4.662650</td>\n",
       "      <td>6.680824</td>\n",
       "      <td>summ</td>\n",
       "      <td>NaN</td>\n",
       "      <td>NaN</td>\n",
       "      <td>NaN</td>\n",
       "      <td>NaN</td>\n",
       "    </tr>\n",
       "    <tr>\n",
       "      <th>1980-08-31</th>\n",
       "      <td>96.991814</td>\n",
       "      <td>14.394161</td>\n",
       "      <td>1.856323</td>\n",
       "      <td>70.0</td>\n",
       "      <td>NaN</td>\n",
       "      <td>24.169048</td>\n",
       "      <td>67.400000</td>\n",
       "      <td>NaN</td>\n",
       "      <td>10.969048</td>\n",
       "      <td>20.345238</td>\n",
       "      <td>...</td>\n",
       "      <td>68.333333</td>\n",
       "      <td>16.072722</td>\n",
       "      <td>14.461129</td>\n",
       "      <td>4.190162</td>\n",
       "      <td>4.270797</td>\n",
       "      <td>summ</td>\n",
       "      <td>NaN</td>\n",
       "      <td>NaN</td>\n",
       "      <td>NaN</td>\n",
       "      <td>NaN</td>\n",
       "    </tr>\n",
       "  </tbody>\n",
       "</table>\n",
       "<p>5 rows × 55 columns</p>\n",
       "</div>"
      ],
      "text/plain": [
       "                  pptn       temp          q  tp_catch  colour_lake  \\\n",
       "date                                                                  \n",
       "1980-04-30   10.553205   4.218885  10.717172     130.0          NaN   \n",
       "1980-05-31   59.362142  11.237943   4.432067      50.0          NaN   \n",
       "1980-06-30  131.738069  15.539921   4.893233      80.0          NaN   \n",
       "1980-07-31   51.099007  16.605522   3.487091      75.0          NaN   \n",
       "1980-08-31   96.991814  14.394161   1.856323      70.0          NaN   \n",
       "\n",
       "            chl-a_lake    tp_lake  colour_van1  chl-a_van1    tp_van1  ...  \\\n",
       "date                                                                   ...   \n",
       "1980-04-30    3.971429  45.250000          NaN    1.233333  53.559028  ...   \n",
       "1980-05-31    9.948810  38.857143          NaN    2.680000  67.075000  ...   \n",
       "1980-06-30   13.200000  32.633333          NaN    4.751389  24.444444  ...   \n",
       "1980-07-31   13.358571  36.761905          NaN    5.627083  22.888889  ...   \n",
       "1980-08-31   24.169048  67.400000          NaN   10.969048  20.345238  ...   \n",
       "\n",
       "            tp_catch_lag3m_av  temp_lag2m_av  temp_lag3m_av  q_lag2m_av  \\\n",
       "date                                                                      \n",
       "1980-04-30                NaN      -6.596171      -7.094574    0.355697   \n",
       "1980-05-31                NaN       0.108739      -2.991152    5.541483   \n",
       "1980-06-30                NaN       7.728414       3.818473    7.574620   \n",
       "1980-07-31          86.666667      13.388932      10.332250    4.662650   \n",
       "1980-08-31          68.333333      16.072722      14.461129    4.190162   \n",
       "\n",
       "            q_lag3m_av  season  chl-a_lake_prevsummer  tp_lake_prevsummer  \\\n",
       "date                                                                        \n",
       "1980-04-30    1.620386     spr                    NaN                 NaN   \n",
       "1980-05-31    3.809522     spr                    NaN                 NaN   \n",
       "1980-06-30    5.171677    summ                    NaN                 NaN   \n",
       "1980-07-31    6.680824    summ                    NaN                 NaN   \n",
       "1980-08-31    4.270797    summ                    NaN                 NaN   \n",
       "\n",
       "            chl-a_van1_prevsummer  tp_van1_prevsummer  \n",
       "date                                                   \n",
       "1980-04-30                    NaN                 NaN  \n",
       "1980-05-31                    NaN                 NaN  \n",
       "1980-06-30                    NaN                 NaN  \n",
       "1980-07-31                    NaN                 NaN  \n",
       "1980-08-31                    NaN                 NaN  \n",
       "\n",
       "[5 rows x 55 columns]"
      ]
     },
     "execution_count": 2,
     "metadata": {},
     "output_type": "execute_result"
    }
   ],
   "source": [
    "# Variable of interest. Choose from 'TP', 'Chl-a', 'CyanoBiovol'. These need to match the data matrix file names\n",
    "variable = 'Chl-a'\n",
    "\n",
    "# Basin of interest. Choose from 'Van1' (Storefjorden) or 'Van2' (Vanemfjorden)\n",
    "basin = 'Van2'\n",
    "\n",
    "# Dict to translate from variable name used in filename, to that used in column name for picking out target var\n",
    "target_var_dict = {'TP':'tp_lake',\n",
    "                  'Chl-a': 'chl-a_lake',\n",
    "                  'CyanoBiovol': 'CyanoBiovol'}\n",
    "\n",
    "target_var = target_var_dict[variable]\n",
    "\n",
    "# Read Leah's data matrix\n",
    "in_csv = r'../data/DataMatrices/dataMatrix_monthly_%s_%s.csv' %(variable, basin)\n",
    "df = pd.read_csv(in_csv)\n",
    "\n",
    "# Parse dates and tidy\n",
    "df['Date'] = pd.to_datetime(df['Date'])\n",
    "df.columns = df.columns.str.lower()\n",
    "df.set_index('date', inplace=True)\n",
    "\n",
    "df.head()"
   ]
  },
  {
   "cell_type": "markdown",
   "metadata": {},
   "source": [
    "## 2. Encode variables\n",
    "\n",
    "In addition to continuous variables, we also have two kinds of categorical variable: **ordinal** and **nominal**. Ordinal data consists of *ordered* classes, such as water quality status where e.g. `'HG'` represents higher quality than `'M'`, which is higher than `'PB'`. The nominal categories are *unordered* (month and season, for example). \n",
    "\n",
    "### 2.1. Ordinal data\n",
    "\n",
    "I will reclassify water quality status using an integer scale, where 0 corresponds to `'PB'` and 2 corresponds to `'HG'`."
   ]
  },
  {
   "cell_type": "code",
   "execution_count": 3,
   "metadata": {},
   "outputs": [],
   "source": [
    "# Category mappings\n",
    "status_dict = {'HG':2,\n",
    "               'M':1,\n",
    "               'PB':0}\n",
    "\n",
    "# Columns with ordinal data\n",
    "ord_cols = ['status_tp_lake', 'status_tp_lake_lag1m', 'status_tp_lake_prevsummer']\n",
    "\n",
    "# # Reclassify\n",
    "# for col in ord_cols:\n",
    "#     df[col] = df[col].replace(status_dict)"
   ]
  },
  {
   "cell_type": "markdown",
   "metadata": {},
   "source": [
    "### 2.2. Nominal\n",
    "\n",
    "The nominal data can be represented using \"[one hot encoding](https://scikit-learn.org/stable/modules/generated/sklearn.preprocessing.OneHotEncoder.html)\", which generates $(n - 1)$ binary features from a column with $n$ categories."
   ]
  },
  {
   "cell_type": "code",
   "execution_count": 4,
   "metadata": {},
   "outputs": [],
   "source": [
    "# One hot encoding for nominal columns\n",
    "df = pd.get_dummies(df, \n",
    "                    {'month':'month',\n",
    "                     'season':'season'},\n",
    "#                      'season_2':'season2'},\n",
    "                    columns=['month', 'season'],#, 'season_2'],\n",
    "                    drop_first=True)"
   ]
  },
  {
   "cell_type": "code",
   "execution_count": 5,
   "metadata": {},
   "outputs": [
    {
     "data": {
      "text/plain": [
       "Index(['pptn', 'temp', 'q', 'tp_catch', 'colour_lake', 'chl-a_lake', 'tp_lake',\n",
       "       'colour_van1', 'chl-a_van1', 'tp_van1', 'rain_day', 'pptn_intense',\n",
       "       'pptn_lag1m', 'temp_lag1m', 'q_lag1m', 'tp_catch_lag1m',\n",
       "       'colour_lake_lag1m', 'chl-a_lake_lag1m', 'tp_lake_lag1m',\n",
       "       'colour_van1_lag1m', 'chl-a_van1_lag1m', 'tp_van1_lag1m',\n",
       "       'rain_day_lag1m', 'pptn_intense_lag1m', 'season_2', 'pptn_wintersum',\n",
       "       'rain_day_wintersum', 'pptn_intense_wintersum', 'pptn_lag2m_sum',\n",
       "       'pptn_lag3m_sum', 'pptn_lag4m_sum', 'pptn_lag5m_sum', 'pptn_lag6m_sum',\n",
       "       'rain_day_lag2m_sum', 'rain_day_lag3m_sum', 'rain_day_lag4m_sum',\n",
       "       'rain_day_lag5m_sum', 'rain_day_lag6m_sum', 'pptn_intense_lag2m_sum',\n",
       "       'pptn_intense_lag3m_sum', 'pptn_intense_lag4m_sum',\n",
       "       'pptn_intense_lag5m_sum', 'pptn_intense_lag6m_sum', 'tp_catch_lag2m_av',\n",
       "       'tp_catch_lag3m_av', 'temp_lag2m_av', 'temp_lag3m_av', 'q_lag2m_av',\n",
       "       'q_lag3m_av', 'chl-a_lake_prevsummer', 'tp_lake_prevsummer',\n",
       "       'chl-a_van1_prevsummer', 'tp_van1_prevsummer', 'month_4', 'month_5',\n",
       "       'month_6', 'month_7', 'month_8', 'month_9', 'month_10', 'month_11',\n",
       "       'season_spr', 'season_summ'],\n",
       "      dtype='object')"
      ]
     },
     "execution_count": 5,
     "metadata": {},
     "output_type": "execute_result"
    }
   ],
   "source": [
    "df.columns"
   ]
  },
  {
   "cell_type": "markdown",
   "metadata": {},
   "source": [
    "## 3. Filling missing data\n",
    "\n",
    "Most ML algorithms don't like missing data. The code below calculates the proportion of missing values in each column."
   ]
  },
  {
   "cell_type": "code",
   "execution_count": 6,
   "metadata": {},
   "outputs": [
    {
     "data": {
      "text/html": [
       "<div>\n",
       "<style scoped>\n",
       "    .dataframe tbody tr th:only-of-type {\n",
       "        vertical-align: middle;\n",
       "    }\n",
       "\n",
       "    .dataframe tbody tr th {\n",
       "        vertical-align: top;\n",
       "    }\n",
       "\n",
       "    .dataframe thead th {\n",
       "        text-align: right;\n",
       "    }\n",
       "</style>\n",
       "<table border=\"1\" class=\"dataframe\">\n",
       "  <thead>\n",
       "    <tr style=\"text-align: right;\">\n",
       "      <th></th>\n",
       "      <th>total</th>\n",
       "      <th>percent</th>\n",
       "    </tr>\n",
       "  </thead>\n",
       "  <tbody>\n",
       "    <tr>\n",
       "      <th>colour_lake_lag1m</th>\n",
       "      <td>83</td>\n",
       "      <td>41.089109</td>\n",
       "    </tr>\n",
       "    <tr>\n",
       "      <th>colour_van1_lag1m</th>\n",
       "      <td>76</td>\n",
       "      <td>37.623762</td>\n",
       "    </tr>\n",
       "    <tr>\n",
       "      <th>colour_lake</th>\n",
       "      <td>60</td>\n",
       "      <td>29.702970</td>\n",
       "    </tr>\n",
       "    <tr>\n",
       "      <th>colour_van1</th>\n",
       "      <td>51</td>\n",
       "      <td>25.247525</td>\n",
       "    </tr>\n",
       "    <tr>\n",
       "      <th>q_lag3m_av</th>\n",
       "      <td>46</td>\n",
       "      <td>22.772277</td>\n",
       "    </tr>\n",
       "    <tr>\n",
       "      <th>tp_van1_lag1m</th>\n",
       "      <td>44</td>\n",
       "      <td>21.782178</td>\n",
       "    </tr>\n",
       "    <tr>\n",
       "      <th>tp_lake_lag1m</th>\n",
       "      <td>44</td>\n",
       "      <td>21.782178</td>\n",
       "    </tr>\n",
       "    <tr>\n",
       "      <th>q_lag2m_av</th>\n",
       "      <td>43</td>\n",
       "      <td>21.287129</td>\n",
       "    </tr>\n",
       "    <tr>\n",
       "      <th>q_lag1m</th>\n",
       "      <td>41</td>\n",
       "      <td>20.297030</td>\n",
       "    </tr>\n",
       "    <tr>\n",
       "      <th>q</th>\n",
       "      <td>40</td>\n",
       "      <td>19.801980</td>\n",
       "    </tr>\n",
       "    <tr>\n",
       "      <th>chl-a_van1_lag1m</th>\n",
       "      <td>40</td>\n",
       "      <td>19.801980</td>\n",
       "    </tr>\n",
       "    <tr>\n",
       "      <th>chl-a_lake_lag1m</th>\n",
       "      <td>39</td>\n",
       "      <td>19.306931</td>\n",
       "    </tr>\n",
       "    <tr>\n",
       "      <th>tp_catch_lag3m_av</th>\n",
       "      <td>32</td>\n",
       "      <td>15.841584</td>\n",
       "    </tr>\n",
       "    <tr>\n",
       "      <th>tp_catch_lag2m_av</th>\n",
       "      <td>27</td>\n",
       "      <td>13.366337</td>\n",
       "    </tr>\n",
       "    <tr>\n",
       "      <th>tp_catch</th>\n",
       "      <td>22</td>\n",
       "      <td>10.891089</td>\n",
       "    </tr>\n",
       "    <tr>\n",
       "      <th>tp_catch_lag1m</th>\n",
       "      <td>21</td>\n",
       "      <td>10.396040</td>\n",
       "    </tr>\n",
       "    <tr>\n",
       "      <th>chl-a_van1_prevsummer</th>\n",
       "      <td>10</td>\n",
       "      <td>4.950495</td>\n",
       "    </tr>\n",
       "    <tr>\n",
       "      <th>tp_van1</th>\n",
       "      <td>10</td>\n",
       "      <td>4.950495</td>\n",
       "    </tr>\n",
       "    <tr>\n",
       "      <th>chl-a_lake_prevsummer</th>\n",
       "      <td>10</td>\n",
       "      <td>4.950495</td>\n",
       "    </tr>\n",
       "    <tr>\n",
       "      <th>tp_lake_prevsummer</th>\n",
       "      <td>10</td>\n",
       "      <td>4.950495</td>\n",
       "    </tr>\n",
       "  </tbody>\n",
       "</table>\n",
       "</div>"
      ],
      "text/plain": [
       "                       total    percent\n",
       "colour_lake_lag1m         83  41.089109\n",
       "colour_van1_lag1m         76  37.623762\n",
       "colour_lake               60  29.702970\n",
       "colour_van1               51  25.247525\n",
       "q_lag3m_av                46  22.772277\n",
       "tp_van1_lag1m             44  21.782178\n",
       "tp_lake_lag1m             44  21.782178\n",
       "q_lag2m_av                43  21.287129\n",
       "q_lag1m                   41  20.297030\n",
       "q                         40  19.801980\n",
       "chl-a_van1_lag1m          40  19.801980\n",
       "chl-a_lake_lag1m          39  19.306931\n",
       "tp_catch_lag3m_av         32  15.841584\n",
       "tp_catch_lag2m_av         27  13.366337\n",
       "tp_catch                  22  10.891089\n",
       "tp_catch_lag1m            21  10.396040\n",
       "chl-a_van1_prevsummer     10   4.950495\n",
       "tp_van1                   10   4.950495\n",
       "chl-a_lake_prevsummer     10   4.950495\n",
       "tp_lake_prevsummer        10   4.950495"
      ]
     },
     "execution_count": 6,
     "metadata": {},
     "output_type": "execute_result"
    }
   ],
   "source": [
    "# Pct missing\n",
    "missing = pd.DataFrame(df.isnull().sum()).rename(columns = {0: 'total'})\n",
    "missing['percent'] = 100 * missing['total'] / len(df)\n",
    "missing.sort_values('percent', ascending=False).head(20)"
   ]
  },
  {
   "cell_type": "markdown",
   "metadata": {},
   "source": [
    "Filling these gaps sensibly is not easy. In the code below, I've used the following strategy:\n",
    "\n",
    " 1. For **continuous** variables, fill missing values with the *median* for the month in question\n",
    " \n",
    " 2. For **Ordinal** variables, fill missing values with the most common (i.e. modal) value for the month in question\n",
    " \n",
    "There are no missing values for the **nominal** variables, since they're all derived from the date-time index, which is complete.\n",
    "\n",
    "**Note:** Filling NaNs in this way transfers information between samples (i.e. rows) in the dataset. This violates the assumption that each row can be treated as an independent sample and may bias the model evaluation performed below. Ideally, we would retain a completely independent testing dataset for final model evaluation, but we don't have enough data for that here."
   ]
  },
  {
   "cell_type": "code",
   "execution_count": 7,
   "metadata": {},
   "outputs": [],
   "source": [
    "# loop over columns\n",
    "for col in df.columns:\n",
    "    if col in ord_cols:\n",
    "        # Ordinal data. Get modal value for each month\n",
    "        patch = df.groupby(df.index.month)[col].apply(pd.Series.mode).loc[:, 0]\n",
    "\n",
    "    else:\n",
    "        # Contiuous data. Get median value for each month\n",
    "        patch = df.groupby(df.index.month)[col].median()\n",
    "        \n",
    "    # Loop over rows\n",
    "    for idx, row in df.iterrows():\n",
    "        if pd.isnull(row[col]):\n",
    "            try:\n",
    "                # Try to fill with patches value for this month\n",
    "                fill_val = patch.loc[idx.month]\n",
    "                df.loc[idx, col] = fill_val\n",
    "            except KeyError:\n",
    "                # No data available for this month. Leave as NaN\n",
    "                pass"
   ]
  },
  {
   "cell_type": "markdown",
   "metadata": {},
   "source": [
    "How effective has this startegy been at filling NaNs?"
   ]
  },
  {
   "cell_type": "code",
   "execution_count": 8,
   "metadata": {},
   "outputs": [
    {
     "data": {
      "text/html": [
       "<div>\n",
       "<style scoped>\n",
       "    .dataframe tbody tr th:only-of-type {\n",
       "        vertical-align: middle;\n",
       "    }\n",
       "\n",
       "    .dataframe tbody tr th {\n",
       "        vertical-align: top;\n",
       "    }\n",
       "\n",
       "    .dataframe thead th {\n",
       "        text-align: right;\n",
       "    }\n",
       "</style>\n",
       "<table border=\"1\" class=\"dataframe\">\n",
       "  <thead>\n",
       "    <tr style=\"text-align: right;\">\n",
       "      <th></th>\n",
       "      <th>total</th>\n",
       "      <th>percent</th>\n",
       "    </tr>\n",
       "  </thead>\n",
       "  <tbody>\n",
       "    <tr>\n",
       "      <th>colour_van1_lag1m</th>\n",
       "      <td>15</td>\n",
       "      <td>7.425743</td>\n",
       "    </tr>\n",
       "    <tr>\n",
       "      <th>colour_lake_lag1m</th>\n",
       "      <td>15</td>\n",
       "      <td>7.425743</td>\n",
       "    </tr>\n",
       "    <tr>\n",
       "      <th>colour_lake</th>\n",
       "      <td>2</td>\n",
       "      <td>0.990099</td>\n",
       "    </tr>\n",
       "    <tr>\n",
       "      <th>colour_van1</th>\n",
       "      <td>2</td>\n",
       "      <td>0.990099</td>\n",
       "    </tr>\n",
       "    <tr>\n",
       "      <th>tp_lake_lag1m</th>\n",
       "      <td>1</td>\n",
       "      <td>0.495050</td>\n",
       "    </tr>\n",
       "    <tr>\n",
       "      <th>tp_catch_lag2m_av</th>\n",
       "      <td>1</td>\n",
       "      <td>0.495050</td>\n",
       "    </tr>\n",
       "    <tr>\n",
       "      <th>tp_van1_lag1m</th>\n",
       "      <td>1</td>\n",
       "      <td>0.495050</td>\n",
       "    </tr>\n",
       "    <tr>\n",
       "      <th>chl-a_van1_lag1m</th>\n",
       "      <td>1</td>\n",
       "      <td>0.495050</td>\n",
       "    </tr>\n",
       "    <tr>\n",
       "      <th>chl-a_lake_lag1m</th>\n",
       "      <td>1</td>\n",
       "      <td>0.495050</td>\n",
       "    </tr>\n",
       "    <tr>\n",
       "      <th>tp_catch_lag1m</th>\n",
       "      <td>1</td>\n",
       "      <td>0.495050</td>\n",
       "    </tr>\n",
       "  </tbody>\n",
       "</table>\n",
       "</div>"
      ],
      "text/plain": [
       "                   total   percent\n",
       "colour_van1_lag1m     15  7.425743\n",
       "colour_lake_lag1m     15  7.425743\n",
       "colour_lake            2  0.990099\n",
       "colour_van1            2  0.990099\n",
       "tp_lake_lag1m          1  0.495050\n",
       "tp_catch_lag2m_av      1  0.495050\n",
       "tp_van1_lag1m          1  0.495050\n",
       "chl-a_van1_lag1m       1  0.495050\n",
       "chl-a_lake_lag1m       1  0.495050\n",
       "tp_catch_lag1m         1  0.495050"
      ]
     },
     "execution_count": 8,
     "metadata": {},
     "output_type": "execute_result"
    }
   ],
   "source": [
    "# Pct missing\n",
    "missing = pd.DataFrame(df.isnull().sum()).rename(columns = {0: 'total'})\n",
    "missing['percent'] = 100 * missing['total'] / len(df)\n",
    "missing.sort_values('percent', ascending=False).head(10)"
   ]
  },
  {
   "cell_type": "markdown",
   "metadata": {},
   "source": [
    "This is better. For the remaining NaNs, I could either fill values using the overall mean/median for each column, drop the feature, or simply drop the rows that still contain NaN. With this data, I'll drop colour_lake_lag1m, and then for the rest drp the NaNs rather than apply more arbitrary data patching.\n",
    " \n",
    "## 4. Random forest modelling\n",
    "\n",
    "### 4.1. Drop any remaining NaNs"
   ]
  },
  {
   "cell_type": "code",
   "execution_count": 9,
   "metadata": {},
   "outputs": [
    {
     "name": "stdout",
     "output_type": "stream",
     "text": [
      "Length of original dataset: 202\n",
      "Length of trimmed dataset:  186\n"
     ]
    }
   ],
   "source": [
    "df2 = df.dropna(how='any')\n",
    "print('Length of original dataset:', len(df))\n",
    "print('Length of trimmed dataset: ', len(df2))"
   ]
  },
  {
   "cell_type": "markdown",
   "metadata": {},
   "source": [
    "### 4.2. Fit model\n"
   ]
  },
  {
   "cell_type": "code",
   "execution_count": 10,
   "metadata": {},
   "outputs": [],
   "source": [
    "# Define response vars (target variable defined at the start)\n",
    "exp_vars = [i for i in df2.columns if i != target_var]\n"
   ]
  },
  {
   "cell_type": "markdown",
   "metadata": {},
   "source": [
    "Random Forests use \"bootstrapping\" to partition the data used by each tree. Data not included in each bootstrap sample can therefore be used to perform \"internal\" validation, without the need for a holdout dataset as is usual for cross-validation. This approach is usually referred to as the \"out-of-bag\" (OOB) validation score. In sci-kit learn, this is roughly equivalent to $R^2$, but calculated on \"unseen\" data (as opposed to the less stringent \"within-sample\" $R^2$ typically reported for OLS regression).\n",
    "\n",
    "OOB scores are not *exactly* the same as cross-validation but, under typical circumstances, the OOB score should be roughly comparable to 3-fold CV (see e.g. [here](https://stats.stackexchange.com/a/199201/5467) and [here](https://stats.stackexchange.com/a/208018/5467) for some discussion). When using OOB scores, it is not necessary to split the data into training and testing sets, which is a big advantage when data are limited (as is the case here). Ideally, validation using a test set should also be performed, but for the work here I'm going to focus on OOB scores in order to make the most of limited data.\n",
    "\n",
    "Random Forests have a number of hyperparameters that can be tuned to improve performance. Of these, the most important seem to be `'n_estimators'` (the number of treesin the forest) and `'max_features'` (the size of the random subsets of features to consider when splitting a node). There is some debate about the best values to choose for `'max_features'`: the default for regression problems in sci-kit learn is `'max_features' = 'n_features'`, whereas in R the recommended value is to use about one third of the total number of features (see the comments on [this](https://stackoverflow.com/a/23950648/505698) post and the references in the documentation [here](https://scikit-learn.org/stable/modules/generated/sklearn.ensemble.RandomForestRegressor.html) for details).\n",
    "\n",
    "The code below (modified from [here](https://scikit-learn.org/stable/auto_examples/ensemble/plot_ensemble_oob.html)) plots the OOB error rate (= `1 - OOB_Score`) as a function of `'n_estimators'` for various choices for `'max_features'`. "
   ]
  },
  {
   "cell_type": "code",
   "execution_count": 11,
   "metadata": {},
   "outputs": [
    {
     "data": {
      "text/plain": [
       "<matplotlib.legend.Legend at 0x7f635576c358>"
      ]
     },
     "execution_count": 11,
     "metadata": {},
     "output_type": "execute_result"
    },
    {
     "data": {
      "image/png": "[encoded data removed]",
      "text/plain": [
       "<Figure size 720x432 with 1 Axes>"
      ]
     },
     "metadata": {
      "needs_background": "light"
     },
     "output_type": "display_data"
    }
   ],
   "source": [
    "# Extract vars\n",
    "y = df2[target_var]\n",
    "X = df2[exp_vars]\n",
    "\n",
    "# Standardise exp vars\n",
    "scalar = StandardScaler()\n",
    "X_scaled = pd.DataFrame(scalar.fit_transform(X), \n",
    "                        index=X.index, \n",
    "                        columns=X.columns)\n",
    "\n",
    "# For reproducibility\n",
    "rand_state = 42\n",
    "\n",
    "# List classifiers of interest\n",
    "# NB: Setting the `warm_start=True` disables parallel support, but is necessary for \n",
    "# tracking the OOB error trajectory during training\n",
    "ensemble_clfs = [\n",
    "    (\"RandomForestRegressor, max_features='sqrt'\",\n",
    "        RandomForestRegressor(n_estimators=100,\n",
    "                              warm_start=True, \n",
    "                              oob_score=True,\n",
    "                              max_features=\"sqrt\",\n",
    "                              random_state=rand_state)),\n",
    "    (\"RandomForestRegressor, max_features='log2'\",\n",
    "        RandomForestRegressor(n_estimators=100,\n",
    "                              warm_start=True, \n",
    "                              max_features='log2',\n",
    "                              oob_score=True,\n",
    "                              random_state=rand_state)),\n",
    "    (\"RandomForestRegressor, max_features=None\",                  \n",
    "        RandomForestRegressor(n_estimators=100,\n",
    "                              warm_start=True, \n",
    "                              max_features=None,           # Default. Uses all feats\n",
    "                              oob_score=True,\n",
    "                              random_state=rand_state)),\n",
    "    (\"RandomForestRegressor, max_features=0.33\",\n",
    "        RandomForestRegressor(n_estimators=100,\n",
    "                              warm_start=True, \n",
    "                              max_features=0.33,           # Older recommendation. Used by R\n",
    "                              oob_score=True,\n",
    "                              random_state=rand_state))\n",
    "]\n",
    "\n",
    "# Map a classifier name to a list of (<n_estimators>, <error rate>) pairs\n",
    "error_rate = OrderedDict((label, []) for label, _ in ensemble_clfs)\n",
    "\n",
    "# Range of `n_estimators` values to explore\n",
    "min_estimators = 10\n",
    "max_estimators = 500\n",
    "\n",
    "for label, clf in ensemble_clfs:\n",
    "    for i in range(min_estimators, max_estimators + 1, 5):\n",
    "        clf.set_params(n_estimators=i)\n",
    "        clf.fit(X_scaled, y)\n",
    "\n",
    "        # Record the OOB error \n",
    "        oob_error = 1 - clf.oob_score_\n",
    "        error_rate[label].append((i, oob_error))\n",
    "\n",
    "# Generate the \"OOB error rate\" vs. \"n_estimators\" plot\n",
    "fig = plt.figure(figsize=(10,6))\n",
    "for label, clf_err in error_rate.items():\n",
    "    xs, ys = zip(*clf_err)\n",
    "    plt.plot(xs, ys, label=label)\n",
    "\n",
    "plt.xlim(min_estimators, max_estimators)\n",
    "plt.xlabel(\"n_estimators\")\n",
    "plt.ylabel(\"OOB error rate\")\n",
    "plt.legend(loc=\"upper right\")"
   ]
  },
  {
   "cell_type": "markdown",
   "metadata": {},
   "source": [
    "To pick the best parameters to use in the models below, pick the curve in the above plot which has the lowest error rate, and pick n_estimators where the curve has flattened out (or reached a minimum?)\n",
    "\n",
    "### 4.3. Feature importances"
   ]
  },
  {
   "cell_type": "code",
   "execution_count": 12,
   "metadata": {},
   "outputs": [
    {
     "name": "stdout",
     "output_type": "stream",
     "text": [
      "OOB score: 0.55\n"
     ]
    },
    {
     "data": {
      "text/html": [
       "<div>\n",
       "<style scoped>\n",
       "    .dataframe tbody tr th:only-of-type {\n",
       "        vertical-align: middle;\n",
       "    }\n",
       "\n",
       "    .dataframe tbody tr th {\n",
       "        vertical-align: top;\n",
       "    }\n",
       "\n",
       "    .dataframe thead th {\n",
       "        text-align: right;\n",
       "    }\n",
       "</style>\n",
       "<table border=\"1\" class=\"dataframe\">\n",
       "  <thead>\n",
       "    <tr style=\"text-align: right;\">\n",
       "      <th></th>\n",
       "      <th>importance</th>\n",
       "    </tr>\n",
       "  </thead>\n",
       "  <tbody>\n",
       "    <tr>\n",
       "      <th>chl-a_van1</th>\n",
       "      <td>0.203321</td>\n",
       "    </tr>\n",
       "    <tr>\n",
       "      <th>chl-a_lake_lag1m</th>\n",
       "      <td>0.101591</td>\n",
       "    </tr>\n",
       "    <tr>\n",
       "      <th>tp_lake</th>\n",
       "      <td>0.078948</td>\n",
       "    </tr>\n",
       "    <tr>\n",
       "      <th>temp</th>\n",
       "      <td>0.051562</td>\n",
       "    </tr>\n",
       "    <tr>\n",
       "      <th>chl-a_van1_lag1m</th>\n",
       "      <td>0.046478</td>\n",
       "    </tr>\n",
       "    <tr>\n",
       "      <th>temp_lag1m</th>\n",
       "      <td>0.039653</td>\n",
       "    </tr>\n",
       "    <tr>\n",
       "      <th>chl-a_lake_prevsummer</th>\n",
       "      <td>0.036340</td>\n",
       "    </tr>\n",
       "    <tr>\n",
       "      <th>tp_van1_prevsummer</th>\n",
       "      <td>0.027012</td>\n",
       "    </tr>\n",
       "    <tr>\n",
       "      <th>tp_van1</th>\n",
       "      <td>0.024268</td>\n",
       "    </tr>\n",
       "    <tr>\n",
       "      <th>rain_day_wintersum</th>\n",
       "      <td>0.023358</td>\n",
       "    </tr>\n",
       "  </tbody>\n",
       "</table>\n",
       "</div>"
      ],
      "text/plain": [
       "                       importance\n",
       "chl-a_van1               0.203321\n",
       "chl-a_lake_lag1m         0.101591\n",
       "tp_lake                  0.078948\n",
       "temp                     0.051562\n",
       "chl-a_van1_lag1m         0.046478\n",
       "temp_lag1m               0.039653\n",
       "chl-a_lake_prevsummer    0.036340\n",
       "tp_van1_prevsummer       0.027012\n",
       "tp_van1                  0.024268\n",
       "rain_day_wintersum       0.023358"
      ]
     },
     "execution_count": 12,
     "metadata": {},
     "output_type": "execute_result"
    }
   ],
   "source": [
    "# Set based on graph above\n",
    "n_estimators = 120\n",
    "max_features = 0.33\n",
    "\n",
    "# Build model using 'best' results from above\n",
    "model = RandomForestRegressor(n_estimators=n_estimators,\n",
    "                              warm_start=False, \n",
    "                              max_features=max_features,           \n",
    "                              oob_score=True,\n",
    "                              random_state=rand_state)\n",
    "model.fit(X_scaled, y)\n",
    "\n",
    "print ('OOB score: %.2f' % model.oob_score_)\n",
    "\n",
    "# Get importance scores\n",
    "res_df = pd.DataFrame({'importance':model.feature_importances_}, \n",
    "                      index=X.columns.values).sort_values(by='importance',\n",
    "                                                          ascending=False)\n",
    "res_df.head(10)"
   ]
  },
  {
   "cell_type": "code",
   "execution_count": 13,
   "metadata": {},
   "outputs": [
    {
     "data": {
      "text/plain": [
       "<matplotlib.axes._subplots.AxesSubplot at 0x7f635573bb00>"
      ]
     },
     "execution_count": 13,
     "metadata": {},
     "output_type": "execute_result"
    },
    {
     "data": {
      "image/png": "[encoded data removed]",
      "text/plain": [
       "<Figure size 1440x432 with 1 Axes>"
      ]
     },
     "metadata": {
      "needs_background": "light"
     },
     "output_type": "display_data"
    }
   ],
   "source": [
    "# Plot\n",
    "res_df[:15].plot(kind='bar', figsize=(20,6))"
   ]
  },
  {
   "cell_type": "markdown",
   "metadata": {},
   "source": [
    "Not a bad OOB score\n",
    "\n",
    "Based on this, the most important features to look further at are something like:\n",
    "\n",
    " * chl-a_van1. Because it influences van2, or because the two are controlled by the same things?\n",
    " * chl-a_lake_lag1m, air temperature (same as in van1), chl-a_lake_prevsummer\n",
    " * Some lake_TP variables, but I think these will have to be dropped as there is a negative relationship between chl-a and TP, i.e. TP being used up (does TP include chl-a?), or a temperature effect on stratification\n",
    " * rain_day_wintersum"
   ]
  },
  {
   "cell_type": "markdown",
   "metadata": {},
   "source": [
    "\n",
    "### 4.5. Recursive feature elimination\n",
    "\n",
    "Recursive feature elimination attempts to find the best model using subsets of the available features. This is essentially the same as \"stepwise\" regression, except here we're using CV to avoid overfitting (as opposed to traditional \"significance testing\"). In the code below, I've used out-of-sample $R^2$ as a measure of performance. The best values obtained are pretty low, but remember that out-of-sample tests are much more stringent than their within-sample equivalents. The best overall indicator of perfornmance used in this notebook is the OOB score.\n",
    "\n",
    "**Note:** Other scoring metrics are available. Use \n",
    "\n",
    "    sorted(sklearn.metrics.SCORERS.keys())\n",
    "    \n",
    "to print a list."
   ]
  },
  {
   "cell_type": "code",
   "execution_count": 14,
   "metadata": {},
   "outputs": [
    {
     "name": "stdout",
     "output_type": "stream",
     "text": [
      "Optimal number of features: 4\n",
      "\n",
      "Optimal features (in no particular order):\n",
      "   temp\n",
      "   tp_lake\n",
      "   chl-a_van1\n",
      "   chl-a_lake_lag1m\n"
     ]
    },
    {
     "data": {
      "text/plain": [
       "[<matplotlib.lines.Line2D at 0x7f2052f7fba8>]"
      ]
     },
     "execution_count": 14,
     "metadata": {},
     "output_type": "execute_result"
    },
    {
     "data": {
      "image/png": "[encoded data removed]",
      "text/plain": [
       "<Figure size 720x432 with 1 Axes>"
      ]
     },
     "metadata": {
      "needs_background": "light"
     },
     "output_type": "display_data"
    }
   ],
   "source": [
    "# Build same model as above\n",
    "model = RandomForestRegressor(n_estimators=n_estimators,\n",
    "                              warm_start=False, \n",
    "                              max_features=max_features,           \n",
    "                              oob_score=True,\n",
    "                              random_state=rand_state)\n",
    "\n",
    "# Feature elimination with 3-fold CV\n",
    "rfecv = RFECV(estimator=model, \n",
    "              step=1, \n",
    "              cv=3, \n",
    "              scoring='r2',\n",
    "              n_jobs=-1)\n",
    "\n",
    "selector = rfecv.fit(X_scaled, y)\n",
    "\n",
    "print('Optimal number of features: %d' % rfecv.n_features_)\n",
    "print('')\n",
    "print ('Optimal features (in no particular order):')\n",
    "for i in np.array(exp_vars)[selector.support_]:\n",
    "    print('  ', i)\n",
    "    \n",
    "# Plot number of features vs. cross-validation score\n",
    "plt.figure(figsize=(10,6))\n",
    "plt.xlabel('Number of features')\n",
    "plt.ylabel('$R^2$')\n",
    "plt.plot(range(1, len(rfecv.grid_scores_) + 1), rfecv.grid_scores_)"
   ]
  },
  {
   "cell_type": "markdown",
   "metadata": {},
   "source": [
    "Use the plot to decide roughly how many features to pick before things level off. Then think about which features are likeley to contain duplicate information. Lets try a consolidated list, removing duplicated features, and see how that model performs.\n",
    "\n",
    "Interesting graph here! Strong evidence for just using four features, and in fact much worse performance for more features. Do these four features have to be the four returned above? How does swapping others in affect the outcome?"
   ]
  },
  {
   "cell_type": "code",
   "execution_count": 21,
   "metadata": {},
   "outputs": [
    {
     "name": "stdout",
     "output_type": "stream",
     "text": [
      "OOB score: 0.56\n"
     ]
    },
    {
     "data": {
      "text/html": [
       "<div>\n",
       "<style scoped>\n",
       "    .dataframe tbody tr th:only-of-type {\n",
       "        vertical-align: middle;\n",
       "    }\n",
       "\n",
       "    .dataframe tbody tr th {\n",
       "        vertical-align: top;\n",
       "    }\n",
       "\n",
       "    .dataframe thead th {\n",
       "        text-align: right;\n",
       "    }\n",
       "</style>\n",
       "<table border=\"1\" class=\"dataframe\">\n",
       "  <thead>\n",
       "    <tr style=\"text-align: right;\">\n",
       "      <th></th>\n",
       "      <th>importance</th>\n",
       "    </tr>\n",
       "  </thead>\n",
       "  <tbody>\n",
       "    <tr>\n",
       "      <th>chl-a_van1</th>\n",
       "      <td>0.297657</td>\n",
       "    </tr>\n",
       "    <tr>\n",
       "      <th>chl-a_lake_lag1m</th>\n",
       "      <td>0.255866</td>\n",
       "    </tr>\n",
       "    <tr>\n",
       "      <th>tp_lake</th>\n",
       "      <td>0.227631</td>\n",
       "    </tr>\n",
       "    <tr>\n",
       "      <th>temp</th>\n",
       "      <td>0.218846</td>\n",
       "    </tr>\n",
       "  </tbody>\n",
       "</table>\n",
       "</div>"
      ],
      "text/plain": [
       "                  importance\n",
       "chl-a_van1          0.297657\n",
       "chl-a_lake_lag1m    0.255866\n",
       "tp_lake             0.227631\n",
       "temp                0.218846"
      ]
     },
     "execution_count": 21,
     "metadata": {},
     "output_type": "execute_result"
    }
   ],
   "source": [
    "# Reduce list of exp vars based on results above\n",
    "exp_vars = [\n",
    "    'temp',\n",
    "   'tp_lake',\n",
    "   'chl-a_van1',\n",
    "   'chl-a_lake_lag1m',\n",
    "           ]\n",
    "\n",
    "# Extract vars\n",
    "y = df2[target_var]\n",
    "X = df2[exp_vars]\n",
    "\n",
    "# Standardise exp vars\n",
    "scalar = StandardScaler()\n",
    "X_scaled = pd.DataFrame(scalar.fit_transform(X), \n",
    "                        index=X.index, \n",
    "                        columns=X.columns)\n",
    "\n",
    "# Build model using 'best' results from above\n",
    "model = RandomForestRegressor(n_estimators=n_estimators,\n",
    "                              warm_start=False, \n",
    "                              max_features=max_features,           \n",
    "                              oob_score=True,\n",
    "                              random_state=rand_state)\n",
    "model.fit(X_scaled, y)\n",
    "\n",
    "print ('OOB score: %.2f' % model.oob_score_)\n",
    "\n",
    "# Get importance scores\n",
    "res_df = pd.DataFrame({'importance':model.feature_importances_}, \n",
    "                      index=X.columns.values).sort_values(by='importance',\n",
    "                                                          ascending=False)\n",
    "res_df.head(10)"
   ]
  },
  {
   "cell_type": "code",
   "execution_count": 33,
   "metadata": {},
   "outputs": [
    {
     "data": {
      "text/plain": [
       "<matplotlib.axes._subplots.AxesSubplot at 0x7fda23d21438>"
      ]
     },
     "execution_count": 33,
     "metadata": {},
     "output_type": "execute_result"
    },
    {
     "data": {
      "image/png": "[encoded data removed]",
      "text/plain": [
       "<Figure size 720x288 with 1 Axes>"
      ]
     },
     "metadata": {
      "needs_background": "light"
     },
     "output_type": "display_data"
    }
   ],
   "source": [
    "# Plot\n",
    "res_df[:15].plot(kind='bar', figsize=(10,4))"
   ]
  },
  {
   "cell_type": "code",
   "execution_count": 34,
   "metadata": {},
   "outputs": [
    {
     "data": {
      "text/plain": [
       "Index(['pptn', 'temp', 'q', 'tp_catch', 'colour_lake', 'chl-a_lake', 'tp_lake',\n",
       "       'colour_van1', 'chl-a_van1', 'tp_van1', 'rain_day', 'pptn_intense',\n",
       "       'pptn_lag1m', 'temp_lag1m', 'q_lag1m', 'tp_catch_lag1m',\n",
       "       'colour_lake_lag1m', 'chl-a_lake_lag1m', 'tp_lake_lag1m',\n",
       "       'colour_van1_lag1m', 'chl-a_van1_lag1m', 'tp_van1_lag1m',\n",
       "       'rain_day_lag1m', 'pptn_intense_lag1m', 'season_2', 'pptn_wintersum',\n",
       "       'rain_day_wintersum', 'pptn_intense_wintersum', 'pptn_lag2m_sum',\n",
       "       'pptn_lag3m_sum', 'pptn_lag4m_sum', 'pptn_lag5m_sum', 'pptn_lag6m_sum',\n",
       "       'rain_day_lag2m_sum', 'rain_day_lag3m_sum', 'rain_day_lag4m_sum',\n",
       "       'rain_day_lag5m_sum', 'rain_day_lag6m_sum', 'pptn_intense_lag2m_sum',\n",
       "       'pptn_intense_lag3m_sum', 'pptn_intense_lag4m_sum',\n",
       "       'pptn_intense_lag5m_sum', 'pptn_intense_lag6m_sum', 'tp_catch_lag2m_av',\n",
       "       'tp_catch_lag3m_av', 'temp_lag2m_av', 'temp_lag3m_av', 'q_lag2m_av',\n",
       "       'q_lag3m_av', 'chl-a_lake_prevsummer', 'tp_lake_prevsummer',\n",
       "       'chl-a_van1_prevsummer', 'tp_van1_prevsummer', 'month_4', 'month_5',\n",
       "       'month_6', 'month_7', 'month_8', 'month_9', 'month_10', 'month_11',\n",
       "       'season_spr', 'season_summ'],\n",
       "      dtype='object')"
      ]
     },
     "execution_count": 34,
     "metadata": {},
     "output_type": "execute_result"
    }
   ],
   "source": [
    "df2.columns"
   ]
  },
  {
   "cell_type": "markdown",
   "metadata": {},
   "source": [
    "Same again, but only with data that we would likely have available in the operational forecast"
   ]
  },
  {
   "cell_type": "code",
   "execution_count": 60,
   "metadata": {},
   "outputs": [
    {
     "name": "stdout",
     "output_type": "stream",
     "text": [
      "OOB score: 0.46\n"
     ]
    },
    {
     "data": {
      "text/html": [
       "<div>\n",
       "<style scoped>\n",
       "    .dataframe tbody tr th:only-of-type {\n",
       "        vertical-align: middle;\n",
       "    }\n",
       "\n",
       "    .dataframe tbody tr th {\n",
       "        vertical-align: top;\n",
       "    }\n",
       "\n",
       "    .dataframe thead th {\n",
       "        text-align: right;\n",
       "    }\n",
       "</style>\n",
       "<table border=\"1\" class=\"dataframe\">\n",
       "  <thead>\n",
       "    <tr style=\"text-align: right;\">\n",
       "      <th></th>\n",
       "      <th>importance</th>\n",
       "    </tr>\n",
       "  </thead>\n",
       "  <tbody>\n",
       "    <tr>\n",
       "      <th>temp</th>\n",
       "      <td>0.319302</td>\n",
       "    </tr>\n",
       "    <tr>\n",
       "      <th>temp_lag1m</th>\n",
       "      <td>0.306566</td>\n",
       "    </tr>\n",
       "    <tr>\n",
       "      <th>rain_day_wintersum</th>\n",
       "      <td>0.211502</td>\n",
       "    </tr>\n",
       "    <tr>\n",
       "      <th>pptn_wintersum</th>\n",
       "      <td>0.162630</td>\n",
       "    </tr>\n",
       "  </tbody>\n",
       "</table>\n",
       "</div>"
      ],
      "text/plain": [
       "                    importance\n",
       "temp                  0.319302\n",
       "temp_lag1m            0.306566\n",
       "rain_day_wintersum    0.211502\n",
       "pptn_wintersum        0.162630"
      ]
     },
     "execution_count": 60,
     "metadata": {},
     "output_type": "execute_result"
    }
   ],
   "source": [
    "# Reduce list of exp vars based on results above\n",
    "exp_vars = ['temp',\n",
    "#    'tp_lake', # Assume this would be estimated within BBN, not measured\n",
    "    'temp_lag1m',\n",
    "    'rain_day_wintersum',\n",
    "    'pptn_wintersum',\n",
    "#    'chl-a_van1',\n",
    "#    'chl-a_lake_lag1m',\n",
    "           ]\n",
    "\n",
    "# Extract vars\n",
    "y = df2[target_var]\n",
    "X = df2[exp_vars]\n",
    "\n",
    "# Standardise exp vars\n",
    "scalar = StandardScaler()\n",
    "X_scaled = pd.DataFrame(scalar.fit_transform(X), \n",
    "                        index=X.index, \n",
    "                        columns=X.columns)\n",
    "\n",
    "# Build model using 'best' results from above\n",
    "model = RandomForestRegressor(n_estimators=n_estimators,\n",
    "                              warm_start=False, \n",
    "                              max_features=max_features,           \n",
    "                              oob_score=True,\n",
    "                              random_state=rand_state)\n",
    "model.fit(X_scaled, y)\n",
    "\n",
    "print ('OOB score: %.2f' % model.oob_score_)\n",
    "\n",
    "# Get importance scores\n",
    "res_df = pd.DataFrame({'importance':model.feature_importances_}, \n",
    "                      index=X.columns.values).sort_values(by='importance',\n",
    "                                                          ascending=False)\n",
    "res_df.head(10)"
   ]
  },
  {
   "cell_type": "code",
   "execution_count": null,
   "metadata": {},
   "outputs": [],
   "source": []
  }
 ],
 "metadata": {
  "kernelspec": {
   "display_name": "Python 3",
   "language": "python",
   "name": "python3"
  },
  "language_info": {
   "codemirror_mode": {
    "name": "ipython",
    "version": 3
   },
   "file_extension": ".py",
   "mimetype": "text/x-python",
   "name": "python",
   "nbconvert_exporter": "python",
   "pygments_lexer": "ipython3",
   "version": "3.6.8"
  }
 },
 "nbformat": 4,
 "nbformat_minor": 2
}
