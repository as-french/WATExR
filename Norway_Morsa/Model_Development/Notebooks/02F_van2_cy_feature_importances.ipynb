{
 "cells": [
  {
   "cell_type": "code",
   "execution_count": 1,
   "metadata": {},
   "outputs": [],
   "source": [
    "%matplotlib inline\n",
    "import pandas as pd\n",
    "import numpy as np\n",
    "import nivapy3 as nivapy\n",
    "import seaborn as sn\n",
    "import matplotlib.pyplot as plt\n",
    "from sklearn.ensemble import RandomForestRegressor\n",
    "from sklearn.impute import SimpleImputer\n",
    "from sklearn.preprocessing import StandardScaler\n",
    "from sklearn.model_selection import train_test_split\n",
    "from sklearn.model_selection import RandomizedSearchCV\n",
    "from sklearn.metrics import r2_score\n",
    "from sklearn.feature_selection import RFECV\n",
    "from collections import OrderedDict\n",
    "\n",
    "plt.style.use('ggplot')"
   ]
  },
  {
   "cell_type": "markdown",
   "metadata": {},
   "source": [
    "# Feature importances for WaterXr\n",
    "\n",
    "Rough code for estimating feature importances using a Random Forest. The most complicated part of this workflow is deciding how to handle NaNs in a sensible way. This is because the sampling strategy at Vansjø is strongly biased over time (sampling only takes place between spring and autumn). This produces regular periods of NaNs in the data series, which affect the calculations for lagged variables.\n",
    "\n",
    "## 1. Read data"
   ]
  },
  {
   "cell_type": "code",
   "execution_count": 2,
   "metadata": {},
   "outputs": [
    {
     "data": {
      "text/html": [
       "<div>\n",
       "<style scoped>\n",
       "    .dataframe tbody tr th:only-of-type {\n",
       "        vertical-align: middle;\n",
       "    }\n",
       "\n",
       "    .dataframe tbody tr th {\n",
       "        vertical-align: top;\n",
       "    }\n",
       "\n",
       "    .dataframe thead th {\n",
       "        text-align: right;\n",
       "    }\n",
       "</style>\n",
       "<table border=\"1\" class=\"dataframe\">\n",
       "  <thead>\n",
       "    <tr style=\"text-align: right;\">\n",
       "      <th></th>\n",
       "      <th>pptn</th>\n",
       "      <th>temp</th>\n",
       "      <th>q</th>\n",
       "      <th>tp_catch</th>\n",
       "      <th>colour_lake</th>\n",
       "      <th>chl-a_lake</th>\n",
       "      <th>tp_lake</th>\n",
       "      <th>cyanobiovol</th>\n",
       "      <th>colour_van1</th>\n",
       "      <th>chl-a_van1</th>\n",
       "      <th>...</th>\n",
       "      <th>temp_lag2m_av</th>\n",
       "      <th>temp_lag3m_av</th>\n",
       "      <th>q_lag2m_av</th>\n",
       "      <th>q_lag3m_av</th>\n",
       "      <th>season</th>\n",
       "      <th>chl-a_lake_prevsummer</th>\n",
       "      <th>tp_lake_prevsummer</th>\n",
       "      <th>cyanobiovol_prevsummer</th>\n",
       "      <th>chl-a_van1_prevsummer</th>\n",
       "      <th>tp_van1_prevsummer</th>\n",
       "    </tr>\n",
       "    <tr>\n",
       "      <th>date</th>\n",
       "      <th></th>\n",
       "      <th></th>\n",
       "      <th></th>\n",
       "      <th></th>\n",
       "      <th></th>\n",
       "      <th></th>\n",
       "      <th></th>\n",
       "      <th></th>\n",
       "      <th></th>\n",
       "      <th></th>\n",
       "      <th></th>\n",
       "      <th></th>\n",
       "      <th></th>\n",
       "      <th></th>\n",
       "      <th></th>\n",
       "      <th></th>\n",
       "      <th></th>\n",
       "      <th></th>\n",
       "      <th></th>\n",
       "      <th></th>\n",
       "      <th></th>\n",
       "    </tr>\n",
       "  </thead>\n",
       "  <tbody>\n",
       "    <tr>\n",
       "      <th>1996-06-30</th>\n",
       "      <td>64.535699</td>\n",
       "      <td>13.291172</td>\n",
       "      <td>2.109759</td>\n",
       "      <td>46.15</td>\n",
       "      <td>22.0</td>\n",
       "      <td>16.50</td>\n",
       "      <td>27.60</td>\n",
       "      <td>0.120</td>\n",
       "      <td>24.0</td>\n",
       "      <td>5.6</td>\n",
       "      <td>...</td>\n",
       "      <td>5.911567</td>\n",
       "      <td>3.295424</td>\n",
       "      <td>5.720338</td>\n",
       "      <td>3.896419</td>\n",
       "      <td>summ</td>\n",
       "      <td>25.55</td>\n",
       "      <td>29.65</td>\n",
       "      <td>NaN</td>\n",
       "      <td>10.075</td>\n",
       "      <td>24.95</td>\n",
       "    </tr>\n",
       "    <tr>\n",
       "      <th>1996-07-31</th>\n",
       "      <td>27.760550</td>\n",
       "      <td>14.767498</td>\n",
       "      <td>0.649900</td>\n",
       "      <td>69.56</td>\n",
       "      <td>19.5</td>\n",
       "      <td>27.65</td>\n",
       "      <td>32.40</td>\n",
       "      <td>3.125</td>\n",
       "      <td>22.5</td>\n",
       "      <td>8.4</td>\n",
       "      <td>...</td>\n",
       "      <td>10.629672</td>\n",
       "      <td>8.371436</td>\n",
       "      <td>4.365734</td>\n",
       "      <td>4.516812</td>\n",
       "      <td>summ</td>\n",
       "      <td>25.55</td>\n",
       "      <td>29.65</td>\n",
       "      <td>NaN</td>\n",
       "      <td>10.075</td>\n",
       "      <td>24.95</td>\n",
       "    </tr>\n",
       "    <tr>\n",
       "      <th>1996-08-31</th>\n",
       "      <td>71.153706</td>\n",
       "      <td>16.901620</td>\n",
       "      <td>0.404032</td>\n",
       "      <td>47.80</td>\n",
       "      <td>18.0</td>\n",
       "      <td>22.80</td>\n",
       "      <td>33.40</td>\n",
       "      <td>4.230</td>\n",
       "      <td>19.0</td>\n",
       "      <td>6.6</td>\n",
       "      <td>...</td>\n",
       "      <td>14.029335</td>\n",
       "      <td>12.008947</td>\n",
       "      <td>1.379829</td>\n",
       "      <td>3.127123</td>\n",
       "      <td>summ</td>\n",
       "      <td>25.55</td>\n",
       "      <td>29.65</td>\n",
       "      <td>NaN</td>\n",
       "      <td>10.075</td>\n",
       "      <td>24.95</td>\n",
       "    </tr>\n",
       "    <tr>\n",
       "      <th>1996-09-30</th>\n",
       "      <td>81.099450</td>\n",
       "      <td>8.795539</td>\n",
       "      <td>0.808759</td>\n",
       "      <td>116.55</td>\n",
       "      <td>13.5</td>\n",
       "      <td>16.60</td>\n",
       "      <td>30.95</td>\n",
       "      <td>4.235</td>\n",
       "      <td>15.5</td>\n",
       "      <td>6.2</td>\n",
       "      <td>...</td>\n",
       "      <td>15.834559</td>\n",
       "      <td>14.986763</td>\n",
       "      <td>0.526966</td>\n",
       "      <td>1.054564</td>\n",
       "      <td>aut</td>\n",
       "      <td>25.55</td>\n",
       "      <td>29.65</td>\n",
       "      <td>NaN</td>\n",
       "      <td>10.075</td>\n",
       "      <td>24.95</td>\n",
       "    </tr>\n",
       "    <tr>\n",
       "      <th>1997-06-30</th>\n",
       "      <td>71.985996</td>\n",
       "      <td>15.500207</td>\n",
       "      <td>0.787966</td>\n",
       "      <td>36.78</td>\n",
       "      <td>27.0</td>\n",
       "      <td>15.40</td>\n",
       "      <td>22.20</td>\n",
       "      <td>0.180</td>\n",
       "      <td>33.0</td>\n",
       "      <td>10.8</td>\n",
       "      <td>...</td>\n",
       "      <td>6.367938</td>\n",
       "      <td>4.893140</td>\n",
       "      <td>3.093306</td>\n",
       "      <td>3.436419</td>\n",
       "      <td>summ</td>\n",
       "      <td>23.65</td>\n",
       "      <td>31.45</td>\n",
       "      <td>2.65</td>\n",
       "      <td>7.250</td>\n",
       "      <td>17.45</td>\n",
       "    </tr>\n",
       "  </tbody>\n",
       "</table>\n",
       "<p>5 rows × 58 columns</p>\n",
       "</div>"
      ],
      "text/plain": [
       "                 pptn       temp         q  tp_catch  colour_lake  chl-a_lake  \\\n",
       "date                                                                            \n",
       "1996-06-30  64.535699  13.291172  2.109759     46.15         22.0       16.50   \n",
       "1996-07-31  27.760550  14.767498  0.649900     69.56         19.5       27.65   \n",
       "1996-08-31  71.153706  16.901620  0.404032     47.80         18.0       22.80   \n",
       "1996-09-30  81.099450   8.795539  0.808759    116.55         13.5       16.60   \n",
       "1997-06-30  71.985996  15.500207  0.787966     36.78         27.0       15.40   \n",
       "\n",
       "            tp_lake  cyanobiovol  colour_van1  chl-a_van1  ...  temp_lag2m_av  \\\n",
       "date                                                       ...                  \n",
       "1996-06-30    27.60        0.120         24.0         5.6  ...       5.911567   \n",
       "1996-07-31    32.40        3.125         22.5         8.4  ...      10.629672   \n",
       "1996-08-31    33.40        4.230         19.0         6.6  ...      14.029335   \n",
       "1996-09-30    30.95        4.235         15.5         6.2  ...      15.834559   \n",
       "1997-06-30    22.20        0.180         33.0        10.8  ...       6.367938   \n",
       "\n",
       "            temp_lag3m_av  q_lag2m_av  q_lag3m_av  season  \\\n",
       "date                                                        \n",
       "1996-06-30       3.295424    5.720338    3.896419    summ   \n",
       "1996-07-31       8.371436    4.365734    4.516812    summ   \n",
       "1996-08-31      12.008947    1.379829    3.127123    summ   \n",
       "1996-09-30      14.986763    0.526966    1.054564     aut   \n",
       "1997-06-30       4.893140    3.093306    3.436419    summ   \n",
       "\n",
       "            chl-a_lake_prevsummer  tp_lake_prevsummer  cyanobiovol_prevsummer  \\\n",
       "date                                                                            \n",
       "1996-06-30                  25.55               29.65                     NaN   \n",
       "1996-07-31                  25.55               29.65                     NaN   \n",
       "1996-08-31                  25.55               29.65                     NaN   \n",
       "1996-09-30                  25.55               29.65                     NaN   \n",
       "1997-06-30                  23.65               31.45                    2.65   \n",
       "\n",
       "            chl-a_van1_prevsummer  tp_van1_prevsummer  \n",
       "date                                                   \n",
       "1996-06-30                 10.075               24.95  \n",
       "1996-07-31                 10.075               24.95  \n",
       "1996-08-31                 10.075               24.95  \n",
       "1996-09-30                 10.075               24.95  \n",
       "1997-06-30                  7.250               17.45  \n",
       "\n",
       "[5 rows x 58 columns]"
      ]
     },
     "execution_count": 2,
     "metadata": {},
     "output_type": "execute_result"
    }
   ],
   "source": [
    "# Variable of interest. Choose from 'TP', 'Chl-a', 'CyanoBiovol'. These need to match the data matrix file names\n",
    "variable = 'CyanoBiovol'\n",
    "\n",
    "# Basin of interest. Choose from 'Van1' (Storefjorden) or 'Van2' (Vanemfjorden)\n",
    "basin = 'Van2'\n",
    "\n",
    "# Dict to translate from variable name used in filename, to that used in column name for picking out target var\n",
    "target_var_dict = {'TP':'tp_lake',\n",
    "                  'Chl-a': 'chl-a_lake',\n",
    "                  'CyanoBiovol': 'cyanobiovol'}\n",
    "\n",
    "target_var = target_var_dict[variable]\n",
    "\n",
    "# Read Leah's data matrix\n",
    "in_csv = r'../data/DataMatrices/dataMatrix_monthly_%s_%s.csv' %(variable, basin)\n",
    "df = pd.read_csv(in_csv)\n",
    "\n",
    "# Parse dates and tidy\n",
    "df['Date'] = pd.to_datetime(df['Date'])\n",
    "df.columns = df.columns.str.lower()\n",
    "df.set_index('date', inplace=True)\n",
    "\n",
    "df.head()"
   ]
  },
  {
   "cell_type": "markdown",
   "metadata": {},
   "source": [
    "## 2. Encode variables\n",
    "\n",
    "In addition to continuous variables, we also have two kinds of categorical variable: **ordinal** and **nominal**. Ordinal data consists of *ordered* classes, such as water quality status where e.g. `'HG'` represents higher quality than `'M'`, which is higher than `'PB'`. The nominal categories are *unordered* (month and season, for example). \n",
    "\n",
    "### 2.1. Ordinal data\n",
    "\n",
    "I will reclassify water quality status using an integer scale, where 0 corresponds to `'PB'` and 2 corresponds to `'HG'`."
   ]
  },
  {
   "cell_type": "code",
   "execution_count": 3,
   "metadata": {},
   "outputs": [],
   "source": [
    "# Category mappings\n",
    "status_dict = {'HG':2,\n",
    "               'M':1,\n",
    "               'PB':0}\n",
    "\n",
    "# Columns with ordinal data\n",
    "ord_cols = ['status_tp_lake', 'status_tp_lake_lag1m', 'status_tp_lake_prevsummer']\n",
    "\n",
    "# # Reclassify\n",
    "# for col in ord_cols:\n",
    "#     df[col] = df[col].replace(status_dict)"
   ]
  },
  {
   "cell_type": "markdown",
   "metadata": {},
   "source": [
    "### 2.2. Nominal\n",
    "\n",
    "The nominal data can be represented using \"[one hot encoding](https://scikit-learn.org/stable/modules/generated/sklearn.preprocessing.OneHotEncoder.html)\", which generates $(n - 1)$ binary features from a column with $n$ categories."
   ]
  },
  {
   "cell_type": "code",
   "execution_count": 4,
   "metadata": {},
   "outputs": [],
   "source": [
    "# One hot encoding for nominal columns\n",
    "df = pd.get_dummies(df, \n",
    "                    {'month':'month',\n",
    "                     'season':'season'},\n",
    "#                      'season_2':'season2'},\n",
    "                    columns=['month', 'season'],#, 'season_2'],\n",
    "                    drop_first=True)"
   ]
  },
  {
   "cell_type": "code",
   "execution_count": 5,
   "metadata": {},
   "outputs": [
    {
     "data": {
      "text/plain": [
       "Index(['pptn', 'temp', 'q', 'tp_catch', 'colour_lake', 'chl-a_lake', 'tp_lake',\n",
       "       'cyanobiovol', 'colour_van1', 'chl-a_van1', 'tp_van1', 'rain_day',\n",
       "       'pptn_intense', 'pptn_lag1m', 'temp_lag1m', 'q_lag1m', 'tp_catch_lag1m',\n",
       "       'colour_lake_lag1m', 'chl-a_lake_lag1m', 'tp_lake_lag1m',\n",
       "       'cyanobiovol_lag1m', 'colour_van1_lag1m', 'chl-a_van1_lag1m',\n",
       "       'tp_van1_lag1m', 'rain_day_lag1m', 'pptn_intense_lag1m', 'season_2',\n",
       "       'pptn_wintersum', 'rain_day_wintersum', 'pptn_intense_wintersum',\n",
       "       'pptn_lag2m_sum', 'pptn_lag3m_sum', 'pptn_lag4m_sum', 'pptn_lag5m_sum',\n",
       "       'pptn_lag6m_sum', 'rain_day_lag2m_sum', 'rain_day_lag3m_sum',\n",
       "       'rain_day_lag4m_sum', 'rain_day_lag5m_sum', 'rain_day_lag6m_sum',\n",
       "       'pptn_intense_lag2m_sum', 'pptn_intense_lag3m_sum',\n",
       "       'pptn_intense_lag4m_sum', 'pptn_intense_lag5m_sum',\n",
       "       'pptn_intense_lag6m_sum', 'tp_catch_lag2m_av', 'tp_catch_lag3m_av',\n",
       "       'temp_lag2m_av', 'temp_lag3m_av', 'q_lag2m_av', 'q_lag3m_av',\n",
       "       'chl-a_lake_prevsummer', 'tp_lake_prevsummer', 'cyanobiovol_prevsummer',\n",
       "       'chl-a_van1_prevsummer', 'tp_van1_prevsummer', 'month_5', 'month_6',\n",
       "       'month_7', 'month_8', 'month_9', 'month_10', 'season_spr',\n",
       "       'season_summ'],\n",
       "      dtype='object')"
      ]
     },
     "execution_count": 5,
     "metadata": {},
     "output_type": "execute_result"
    }
   ],
   "source": [
    "df.columns"
   ]
  },
  {
   "cell_type": "markdown",
   "metadata": {},
   "source": [
    "## 3. Filling missing data\n",
    "\n",
    "Most ML algorithms don't like missing data. The code below calculates the proportion of missing values in each column."
   ]
  },
  {
   "cell_type": "code",
   "execution_count": 6,
   "metadata": {},
   "outputs": [
    {
     "data": {
      "text/html": [
       "<div>\n",
       "<style scoped>\n",
       "    .dataframe tbody tr th:only-of-type {\n",
       "        vertical-align: middle;\n",
       "    }\n",
       "\n",
       "    .dataframe tbody tr th {\n",
       "        vertical-align: top;\n",
       "    }\n",
       "\n",
       "    .dataframe thead th {\n",
       "        text-align: right;\n",
       "    }\n",
       "</style>\n",
       "<table border=\"1\" class=\"dataframe\">\n",
       "  <thead>\n",
       "    <tr style=\"text-align: right;\">\n",
       "      <th></th>\n",
       "      <th>total</th>\n",
       "      <th>percent</th>\n",
       "    </tr>\n",
       "  </thead>\n",
       "  <tbody>\n",
       "    <tr>\n",
       "      <th>colour_lake_lag1m</th>\n",
       "      <td>55</td>\n",
       "      <td>44.0</td>\n",
       "    </tr>\n",
       "    <tr>\n",
       "      <th>colour_van1_lag1m</th>\n",
       "      <td>50</td>\n",
       "      <td>40.0</td>\n",
       "    </tr>\n",
       "    <tr>\n",
       "      <th>colour_lake</th>\n",
       "      <td>45</td>\n",
       "      <td>36.0</td>\n",
       "    </tr>\n",
       "    <tr>\n",
       "      <th>colour_van1</th>\n",
       "      <td>38</td>\n",
       "      <td>30.4</td>\n",
       "    </tr>\n",
       "    <tr>\n",
       "      <th>tp_van1_lag1m</th>\n",
       "      <td>31</td>\n",
       "      <td>24.8</td>\n",
       "    </tr>\n",
       "    <tr>\n",
       "      <th>tp_lake_lag1m</th>\n",
       "      <td>31</td>\n",
       "      <td>24.8</td>\n",
       "    </tr>\n",
       "    <tr>\n",
       "      <th>chl-a_van1_lag1m</th>\n",
       "      <td>25</td>\n",
       "      <td>20.0</td>\n",
       "    </tr>\n",
       "    <tr>\n",
       "      <th>chl-a_lake_lag1m</th>\n",
       "      <td>25</td>\n",
       "      <td>20.0</td>\n",
       "    </tr>\n",
       "    <tr>\n",
       "      <th>cyanobiovol_lag1m</th>\n",
       "      <td>23</td>\n",
       "      <td>18.4</td>\n",
       "    </tr>\n",
       "    <tr>\n",
       "      <th>tp_catch_lag3m_av</th>\n",
       "      <td>15</td>\n",
       "      <td>12.0</td>\n",
       "    </tr>\n",
       "    <tr>\n",
       "      <th>tp_lake</th>\n",
       "      <td>14</td>\n",
       "      <td>11.2</td>\n",
       "    </tr>\n",
       "    <tr>\n",
       "      <th>tp_van1</th>\n",
       "      <td>14</td>\n",
       "      <td>11.2</td>\n",
       "    </tr>\n",
       "    <tr>\n",
       "      <th>tp_catch</th>\n",
       "      <td>12</td>\n",
       "      <td>9.6</td>\n",
       "    </tr>\n",
       "    <tr>\n",
       "      <th>tp_catch_lag2m_av</th>\n",
       "      <td>12</td>\n",
       "      <td>9.6</td>\n",
       "    </tr>\n",
       "    <tr>\n",
       "      <th>tp_catch_lag1m</th>\n",
       "      <td>11</td>\n",
       "      <td>8.8</td>\n",
       "    </tr>\n",
       "    <tr>\n",
       "      <th>tp_van1_prevsummer</th>\n",
       "      <td>7</td>\n",
       "      <td>5.6</td>\n",
       "    </tr>\n",
       "    <tr>\n",
       "      <th>tp_lake_prevsummer</th>\n",
       "      <td>7</td>\n",
       "      <td>5.6</td>\n",
       "    </tr>\n",
       "    <tr>\n",
       "      <th>chl-a_van1</th>\n",
       "      <td>7</td>\n",
       "      <td>5.6</td>\n",
       "    </tr>\n",
       "    <tr>\n",
       "      <th>chl-a_lake</th>\n",
       "      <td>7</td>\n",
       "      <td>5.6</td>\n",
       "    </tr>\n",
       "    <tr>\n",
       "      <th>chl-a_lake_prevsummer</th>\n",
       "      <td>4</td>\n",
       "      <td>3.2</td>\n",
       "    </tr>\n",
       "  </tbody>\n",
       "</table>\n",
       "</div>"
      ],
      "text/plain": [
       "                       total  percent\n",
       "colour_lake_lag1m         55     44.0\n",
       "colour_van1_lag1m         50     40.0\n",
       "colour_lake               45     36.0\n",
       "colour_van1               38     30.4\n",
       "tp_van1_lag1m             31     24.8\n",
       "tp_lake_lag1m             31     24.8\n",
       "chl-a_van1_lag1m          25     20.0\n",
       "chl-a_lake_lag1m          25     20.0\n",
       "cyanobiovol_lag1m         23     18.4\n",
       "tp_catch_lag3m_av         15     12.0\n",
       "tp_lake                   14     11.2\n",
       "tp_van1                   14     11.2\n",
       "tp_catch                  12      9.6\n",
       "tp_catch_lag2m_av         12      9.6\n",
       "tp_catch_lag1m            11      8.8\n",
       "tp_van1_prevsummer         7      5.6\n",
       "tp_lake_prevsummer         7      5.6\n",
       "chl-a_van1                 7      5.6\n",
       "chl-a_lake                 7      5.6\n",
       "chl-a_lake_prevsummer      4      3.2"
      ]
     },
     "execution_count": 6,
     "metadata": {},
     "output_type": "execute_result"
    }
   ],
   "source": [
    "# Pct missing\n",
    "missing = pd.DataFrame(df.isnull().sum()).rename(columns = {0: 'total'})\n",
    "missing['percent'] = 100 * missing['total'] / len(df)\n",
    "missing.sort_values('percent', ascending=False).head(20)"
   ]
  },
  {
   "cell_type": "markdown",
   "metadata": {},
   "source": [
    "Filling these gaps sensibly is not easy. In the code below, I've used the following strategy:\n",
    "\n",
    " 1. For **continuous** variables, fill missing values with the *median* for the month in question\n",
    " \n",
    " 2. For **Ordinal** variables, fill missing values with the most common (i.e. modal) value for the month in question\n",
    " \n",
    "There are no missing values for the **nominal** variables, since they're all derived from the date-time index, which is complete.\n",
    "\n",
    "**Note:** Filling NaNs in this way transfers information between samples (i.e. rows) in the dataset. This violates the assumption that each row can be treated as an independent sample and may bias the model evaluation performed below. Ideally, we would retain a completely independent testing dataset for final model evaluation, but we don't have enough data for that here."
   ]
  },
  {
   "cell_type": "code",
   "execution_count": 7,
   "metadata": {},
   "outputs": [],
   "source": [
    "# loop over columns\n",
    "for col in df.columns:\n",
    "    if col in ord_cols:\n",
    "        # Ordinal data. Get modal value for each month\n",
    "        patch = df.groupby(df.index.month)[col].apply(pd.Series.mode).loc[:, 0]\n",
    "\n",
    "    else:\n",
    "        # Contiuous data. Get median value for each month\n",
    "        patch = df.groupby(df.index.month)[col].median()\n",
    "        \n",
    "    # Loop over rows\n",
    "    for idx, row in df.iterrows():\n",
    "        if pd.isnull(row[col]):\n",
    "            try:\n",
    "                # Try to fill with patches value for this month\n",
    "                fill_val = patch.loc[idx.month]\n",
    "                df.loc[idx, col] = fill_val\n",
    "            except KeyError:\n",
    "                # No data available for this month. Leave as NaN\n",
    "                pass"
   ]
  },
  {
   "cell_type": "markdown",
   "metadata": {},
   "source": [
    "How effective has this startegy been at filling NaNs?"
   ]
  },
  {
   "cell_type": "code",
   "execution_count": 8,
   "metadata": {},
   "outputs": [
    {
     "data": {
      "text/html": [
       "<div>\n",
       "<style scoped>\n",
       "    .dataframe tbody tr th:only-of-type {\n",
       "        vertical-align: middle;\n",
       "    }\n",
       "\n",
       "    .dataframe tbody tr th {\n",
       "        vertical-align: top;\n",
       "    }\n",
       "\n",
       "    .dataframe thead th {\n",
       "        text-align: right;\n",
       "    }\n",
       "</style>\n",
       "<table border=\"1\" class=\"dataframe\">\n",
       "  <thead>\n",
       "    <tr style=\"text-align: right;\">\n",
       "      <th></th>\n",
       "      <th>total</th>\n",
       "      <th>percent</th>\n",
       "    </tr>\n",
       "  </thead>\n",
       "  <tbody>\n",
       "    <tr>\n",
       "      <th>colour_lake_lag1m</th>\n",
       "      <td>9</td>\n",
       "      <td>7.2</td>\n",
       "    </tr>\n",
       "    <tr>\n",
       "      <th>chl-a_lake_lag1m</th>\n",
       "      <td>9</td>\n",
       "      <td>7.2</td>\n",
       "    </tr>\n",
       "    <tr>\n",
       "      <th>cyanobiovol_lag1m</th>\n",
       "      <td>9</td>\n",
       "      <td>7.2</td>\n",
       "    </tr>\n",
       "    <tr>\n",
       "      <th>colour_van1_lag1m</th>\n",
       "      <td>9</td>\n",
       "      <td>7.2</td>\n",
       "    </tr>\n",
       "    <tr>\n",
       "      <th>chl-a_van1_lag1m</th>\n",
       "      <td>9</td>\n",
       "      <td>7.2</td>\n",
       "    </tr>\n",
       "    <tr>\n",
       "      <th>tp_van1_lag1m</th>\n",
       "      <td>9</td>\n",
       "      <td>7.2</td>\n",
       "    </tr>\n",
       "    <tr>\n",
       "      <th>tp_lake_lag1m</th>\n",
       "      <td>9</td>\n",
       "      <td>7.2</td>\n",
       "    </tr>\n",
       "    <tr>\n",
       "      <th>pptn_intense_lag5m_sum</th>\n",
       "      <td>0</td>\n",
       "      <td>0.0</td>\n",
       "    </tr>\n",
       "    <tr>\n",
       "      <th>pptn_intense_lag4m_sum</th>\n",
       "      <td>0</td>\n",
       "      <td>0.0</td>\n",
       "    </tr>\n",
       "    <tr>\n",
       "      <th>tp_catch_lag2m_av</th>\n",
       "      <td>0</td>\n",
       "      <td>0.0</td>\n",
       "    </tr>\n",
       "  </tbody>\n",
       "</table>\n",
       "</div>"
      ],
      "text/plain": [
       "                        total  percent\n",
       "colour_lake_lag1m           9      7.2\n",
       "chl-a_lake_lag1m            9      7.2\n",
       "cyanobiovol_lag1m           9      7.2\n",
       "colour_van1_lag1m           9      7.2\n",
       "chl-a_van1_lag1m            9      7.2\n",
       "tp_van1_lag1m               9      7.2\n",
       "tp_lake_lag1m               9      7.2\n",
       "pptn_intense_lag5m_sum      0      0.0\n",
       "pptn_intense_lag4m_sum      0      0.0\n",
       "tp_catch_lag2m_av           0      0.0"
      ]
     },
     "execution_count": 8,
     "metadata": {},
     "output_type": "execute_result"
    }
   ],
   "source": [
    "# Pct missing\n",
    "missing = pd.DataFrame(df.isnull().sum()).rename(columns = {0: 'total'})\n",
    "missing['percent'] = 100 * missing['total'] / len(df)\n",
    "missing.sort_values('percent', ascending=False).head(10)"
   ]
  },
  {
   "cell_type": "code",
   "execution_count": 9,
   "metadata": {},
   "outputs": [
    {
     "data": {
      "text/plain": [
       "array(['colour_lake_lag1m', 'chl-a_lake_lag1m', 'cyanobiovol_lag1m',\n",
       "       'colour_van1_lag1m', 'chl-a_van1_lag1m', 'tp_van1_lag1m',\n",
       "       'tp_lake_lag1m'], dtype=object)"
      ]
     },
     "execution_count": 9,
     "metadata": {},
     "output_type": "execute_result"
    }
   ],
   "source": [
    "# Decide to drop the lag1m lake variables, rather than dropping the rows which don't have data for these (i.e start of season values)\n",
    "drop_features = missing.sort_values('percent', ascending=False).index.values[:7]\n",
    "drop_features"
   ]
  },
  {
   "cell_type": "markdown",
   "metadata": {},
   "source": [
    "This is better. For the remaining NaNs, I could either fill values using the overall mean/median for each column, drop the feature, or simply drop the rows that still contain NaN. For the rest I'll dorp the NaNs rather than apply more arbitrary data patching.\n",
    " \n",
    "## 4. Random forest modelling\n",
    "\n",
    "### 4.1. Drop any remaining NaNs"
   ]
  },
  {
   "cell_type": "code",
   "execution_count": 10,
   "metadata": {},
   "outputs": [
    {
     "name": "stdout",
     "output_type": "stream",
     "text": [
      "Length of original dataset: 125\n",
      "Length of trimmed dataset:  125\n"
     ]
    }
   ],
   "source": [
    "df2 = df.drop(drop_features, axis=1).dropna(how='any')\n",
    "print('Length of original dataset:', len(df))\n",
    "print('Length of trimmed dataset: ', len(df2))"
   ]
  },
  {
   "cell_type": "markdown",
   "metadata": {},
   "source": [
    "### 4.2. Fit model\n"
   ]
  },
  {
   "cell_type": "code",
   "execution_count": 11,
   "metadata": {},
   "outputs": [],
   "source": [
    "# Define response vars (target variable defined at the start)\n",
    "exp_vars = [i for i in df2.columns if i != target_var]\n"
   ]
  },
  {
   "cell_type": "markdown",
   "metadata": {},
   "source": [
    "Random Forests use \"bootstrapping\" to partition the data used by each tree. Data not included in each bootstrap sample can therefore be used to perform \"internal\" validation, without the need for a holdout dataset as is usual for cross-validation. This approach is usually referred to as the \"out-of-bag\" (OOB) validation score. In sci-kit learn, this is roughly equivalent to $R^2$, but calculated on \"unseen\" data (as opposed to the less stringent \"within-sample\" $R^2$ typically reported for OLS regression).\n",
    "\n",
    "OOB scores are not *exactly* the same as cross-validation but, under typical circumstances, the OOB score should be roughly comparable to 3-fold CV (see e.g. [here](https://stats.stackexchange.com/a/199201/5467) and [here](https://stats.stackexchange.com/a/208018/5467) for some discussion). When using OOB scores, it is not necessary to split the data into training and testing sets, which is a big advantage when data are limited (as is the case here). Ideally, validation using a test set should also be performed, but for the work here I'm going to focus on OOB scores in order to make the most of limited data.\n",
    "\n",
    "Random Forests have a number of hyperparameters that can be tuned to improve performance. Of these, the most important seem to be `'n_estimators'` (the number of treesin the forest) and `'max_features'` (the size of the random subsets of features to consider when splitting a node). There is some debate about the best values to choose for `'max_features'`: the default for regression problems in sci-kit learn is `'max_features' = 'n_features'`, whereas in R the recommended value is to use about one third of the total number of features (see the comments on [this](https://stackoverflow.com/a/23950648/505698) post and the references in the documentation [here](https://scikit-learn.org/stable/modules/generated/sklearn.ensemble.RandomForestRegressor.html) for details).\n",
    "\n",
    "The code below (modified from [here](https://scikit-learn.org/stable/auto_examples/ensemble/plot_ensemble_oob.html)) plots the OOB error rate (= `1 - OOB_Score`) as a function of `'n_estimators'` for various choices for `'max_features'`. "
   ]
  },
  {
   "cell_type": "code",
   "execution_count": 12,
   "metadata": {},
   "outputs": [
    {
     "data": {
      "text/plain": [
       "<matplotlib.legend.Legend at 0x7f03320e59e8>"
      ]
     },
     "execution_count": 12,
     "metadata": {},
     "output_type": "execute_result"
    },
    {
     "data": {
      "image/png": "[encoded data removed]",
      "text/plain": [
       "<Figure size 720x432 with 1 Axes>"
      ]
     },
     "metadata": {
      "needs_background": "light"
     },
     "output_type": "display_data"
    }
   ],
   "source": [
    "# Extract vars\n",
    "y = df2[target_var]\n",
    "X = df2[exp_vars]\n",
    "\n",
    "# Standardise exp vars\n",
    "scalar = StandardScaler()\n",
    "X_scaled = pd.DataFrame(scalar.fit_transform(X), \n",
    "                        index=X.index, \n",
    "                        columns=X.columns)\n",
    "\n",
    "# For reproducibility\n",
    "rand_state = 42\n",
    "\n",
    "# List classifiers of interest\n",
    "# NB: Setting the `warm_start=True` disables parallel support, but is necessary for \n",
    "# tracking the OOB error trajectory during training\n",
    "ensemble_clfs = [\n",
    "    (\"RandomForestRegressor, max_features='sqrt'\",\n",
    "        RandomForestRegressor(n_estimators=100,\n",
    "                              warm_start=True, \n",
    "                              oob_score=True,\n",
    "                              max_features=\"sqrt\",\n",
    "                              random_state=rand_state)),\n",
    "    (\"RandomForestRegressor, max_features='log2'\",\n",
    "        RandomForestRegressor(n_estimators=100,\n",
    "                              warm_start=True, \n",
    "                              max_features='log2',\n",
    "                              oob_score=True,\n",
    "                              random_state=rand_state)),\n",
    "    (\"RandomForestRegressor, max_features=None\",                  \n",
    "        RandomForestRegressor(n_estimators=100,\n",
    "                              warm_start=True, \n",
    "                              max_features=None,           # Default. Uses all feats\n",
    "                              oob_score=True,\n",
    "                              random_state=rand_state)),\n",
    "    (\"RandomForestRegressor, max_features=0.33\",\n",
    "        RandomForestRegressor(n_estimators=100,\n",
    "                              warm_start=True, \n",
    "                              max_features=0.33,           # Older recommendation. Used by R\n",
    "                              oob_score=True,\n",
    "                              random_state=rand_state))\n",
    "]\n",
    "\n",
    "# Map a classifier name to a list of (<n_estimators>, <error rate>) pairs\n",
    "error_rate = OrderedDict((label, []) for label, _ in ensemble_clfs)\n",
    "\n",
    "# Range of `n_estimators` values to explore\n",
    "min_estimators = 10\n",
    "max_estimators = 500\n",
    "\n",
    "for label, clf in ensemble_clfs:\n",
    "    for i in range(min_estimators, max_estimators + 1, 5):\n",
    "        clf.set_params(n_estimators=i)\n",
    "        clf.fit(X_scaled, y)\n",
    "\n",
    "        # Record the OOB error \n",
    "        oob_error = 1 - clf.oob_score_\n",
    "        error_rate[label].append((i, oob_error))\n",
    "\n",
    "# Generate the \"OOB error rate\" vs. \"n_estimators\" plot\n",
    "fig = plt.figure(figsize=(10,6))\n",
    "for label, clf_err in error_rate.items():\n",
    "    xs, ys = zip(*clf_err)\n",
    "    plt.plot(xs, ys, label=label)\n",
    "\n",
    "plt.xlim(min_estimators, max_estimators)\n",
    "plt.xlabel(\"n_estimators\")\n",
    "plt.ylabel(\"OOB error rate\")\n",
    "plt.legend(loc=\"upper right\")"
   ]
  },
  {
   "cell_type": "markdown",
   "metadata": {},
   "source": [
    "To pick the best parameters to use in the models below, pick the curve in the above plot which has the lowest error rate, and pick n_estimators where the curve has flattened out (or reached a minimum?)\n",
    "\n",
    "### 4.3. Feature importances"
   ]
  },
  {
   "cell_type": "code",
   "execution_count": 19,
   "metadata": {},
   "outputs": [
    {
     "name": "stdout",
     "output_type": "stream",
     "text": [
      "OOB score: 0.55\n"
     ]
    },
    {
     "data": {
      "text/html": [
       "<div>\n",
       "<style scoped>\n",
       "    .dataframe tbody tr th:only-of-type {\n",
       "        vertical-align: middle;\n",
       "    }\n",
       "\n",
       "    .dataframe tbody tr th {\n",
       "        vertical-align: top;\n",
       "    }\n",
       "\n",
       "    .dataframe thead th {\n",
       "        text-align: right;\n",
       "    }\n",
       "</style>\n",
       "<table border=\"1\" class=\"dataframe\">\n",
       "  <thead>\n",
       "    <tr style=\"text-align: right;\">\n",
       "      <th></th>\n",
       "      <th>importance</th>\n",
       "    </tr>\n",
       "  </thead>\n",
       "  <tbody>\n",
       "    <tr>\n",
       "      <th>chl-a_lake</th>\n",
       "      <td>0.216295</td>\n",
       "    </tr>\n",
       "    <tr>\n",
       "      <th>colour_van1</th>\n",
       "      <td>0.109837</td>\n",
       "    </tr>\n",
       "    <tr>\n",
       "      <th>colour_lake</th>\n",
       "      <td>0.100744</td>\n",
       "    </tr>\n",
       "    <tr>\n",
       "      <th>tp_van1</th>\n",
       "      <td>0.054091</td>\n",
       "    </tr>\n",
       "    <tr>\n",
       "      <th>cyanobiovol_prevsummer</th>\n",
       "      <td>0.038978</td>\n",
       "    </tr>\n",
       "    <tr>\n",
       "      <th>chl-a_lake_prevsummer</th>\n",
       "      <td>0.032353</td>\n",
       "    </tr>\n",
       "    <tr>\n",
       "      <th>tp_catch</th>\n",
       "      <td>0.027910</td>\n",
       "    </tr>\n",
       "    <tr>\n",
       "      <th>tp_lake</th>\n",
       "      <td>0.024949</td>\n",
       "    </tr>\n",
       "    <tr>\n",
       "      <th>temp_lag1m</th>\n",
       "      <td>0.021696</td>\n",
       "    </tr>\n",
       "    <tr>\n",
       "      <th>q</th>\n",
       "      <td>0.018874</td>\n",
       "    </tr>\n",
       "  </tbody>\n",
       "</table>\n",
       "</div>"
      ],
      "text/plain": [
       "                        importance\n",
       "chl-a_lake                0.216295\n",
       "colour_van1               0.109837\n",
       "colour_lake               0.100744\n",
       "tp_van1                   0.054091\n",
       "cyanobiovol_prevsummer    0.038978\n",
       "chl-a_lake_prevsummer     0.032353\n",
       "tp_catch                  0.027910\n",
       "tp_lake                   0.024949\n",
       "temp_lag1m                0.021696\n",
       "q                         0.018874"
      ]
     },
     "execution_count": 19,
     "metadata": {},
     "output_type": "execute_result"
    }
   ],
   "source": [
    "# Set based on graph above\n",
    "n_estimators = 300\n",
    "max_features = 0.33\n",
    "\n",
    "# Build model using 'best' results from above\n",
    "model = RandomForestRegressor(n_estimators=n_estimators,\n",
    "                              warm_start=False, \n",
    "                              max_features=max_features,           \n",
    "                              oob_score=True,\n",
    "                              random_state=rand_state)\n",
    "model.fit(X_scaled, y)\n",
    "\n",
    "print ('OOB score: %.2f' % model.oob_score_)\n",
    "\n",
    "# Get importance scores\n",
    "res_df = pd.DataFrame({'importance':model.feature_importances_}, \n",
    "                      index=X.columns.values).sort_values(by='importance',\n",
    "                                                          ascending=False)\n",
    "res_df.head(10)"
   ]
  },
  {
   "cell_type": "code",
   "execution_count": 15,
   "metadata": {},
   "outputs": [
    {
     "data": {
      "text/plain": [
       "<matplotlib.axes._subplots.AxesSubplot at 0x7f03320b37f0>"
      ]
     },
     "execution_count": 15,
     "metadata": {},
     "output_type": "execute_result"
    },
    {
     "data": {
      "image/png": "[encoded data removed]",
      "text/plain": [
       "<Figure size 1440x432 with 1 Axes>"
      ]
     },
     "metadata": {
      "needs_background": "light"
     },
     "output_type": "display_data"
    }
   ],
   "source": [
    "# Plot\n",
    "res_df[:15].plot(kind='bar', figsize=(20,6))"
   ]
  },
  {
   "cell_type": "markdown",
   "metadata": {},
   "source": [
    "Good OOB score\n",
    "\n",
    "Based on this, the most important features to look further at are something like:\n",
    "\n",
    " * chl-a_lake. But that's only because they are both likely controlled by the same thing? Same as van1\n",
    " * colour in van1 and in the lake. N.B. lots of data patching of the colour series...\n",
    " * tp in van1\n",
    " * cyanobiovol and chl-a in the previous summer (makes sense, and nice to see this coming out)"
   ]
  },
  {
   "cell_type": "markdown",
   "metadata": {},
   "source": [
    "\n",
    "### 4.5. Recursive feature elimination\n",
    "\n",
    "Recursive feature elimination attempts to find the best model using subsets of the available features. This is essentially the same as \"stepwise\" regression, except here we're using CV to avoid overfitting (as opposed to traditional \"significance testing\"). In the code below, I've used out-of-sample $R^2$ as a measure of performance. The best values obtained are pretty low, but remember that out-of-sample tests are much more stringent than their within-sample equivalents. The best overall indicator of perfornmance used in this notebook is the OOB score.\n",
    "\n",
    "**Note:** Other scoring metrics are available. Use \n",
    "\n",
    "    sorted(sklearn.metrics.SCORERS.keys())\n",
    "    \n",
    "to print a list."
   ]
  },
  {
   "cell_type": "code",
   "execution_count": 20,
   "metadata": {},
   "outputs": [
    {
     "name": "stdout",
     "output_type": "stream",
     "text": [
      "Optimal number of features: 3\n",
      "\n",
      "Optimal features (in no particular order):\n",
      "   colour_lake\n",
      "   chl-a_lake\n",
      "   colour_van1\n"
     ]
    },
    {
     "data": {
      "text/plain": [
       "[<matplotlib.lines.Line2D at 0x7f033052ce48>]"
      ]
     },
     "execution_count": 20,
     "metadata": {},
     "output_type": "execute_result"
    },
    {
     "data": {
      "image/png": "[encoded data removed]",
      "text/plain": [
       "<Figure size 720x432 with 1 Axes>"
      ]
     },
     "metadata": {
      "needs_background": "light"
     },
     "output_type": "display_data"
    }
   ],
   "source": [
    "# Build same model as above\n",
    "model = RandomForestRegressor(n_estimators=n_estimators,\n",
    "                              warm_start=False, \n",
    "                              max_features=max_features,           \n",
    "                              oob_score=True,\n",
    "                              random_state=rand_state)\n",
    "\n",
    "# Feature elimination with 3-fold CV\n",
    "rfecv = RFECV(estimator=model, \n",
    "              step=1, \n",
    "              cv=3, \n",
    "              scoring='r2',\n",
    "              n_jobs=-1)\n",
    "\n",
    "selector = rfecv.fit(X_scaled, y)\n",
    "\n",
    "print('Optimal number of features: %d' % rfecv.n_features_)\n",
    "print('')\n",
    "print ('Optimal features (in no particular order):')\n",
    "for i in np.array(exp_vars)[selector.support_]:\n",
    "    print('  ', i)\n",
    "    \n",
    "# Plot number of features vs. cross-validation score\n",
    "plt.figure(figsize=(10,6))\n",
    "plt.xlabel('Number of features')\n",
    "plt.ylabel('$R^2$')\n",
    "plt.plot(range(1, len(rfecv.grid_scores_) + 1), rfecv.grid_scores_)"
   ]
  },
  {
   "cell_type": "markdown",
   "metadata": {},
   "source": [
    "Use the plot to decide roughly how many features to pick before things level off. Then think about which features are likeley to contain duplicate information. Lets try a consolidated list, removing duplicated features, and see how that model performs.\n",
    "\n",
    "Hmmm, this looks like it's failed. Not sure why?! So just explore results by picking the top few features identified earlier as being important"
   ]
  },
  {
   "cell_type": "code",
   "execution_count": 37,
   "metadata": {},
   "outputs": [
    {
     "name": "stdout",
     "output_type": "stream",
     "text": [
      "OOB score: 0.46\n"
     ]
    },
    {
     "data": {
      "text/html": [
       "<div>\n",
       "<style scoped>\n",
       "    .dataframe tbody tr th:only-of-type {\n",
       "        vertical-align: middle;\n",
       "    }\n",
       "\n",
       "    .dataframe tbody tr th {\n",
       "        vertical-align: top;\n",
       "    }\n",
       "\n",
       "    .dataframe thead th {\n",
       "        text-align: right;\n",
       "    }\n",
       "</style>\n",
       "<table border=\"1\" class=\"dataframe\">\n",
       "  <thead>\n",
       "    <tr style=\"text-align: right;\">\n",
       "      <th></th>\n",
       "      <th>importance</th>\n",
       "    </tr>\n",
       "  </thead>\n",
       "  <tbody>\n",
       "    <tr>\n",
       "      <th>chl-a_lake</th>\n",
       "      <td>0.562589</td>\n",
       "    </tr>\n",
       "    <tr>\n",
       "      <th>colour_lake</th>\n",
       "      <td>0.437411</td>\n",
       "    </tr>\n",
       "  </tbody>\n",
       "</table>\n",
       "</div>"
      ],
      "text/plain": [
       "             importance\n",
       "chl-a_lake     0.562589\n",
       "colour_lake    0.437411"
      ]
     },
     "execution_count": 37,
     "metadata": {},
     "output_type": "execute_result"
    }
   ],
   "source": [
    "# Reduce list of exp vars based on results above\n",
    "exp_vars = [\n",
    "   'colour_lake',\n",
    "   'chl-a_lake',\n",
    "#    'colour_van1',\n",
    "#     'tp_van1',\n",
    "#     'cyanobiovol_prevsummer',\n",
    "#     'chl-a_lake_prevsummer',\n",
    "           ]\n",
    "\n",
    "\n",
    "# Extract vars\n",
    "y = df2[target_var]\n",
    "X = df2[exp_vars]\n",
    "\n",
    "# Standardise exp vars\n",
    "scalar = StandardScaler()\n",
    "X_scaled = pd.DataFrame(scalar.fit_transform(X), \n",
    "                        index=X.index, \n",
    "                        columns=X.columns)\n",
    "\n",
    "# Build model using 'best' results from above\n",
    "model = RandomForestRegressor(n_estimators=n_estimators,\n",
    "                              warm_start=False, \n",
    "                              max_features=max_features,           \n",
    "                              oob_score=True,\n",
    "                              random_state=rand_state)\n",
    "model.fit(X_scaled, y)\n",
    "\n",
    "print ('OOB score: %.2f' % model.oob_score_)\n",
    "\n",
    "# Get importance scores\n",
    "res_df = pd.DataFrame({'importance':model.feature_importances_}, \n",
    "                      index=X.columns.values).sort_values(by='importance',\n",
    "                                                          ascending=False)\n",
    "res_df.head(10)"
   ]
  },
  {
   "cell_type": "code",
   "execution_count": 32,
   "metadata": {},
   "outputs": [
    {
     "data": {
      "text/plain": [
       "<matplotlib.axes._subplots.AxesSubplot at 0x7f033048a4a8>"
      ]
     },
     "execution_count": 32,
     "metadata": {},
     "output_type": "execute_result"
    },
    {
     "data": {
      "image/png": "[encoded data removed]",
      "text/plain": [
       "<Figure size 720x288 with 1 Axes>"
      ]
     },
     "metadata": {
      "needs_background": "light"
     },
     "output_type": "display_data"
    }
   ],
   "source": [
    "# Plot\n",
    "res_df[:15].plot(kind='bar', figsize=(10,4))"
   ]
  },
  {
   "cell_type": "markdown",
   "metadata": {},
   "source": [
    "Same again, but only with data that we would likely have available in the operational forecast"
   ]
  },
  {
   "cell_type": "code",
   "execution_count": 60,
   "metadata": {},
   "outputs": [
    {
     "name": "stdout",
     "output_type": "stream",
     "text": [
      "OOB score: 0.46\n"
     ]
    },
    {
     "data": {
      "text/html": [
       "<div>\n",
       "<style scoped>\n",
       "    .dataframe tbody tr th:only-of-type {\n",
       "        vertical-align: middle;\n",
       "    }\n",
       "\n",
       "    .dataframe tbody tr th {\n",
       "        vertical-align: top;\n",
       "    }\n",
       "\n",
       "    .dataframe thead th {\n",
       "        text-align: right;\n",
       "    }\n",
       "</style>\n",
       "<table border=\"1\" class=\"dataframe\">\n",
       "  <thead>\n",
       "    <tr style=\"text-align: right;\">\n",
       "      <th></th>\n",
       "      <th>importance</th>\n",
       "    </tr>\n",
       "  </thead>\n",
       "  <tbody>\n",
       "    <tr>\n",
       "      <th>temp</th>\n",
       "      <td>0.319302</td>\n",
       "    </tr>\n",
       "    <tr>\n",
       "      <th>temp_lag1m</th>\n",
       "      <td>0.306566</td>\n",
       "    </tr>\n",
       "    <tr>\n",
       "      <th>rain_day_wintersum</th>\n",
       "      <td>0.211502</td>\n",
       "    </tr>\n",
       "    <tr>\n",
       "      <th>pptn_wintersum</th>\n",
       "      <td>0.162630</td>\n",
       "    </tr>\n",
       "  </tbody>\n",
       "</table>\n",
       "</div>"
      ],
      "text/plain": [
       "                    importance\n",
       "temp                  0.319302\n",
       "temp_lag1m            0.306566\n",
       "rain_day_wintersum    0.211502\n",
       "pptn_wintersum        0.162630"
      ]
     },
     "execution_count": 60,
     "metadata": {},
     "output_type": "execute_result"
    }
   ],
   "source": [
    "# Reduce list of exp vars based on results above\n",
    "exp_vars = ['temp',\n",
    "#    'tp_lake', # Assume this would be estimated within BBN, not measured\n",
    "    'temp_lag1m',\n",
    "    'rain_day_wintersum',\n",
    "    'pptn_wintersum',\n",
    "#    'chl-a_van1',\n",
    "#    'chl-a_lake_lag1m',\n",
    "           ]\n",
    "\n",
    "# Extract vars\n",
    "y = df2[target_var]\n",
    "X = df2[exp_vars]\n",
    "\n",
    "# Standardise exp vars\n",
    "scalar = StandardScaler()\n",
    "X_scaled = pd.DataFrame(scalar.fit_transform(X), \n",
    "                        index=X.index, \n",
    "                        columns=X.columns)\n",
    "\n",
    "# Build model using 'best' results from above\n",
    "model = RandomForestRegressor(n_estimators=n_estimators,\n",
    "                              warm_start=False, \n",
    "                              max_features=max_features,           \n",
    "                              oob_score=True,\n",
    "                              random_state=rand_state)\n",
    "model.fit(X_scaled, y)\n",
    "\n",
    "print ('OOB score: %.2f' % model.oob_score_)\n",
    "\n",
    "# Get importance scores\n",
    "res_df = pd.DataFrame({'importance':model.feature_importances_}, \n",
    "                      index=X.columns.values).sort_values(by='importance',\n",
    "                                                          ascending=False)\n",
    "res_df.head(10)"
   ]
  },
  {
   "cell_type": "code",
   "execution_count": null,
   "metadata": {},
   "outputs": [],
   "source": []
  }
 ],
 "metadata": {
  "kernelspec": {
   "display_name": "Python 3",
   "language": "python",
   "name": "python3"
  },
  "language_info": {
   "codemirror_mode": {
    "name": "ipython",
    "version": 3
   },
   "file_extension": ".py",
   "mimetype": "text/x-python",
   "name": "python",
   "nbconvert_exporter": "python",
   "pygments_lexer": "ipython3",
   "version": "3.6.8"
  }
 },
 "nbformat": 4,
 "nbformat_minor": 2
}
